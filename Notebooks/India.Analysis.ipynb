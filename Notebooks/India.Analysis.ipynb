{
 "cells": [
  {
   "cell_type": "markdown",
   "metadata": {},
   "source": [
    "# Analysis of Funding Distribution of India Startup"
   ]
  },
  {
   "cell_type": "markdown",
   "metadata": {},
   "source": [
    "**BUSINESS UNDERSTANDING**\n",
    "\n",
    "We are exploring The Indian Startup Ecosystem to understand funding trends and identify promising opportunity. The goal is to analyze funding data from 2018 to 2021, focusing on key factors such as amount of funding received, sectors, stages of investment, and geographic locations.\n",
    "\n",
    "**HYPOTHESIS TESTING**\n",
    "\n",
    "Null Hypothesis (H0): There is no significant difference in the amount of funding received by startups across different sectors and stages.\n",
    " \n",
    "Alternate Hypothesis (H1): There is a significant difference in the amount of funding received by startups across different sectors and stages.\n",
    "\n",
    "\n",
    "**ANALYTICAL QUESTIONS**\n",
    "1. Funding Trends:\n",
    "How has the total funding amount changed year over year from 2018 to 2021?\n",
    "How has the average funding amount in each sector changed over the years (2018 - 2021)\n",
    " \n",
    "2. Sector Analysis:\n",
    "Which sectors have received the most funding, and how does the funding distribution vary across sectors?\n",
    " \n",
    "3.Stage Analysis:\n",
    "What is the distribution of funding across different investment stages (e.g., Pre-seed, Seed, Series A)?\n",
    " \n",
    "4. Geographical Analysis:\n",
    "Which cities or regions have the highest concentration of funded startups?\n",
    " \n",
    "5.Investor Influence:\n",
    "Who are the top investors in the Indian startup ecosystem, and what is their funding pattern?\n",
    " \n",
    "6. Founder Impact:\n",
    "Is there a correlation between the number of founders and the amount of funding received?\n",
    " \n",
    "7. What are the characteristics of startups in the highest-funded sectors (e.g., number of founders, location)?\n",
    " \n",
    "8. Which Business is more viable to set - The best performing businesses?"
   ]
  },
  {
   "cell_type": "code",
   "execution_count": 1,
   "metadata": {},
   "outputs": [
    {
     "name": "stdout",
     "output_type": "stream",
     "text": [
      "Requirement already satisfied: pyodbc in c:\\users\\mercy chebet\\appdata\\local\\programs\\python\\python312\\lib\\site-packages (5.1.0)\n",
      "Note: you may need to restart the kernel to use updated packages.\n"
     ]
    },
    {
     "name": "stderr",
     "output_type": "stream",
     "text": [
      "\n",
      "[notice] A new release of pip is available: 23.2.1 -> 24.0\n",
      "[notice] To update, run: python.exe -m pip install --upgrade pip\n"
     ]
    },
    {
     "name": "stdout",
     "output_type": "stream",
     "text": [
      "Requirement already satisfied: python-dotenv in c:\\users\\mercy chebet\\appdata\\local\\programs\\python\\python312\\lib\\site-packages (1.0.1)Note: you may need to restart the kernel to use updated packages.\n"
     ]
    },
    {
     "name": "stderr",
     "output_type": "stream",
     "text": [
      "\n",
      "[notice] A new release of pip is available: 23.2.1 -> 24.0\n",
      "[notice] To update, run: python.exe -m pip install --upgrade pip\n"
     ]
    },
    {
     "name": "stdout",
     "output_type": "stream",
     "text": [
      "\n",
      "Requirement already satisfied: seaborn in c:\\users\\mercy chebet\\appdata\\local\\programs\\python\\python312\\lib\\site-packages (0.13.2)\n",
      "Requirement already satisfied: numpy!=1.24.0,>=1.20 in c:\\users\\mercy chebet\\appdata\\local\\programs\\python\\python312\\lib\\site-packages (from seaborn) (1.26.4)\n",
      "Requirement already satisfied: pandas>=1.2 in c:\\users\\mercy chebet\\appdata\\local\\programs\\python\\python312\\lib\\site-packages (from seaborn) (2.2.1)\n",
      "Requirement already satisfied: matplotlib!=3.6.1,>=3.4 in c:\\users\\mercy chebet\\appdata\\local\\programs\\python\\python312\\lib\\site-packages (from seaborn) (3.8.4)\n",
      "Requirement already satisfied: contourpy>=1.0.1 in c:\\users\\mercy chebet\\appdata\\local\\programs\\python\\python312\\lib\\site-packages (from matplotlib!=3.6.1,>=3.4->seaborn) (1.2.1)\n",
      "Requirement already satisfied: cycler>=0.10 in c:\\users\\mercy chebet\\appdata\\local\\programs\\python\\python312\\lib\\site-packages (from matplotlib!=3.6.1,>=3.4->seaborn) (0.12.1)\n",
      "Requirement already satisfied: fonttools>=4.22.0 in c:\\users\\mercy chebet\\appdata\\local\\programs\\python\\python312\\lib\\site-packages (from matplotlib!=3.6.1,>=3.4->seaborn) (4.51.0)\n",
      "Requirement already satisfied: kiwisolver>=1.3.1 in c:\\users\\mercy chebet\\appdata\\local\\programs\\python\\python312\\lib\\site-packages (from matplotlib!=3.6.1,>=3.4->seaborn) (1.4.5)\n",
      "Requirement already satisfied: packaging>=20.0 in c:\\users\\mercy chebet\\appdata\\roaming\\python\\python312\\site-packages (from matplotlib!=3.6.1,>=3.4->seaborn) (23.2)\n",
      "Requirement already satisfied: pillow>=8 in c:\\users\\mercy chebet\\appdata\\local\\programs\\python\\python312\\lib\\site-packages (from matplotlib!=3.6.1,>=3.4->seaborn) (10.3.0)\n",
      "Requirement already satisfied: pyparsing>=2.3.1 in c:\\users\\mercy chebet\\appdata\\local\\programs\\python\\python312\\lib\\site-packages (from matplotlib!=3.6.1,>=3.4->seaborn) (3.1.2)\n",
      "Requirement already satisfied: python-dateutil>=2.7 in c:\\users\\mercy chebet\\appdata\\roaming\\python\\python312\\site-packages (from matplotlib!=3.6.1,>=3.4->seaborn) (2.8.2)\n",
      "Requirement already satisfied: pytz>=2020.1 in c:\\users\\mercy chebet\\appdata\\local\\programs\\python\\python312\\lib\\site-packages (from pandas>=1.2->seaborn) (2024.1)\n",
      "Requirement already satisfied: tzdata>=2022.7 in c:\\users\\mercy chebet\\appdata\\local\\programs\\python\\python312\\lib\\site-packages (from pandas>=1.2->seaborn) (2024.1)\n",
      "Requirement already satisfied: six>=1.5 in c:\\users\\mercy chebet\\appdata\\roaming\\python\\python312\\site-packages (from python-dateutil>=2.7->matplotlib!=3.6.1,>=3.4->seaborn) (1.16.0)\n",
      "Note: you may need to restart the kernel to use updated packages.\n"
     ]
    },
    {
     "name": "stderr",
     "output_type": "stream",
     "text": [
      "\n",
      "[notice] A new release of pip is available: 23.2.1 -> 24.0\n",
      "[notice] To update, run: python.exe -m pip install --upgrade pip\n"
     ]
    },
    {
     "name": "stdout",
     "output_type": "stream",
     "text": [
      "Requirement already satisfied: openpyxl in c:\\users\\mercy chebet\\appdata\\local\\programs\\python\\python312\\lib\\site-packages (3.1.2)\n",
      "Requirement already satisfied: et-xmlfile in c:\\users\\mercy chebet\\appdata\\local\\programs\\python\\python312\\lib\\site-packages (from openpyxl) (1.1.0)\n",
      "Note: you may need to restart the kernel to use updated packages.\n"
     ]
    },
    {
     "name": "stderr",
     "output_type": "stream",
     "text": [
      "\n",
      "[notice] A new release of pip is available: 23.2.1 -> 24.0\n",
      "[notice] To update, run: python.exe -m pip install --upgrade pip\n"
     ]
    },
    {
     "name": "stdout",
     "output_type": "stream",
     "text": [
      "Requirement already satisfied: plotly in c:\\users\\mercy chebet\\appdata\\local\\programs\\python\\python312\\lib\\site-packages (5.22.0)\n",
      "Requirement already satisfied: tenacity>=6.2.0 in c:\\users\\mercy chebet\\appdata\\local\\programs\\python\\python312\\lib\\site-packages (from plotly) (8.3.0)\n",
      "Requirement already satisfied: packaging in c:\\users\\mercy chebet\\appdata\\roaming\\python\\python312\\site-packages (from plotly) (23.2)\n",
      "Note: you may need to restart the kernel to use updated packages.\n"
     ]
    },
    {
     "name": "stderr",
     "output_type": "stream",
     "text": [
      "\n",
      "[notice] A new release of pip is available: 23.2.1 -> 24.0\n",
      "[notice] To update, run: python.exe -m pip install --upgrade pip\n"
     ]
    }
   ],
   "source": [
    "%pip install pyodbc  \n",
    "%pip install python-dotenv\n",
    "%pip install seaborn\n",
    "%pip install openpyxl\n",
    "%pip install plotly\n"
   ]
  },
  {
   "cell_type": "code",
   "execution_count": 2,
   "metadata": {},
   "outputs": [],
   "source": [
    "import pyodbc     \n",
    "from dotenv import dotenv_values    #import the dotenv_values function from the dotenv package\n",
    "import pandas as pd\n",
    "import numpy as np\n",
    "import warnings \n",
    "import matplotlib.pyplot as plt\n",
    "import seaborn as sns\n",
    "import plotly.express as px\n",
    "import plotly.graph_objs as go\n",
    "\n",
    "warnings.filterwarnings('ignore')"
   ]
  },
  {
   "cell_type": "code",
   "execution_count": 3,
   "metadata": {},
   "outputs": [],
   "source": [
    "# Load environment variables from .env file into a dictionary\n",
    "environment_variables = dotenv_values('.env')\n",
    "\n",
    "# Get the values for the credentials you set in the '.env' file\n",
    "server = environment_variables.get(\"server\")\n",
    "database = environment_variables.get(\"database\")\n",
    "username = environment_variables.get(\"username\")\n",
    "password = environment_variables.get(\"password\")"
   ]
  },
  {
   "cell_type": "code",
   "execution_count": 4,
   "metadata": {},
   "outputs": [],
   "source": [
    "# Create a connection string\n",
    "connection_string = f\"DRIVER={{SQL Server}};SERVER={server};DATABASE={database};UID={username};PWD={password};MARS_Connection=yes;MinProtocolVersion=TLSv1.2;\"\n"
   ]
  },
  {
   "cell_type": "code",
   "execution_count": 5,
   "metadata": {},
   "outputs": [],
   "source": [
    "# Use the connect method of the pyodbc library and pass in the connection string.\n",
    "# This will connect to the server and might take a few seconds to be complete. \n",
    "# Check your internet connection if it takes more time than necessary\n",
    "\n",
    "connection = pyodbc.connect(connection_string)"
   ]
  },
  {
   "cell_type": "markdown",
   "metadata": {},
   "source": [
    "**Loading the datasets**"
   ]
  },
  {
   "cell_type": "code",
   "execution_count": 6,
   "metadata": {},
   "outputs": [
    {
     "data": {
      "text/html": [
       "<div>\n",
       "<style scoped>\n",
       "    .dataframe tbody tr th:only-of-type {\n",
       "        vertical-align: middle;\n",
       "    }\n",
       "\n",
       "    .dataframe tbody tr th {\n",
       "        vertical-align: top;\n",
       "    }\n",
       "\n",
       "    .dataframe thead th {\n",
       "        text-align: right;\n",
       "    }\n",
       "</style>\n",
       "<table border=\"1\" class=\"dataframe\">\n",
       "  <thead>\n",
       "    <tr style=\"text-align: right;\">\n",
       "      <th></th>\n",
       "      <th>Company_Brand</th>\n",
       "      <th>Founded</th>\n",
       "      <th>HeadQuarter</th>\n",
       "      <th>Sector</th>\n",
       "      <th>What_it_does</th>\n",
       "      <th>Founders</th>\n",
       "      <th>Investor</th>\n",
       "      <th>Amount</th>\n",
       "      <th>Stage</th>\n",
       "    </tr>\n",
       "  </thead>\n",
       "  <tbody>\n",
       "    <tr>\n",
       "      <th>0</th>\n",
       "      <td>Unbox Robotics</td>\n",
       "      <td>2019.0</td>\n",
       "      <td>Bangalore</td>\n",
       "      <td>AI startup</td>\n",
       "      <td>Unbox Robotics builds on-demand AI-driven ware...</td>\n",
       "      <td>Pramod Ghadge, Shahid Memon</td>\n",
       "      <td>BEENEXT, Entrepreneur First</td>\n",
       "      <td>$1,200,000</td>\n",
       "      <td>Pre-series A</td>\n",
       "    </tr>\n",
       "    <tr>\n",
       "      <th>1</th>\n",
       "      <td>upGrad</td>\n",
       "      <td>2015.0</td>\n",
       "      <td>Mumbai</td>\n",
       "      <td>EdTech</td>\n",
       "      <td>UpGrad is an online higher education platform.</td>\n",
       "      <td>Mayank Kumar, Phalgun Kompalli, Ravijot Chugh,...</td>\n",
       "      <td>Unilazer Ventures, IIFL Asset Management</td>\n",
       "      <td>$120,000,000</td>\n",
       "      <td>None</td>\n",
       "    </tr>\n",
       "    <tr>\n",
       "      <th>2</th>\n",
       "      <td>Lead School</td>\n",
       "      <td>2012.0</td>\n",
       "      <td>Mumbai</td>\n",
       "      <td>EdTech</td>\n",
       "      <td>LEAD School offers technology based school tra...</td>\n",
       "      <td>Smita Deorah, Sumeet Mehta</td>\n",
       "      <td>GSV Ventures, Westbridge Capital</td>\n",
       "      <td>$30,000,000</td>\n",
       "      <td>Series D</td>\n",
       "    </tr>\n",
       "    <tr>\n",
       "      <th>3</th>\n",
       "      <td>Bizongo</td>\n",
       "      <td>2015.0</td>\n",
       "      <td>Mumbai</td>\n",
       "      <td>B2B E-commerce</td>\n",
       "      <td>Bizongo is a business-to-business online marke...</td>\n",
       "      <td>Aniket Deb, Ankit Tomar, Sachin Agrawal</td>\n",
       "      <td>CDC Group, IDG Capital</td>\n",
       "      <td>$51,000,000</td>\n",
       "      <td>Series C</td>\n",
       "    </tr>\n",
       "    <tr>\n",
       "      <th>4</th>\n",
       "      <td>FypMoney</td>\n",
       "      <td>2021.0</td>\n",
       "      <td>Gurugram</td>\n",
       "      <td>FinTech</td>\n",
       "      <td>FypMoney is Digital NEO Bank for Teenagers, em...</td>\n",
       "      <td>Kapil Banwari</td>\n",
       "      <td>Liberatha Kallat, Mukesh Yadav, Dinesh Nagpal</td>\n",
       "      <td>$2,000,000</td>\n",
       "      <td>Seed</td>\n",
       "    </tr>\n",
       "    <tr>\n",
       "      <th>...</th>\n",
       "      <td>...</td>\n",
       "      <td>...</td>\n",
       "      <td>...</td>\n",
       "      <td>...</td>\n",
       "      <td>...</td>\n",
       "      <td>...</td>\n",
       "      <td>...</td>\n",
       "      <td>...</td>\n",
       "      <td>...</td>\n",
       "    </tr>\n",
       "    <tr>\n",
       "      <th>1204</th>\n",
       "      <td>Gigforce</td>\n",
       "      <td>2019.0</td>\n",
       "      <td>Gurugram</td>\n",
       "      <td>Staffing &amp; Recruiting</td>\n",
       "      <td>A gig/on-demand staffing company.</td>\n",
       "      <td>Chirag Mittal, Anirudh Syal</td>\n",
       "      <td>Endiya Partners</td>\n",
       "      <td>$3000000</td>\n",
       "      <td>Pre-series A</td>\n",
       "    </tr>\n",
       "    <tr>\n",
       "      <th>1205</th>\n",
       "      <td>Vahdam</td>\n",
       "      <td>2015.0</td>\n",
       "      <td>New Delhi</td>\n",
       "      <td>Food &amp; Beverages</td>\n",
       "      <td>VAHDAM is among the world’s first vertically i...</td>\n",
       "      <td>Bala Sarda</td>\n",
       "      <td>IIFL AMC</td>\n",
       "      <td>$20000000</td>\n",
       "      <td>Series D</td>\n",
       "    </tr>\n",
       "    <tr>\n",
       "      <th>1206</th>\n",
       "      <td>Leap Finance</td>\n",
       "      <td>2019.0</td>\n",
       "      <td>Bangalore</td>\n",
       "      <td>Financial Services</td>\n",
       "      <td>International education loans for high potenti...</td>\n",
       "      <td>Arnav Kumar, Vaibhav Singh</td>\n",
       "      <td>Owl Ventures</td>\n",
       "      <td>$55000000</td>\n",
       "      <td>Series C</td>\n",
       "    </tr>\n",
       "    <tr>\n",
       "      <th>1207</th>\n",
       "      <td>CollegeDekho</td>\n",
       "      <td>2015.0</td>\n",
       "      <td>Gurugram</td>\n",
       "      <td>EdTech</td>\n",
       "      <td>Collegedekho.com is Student’s Partner, Friend ...</td>\n",
       "      <td>Ruchir Arora</td>\n",
       "      <td>Winter Capital, ETS, Man Capital</td>\n",
       "      <td>$26000000</td>\n",
       "      <td>Series B</td>\n",
       "    </tr>\n",
       "    <tr>\n",
       "      <th>1208</th>\n",
       "      <td>WeRize</td>\n",
       "      <td>2019.0</td>\n",
       "      <td>Bangalore</td>\n",
       "      <td>Financial Services</td>\n",
       "      <td>India’s first socially distributed full stack ...</td>\n",
       "      <td>Vishal Chopra, Himanshu Gupta</td>\n",
       "      <td>3one4 Capital, Kalaari Capital</td>\n",
       "      <td>$8000000</td>\n",
       "      <td>Series A</td>\n",
       "    </tr>\n",
       "  </tbody>\n",
       "</table>\n",
       "<p>1209 rows × 9 columns</p>\n",
       "</div>"
      ],
      "text/plain": [
       "       Company_Brand  Founded HeadQuarter                 Sector  \\\n",
       "0     Unbox Robotics   2019.0   Bangalore             AI startup   \n",
       "1             upGrad   2015.0      Mumbai                 EdTech   \n",
       "2        Lead School   2012.0      Mumbai                 EdTech   \n",
       "3            Bizongo   2015.0      Mumbai         B2B E-commerce   \n",
       "4           FypMoney   2021.0    Gurugram                FinTech   \n",
       "...              ...      ...         ...                    ...   \n",
       "1204        Gigforce   2019.0    Gurugram  Staffing & Recruiting   \n",
       "1205          Vahdam   2015.0   New Delhi       Food & Beverages   \n",
       "1206    Leap Finance   2019.0   Bangalore     Financial Services   \n",
       "1207    CollegeDekho   2015.0    Gurugram                 EdTech   \n",
       "1208          WeRize   2019.0   Bangalore     Financial Services   \n",
       "\n",
       "                                           What_it_does  \\\n",
       "0     Unbox Robotics builds on-demand AI-driven ware...   \n",
       "1        UpGrad is an online higher education platform.   \n",
       "2     LEAD School offers technology based school tra...   \n",
       "3     Bizongo is a business-to-business online marke...   \n",
       "4     FypMoney is Digital NEO Bank for Teenagers, em...   \n",
       "...                                                 ...   \n",
       "1204                  A gig/on-demand staffing company.   \n",
       "1205  VAHDAM is among the world’s first vertically i...   \n",
       "1206  International education loans for high potenti...   \n",
       "1207  Collegedekho.com is Student’s Partner, Friend ...   \n",
       "1208  India’s first socially distributed full stack ...   \n",
       "\n",
       "                                               Founders  \\\n",
       "0                           Pramod Ghadge, Shahid Memon   \n",
       "1     Mayank Kumar, Phalgun Kompalli, Ravijot Chugh,...   \n",
       "2                            Smita Deorah, Sumeet Mehta   \n",
       "3               Aniket Deb, Ankit Tomar, Sachin Agrawal   \n",
       "4                                         Kapil Banwari   \n",
       "...                                                 ...   \n",
       "1204                        Chirag Mittal, Anirudh Syal   \n",
       "1205                                         Bala Sarda   \n",
       "1206                         Arnav Kumar, Vaibhav Singh   \n",
       "1207                                       Ruchir Arora   \n",
       "1208                      Vishal Chopra, Himanshu Gupta   \n",
       "\n",
       "                                           Investor        Amount  \\\n",
       "0                       BEENEXT, Entrepreneur First    $1,200,000   \n",
       "1          Unilazer Ventures, IIFL Asset Management  $120,000,000   \n",
       "2                  GSV Ventures, Westbridge Capital   $30,000,000   \n",
       "3                            CDC Group, IDG Capital   $51,000,000   \n",
       "4     Liberatha Kallat, Mukesh Yadav, Dinesh Nagpal    $2,000,000   \n",
       "...                                             ...           ...   \n",
       "1204                                Endiya Partners      $3000000   \n",
       "1205                                       IIFL AMC     $20000000   \n",
       "1206                                   Owl Ventures     $55000000   \n",
       "1207               Winter Capital, ETS, Man Capital     $26000000   \n",
       "1208                 3one4 Capital, Kalaari Capital      $8000000   \n",
       "\n",
       "             Stage  \n",
       "0     Pre-series A  \n",
       "1             None  \n",
       "2         Series D  \n",
       "3         Series C  \n",
       "4             Seed  \n",
       "...            ...  \n",
       "1204  Pre-series A  \n",
       "1205      Series D  \n",
       "1206      Series C  \n",
       "1207      Series B  \n",
       "1208      Series A  \n",
       "\n",
       "[1209 rows x 9 columns]"
      ]
     },
     "execution_count": 6,
     "metadata": {},
     "output_type": "execute_result"
    }
   ],
   "source": [
    "query = '''SELECT * FROM dbo.LP1_startup_funding2020'''\n",
    "query = '''SELECT * FROM dbo.LP1_startup_funding2021'''\n",
    "data_2018 = pd.read_csv(r\"C:\\Users\\MERCY CHEBET\\Projects\\LP1 Project\\LP1-Indian-Start-up\\startup_funding2018.csv\")\n",
    "data_2018\n",
    "data_2019 = pd.read_excel (r\"C:\\Users\\MERCY CHEBET\\Projects\\LP1 Project\\LP1-Indian-Start-up\\startup_funding2019.xlsx\")\n",
    "data_2019\n",
    "data_2020 = pd.read_sql(query, connection)\n",
    "data_2020\n",
    "data_2021 = pd.read_sql(query, connection)\n",
    "data_2021"
   ]
  },
  {
   "cell_type": "code",
   "execution_count": 7,
   "metadata": {},
   "outputs": [],
   "source": [
    "import pandas as pd\n",
    "import matplotlib.pyplot as plt\n",
    "import seaborn as sns"
   ]
  },
  {
   "cell_type": "code",
   "execution_count": 8,
   "metadata": {},
   "outputs": [
    {
     "data": {
      "text/html": [
       "<div>\n",
       "<style scoped>\n",
       "    .dataframe tbody tr th:only-of-type {\n",
       "        vertical-align: middle;\n",
       "    }\n",
       "\n",
       "    .dataframe tbody tr th {\n",
       "        vertical-align: top;\n",
       "    }\n",
       "\n",
       "    .dataframe thead th {\n",
       "        text-align: right;\n",
       "    }\n",
       "</style>\n",
       "<table border=\"1\" class=\"dataframe\">\n",
       "  <thead>\n",
       "    <tr style=\"text-align: right;\">\n",
       "      <th></th>\n",
       "      <th>Company Name</th>\n",
       "      <th>Industry</th>\n",
       "      <th>Round/Series</th>\n",
       "      <th>Amount</th>\n",
       "      <th>Location</th>\n",
       "      <th>About Company</th>\n",
       "    </tr>\n",
       "  </thead>\n",
       "  <tbody>\n",
       "    <tr>\n",
       "      <th>0</th>\n",
       "      <td>TheCollegeFever</td>\n",
       "      <td>Brand Marketing, Event Promotion, Marketing, S...</td>\n",
       "      <td>Seed</td>\n",
       "      <td>250000</td>\n",
       "      <td>Bangalore, Karnataka, India</td>\n",
       "      <td>TheCollegeFever is a hub for fun, fiesta and f...</td>\n",
       "    </tr>\n",
       "    <tr>\n",
       "      <th>1</th>\n",
       "      <td>Happy Cow Dairy</td>\n",
       "      <td>Agriculture, Farming</td>\n",
       "      <td>Seed</td>\n",
       "      <td>₹40,000,000</td>\n",
       "      <td>Mumbai, Maharashtra, India</td>\n",
       "      <td>A startup which aggregates milk from dairy far...</td>\n",
       "    </tr>\n",
       "    <tr>\n",
       "      <th>2</th>\n",
       "      <td>MyLoanCare</td>\n",
       "      <td>Credit, Financial Services, Lending, Marketplace</td>\n",
       "      <td>Series A</td>\n",
       "      <td>₹65,000,000</td>\n",
       "      <td>Gurgaon, Haryana, India</td>\n",
       "      <td>Leading Online Loans Marketplace in India</td>\n",
       "    </tr>\n",
       "    <tr>\n",
       "      <th>3</th>\n",
       "      <td>PayMe India</td>\n",
       "      <td>Financial Services, FinTech</td>\n",
       "      <td>Angel</td>\n",
       "      <td>2000000</td>\n",
       "      <td>Noida, Uttar Pradesh, India</td>\n",
       "      <td>PayMe India is an innovative FinTech organizat...</td>\n",
       "    </tr>\n",
       "    <tr>\n",
       "      <th>4</th>\n",
       "      <td>Eunimart</td>\n",
       "      <td>E-Commerce Platforms, Retail, SaaS</td>\n",
       "      <td>Seed</td>\n",
       "      <td>—</td>\n",
       "      <td>Hyderabad, Andhra Pradesh, India</td>\n",
       "      <td>Eunimart is a one stop solution for merchants ...</td>\n",
       "    </tr>\n",
       "    <tr>\n",
       "      <th>5</th>\n",
       "      <td>Hasura</td>\n",
       "      <td>Cloud Infrastructure, PaaS, SaaS</td>\n",
       "      <td>Seed</td>\n",
       "      <td>1600000</td>\n",
       "      <td>Bengaluru, Karnataka, India</td>\n",
       "      <td>Hasura is a platform that allows developers to...</td>\n",
       "    </tr>\n",
       "    <tr>\n",
       "      <th>6</th>\n",
       "      <td>Tripshelf</td>\n",
       "      <td>Internet, Leisure, Marketplace</td>\n",
       "      <td>Seed</td>\n",
       "      <td>₹16,000,000</td>\n",
       "      <td>Kalkaji, Delhi, India</td>\n",
       "      <td>Tripshelf is an online market place for holida...</td>\n",
       "    </tr>\n",
       "    <tr>\n",
       "      <th>7</th>\n",
       "      <td>Hyperdata.IO</td>\n",
       "      <td>Market Research</td>\n",
       "      <td>Angel</td>\n",
       "      <td>₹50,000,000</td>\n",
       "      <td>Hyderabad, Andhra Pradesh, India</td>\n",
       "      <td>Hyperdata combines advanced machine learning w...</td>\n",
       "    </tr>\n",
       "    <tr>\n",
       "      <th>8</th>\n",
       "      <td>Freightwalla</td>\n",
       "      <td>Information Services, Information Technology</td>\n",
       "      <td>Seed</td>\n",
       "      <td>—</td>\n",
       "      <td>Mumbai, Maharashtra, India</td>\n",
       "      <td>Freightwalla is an international forwarder tha...</td>\n",
       "    </tr>\n",
       "    <tr>\n",
       "      <th>9</th>\n",
       "      <td>Microchip Payments</td>\n",
       "      <td>Mobile Payments</td>\n",
       "      <td>Seed</td>\n",
       "      <td>—</td>\n",
       "      <td>Bangalore, Karnataka, India</td>\n",
       "      <td>Microchip payments is a mobile-based payment a...</td>\n",
       "    </tr>\n",
       "  </tbody>\n",
       "</table>\n",
       "</div>"
      ],
      "text/plain": [
       "         Company Name                                           Industry  \\\n",
       "0     TheCollegeFever  Brand Marketing, Event Promotion, Marketing, S...   \n",
       "1     Happy Cow Dairy                               Agriculture, Farming   \n",
       "2          MyLoanCare   Credit, Financial Services, Lending, Marketplace   \n",
       "3         PayMe India                        Financial Services, FinTech   \n",
       "4            Eunimart                 E-Commerce Platforms, Retail, SaaS   \n",
       "5              Hasura                   Cloud Infrastructure, PaaS, SaaS   \n",
       "6           Tripshelf                     Internet, Leisure, Marketplace   \n",
       "7        Hyperdata.IO                                    Market Research   \n",
       "8        Freightwalla       Information Services, Information Technology   \n",
       "9  Microchip Payments                                    Mobile Payments   \n",
       "\n",
       "  Round/Series       Amount                          Location  \\\n",
       "0         Seed       250000       Bangalore, Karnataka, India   \n",
       "1         Seed  ₹40,000,000        Mumbai, Maharashtra, India   \n",
       "2     Series A  ₹65,000,000           Gurgaon, Haryana, India   \n",
       "3        Angel      2000000       Noida, Uttar Pradesh, India   \n",
       "4         Seed            —  Hyderabad, Andhra Pradesh, India   \n",
       "5         Seed      1600000       Bengaluru, Karnataka, India   \n",
       "6         Seed  ₹16,000,000             Kalkaji, Delhi, India   \n",
       "7        Angel  ₹50,000,000  Hyderabad, Andhra Pradesh, India   \n",
       "8         Seed            —        Mumbai, Maharashtra, India   \n",
       "9         Seed            —       Bangalore, Karnataka, India   \n",
       "\n",
       "                                       About Company  \n",
       "0  TheCollegeFever is a hub for fun, fiesta and f...  \n",
       "1  A startup which aggregates milk from dairy far...  \n",
       "2          Leading Online Loans Marketplace in India  \n",
       "3  PayMe India is an innovative FinTech organizat...  \n",
       "4  Eunimart is a one stop solution for merchants ...  \n",
       "5  Hasura is a platform that allows developers to...  \n",
       "6  Tripshelf is an online market place for holida...  \n",
       "7  Hyperdata combines advanced machine learning w...  \n",
       "8  Freightwalla is an international forwarder tha...  \n",
       "9  Microchip payments is a mobile-based payment a...  "
      ]
     },
     "execution_count": 8,
     "metadata": {},
     "output_type": "execute_result"
    }
   ],
   "source": [
    "#Knowing the first 10 rows\n",
    "data_2018.head(10)"
   ]
  },
  {
   "cell_type": "code",
   "execution_count": 9,
   "metadata": {},
   "outputs": [
    {
     "name": "stdout",
     "output_type": "stream",
     "text": [
      "<class 'pandas.core.frame.DataFrame'>\n",
      "RangeIndex: 526 entries, 0 to 525\n",
      "Data columns (total 6 columns):\n",
      " #   Column         Non-Null Count  Dtype \n",
      "---  ------         --------------  ----- \n",
      " 0   Company Name   526 non-null    object\n",
      " 1   Industry       526 non-null    object\n",
      " 2   Round/Series   526 non-null    object\n",
      " 3   Amount         526 non-null    object\n",
      " 4   Location       526 non-null    object\n",
      " 5   About Company  526 non-null    object\n",
      "dtypes: object(6)\n",
      "memory usage: 24.8+ KB\n"
     ]
    }
   ],
   "source": [
    "data_2018.info()"
   ]
  },
  {
   "cell_type": "code",
   "execution_count": 10,
   "metadata": {},
   "outputs": [
    {
     "name": "stdout",
     "output_type": "stream",
     "text": [
      "<class 'pandas.core.frame.DataFrame'>\n",
      "RangeIndex: 89 entries, 0 to 88\n",
      "Data columns (total 9 columns):\n",
      " #   Column         Non-Null Count  Dtype  \n",
      "---  ------         --------------  -----  \n",
      " 0   Company/Brand  89 non-null     object \n",
      " 1   Founded        60 non-null     float64\n",
      " 2   HeadQuarter    70 non-null     object \n",
      " 3   Sector         84 non-null     object \n",
      " 4   What it does   89 non-null     object \n",
      " 5   Founders       86 non-null     object \n",
      " 6   Investor       89 non-null     object \n",
      " 7   Amount($)      89 non-null     object \n",
      " 8   Stage          43 non-null     object \n",
      "dtypes: float64(1), object(8)\n",
      "memory usage: 6.4+ KB\n"
     ]
    }
   ],
   "source": [
    "data_2019.head(10)\n",
    "data_2019.info()"
   ]
  },
  {
   "cell_type": "code",
   "execution_count": 11,
   "metadata": {},
   "outputs": [
    {
     "name": "stdout",
     "output_type": "stream",
     "text": [
      "<class 'pandas.core.frame.DataFrame'>\n",
      "RangeIndex: 1209 entries, 0 to 1208\n",
      "Data columns (total 9 columns):\n",
      " #   Column         Non-Null Count  Dtype  \n",
      "---  ------         --------------  -----  \n",
      " 0   Company_Brand  1209 non-null   object \n",
      " 1   Founded        1208 non-null   float64\n",
      " 2   HeadQuarter    1208 non-null   object \n",
      " 3   Sector         1209 non-null   object \n",
      " 4   What_it_does   1209 non-null   object \n",
      " 5   Founders       1205 non-null   object \n",
      " 6   Investor       1147 non-null   object \n",
      " 7   Amount         1206 non-null   object \n",
      " 8   Stage          781 non-null    object \n",
      "dtypes: float64(1), object(8)\n",
      "memory usage: 85.1+ KB\n"
     ]
    }
   ],
   "source": [
    "data_2020.head(10)\n",
    "data_2020.info()"
   ]
  },
  {
   "cell_type": "code",
   "execution_count": 12,
   "metadata": {},
   "outputs": [
    {
     "name": "stdout",
     "output_type": "stream",
     "text": [
      "<class 'pandas.core.frame.DataFrame'>\n",
      "RangeIndex: 1209 entries, 0 to 1208\n",
      "Data columns (total 9 columns):\n",
      " #   Column         Non-Null Count  Dtype  \n",
      "---  ------         --------------  -----  \n",
      " 0   Company_Brand  1209 non-null   object \n",
      " 1   Founded        1208 non-null   float64\n",
      " 2   HeadQuarter    1208 non-null   object \n",
      " 3   Sector         1209 non-null   object \n",
      " 4   What_it_does   1209 non-null   object \n",
      " 5   Founders       1205 non-null   object \n",
      " 6   Investor       1147 non-null   object \n",
      " 7   Amount         1206 non-null   object \n",
      " 8   Stage          781 non-null    object \n",
      "dtypes: float64(1), object(8)\n",
      "memory usage: 85.1+ KB\n"
     ]
    }
   ],
   "source": [
    "data_2021.head(10)\n",
    "data_2021.info()"
   ]
  },
  {
   "cell_type": "code",
   "execution_count": 13,
   "metadata": {},
   "outputs": [],
   "source": [
    "#Rename columns of data_2018 to match combined_data\n",
    "data_2018 = data_2018.rename(columns={\n",
    "    'Company Name': 'Company_Brand',\n",
    "    'Industry': 'Sector',\n",
    "    'Round/Series': 'Stage',\n",
    "    'Amount': 'Amount',\n",
    "    'Location': 'HeadQuarter',\n",
    "    'About Company': 'What_it_does'\n",
    "})"
   ]
  },
  {
   "cell_type": "code",
   "execution_count": 14,
   "metadata": {},
   "outputs": [],
   "source": [
    "# Combine all datasets\n",
    "df_combined = pd.concat([data_2019, data_2020, data_2021, data_2018], ignore_index=True)"
   ]
  },
  {
   "cell_type": "code",
   "execution_count": 15,
   "metadata": {},
   "outputs": [
    {
     "data": {
      "text/plain": [
       "<bound method NDFrame.describe of        Company/Brand  Founded                  HeadQuarter  \\\n",
       "0     Bombay Shaving      NaN                          NaN   \n",
       "1          Ruangguru   2014.0                       Mumbai   \n",
       "2           Eduisfun      NaN                       Mumbai   \n",
       "3           HomeLane   2014.0                      Chennai   \n",
       "4           Nu Genes   2004.0                    Telangana   \n",
       "...              ...      ...                          ...   \n",
       "3028             NaN      NaN  Bangalore, Karnataka, India   \n",
       "3029             NaN      NaN      Haryana, Haryana, India   \n",
       "3030             NaN      NaN   Mumbai, Maharashtra, India   \n",
       "3031             NaN      NaN   Mumbai, Maharashtra, India   \n",
       "3032             NaN      NaN   Chennai, Tamil Nadu, India   \n",
       "\n",
       "                                                Sector  \\\n",
       "0                                            Ecommerce   \n",
       "1                                               Edtech   \n",
       "2                                               Edtech   \n",
       "3                                      Interior design   \n",
       "4                                             AgriTech   \n",
       "...                                                ...   \n",
       "3028  B2B, Business Development, Internet, Marketplace   \n",
       "3029                                   Tourism, Travel   \n",
       "3030        Food and Beverage, Food Delivery, Internet   \n",
       "3031                            Information Technology   \n",
       "3032        Biotechnology, Health Care, Pharmaceutical   \n",
       "\n",
       "                                           What it does  \\\n",
       "0            Provides a range of male grooming products   \n",
       "1     A learning platform that provides topic-based ...   \n",
       "2               It aims to make learning fun via games.   \n",
       "3                 Provides interior designing solutions   \n",
       "4     It is a seed company engaged in production, pr...   \n",
       "...                                                 ...   \n",
       "3028                                                NaN   \n",
       "3029                                                NaN   \n",
       "3030                                                NaN   \n",
       "3031                                                NaN   \n",
       "3032                                                NaN   \n",
       "\n",
       "                                   Founders  \\\n",
       "0                        Shantanu Deshpande   \n",
       "1     Adamas Belva Syah Devara, Iman Usman.   \n",
       "2                             Jatin Solanki   \n",
       "3              Srikanth Iyer, Rama Harinath   \n",
       "4                    Narayana Reddy Punyala   \n",
       "...                                     ...   \n",
       "3028                                    NaN   \n",
       "3029                                    NaN   \n",
       "3030                                    NaN   \n",
       "3031                                    NaN   \n",
       "3032                                    NaN   \n",
       "\n",
       "                                               Investor  Amount($)  \\\n",
       "0                                  Sixth Sense Ventures    6300000   \n",
       "1                                      General Atlantic  150000000   \n",
       "2        Deepak Parekh, Amitabh Bachchan, Piyush Pandey   28000000   \n",
       "3     Evolvence India Fund (EIF), Pidilite Group, FJ...   30000000   \n",
       "4              Innovation in Food and Agriculture (IFA)    6000000   \n",
       "...                                                 ...        ...   \n",
       "3028                                                NaN        NaN   \n",
       "3029                                                NaN        NaN   \n",
       "3030                                                NaN        NaN   \n",
       "3031                                                NaN        NaN   \n",
       "3032                                                NaN        NaN   \n",
       "\n",
       "              Stage      Company_Brand  \\\n",
       "0               NaN                NaN   \n",
       "1          Series C                NaN   \n",
       "2     Fresh funding                NaN   \n",
       "3          Series D                NaN   \n",
       "4               NaN                NaN   \n",
       "...             ...                ...   \n",
       "3028       Series C              Udaan   \n",
       "3029       Series A  Happyeasygo Group   \n",
       "3030           Seed             Mombay   \n",
       "3031           Seed         Droni Tech   \n",
       "3032       Series C            Netmeds   \n",
       "\n",
       "                                           What_it_does       Amount  \n",
       "0                                                   NaN          NaN  \n",
       "1                                                   NaN          NaN  \n",
       "2                                                   NaN          NaN  \n",
       "3                                                   NaN          NaN  \n",
       "4                                                   NaN          NaN  \n",
       "...                                                 ...          ...  \n",
       "3028  Udaan is a B2B trade platform, designed specif...    225000000  \n",
       "3029            HappyEasyGo is an online travel domain.            —  \n",
       "3030  Mombay is a unique opportunity for housewives ...         7500  \n",
       "3031  Droni Tech manufacture UAVs and develop softwa...  ₹35,000,000  \n",
       "3032       Welcome to India's most convenient pharmacy!     35000000  \n",
       "\n",
       "[3033 rows x 12 columns]>"
      ]
     },
     "execution_count": 15,
     "metadata": {},
     "output_type": "execute_result"
    }
   ],
   "source": [
    "df_combined.describe"
   ]
  },
  {
   "cell_type": "code",
   "execution_count": 16,
   "metadata": {},
   "outputs": [
    {
     "data": {
      "text/plain": [
       "<bound method DataFrame.info of        Company/Brand  Founded                  HeadQuarter  \\\n",
       "0     Bombay Shaving      NaN                          NaN   \n",
       "1          Ruangguru   2014.0                       Mumbai   \n",
       "2           Eduisfun      NaN                       Mumbai   \n",
       "3           HomeLane   2014.0                      Chennai   \n",
       "4           Nu Genes   2004.0                    Telangana   \n",
       "...              ...      ...                          ...   \n",
       "3028             NaN      NaN  Bangalore, Karnataka, India   \n",
       "3029             NaN      NaN      Haryana, Haryana, India   \n",
       "3030             NaN      NaN   Mumbai, Maharashtra, India   \n",
       "3031             NaN      NaN   Mumbai, Maharashtra, India   \n",
       "3032             NaN      NaN   Chennai, Tamil Nadu, India   \n",
       "\n",
       "                                                Sector  \\\n",
       "0                                            Ecommerce   \n",
       "1                                               Edtech   \n",
       "2                                               Edtech   \n",
       "3                                      Interior design   \n",
       "4                                             AgriTech   \n",
       "...                                                ...   \n",
       "3028  B2B, Business Development, Internet, Marketplace   \n",
       "3029                                   Tourism, Travel   \n",
       "3030        Food and Beverage, Food Delivery, Internet   \n",
       "3031                            Information Technology   \n",
       "3032        Biotechnology, Health Care, Pharmaceutical   \n",
       "\n",
       "                                           What it does  \\\n",
       "0            Provides a range of male grooming products   \n",
       "1     A learning platform that provides topic-based ...   \n",
       "2               It aims to make learning fun via games.   \n",
       "3                 Provides interior designing solutions   \n",
       "4     It is a seed company engaged in production, pr...   \n",
       "...                                                 ...   \n",
       "3028                                                NaN   \n",
       "3029                                                NaN   \n",
       "3030                                                NaN   \n",
       "3031                                                NaN   \n",
       "3032                                                NaN   \n",
       "\n",
       "                                   Founders  \\\n",
       "0                        Shantanu Deshpande   \n",
       "1     Adamas Belva Syah Devara, Iman Usman.   \n",
       "2                             Jatin Solanki   \n",
       "3              Srikanth Iyer, Rama Harinath   \n",
       "4                    Narayana Reddy Punyala   \n",
       "...                                     ...   \n",
       "3028                                    NaN   \n",
       "3029                                    NaN   \n",
       "3030                                    NaN   \n",
       "3031                                    NaN   \n",
       "3032                                    NaN   \n",
       "\n",
       "                                               Investor  Amount($)  \\\n",
       "0                                  Sixth Sense Ventures    6300000   \n",
       "1                                      General Atlantic  150000000   \n",
       "2        Deepak Parekh, Amitabh Bachchan, Piyush Pandey   28000000   \n",
       "3     Evolvence India Fund (EIF), Pidilite Group, FJ...   30000000   \n",
       "4              Innovation in Food and Agriculture (IFA)    6000000   \n",
       "...                                                 ...        ...   \n",
       "3028                                                NaN        NaN   \n",
       "3029                                                NaN        NaN   \n",
       "3030                                                NaN        NaN   \n",
       "3031                                                NaN        NaN   \n",
       "3032                                                NaN        NaN   \n",
       "\n",
       "              Stage      Company_Brand  \\\n",
       "0               NaN                NaN   \n",
       "1          Series C                NaN   \n",
       "2     Fresh funding                NaN   \n",
       "3          Series D                NaN   \n",
       "4               NaN                NaN   \n",
       "...             ...                ...   \n",
       "3028       Series C              Udaan   \n",
       "3029       Series A  Happyeasygo Group   \n",
       "3030           Seed             Mombay   \n",
       "3031           Seed         Droni Tech   \n",
       "3032       Series C            Netmeds   \n",
       "\n",
       "                                           What_it_does       Amount  \n",
       "0                                                   NaN          NaN  \n",
       "1                                                   NaN          NaN  \n",
       "2                                                   NaN          NaN  \n",
       "3                                                   NaN          NaN  \n",
       "4                                                   NaN          NaN  \n",
       "...                                                 ...          ...  \n",
       "3028  Udaan is a B2B trade platform, designed specif...    225000000  \n",
       "3029            HappyEasyGo is an online travel domain.            —  \n",
       "3030  Mombay is a unique opportunity for housewives ...         7500  \n",
       "3031  Droni Tech manufacture UAVs and develop softwa...  ₹35,000,000  \n",
       "3032       Welcome to India's most convenient pharmacy!     35000000  \n",
       "\n",
       "[3033 rows x 12 columns]>"
      ]
     },
     "execution_count": 16,
     "metadata": {},
     "output_type": "execute_result"
    }
   ],
   "source": [
    "df_combined.info"
   ]
  },
  {
   "cell_type": "code",
   "execution_count": 17,
   "metadata": {},
   "outputs": [
    {
     "data": {
      "text/plain": [
       "Company/Brand     object\n",
       "Founded          float64\n",
       "HeadQuarter       object\n",
       "Sector            object\n",
       "What it does      object\n",
       "Founders          object\n",
       "Investor          object\n",
       "Amount($)         object\n",
       "Stage             object\n",
       "Company_Brand     object\n",
       "What_it_does      object\n",
       "Amount            object\n",
       "dtype: object"
      ]
     },
     "execution_count": 17,
     "metadata": {},
     "output_type": "execute_result"
    }
   ],
   "source": [
    "df_combined.dtypes"
   ]
  },
  {
   "cell_type": "code",
   "execution_count": 18,
   "metadata": {},
   "outputs": [
    {
     "data": {
      "text/plain": [
       "<bound method DataFrame.nunique of        Company/Brand  Founded                  HeadQuarter  \\\n",
       "0     Bombay Shaving      NaN                          NaN   \n",
       "1          Ruangguru   2014.0                       Mumbai   \n",
       "2           Eduisfun      NaN                       Mumbai   \n",
       "3           HomeLane   2014.0                      Chennai   \n",
       "4           Nu Genes   2004.0                    Telangana   \n",
       "...              ...      ...                          ...   \n",
       "3028             NaN      NaN  Bangalore, Karnataka, India   \n",
       "3029             NaN      NaN      Haryana, Haryana, India   \n",
       "3030             NaN      NaN   Mumbai, Maharashtra, India   \n",
       "3031             NaN      NaN   Mumbai, Maharashtra, India   \n",
       "3032             NaN      NaN   Chennai, Tamil Nadu, India   \n",
       "\n",
       "                                                Sector  \\\n",
       "0                                            Ecommerce   \n",
       "1                                               Edtech   \n",
       "2                                               Edtech   \n",
       "3                                      Interior design   \n",
       "4                                             AgriTech   \n",
       "...                                                ...   \n",
       "3028  B2B, Business Development, Internet, Marketplace   \n",
       "3029                                   Tourism, Travel   \n",
       "3030        Food and Beverage, Food Delivery, Internet   \n",
       "3031                            Information Technology   \n",
       "3032        Biotechnology, Health Care, Pharmaceutical   \n",
       "\n",
       "                                           What it does  \\\n",
       "0            Provides a range of male grooming products   \n",
       "1     A learning platform that provides topic-based ...   \n",
       "2               It aims to make learning fun via games.   \n",
       "3                 Provides interior designing solutions   \n",
       "4     It is a seed company engaged in production, pr...   \n",
       "...                                                 ...   \n",
       "3028                                                NaN   \n",
       "3029                                                NaN   \n",
       "3030                                                NaN   \n",
       "3031                                                NaN   \n",
       "3032                                                NaN   \n",
       "\n",
       "                                   Founders  \\\n",
       "0                        Shantanu Deshpande   \n",
       "1     Adamas Belva Syah Devara, Iman Usman.   \n",
       "2                             Jatin Solanki   \n",
       "3              Srikanth Iyer, Rama Harinath   \n",
       "4                    Narayana Reddy Punyala   \n",
       "...                                     ...   \n",
       "3028                                    NaN   \n",
       "3029                                    NaN   \n",
       "3030                                    NaN   \n",
       "3031                                    NaN   \n",
       "3032                                    NaN   \n",
       "\n",
       "                                               Investor  Amount($)  \\\n",
       "0                                  Sixth Sense Ventures    6300000   \n",
       "1                                      General Atlantic  150000000   \n",
       "2        Deepak Parekh, Amitabh Bachchan, Piyush Pandey   28000000   \n",
       "3     Evolvence India Fund (EIF), Pidilite Group, FJ...   30000000   \n",
       "4              Innovation in Food and Agriculture (IFA)    6000000   \n",
       "...                                                 ...        ...   \n",
       "3028                                                NaN        NaN   \n",
       "3029                                                NaN        NaN   \n",
       "3030                                                NaN        NaN   \n",
       "3031                                                NaN        NaN   \n",
       "3032                                                NaN        NaN   \n",
       "\n",
       "              Stage      Company_Brand  \\\n",
       "0               NaN                NaN   \n",
       "1          Series C                NaN   \n",
       "2     Fresh funding                NaN   \n",
       "3          Series D                NaN   \n",
       "4               NaN                NaN   \n",
       "...             ...                ...   \n",
       "3028       Series C              Udaan   \n",
       "3029       Series A  Happyeasygo Group   \n",
       "3030           Seed             Mombay   \n",
       "3031           Seed         Droni Tech   \n",
       "3032       Series C            Netmeds   \n",
       "\n",
       "                                           What_it_does       Amount  \n",
       "0                                                   NaN          NaN  \n",
       "1                                                   NaN          NaN  \n",
       "2                                                   NaN          NaN  \n",
       "3                                                   NaN          NaN  \n",
       "4                                                   NaN          NaN  \n",
       "...                                                 ...          ...  \n",
       "3028  Udaan is a B2B trade platform, designed specif...    225000000  \n",
       "3029            HappyEasyGo is an online travel domain.            —  \n",
       "3030  Mombay is a unique opportunity for housewives ...         7500  \n",
       "3031  Droni Tech manufacture UAVs and develop softwa...  ₹35,000,000  \n",
       "3032       Welcome to India's most convenient pharmacy!     35000000  \n",
       "\n",
       "[3033 rows x 12 columns]>"
      ]
     },
     "execution_count": 18,
     "metadata": {},
     "output_type": "execute_result"
    }
   ],
   "source": [
    "df_combined.nunique"
   ]
  },
  {
   "cell_type": "code",
   "execution_count": 19,
   "metadata": {},
   "outputs": [
    {
     "data": {
      "text/plain": [
       "(3033, 12)"
      ]
     },
     "execution_count": 19,
     "metadata": {},
     "output_type": "execute_result"
    }
   ],
   "source": [
    "df_combined.shape"
   ]
  },
  {
   "cell_type": "code",
   "execution_count": 20,
   "metadata": {},
   "outputs": [
    {
     "data": {
      "text/plain": [
       "1229"
      ]
     },
     "execution_count": 20,
     "metadata": {},
     "output_type": "execute_result"
    }
   ],
   "source": [
    "df_combined.duplicated().sum()"
   ]
  },
  {
   "cell_type": "markdown",
   "metadata": {},
   "source": [
    "## DATA CLEANING"
   ]
  },
  {
   "cell_type": "code",
   "execution_count": 21,
   "metadata": {},
   "outputs": [],
   "source": [
    "# Renaming columns to standardize names\n",
    "df_combined.rename(columns={\n",
    "    'Company/Brand': 'Company_Brand',\n",
    "    'What it does': 'What_it_does',\n",
    "    'Amount($)': 'Amount'\n",
    "},inplace=True)"
   ]
  },
  {
   "cell_type": "code",
   "execution_count": 22,
   "metadata": {},
   "outputs": [
    {
     "data": {
      "text/plain": [
       "array([False, False, False, False, False, False, False, False, False,\n",
       "        True,  True,  True])"
      ]
     },
     "execution_count": 22,
     "metadata": {},
     "output_type": "execute_result"
    }
   ],
   "source": [
    "# Check for duplicated columns\n",
    "df_combined.columns.duplicated()"
   ]
  },
  {
   "cell_type": "code",
   "execution_count": 23,
   "metadata": {},
   "outputs": [],
   "source": [
    "# Rename duplicate columns to make them unique\n",
    "df_combined.columns = ['Company_Brand_1', 'Founded', 'HeadQuarter', 'Sector', 'What_it_does_1', 'Founders', 'Investor', 'Amount_1', 'Stage', 'Company_Brand_2', 'What_it_does_2', 'Amount_2']\n",
    "\n",
    "# Merge the duplicated columns\n",
    "df_combined['Company_Brand'] = df_combined['Company_Brand_1'].combine_first(df_combined['Company_Brand_2'])\n",
    "df_combined['What_it_does'] = df_combined['What_it_does_1'].combine_first(df_combined['What_it_does_2'])\n",
    "df_combined['Amount'] = df_combined['Amount_1'].combine_first(df_combined['Amount_2'])\n",
    "\n",
    "# Drop the original duplicated columns after merging\n",
    "df_combined.drop(columns=['Company_Brand_1', 'Company_Brand_2', 'What_it_does_1', 'What_it_does_2', 'Amount_1', 'Amount_2'], inplace=True)"
   ]
  },
  {
   "cell_type": "code",
   "execution_count": 24,
   "metadata": {},
   "outputs": [
    {
     "name": "stdout",
     "output_type": "stream",
     "text": [
      "<class 'pandas.core.frame.DataFrame'>\n",
      "RangeIndex: 3033 entries, 0 to 3032\n",
      "Data columns (total 9 columns):\n",
      " #   Column         Non-Null Count  Dtype  \n",
      "---  ------         --------------  -----  \n",
      " 0   Founded        2476 non-null   float64\n",
      " 1   HeadQuarter    3012 non-null   object \n",
      " 2   Sector         3028 non-null   object \n",
      " 3   Founders       2496 non-null   object \n",
      " 4   Investor       2383 non-null   object \n",
      " 5   Stage          2131 non-null   object \n",
      " 6   Company_Brand  3033 non-null   object \n",
      " 7   What_it_does   3033 non-null   object \n",
      " 8   Amount         3027 non-null   object \n",
      "dtypes: float64(1), object(8)\n",
      "memory usage: 213.4+ KB\n"
     ]
    }
   ],
   "source": [
    "df_combined.info()"
   ]
  },
  {
   "cell_type": "markdown",
   "metadata": {},
   "source": [
    "### COLUMN CLEANING - AMOUNT"
   ]
  },
  {
   "cell_type": "code",
   "execution_count": 25,
   "metadata": {},
   "outputs": [
    {
     "data": {
      "text/plain": [
       "array([6300000, 150000000, 28000000, 30000000, 6000000, 'Undisclosed',\n",
       "       1000000, 20000000, 275000000, 22000000, 5000000, 140500, 540000000,\n",
       "       15000000, 182700, 12000000, 11000000, 15500000, 1500000, 5500000,\n",
       "       2500000, 140000, 230000000, 49400000, 32000000, 26000000, 150000,\n",
       "       400000, 2000000, 100000000, 8000000, 100000, 50000000, 120000000,\n",
       "       4000000, 6800000, 36000000, 5700000, 25000000, 600000, 70000000,\n",
       "       60000000, 220000, 2800000, 2100000, 7000000, 311000000, 4800000,\n",
       "       693000000, 33000000, '$1,200,000', '$120,000,000', '$30,000,000',\n",
       "       '$51,000,000', '$2,000,000', '$188,000,000', '$200,000',\n",
       "       '$1,000,000', '$3,000,000', '$100,000', '$700,000', '$9,000,000',\n",
       "       '$40,000,000', '$49,000,000', '$400,000', '$300,000',\n",
       "       '$25,000,000', '$160,000,000', '$150,000', '$1,800,000',\n",
       "       '$5,000,000', '$850,000', '$53,000,000', '$500,000', '$1,100,000',\n",
       "       '$6,000,000', '$800,000', '$10,000,000', '$21,000,000',\n",
       "       '$7,500,000', '$26,000,000', '$7,400,000', '$1,500,000',\n",
       "       '$600,000', '$800,000,000', '$17,000,000', '$3,500,000',\n",
       "       '$15,000,000', '$215,000,000', '$2,500,000', '$350,000,000',\n",
       "       '$5,500,000', '$83,000,000', '$110,000,000', '$500,000,000',\n",
       "       '$65,000,000', '$150,000,000,000', '$300,000,000', '$2,200,000',\n",
       "       '$35,000,000', '$140,000,000', '$4,000,000', '$13,000,000', None,\n",
       "       '$Undisclosed', '$2000000', '$800000', '$6000000', '$2500000',\n",
       "       '$9500000', '$13000000', '$5000000', '$8000000', '$1000000',\n",
       "       'Upsparks', '$200000', '$12000000', '$1500000', '$1700000',\n",
       "       '$5500000', '$400000', '$150000000', '$4000000', '$100000000',\n",
       "       '$500000', '$15000000', '$10000000', '$40000000', '$225000000',\n",
       "       '$6700000', '$1300000', '$20000000', '$250000', '$21000000',\n",
       "       '$1200000', '$52000000', '$3800000', '$17500000', '$42000000',\n",
       "       '$2300000', '$7000000', '$30000000', '$450000000', '$28000000',\n",
       "       '$300000', '$3500000', '$8500000', '$25000000', '$3000000',\n",
       "       '$37000000', '$370000000', '$700000', '$16000000', '$100000',\n",
       "       '$44000000', '$770000', '$125000000', '$35000000', '$50000000',\n",
       "       '$4900000', '$145000000', '$22000000', '$70000000', '$6600000',\n",
       "       '$32000000', '$24000000', '$725000', '$461000', 'Series C', 'Seed',\n",
       "       '$96000000', '$60000000', '$500000000', '$266000000', '$4500000',\n",
       "       '$325000000', '$6500000', '$1600000', '$150000', '$225000',\n",
       "       '$85000000', '$235000', '$260000', '$2900000', '$53000000',\n",
       "       '$1100000', '$86000000', '$130000', '$$100,00', '$111000000',\n",
       "       '$265000', '$76000000', '$100,000,000', '$75,000,000',\n",
       "       '$3,800,000', '$12,000,000', '$1,600,000', '$260,000',\n",
       "       '$1,000,000,000', '$18,000,000', '$20,000,000', '$350,000',\n",
       "       '$95,000,000', '$4,100,000', '$5,200,000', '$8,000,000',\n",
       "       '$1,400,000', '$2,600,000', '$900,000', '$250,000', '$16,000,000',\n",
       "       '$7,000,000', '$11,000,000', '$280,000,000', '$50,000,000',\n",
       "       '$14,300,000', '$81,000,000', '$1,300,000', '$8,200,000',\n",
       "       '$70,000,000', '$720,000', '$600000', '$9000000', '$1800000',\n",
       "       '$330000', '$undisclosed', '$200000000', '$36000000', '$67000000',\n",
       "       '$10200000', '$220000000', '$108000000', '$75000000', '$450000',\n",
       "       '$660000000', 'ah! Ventures', '$45000000', '$3200000', '$370000',\n",
       "       'Pre-series A', 'ITO Angel Network, LetsVenture', '$48000000',\n",
       "       '$3600000', '$11000000', '$192000000', '$65000000', '$1400000',\n",
       "       '$1900000', '$41000000', '$144000000', '$5200000', '$270000000',\n",
       "       '$140000', '$250000000', '$320000', '$350000000', '$4800000',\n",
       "       '$38000000', '$125000', '$26000000', '$64000000', '$620000',\n",
       "       '$900000', 'JITO Angel Network, LetsVenture', '$2600000',\n",
       "       '$1,250,000', '$400,000,000', '$1,700,000', '$27,000,000',\n",
       "       '$234,000,000', '$460,000,000', '$13,500,000', '$5,100,000',\n",
       "       '$195,000,000', '$125,000', '$45,000,000', '$200,000,000',\n",
       "       '$7,300,000', '$6,300,000', '$12,500,000', '$24,000,000',\n",
       "       '$140,000', '$16,500,000', '$340,000', '$43,000,000',\n",
       "       '$150,000,000', '$3300000', '$92000000', '$17000000', '$135000000',\n",
       "       '$$1,55,000', '$2100000', '$840000000', '$248000000', '$4300000',\n",
       "       '$570000', '$2200000', '$4700000', '$300000000', '$260000000',\n",
       "       '$140000000', '$175000000', '$19000000', '$810000', '$7500000',\n",
       "       '$600000000', '$90000000', '$5700000', '$6750000', '$78000000',\n",
       "       '$5400000', '$115000000', '$255000000', '$18000000', '$570000000',\n",
       "       '$550000', '$2700000', '$4200000', '$31000000', '$540000',\n",
       "       '$14000000', '$340000', '$', '$6200000', '$750000', '$6300000',\n",
       "       '$23000000', '$55000000', '250000', '₹40,000,000', '₹65,000,000',\n",
       "       '2000000', '—', '1600000', '₹16,000,000', '₹50,000,000',\n",
       "       '₹100,000,000', '150000', '1100000', '₹500,000', '6000000',\n",
       "       '650000', '₹35,000,000', '₹64,000,000', '₹20,000,000', '1000000',\n",
       "       '5000000', '4000000', '₹30,000,000', '2800000', '1700000',\n",
       "       '1300000', '₹5,000,000', '₹12,500,000', '₹15,000,000', '500000',\n",
       "       '₹104,000,000', '₹45,000,000', '13400000', '₹25,000,000',\n",
       "       '₹26,400,000', '₹8,000,000', '₹60,000', '9000000', '100000',\n",
       "       '20000', '120000', '₹34,000,000', '₹342,000,000', '$143,145',\n",
       "       '₹600,000,000', '$742,000,000', '₹1,000,000,000', '₹2,000,000,000',\n",
       "       '$3,980,000', '$10,000', '₹100,000', '₹250,000,000',\n",
       "       '₹550,000,000', '$28,500,000', '₹240,000,000', '₹120,000,000',\n",
       "       '$2,400,000', '₹2,500,000,000', '$23,000,000', '₹44,000,000',\n",
       "       '$3,240,000', '₹60,000,000', '$540,000,000', '₹650,000,000',\n",
       "       '₹1,600,000,000', '₹70,000,000', '$14,000,000', '₹102,500,000',\n",
       "       '₹1,200,000', '₹5,200,000,000', '$1,041,000', '$15,000', '1400000',\n",
       "       '1200000', '2200000', '1800000', '3600000', '₹9,500,000', '300000',\n",
       "       '6830000', '200000', '₹150,000,000', '4300000', '364846', '400000',\n",
       "       '1500000', '₹7,000,000', '₹1,400,000', '₹10,000,000',\n",
       "       '₹22,500,000', '13200000', '50000', '₹140,200,000', '3000000',\n",
       "       '1250000', '180000', '₹19,200,000', '₹103,000,000', '4200000',\n",
       "       '175000', '1450000', '₹200,000', '4500000', '600000',\n",
       "       '₹16,600,000', '₹12,000,000', '15000000', '₹33,000,000', '125000',\n",
       "       '130000', '₹34,900,000', '₹72,000,000', '17200000', '₹32,000,000',\n",
       "       '3500000', '₹135,000,000', '12000000', '₹1,540,000,000',\n",
       "       '₹140,000,000', '$41,900,000', '₹1,410,000,000', '$3,530,000',\n",
       "       '$3,300,000', '₹580,000,000', '₹36,000,000', '₹340,000,000',\n",
       "       '$210,000,000', '$37,680,000', '$20,000', '₹510,000,000',\n",
       "       '₹2,200,000,000', '22000000', '70000', '10000000',\n",
       "       '₹15,392,000,000', '₹20,000,000,000', '₹4,000,000,000',\n",
       "       '185000000', '65000000', '₹165,000,000', '700000', '30000000',\n",
       "       '₹210,000,000', '210000000', '₹2,029,600,000', '75000000',\n",
       "       '₹80,000,000', '1760000', '2700000', '₹280,000,000',\n",
       "       '₹800,000,000', '750000', '2500000', '80000000', '25000000',\n",
       "       '₹730,000,000', '₹400,000,000', '3700000', '5600000',\n",
       "       '₹260,000,000', '99230000', '70000000', '40000', '550000',\n",
       "       '50000000', '365000000', '₹8,750,000', '₹78,000,000', '28000000',\n",
       "       '₹264,000,000', '100000000', '₹1,130,000,000', '₹810,000,000',\n",
       "       '₹1,400,000,000', '14900000', '225000000', '7500', '35000000'],\n",
       "      dtype=object)"
      ]
     },
     "execution_count": 25,
     "metadata": {},
     "output_type": "execute_result"
    }
   ],
   "source": [
    "df_combined['Amount'].unique()"
   ]
  },
  {
   "cell_type": "code",
   "execution_count": 26,
   "metadata": {},
   "outputs": [],
   "source": [
    "# Function to clean and normalize the 'Amount' column\n",
    "def clean_amount(amount):\n",
    "    if pd.isna(amount) or amount in ['Undisclosed', '$Undisclosed', 'Upsparks']:\n",
    "        return np.nan\n",
    "    amount = str(amount).replace(',', '').replace('$', '').replace('₹', '')\n",
    "    try:\n",
    "        amount = float(amount)\n",
    "    except ValueError:\n",
    "        return np.nan\n",
    "    return amount\n",
    "\n",
    "# Create a temporary column to identify the currency type before cleaning the Amount column\n",
    "df_combined['Currency'] = df_combined['Amount'].apply(lambda x: 'INR' if '₹' in str(x) else 'USD')\n",
    "\n",
    "# Apply the cleaning function to the 'Amount' column\n",
    "df_combined['Amount'] = df_combined['Amount'].apply(clean_amount)\n",
    "\n",
    "# Function to convert all amounts to USD\n",
    "def convert_currency(amount, currency):\n",
    "    if currency == 'INR':\n",
    "        return amount * 0.013  # Assuming an exchange rate of 1 INR = 0.013 USD\n",
    "    return amount"
   ]
  },
  {
   "cell_type": "code",
   "execution_count": 27,
   "metadata": {},
   "outputs": [
    {
     "name": "stdout",
     "output_type": "stream",
     "text": [
      "Missing values in 'Amount' column before filling: 466\n",
      "Missing values in 'Amount' column after filling: 0\n",
      "<class 'pandas.core.frame.DataFrame'>\n",
      "RangeIndex: 3033 entries, 0 to 3032\n",
      "Data columns (total 9 columns):\n",
      " #   Column         Non-Null Count  Dtype  \n",
      "---  ------         --------------  -----  \n",
      " 0   Founded        2476 non-null   float64\n",
      " 1   HeadQuarter    3012 non-null   object \n",
      " 2   Sector         3028 non-null   object \n",
      " 3   Founders       2496 non-null   object \n",
      " 4   Investor       2383 non-null   object \n",
      " 5   Stage          2131 non-null   object \n",
      " 6   Company_Brand  3033 non-null   object \n",
      " 7   What_it_does   3033 non-null   object \n",
      " 8   Amount         3033 non-null   float64\n",
      "dtypes: float64(2), object(7)\n",
      "memory usage: 213.4+ KB\n"
     ]
    }
   ],
   "source": [
    "# Convert all amounts to USD\n",
    "df_combined['Amount'] = df_combined.apply(lambda row: convert_currency(row['Amount'], row['Currency']), axis=1)\n",
    "\n",
    "# Drop the temporary 'Currency' column\n",
    "df_combined.drop(columns=['Currency'], inplace=True)\n",
    "\n",
    "# Convert the cleaned 'Amount' column to numeric, forcing errors to NaN\n",
    "df_combined['Amount'] = pd.to_numeric(df_combined['Amount'], errors='coerce')\n",
    "\n",
    "# Check for missing values before filling\n",
    "missing_values_before = df_combined['Amount'].isnull().sum()\n",
    "print(f\"Missing values in 'Amount' column before filling: {missing_values_before}\")\n",
    "\n",
    "# Fill remaining missing values in 'Amount' column with the median value\n",
    "df_combined['Amount'].fillna(df_combined['Amount'].median(), inplace=True)\n",
    "\n",
    "# Check for missing values after filling\n",
    "missing_values_after = df_combined['Amount'].isnull().sum()\n",
    "print(f\"Missing values in 'Amount' column after filling: {missing_values_after}\")\n",
    "\n",
    "# Check the cleaned DataFrame\n",
    "df_combined.info()"
   ]
  },
  {
   "cell_type": "markdown",
   "metadata": {},
   "source": [
    "### FOUNDED COLUMN"
   ]
  },
  {
   "cell_type": "code",
   "execution_count": 28,
   "metadata": {},
   "outputs": [
    {
     "data": {
      "text/plain": [
       "array([  nan, 2014., 2004., 2013., 2010., 2018., 2019., 2017., 2011.,\n",
       "       2015., 2016., 2012., 2008., 2021., 2020., 1993., 1999., 1989.,\n",
       "       2009., 2002., 1994., 2006., 2000., 2007., 1978., 2003., 1998.,\n",
       "       1991., 1984., 2005., 1963.])"
      ]
     },
     "execution_count": 28,
     "metadata": {},
     "output_type": "execute_result"
    }
   ],
   "source": [
    "df_combined['Founded'].unique()"
   ]
  },
  {
   "cell_type": "code",
   "execution_count": 29,
   "metadata": {},
   "outputs": [
    {
     "data": {
      "text/plain": [
       "<DatetimeArray>\n",
       "[                'NaT', '2014-01-01 00:00:00', '2004-01-01 00:00:00',\n",
       " '2013-01-01 00:00:00', '2010-01-01 00:00:00', '2018-01-01 00:00:00',\n",
       " '2019-01-01 00:00:00', '2017-01-01 00:00:00', '2011-01-01 00:00:00',\n",
       " '2015-01-01 00:00:00', '2016-01-01 00:00:00', '2012-01-01 00:00:00',\n",
       " '2008-01-01 00:00:00', '2021-01-01 00:00:00', '2020-01-01 00:00:00',\n",
       " '1993-01-01 00:00:00', '1999-01-01 00:00:00', '1989-01-01 00:00:00',\n",
       " '2009-01-01 00:00:00', '2002-01-01 00:00:00', '1994-01-01 00:00:00',\n",
       " '2006-01-01 00:00:00', '2000-01-01 00:00:00', '2007-01-01 00:00:00',\n",
       " '1978-01-01 00:00:00', '2003-01-01 00:00:00', '1998-01-01 00:00:00',\n",
       " '1991-01-01 00:00:00', '1984-01-01 00:00:00', '2005-01-01 00:00:00',\n",
       " '1963-01-01 00:00:00']\n",
       "Length: 31, dtype: datetime64[ns]"
      ]
     },
     "execution_count": 29,
     "metadata": {},
     "output_type": "execute_result"
    }
   ],
   "source": [
    "# Rename the column\n",
    "df_combined.rename(columns={'Founded': 'Year'}, inplace=True)\n",
    "\n",
    "# Convert the 'Year' column to datetime format (handling NaNs appropriately)\n",
    "df_combined['Year'] = pd.to_datetime(df_combined['Year'], format='%Y', errors='coerce')\n",
    "\n",
    "# Check unique values to ensure conversion\n",
    "df_combined['Year'].unique()"
   ]
  },
  {
   "cell_type": "code",
   "execution_count": 30,
   "metadata": {},
   "outputs": [
    {
     "name": "stdout",
     "output_type": "stream",
     "text": [
      "<class 'pandas.core.frame.DataFrame'>\n",
      "RangeIndex: 3033 entries, 0 to 3032\n",
      "Data columns (total 9 columns):\n",
      " #   Column         Non-Null Count  Dtype         \n",
      "---  ------         --------------  -----         \n",
      " 0   Year           3033 non-null   datetime64[ns]\n",
      " 1   HeadQuarter    3012 non-null   object        \n",
      " 2   Sector         3028 non-null   object        \n",
      " 3   Founders       2496 non-null   object        \n",
      " 4   Investor       2383 non-null   object        \n",
      " 5   Stage          2131 non-null   object        \n",
      " 6   Company_Brand  3033 non-null   object        \n",
      " 7   What_it_does   3033 non-null   object        \n",
      " 8   Amount         3033 non-null   float64       \n",
      "dtypes: datetime64[ns](1), float64(1), object(7)\n",
      "memory usage: 213.4+ KB\n"
     ]
    }
   ],
   "source": [
    "# Handle missing values by filling with the median year\n",
    "# Calculate the median year as an integer\n",
    "median_year = int(df_combined['Year'].dropna().dt.year.median())\n",
    "\n",
    "# Fill missing values with the median year\n",
    "df_combined['Year'] = df_combined['Year'].fillna(pd.Timestamp(median_year, 1, 1))\n",
    "\n",
    "# Ensure the 'Year' column is in datetime format\n",
    "df_combined['Year'] = pd.to_datetime(df_combined['Year'], format='%Y', errors='coerce')\n",
    "\n",
    "# Check the DataFrame info to ensure proper conversion and filling\n",
    "df_combined.info()"
   ]
  },
  {
   "cell_type": "markdown",
   "metadata": {},
   "source": [
    "### HEADQUARTER"
   ]
  },
  {
   "cell_type": "code",
   "execution_count": 31,
   "metadata": {},
   "outputs": [
    {
     "data": {
      "text/plain": [
       "array([nan, 'Mumbai', 'Chennai', 'Telangana', 'Pune', 'Bangalore',\n",
       "       'Noida', 'Delhi', 'Ahmedabad', 'Gurugram', 'Haryana', 'Chandigarh',\n",
       "       'Jaipur', 'New Delhi', 'Surat', 'Uttar pradesh', 'Hyderabad',\n",
       "       'Rajasthan', 'Ahmadabad', None, 'Small Towns, Andhra Pradesh',\n",
       "       'Goa', 'Rajsamand', 'Ranchi', 'Faridabad, Haryana', 'Gujarat',\n",
       "       'Thane', 'Computer Games', 'Cochin', 'Gurgaon', 'Vadodara',\n",
       "       'Food & Beverages', 'Pharmaceuticals\\t#REF!', 'Gurugram\\t#REF!',\n",
       "       'Kolkata', 'Mohali', 'Indore', 'Powai', 'Ghaziabad', 'Nagpur',\n",
       "       'West Bengal', 'Patna', 'Samsitpur', 'Lucknow', 'Silvassa',\n",
       "       'Thiruvananthapuram', 'Faridabad', 'Roorkee', 'Ambernath',\n",
       "       'Panchkula', 'Coimbatore', 'Andheri', 'Mangalore', 'Telugana',\n",
       "       'Bhubaneswar', 'Kottayam', 'Beijing', 'Panaji', 'Satara',\n",
       "       'Orissia', 'Jodhpur', 'New York', 'Santra', 'Mountain View, CA',\n",
       "       'Trivandrum', 'Jharkhand', 'Kanpur', 'Bhilwara', 'Guwahati',\n",
       "       'Online Media\\t#REF!', 'Kochi', 'London',\n",
       "       'Information Technology & Services', 'The Nilgiris', 'Gandhinagar',\n",
       "       'Bangalore, Karnataka, India', 'Mumbai, Maharashtra, India',\n",
       "       'Gurgaon, Haryana, India', 'Noida, Uttar Pradesh, India',\n",
       "       'Hyderabad, Andhra Pradesh, India', 'Bengaluru, Karnataka, India',\n",
       "       'Kalkaji, Delhi, India', 'Delhi, Delhi, India', 'India, Asia',\n",
       "       'Hubli, Karnataka, India', 'New Delhi, Delhi, India',\n",
       "       'Chennai, Tamil Nadu, India', 'Mohali, Punjab, India',\n",
       "       'Kolkata, West Bengal, India', 'Pune, Maharashtra, India',\n",
       "       'Jodhpur, Rajasthan, India', 'Kanpur, Uttar Pradesh, India',\n",
       "       'Ahmedabad, Gujarat, India', 'Azadpur, Delhi, India',\n",
       "       'Haryana, Haryana, India', 'Cochin, Kerala, India',\n",
       "       'Faridabad, Haryana, India', 'Jaipur, Rajasthan, India',\n",
       "       'Kota, Rajasthan, India', 'Anand, Gujarat, India',\n",
       "       'Bangalore City, Karnataka, India', 'Belgaum, Karnataka, India',\n",
       "       'Thane, Maharashtra, India', 'Margão, Goa, India',\n",
       "       'Indore, Madhya Pradesh, India', 'Alwar, Rajasthan, India',\n",
       "       'Kannur, Kerala, India', 'Trivandrum, Kerala, India',\n",
       "       'Ernakulam, Kerala, India', 'Kormangala, Karnataka, India',\n",
       "       'Uttar Pradesh, India, Asia', 'Andheri, Maharashtra, India',\n",
       "       'Mylapore, Tamil Nadu, India', 'Ghaziabad, Uttar Pradesh, India',\n",
       "       'Kochi, Kerala, India', 'Powai, Assam, India',\n",
       "       'Guntur, Andhra Pradesh, India', 'Kalpakkam, Tamil Nadu, India',\n",
       "       'Bhopal, Madhya Pradesh, India', 'Coimbatore, Tamil Nadu, India',\n",
       "       'Worli, Maharashtra, India', 'Alleppey, Kerala, India',\n",
       "       'Chandigarh, Chandigarh, India', 'Guindy, Tamil Nadu, India',\n",
       "       'Lucknow, Uttar Pradesh, India'], dtype=object)"
      ]
     },
     "execution_count": 31,
     "metadata": {},
     "output_type": "execute_result"
    }
   ],
   "source": [
    "df_combined['HeadQuarter'].unique()"
   ]
  },
  {
   "cell_type": "code",
   "execution_count": 32,
   "metadata": {},
   "outputs": [],
   "source": [
    "# Step 1: Replace anomalies like '\\t#REF!' and other known errors\n",
    "df_combined['HeadQuarter'] = df_combined['HeadQuarter'].replace({\n",
    "    '\\t#REF!': '',\n",
    "    'Pharmaceuticals\\t#REF!': 'Pharmaceuticals',\n",
    "    'Gurugram\\t#REF!': 'Gurugram',\n",
    "    'Telugana': 'Telangana',\n",
    "    'Orissia': 'Odisha',\n",
    "    'Small Towns, Andhra Pradesh': 'Andhra Pradesh',\n",
    "    'Bangalore': 'Bengaluru',\n",
    "    'Gurgaon': 'Gurugram',\n",
    "    'Pune, Maharashtra, India': 'Pune',\n",
    "    'Hyderabad, Andhra Pradesh, India': 'Hyderabad',\n",
    "    'Bangalore, Karnataka, India': 'Bengaluru',\n",
    "    'Mumbai, Maharashtra, India': 'Mumbai',\n",
    "    'Noida, Uttar Pradesh, India': 'Noida',\n",
    "    'Chennai, Tamil Nadu, India': 'Chennai',\n",
    "    'New Delhi, Delhi, India': 'New Delhi',\n",
    "    'Delhi, Delhi, India': 'Delhi',\n",
    "    'Haryana, Haryana, India': 'Haryana', \n",
    "    'Cochin, Kerala, India': 'Cochin',\n",
    "    'Jaipur, Rajasthan, India': 'Jaipur',\n",
    "    'Kolkata, West Bengal, India': 'Kolkata',\n",
    "    'Powai, Assam, India': 'Powai',\n",
    "    'Ghaziabad, Uttar Pradesh, India': 'Ghaziabad',\n",
    "    'Mylapore, Tamil Nadu, India': 'Mylapore',\n",
    "    'Lucknow, Uttar Pradesh, India': 'Lucknow',\n",
    "})"
   ]
  },
  {
   "cell_type": "code",
   "execution_count": 33,
   "metadata": {},
   "outputs": [],
   "source": [
    "# Step 2: Remove anomalies and whitespace\n",
    "df_combined['HeadQuarter'] = df_combined['HeadQuarter'].str.replace(r'\\t#REF!', '', regex=True).str.strip()\n",
    "\n",
    "# Step 3: Standardize city and state/country names\n",
    "# Create a mapping dictionary for standardizing names\n",
    "standard_city_names = {\n",
    "    'Mumbai': 'Mumbai',\n",
    "    'Bengaluru': 'Bengaluru',\n",
    "    'Hyderabad': 'Hyderabad',\n",
    "    'Chennai': 'Chennai',\n",
    "    'Pune': 'Pune',\n",
    "    'Noida': 'Noida',\n",
    "    'New Delhi': 'New Delhi',\n",
    "    'Delhi': 'Delhi',\n",
    "    'Gurugram': 'Gurugram',\n",
    "    'Gurgaon': 'Gurugram',\n",
    "    'Kolkata': 'Kolkata',\n",
    "    'Rajasthan': 'Rajasthan',  \n",
    "    'Odisha': 'Odisha',  \n",
    "    'Goa': 'Goa',  \n",
    "    'Gujarat': 'Gujarat',  \n",
    "    'West Bengal': 'West Bengal',  \n",
    "    'Jharkhand': 'Jharkhand',  \n",
    "    'Uttar Pradesh': 'Uttar Pradesh',  \n",
    "    'Haryana': 'Haryana',  \n",
    "    'Madhya Pradesh': 'Madhya Pradesh',  \n",
    "    'Kerala': 'Kerala',  \n",
    "    'Punjab': 'Punjab',  \n",
    "    'Andhra Pradesh': 'Andhra Pradesh'\n",
    "}"
   ]
  },
  {
   "cell_type": "code",
   "execution_count": 34,
   "metadata": {},
   "outputs": [],
   "source": [
    "# Step 2: Remove anomalies and whitespace\n",
    "df_combined['HeadQuarter'] = df_combined['HeadQuarter'].str.replace(r'\\t#REF!', '', regex=True).str.strip()\n",
    "\n",
    "# Step 3: Standardize city and state/country names\n",
    "# Create a mapping dictionary for standardizing names\n",
    "standard_city_names = {\n",
    "    'Mumbai': 'Mumbai',\n",
    "    'Bengaluru': 'Bengaluru',\n",
    "    'Hyderabad': 'Hyderabad',\n",
    "    'Chennai': 'Chennai',\n",
    "    'Pune': 'Pune',\n",
    "    'Noida': 'Noida',\n",
    "    'New Delhi': 'New Delhi',\n",
    "    'Delhi': 'Delhi',\n",
    "    'Gurugram': 'Gurugram',\n",
    "    'Gurgaon': 'Gurugram',\n",
    "    'Kolkata': 'Kolkata',\n",
    "    'Rajasthan': 'Rajasthan',  \n",
    "    'Odisha': 'Odisha',  \n",
    "    'Goa': 'Goa',  \n",
    "    'Gujarat': 'Gujarat',  \n",
    "    'West Bengal': 'West Bengal',  \n",
    "    'Jharkhand': 'Jharkhand',  \n",
    "    'Uttar Pradesh': 'Uttar Pradesh',  \n",
    "    'Haryana': 'Haryana',  \n",
    "    'Madhya Pradesh': 'Madhya Pradesh',  \n",
    "    'Kerala': 'Kerala',  \n",
    "    'Punjab': 'Punjab',  \n",
    "    'Andhra Pradesh': 'Andhra Pradesh'\n",
    "}"
   ]
  },
  {
   "cell_type": "markdown",
   "metadata": {},
   "source": [
    "### SECTOR COLUMN"
   ]
  },
  {
   "cell_type": "code",
   "execution_count": 35,
   "metadata": {},
   "outputs": [
    {
     "data": {
      "text/plain": [
       "array(['Ecommerce', 'Edtech', 'Interior design', 'AgriTech', 'Technology',\n",
       "       'SaaS', 'AI & Tech', 'E-commerce', 'E-commerce & AR', 'Fintech',\n",
       "       'HR tech', 'Food tech', 'Health', 'Healthcare', 'Safety tech',\n",
       "       'Pharmaceutical', 'Insurance technology', 'AI', 'Foodtech', 'Food',\n",
       "       'IoT', 'E-marketplace', 'Robotics & AI', 'Logistics', 'Travel',\n",
       "       'Manufacturing', 'Food & Nutrition', 'Social Media', nan,\n",
       "       'E-Sports', 'Cosmetics', 'B2B', 'Jewellery', 'B2B Supply Chain',\n",
       "       'Games', 'Food & tech', 'Accomodation', 'Automotive tech',\n",
       "       'Legal tech', 'Mutual Funds', 'Cybersecurity', 'Automobile',\n",
       "       'Sports', 'Healthtech', 'Yoga & wellness', 'Virtual Banking',\n",
       "       'Transportation', 'Transport & Rentals',\n",
       "       'Marketing & Customer loyalty', 'Infratech', 'Hospitality',\n",
       "       'Automobile & Technology', 'Banking', 'AI startup', 'EdTech',\n",
       "       'B2B E-commerce', 'FinTech', 'Home services', 'HealthTech',\n",
       "       'Tech Startup', 'B2B service', 'Helathcare', 'Renewable Energy',\n",
       "       'Electronics', 'IT startup', 'Food & Beverages', 'Aeorspace',\n",
       "       'Deep Tech', 'Dating', 'Gaming', 'Robotics', 'Retail',\n",
       "       'Oil and Energy', 'Telecommuncation', 'Milk startup', 'AI Chatbot',\n",
       "       'IT', 'Fashion', 'Marketing', 'LegalTech', 'Food delivery',\n",
       "       'Automotive', 'SaaS startup', 'Fantasy sports',\n",
       "       'Video communication', 'Skill development', 'Rental',\n",
       "       'Recruitment', 'HealthCare', 'Computer Games', 'Consumer Goods',\n",
       "       'Information Technology', 'Apparel & Fashion',\n",
       "       'Logistics & Supply Chain', 'SportsTech', 'HRTech',\n",
       "       'Wine & Spirits', 'Mechanical & Industrial Engineering',\n",
       "       'Spiritual', 'Financial Services', 'Industrial Automation',\n",
       "       'Lifestyle', 'Computer software', 'Tech startup',\n",
       "       'Digital mortgage', 'Information Technology & Services',\n",
       "       'Furniture', 'B2B marketplace', 'Healtcare', 'Location Analytics',\n",
       "       'Media', 'Consumer Electronics', 'Tobacco', 'Deeptech',\n",
       "       'Insuretech', 'MLOps platform', 'Venture Capital', 'Pet care',\n",
       "       'Drone', 'Wholesale', 'Construction', 'E-learning',\n",
       "       'Consumer Services', 'Venture Capital & Private Equity',\n",
       "       'Health, Wellness & Fitness', 'OTT', 'Education Management',\n",
       "       'Computer Software', 'Insurance', 'Software Startup',\n",
       "       'Computer & Network Security', 'Capital Markets', 'Social network',\n",
       "       'Hospital & Health Care', 'Music', 'Hauz Khas',\n",
       "       'Primary Business is Development and Manufacturing of Novel Healthcare Products in Effervescent forms using imported propriety ingredients.',\n",
       "       \"MoEVing is India's only Electric Mobility focused Technology Platform with a vision to accelerate EV adoption in India.\",\n",
       "       'Mobility', 'Social media', 'Real Estate', 'Digital platform',\n",
       "       'B2B Ecommerce', 'Online Media', 'Social commerce', 'Mobile Games',\n",
       "       'Food Production', 'Podcast', 'HeathTech', 'Battery',\n",
       "       'Content publishing', 'Water purification', 'Content commerce',\n",
       "       'Innovation Management', 'Software company', 'Automation',\n",
       "       'Food Industry', 'Celebrity Engagement', 'Trading platform',\n",
       "       'Personal Care', 'Cannabis startup', 'Blogging', 'Consulting',\n",
       "       'BioTechnology', 'B2B Marketplace', 'Health care', 'Social audio',\n",
       "       'Fashion and lifestyle', 'Delivery service', 'B2B Manufacturing',\n",
       "       'Home Decor', 'Solar', 'TaaS startup', 'EV startup', 'HR Tech',\n",
       "       'Blockchain startup', 'Food and Beverages', 'Beverages',\n",
       "       'Manufacturing startup', 'Cryptocurrency',\n",
       "       'Vehicle repair startup', 'Advisory firm', 'Legaltech',\n",
       "       'Pollution control equiptment', 'Fashion & Lifestyle',\n",
       "       'Blockchain', 'Fitness', 'D2C', 'Environmental Services',\n",
       "       'Merchandise', 'Facilities Services', 'Marketing & Advertising',\n",
       "       'Human Resources', 'Eyewear', 'D2C Business', 'Biotechnology',\n",
       "       'Farming', 'NFT Marketplace', 'Internet', 'SpaceTech',\n",
       "       'Consumer software', 'Social community', 'Fishery',\n",
       "       'Renewables & Environment', 'Online storytelling', 'Aviation',\n",
       "       'IT company', 'Environmental service', 'Job discovery platform',\n",
       "       'D2C Fashion', 'Heathcare', 'CRM', 'Software', 'Nutrition',\n",
       "       'D2C startup', 'Innovation management', 'Community platform',\n",
       "       'Venture capitalist', 'Networking', 'Commercial Real Estate',\n",
       "       'AR startup', 'Consumer service', 'Consumer goods', 'MarTech',\n",
       "       'Advertisement', 'Content creation', 'Augmented reality',\n",
       "       'Rental space', 'Bike Rental', 'Beauty products', 'Tourism',\n",
       "       'FemTech', 'Cultural', 'Co-working', 'InsureTech',\n",
       "       'Supply chain platform', 'Social platform', 'CleanTech',\n",
       "       'Real estate', 'AI company', 'Sports startup', 'Matrimony',\n",
       "       'Crypto', 'Clothing', 'Analytics', 'Finance', 'IoT platform',\n",
       "       'Commerce', 'Defense & Space', 'Entertainment',\n",
       "       'Business Supplies & Equipment', 'NFT', 'Oil & Energy', 'EV',\n",
       "       'Company-as-a-Service', 'Textiles',\n",
       "       'Professional Training & Coaching', 'Maritime',\n",
       "       'Housing Marketplace', 'Furniture Rental', 'Telecommunications',\n",
       "       'Equity Management', 'Cloud kitchen', 'Nanotechnology',\n",
       "       'Community', 'Higher Education',\n",
       "       'Mechanical Or Industrial Engineering', 'D2C jewellery',\n",
       "       'Sales and Distribution', 'Information Services',\n",
       "       'Translation & Localization', 'Investment Banking', 'Femtech',\n",
       "       'sports', 'Foootwear', 'Legal Services', 'Veterinary',\n",
       "       'Arts & Crafts', 'Investment Management', 'Education',\n",
       "       'Management Consulting', 'B2B startup',\n",
       "       'Sochcast is an Audio experiences company that give the listener and creators an Immersive Audio experience',\n",
       "       'Design', 'B2B Travel', 'Interior Design',\n",
       "       'Manchester, Greater Manchester', 'Product studio',\n",
       "       'Aviation & Aerospace', 'Staffing & Recruiting',\n",
       "       'Brand Marketing, Event Promotion, Marketing, Sponsorship, Ticketing',\n",
       "       'Agriculture, Farming',\n",
       "       'Credit, Financial Services, Lending, Marketplace',\n",
       "       'Financial Services, FinTech',\n",
       "       'E-Commerce Platforms, Retail, SaaS',\n",
       "       'Cloud Infrastructure, PaaS, SaaS',\n",
       "       'Internet, Leisure, Marketplace', 'Market Research',\n",
       "       'Information Services, Information Technology', 'Mobile Payments',\n",
       "       'B2B, Shoes',\n",
       "       'Apps, Collaboration, Developer Platform, Enterprise Software, Messaging, Productivity Tools, Video Chat',\n",
       "       'Food Delivery', 'Automotive, Search Engine, Service Industry',\n",
       "       'Finance, Internet, Travel',\n",
       "       'Accounting, Business Information Systems, Business Travel, Finance, SaaS',\n",
       "       'Artificial Intelligence, Product Search, SaaS, Service Industry, Software',\n",
       "       'Internet of Things, Waste Management',\n",
       "       'Air Transportation, Freight Service, Logistics, Marine Transportation',\n",
       "       'Food and Beverage', 'Autonomous Vehicles',\n",
       "       'Enterprise Software, Health Care, Hospital, Parenting, Personal Health, SaaS',\n",
       "       'Agriculture, Analytics, Big Data, Farming',\n",
       "       'Logistics, Supply Chain Management',\n",
       "       'Financial Services, Lending',\n",
       "       'Automotive, Marketplace, Online Portals',\n",
       "       'Artificial Intelligence',\n",
       "       'Internet of Things, Telecommunications',\n",
       "       'Information Technology, Logistics, Supply Chain Management',\n",
       "       'Blockchain, Developer Tools, Enterprise Software',\n",
       "       'Industrial Automation, Logistics, Supply Chain Management',\n",
       "       'Food and Beverage, Food Delivery, Snack Food',\n",
       "       'E-Commerce, Fashion, Jewelry, Retail', 'E-Learning, Education',\n",
       "       'Clean Energy, CleanTech, Laundry and Dry-cleaning',\n",
       "       'E-Commerce, Fashion, Mobile',\n",
       "       'Apps, Messaging, Navigation, Public Safety',\n",
       "       'Fitness, Health Care, Wellness',\n",
       "       'Artificial Intelligence, Machine Learning, SaaS, Virtual Assistant',\n",
       "       'Food and Beverage, Tea',\n",
       "       'Media and Entertainment, News, Outdoors',\n",
       "       'Broadcasting, Media and Entertainment, Music, Music Streaming, Video, Video Streaming',\n",
       "       'B2B, Information Services, Information Technology',\n",
       "       'EdTech, Education, Enterprise Software, Peer to Peer',\n",
       "       'Health Care, Medical', 'E-Commerce',\n",
       "       'Health Care, Hospital, Wellness', '—',\n",
       "       'Big Data, Consumer Lending, FinTech',\n",
       "       'Cloud Computing, Computer, Semiconductor',\n",
       "       'Health Care, Medical, Pharmaceutical', 'Food Processing, Retail',\n",
       "       'Trading Platform', \"Consumer Goods, Lifestyle, Men's\", 'Wellness',\n",
       "       'Food and Beverage, Food Processing, Nutrition',\n",
       "       'Automotive, Electric Vehicle, Energy Storage',\n",
       "       'Consulting, Retail, Social',\n",
       "       'Biotechnology, Life Science, Pharmaceutical, Product Research',\n",
       "       'Health Care',\n",
       "       'Credit, Financial Services, FinTech, Personal Finance',\n",
       "       'Communities, Coworking, Incubators',\n",
       "       'Consumer, Financial Services, FinTech',\n",
       "       'Consumer Applications, Information Services, Location Based Services, Virtual Assistant',\n",
       "       'Mobile, Mobile Apps, Personalization, Test and Measurement, Web Apps',\n",
       "       'Education, Financial Services, FinTech',\n",
       "       'Advertising, Consulting, Digital Marketing',\n",
       "       'Marketplace, Real Estate, Rental Property',\n",
       "       'E-Learning, Internet, Video Games',\n",
       "       'Artificial Intelligence, Cloud Computing, Video',\n",
       "       'Health Care, Information Technology', 'Aerospace',\n",
       "       'E-Commerce, Fashion, Lifestyle',\n",
       "       'Artificial Intelligence, Business Intelligence, Industrial Automation, Machine Learning',\n",
       "       'Home Decor, Home Improvement, Home Renovation, Home Services, Interior Design, Smart Home',\n",
       "       'EdTech, Education, Information Services, SaaS', 'Energy, Solar',\n",
       "       'B2B, Biometrics, Cyber Security, Fraud Detection, SaaS, Security',\n",
       "       'Artificial Intelligence, Social',\n",
       "       'Logistics, Transportation, Travel',\n",
       "       'Digital Marketing, SEM, SEO, Web Development',\n",
       "       'Health Care, Hospital, Medical', 'Finance, Financial Services',\n",
       "       'Food Delivery, Food Processing, Internet',\n",
       "       'E-Commerce, Food and Beverage, Internet',\n",
       "       'Fitness, Food and Beverage, Health Care, Nutrition',\n",
       "       'EdTech, Education, Knowledge Management',\n",
       "       'Apps, Beauty, Consumer, Retail',\n",
       "       'Creative Agency, Crowdfunding, EdTech, Health Care, Internet, Medical, Non Profit, Personal Health',\n",
       "       'Consumer Lending, Financial Services, FinTech, Insurance, Lending, Mobile Payments, Payments, Wealth Management',\n",
       "       'E-Learning, Education, Higher Education', 'Health Diagnostics',\n",
       "       'EdTech, Education', 'Financial Services, SaaS, Security',\n",
       "       'Banking, Finance, Financial Services, Non Profit',\n",
       "       'B2B, E-Commerce, Mobile',\n",
       "       'Automotive, Electric Vehicle, Renewable Energy', 'E-Learning',\n",
       "       'Embedded Systems, Health Care, Medical, Product Research',\n",
       "       'Apps, E-Commerce, Internet',\n",
       "       'Advertising, Human Resources, Marketing',\n",
       "       'Beauty, Fitness, Home Services, Internet',\n",
       "       'Health Care, Medical Device, Public Safety',\n",
       "       'Food Delivery, Online Portals, Restaurants',\n",
       "       'AgTech, B2B, Supply Chain Management',\n",
       "       'Credit Cards, Finance, Mobile Apps, Mobile Payments, Payments',\n",
       "       'EdTech, Education, Higher Education, Secondary Education',\n",
       "       'Manufacturing, Retail',\n",
       "       'Information Services, Information Technology, InsurTech',\n",
       "       'Consumer Lending, FinTech', 'Internet, Social Network, TV',\n",
       "       'Beauty, Health Care', 'Hospital', 'Events',\n",
       "       '3D Printing, Manufacturing, Product Design', 'Automotive, Retail',\n",
       "       'Apps, Audio', 'Automotive, E-Commerce',\n",
       "       'Digital Entertainment, Fantasy Sports, Sports',\n",
       "       'E-Learning, EdTech, Education',\n",
       "       'Funding Platform, Incubators, Non Profit',\n",
       "       'Hospitality, Hotel, Leisure, Travel',\n",
       "       'Classifieds, Internet, Marketplace, Rental Property',\n",
       "       'Banking, E-Learning, Trading Platform',\n",
       "       'E-Commerce, Mobile, Retail',\n",
       "       'Artificial Intelligence, Information Technology',\n",
       "       'Enterprise Resource Planning (ERP), Information Services, Information Technology, Real Estate',\n",
       "       'Banking, Finance, Financial Services',\n",
       "       'Audio, Mobile, Tourism, Travel',\n",
       "       'Energy, Energy Storage, Infrastructure',\n",
       "       'Government, Information Technology, Software',\n",
       "       'Education, Information Technology, Internet, Mobile, Software',\n",
       "       'Consumer Lending, Financial Services, Lending, Personal Finance',\n",
       "       'Digital Media, Internet, Media and Entertainment, Online Portals, Social Media',\n",
       "       'Business Intelligence, Customer Service, Market Research, SaaS',\n",
       "       'Credit, Financial Services, FinTech, Lending',\n",
       "       'Children, Education, Parenting',\n",
       "       'Automotive, Battery, Energy, Energy Storage',\n",
       "       'E-Commerce, Mobile, Sharing Economy',\n",
       "       'Food Delivery, Organic, Organic Food', 'Mobile', 'Consumer',\n",
       "       'B2B, Farming, Marketplace', 'Wealth Management',\n",
       "       'Education, Gaming, Training',\n",
       "       'Internet, Mobile, Social Entrepreneurship, Telecommunications, Wireless',\n",
       "       'Health Care, Hospital, Supply Chain Management',\n",
       "       'Tourism, Travel', 'Hospitality, Real Estate',\n",
       "       'Digital Media, EBooks, Publishing, Reading Apps',\n",
       "       'Consumer Electronics, Embedded Systems, Hardware, Smart Building, Software',\n",
       "       'Food and Beverage, Food Processing',\n",
       "       'Internet, Marketplace, Shopping',\n",
       "       'Analytics, Computer Vision, Enterprise Software, Machine Learning, Natural Language Processing, Speech Recognition',\n",
       "       'Facilities Support Services',\n",
       "       'Automotive, Electric Vehicle, Energy',\n",
       "       'Health Care, Health Diagnostics, Predictive Analytics',\n",
       "       'Cloud Computing, Computer, SaaS, Software',\n",
       "       'Fashion, Lifestyle, Retail', 'Medical', 'Music Streaming',\n",
       "       'Finance, Impact Investing, Internet',\n",
       "       'Internet, Social Entrepreneurship',\n",
       "       'Finance, Impact Investing, Mobile Apps',\n",
       "       'Cloud Computing, Computer, Software',\n",
       "       'Business Development, Market Research, Outsourcing',\n",
       "       'Health Care, Hospitality', 'Internet, Social News, Sports',\n",
       "       'Finance, Financial Services, FinTech',\n",
       "       'Customer Service, Software, Video, Video Streaming',\n",
       "       'E-Commerce, Food Processing', 'Training',\n",
       "       'Dietary Supplements, Food and Beverage, Health Care, Organic Food, Snack Food',\n",
       "       'Manufacturing, Oil and Gas, Robotics',\n",
       "       'Artificial Intelligence, Computer, Machine Learning',\n",
       "       'Collaboration, Communities, Coworking, Sharing Economy',\n",
       "       'Big Data, EdTech, Machine Learning',\n",
       "       'Analytics, Audio, Digital Media, Innovation Management, Internet Radio, Media and Entertainment',\n",
       "       'Financial Services, Lending, Peer to Peer',\n",
       "       'E-Commerce, Furniture, Home Decor, Interior Design, Internet',\n",
       "       'Digital Media', 'File Sharing, Personalization, Social Media',\n",
       "       'Home Decor, Interior Design',\n",
       "       'Health Care, Medical Device, Mobile Apps',\n",
       "       'E-Commerce, Facilities Support Services, Procurement, Supply Chain Management',\n",
       "       'Crowdfunding, Finance, Financial Services',\n",
       "       'Finance, Financial Services, Insurance',\n",
       "       'Children, Education, Online Portals', 'Software, Virtual Reality',\n",
       "       'B2B, Food and Beverage, Food Delivery',\n",
       "       'Catering, Food and Beverage, Food Delivery, Food Processing',\n",
       "       'Food and Beverage, Snack Food', 'Automotive, E-Commerce, Mobile',\n",
       "       'Computer, Digital Marketing, Facilities Support Services, Graphic Design, Internet, Mobile Apps, Social Media Marketing, Web Development',\n",
       "       'Android, Big Data, Blockchain, Cloud Computing, EdTech, Education, Information Technology, iOS, Training, Web Development',\n",
       "       'Analytics, CRM, Loyalty Programs, Machine Learning, Marketing Automation, Retail Technology, SaaS, Small and Medium Businesses',\n",
       "       'Delivery, Information Technology, Mobile Apps',\n",
       "       'Environmental Consulting, Renewable Energy',\n",
       "       'Big Data, Business Intelligence, Financial Services, FinTech, Personal Finance',\n",
       "       'Commercial Real Estate, Coworking, Office Administration, Real Estate',\n",
       "       'Food and Beverage, Food Processing, Organic Food, Snack Food',\n",
       "       'Apps, Health Care, Internet, Mobile Apps, Personal Health',\n",
       "       'Digital Media, Incubators, Social Entrepreneurship',\n",
       "       'Finance, Financial Services, Marketing',\n",
       "       'Biotechnology, Health Care, Life Science, Medical Device',\n",
       "       'Education, Human Resources',\n",
       "       'Apps, Health Care, Hospital, Mobile Apps',\n",
       "       'Delivery Service, Logistics, Service Industry',\n",
       "       'Big Data, Data Visualization, Logistics, Software',\n",
       "       'Basketball, Cricket, Cycling, eSports, Fitness, Golf, Health Care, Hockey, Sports, Swimming, Table Tennis, Volley Ball',\n",
       "       'Media and Entertainment, News, Publishing',\n",
       "       'Big Data, Financial Services, Machine Learning, Predictive Analytics',\n",
       "       'Agriculture, AgTech, Manufacturing',\n",
       "       'Digital Media, News, Publishing', 'Health Care, Hospital',\n",
       "       'B2B, E-Commerce, Enterprise',\n",
       "       'Fraud Detection, Information Services, Security',\n",
       "       'Agriculture, AgTech, Artificial Intelligence, Internet of Things, Machine Learning',\n",
       "       'Cryptocurrency, Trading Platform',\n",
       "       'Finance, FinTech, Mobile Payments', 'Wedding',\n",
       "       'E-Learning, EdTech, Education, Image Recognition, Machine Learning, STEM Education',\n",
       "       'Digital Entertainment',\n",
       "       'Crowdsourcing, Financial Services, Funding Platform, Venture Capital',\n",
       "       'Delivery, Drones, Geospatial, Robotics',\n",
       "       'Health Care, Information Technology, Management Information Systems',\n",
       "       'Business Travel, Hospitality, Hotel, Marketplace, Tourism, Travel Accommodations',\n",
       "       'Career Planning, Education, Higher Education, Service Industry',\n",
       "       'Medical Device', 'Alternative Medicine, Health Care',\n",
       "       'Internet, Software',\n",
       "       'Dental, Elder Care, Health Care, Home Health Care, Personal Health',\n",
       "       'Financial Services, Insurance, Private Social Networking',\n",
       "       'Consumer Electronics, E-Commerce, E-Commerce Platforms, Electronics, Shipping, Shopping',\n",
       "       'Advertising, Internet, Marketing',\n",
       "       'Human Resources, Security, Training',\n",
       "       'Consumer Lending, Finance, FinTech',\n",
       "       'Marketing, Social Media, Video', 'Food Processing', 'Apps',\n",
       "       'Apps, B2B, Freight Service, Logistics, SaaS, Shipping, Supply Chain Management, Transportation',\n",
       "       'Digital Entertainment, Fantasy Sports, Gaming, Sports',\n",
       "       'Automotive, Last Mile Transportation, Peer to Peer, Ride Sharing',\n",
       "       'Commercial, E-Learning, Education',\n",
       "       'Continuing Education, EdTech, Education, Skill Assessment',\n",
       "       'Smart Cities, Telecommunications', 'Internet of Things, Robotics',\n",
       "       'Apps, Home Services, Information Services, Information Technology',\n",
       "       'Medical, Tourism', 'Career Planning, Education, Internet',\n",
       "       'Fashion, Graphic Design, Wearables',\n",
       "       'Communities, Leisure, Mobile Apps, Software',\n",
       "       'Automotive, Rental, Sharing Economy',\n",
       "       'Energy, Environmental Consulting, Renewable Energy, Solar',\n",
       "       'Information Technology, SaaS, Security',\n",
       "       'Crowdfunding, Financial Services, Internet',\n",
       "       'Customer Service, Information Technology, Internet, Sales Automation',\n",
       "       'Advertising, Artificial Intelligence, Digital Media, iOS, Location Based Services, News, Video, Video on Demand, Video Streaming',\n",
       "       'Credit Cards, Payments, Property Insurance, Property Management, Rental Property',\n",
       "       'Beauty, Cosmetics, Health Care, Service Industry',\n",
       "       'EdTech, Education, Mobile, Tutoring', 'Social Media, Sports',\n",
       "       'Biopharma', 'E-Commerce, E-Commerce Platforms, Retail',\n",
       "       'E-Commerce, Fashion, Shopping',\n",
       "       'Digital Entertainment, Mobile, PC Games',\n",
       "       'Finance, Financial Services, Small and Medium Businesses',\n",
       "       'Artificial Intelligence, Energy, Oil and Gas',\n",
       "       'Computer, FinTech, Risk Management, Software',\n",
       "       'Apps, Financial Services, FinTech',\n",
       "       \"Child Care, Health Care, Hospital, Medical, Women's\",\n",
       "       'Agriculture, Mobile',\n",
       "       'Finance, FinTech, Payments, Property Development, Rental',\n",
       "       'Information Services, Information Technology, Mobile, Software',\n",
       "       'Apps, Fitness, Health Care, mHealth',\n",
       "       'Food and Beverage, Food Delivery', 'Apps, Payments, Retail',\n",
       "       'Health Insurance, Insurance, Life Insurance',\n",
       "       'Rental, Taxi Service, Travel',\n",
       "       'E-Commerce, E-Commerce Platforms, Internet, Retail',\n",
       "       'Financial Services, Professional Services',\n",
       "       'Customer Service, Messaging, Mobile Apps, Personalization',\n",
       "       'Gaming, iOS, Sports',\n",
       "       'E-Commerce, E-Commerce Platforms, Internet, Mobile Apps, Social Media',\n",
       "       'Search Engine',\n",
       "       'Battery, Electric Vehicle, Energy, Renewable Energy, Transportation',\n",
       "       'Agriculture, Farmers Market, Farming',\n",
       "       'Artificial Intelligence, Drones, Navigation, Packaging Services, Robotics',\n",
       "       'Fitness, GreenTech, Internet of Things, Mobile Apps, Ride Sharing, Transportation',\n",
       "       'Mobile, Software, Travel',\n",
       "       'Consulting, Cyber Security, Network Security',\n",
       "       'eSports, Gaming, Video Games', 'Fashion, Jewelry',\n",
       "       'B2B, Medical Device', 'Consumer Goods, Manufacturing',\n",
       "       'Biotechnology, Health Care, Wellness',\n",
       "       'Health Care, Hospital, Medical, Robotics',\n",
       "       'E-Commerce, Fitness, Health Care',\n",
       "       'Financial Services, Venture Capital', 'Accounting, Apps, FinTech',\n",
       "       'Apps, Mobile, Transportation', 'Reading Apps',\n",
       "       'Energy, Renewable Energy, Solar',\n",
       "       'Banking, Financial Services, FinTech', 'Apps, Education, Retail',\n",
       "       'Electric Vehicle',\n",
       "       'Automotive, Battery, Electric Vehicle, Manufacturing, Mechanical Design',\n",
       "       'Automotive, E-Commerce, Marketplace', 'Agriculture',\n",
       "       'Apps, Information Services, Information Technology',\n",
       "       'B2B, Marketplace', 'Packaging Services',\n",
       "       'Computer, Furniture, Software',\n",
       "       'Food Delivery, Hospitality, Reservations, Restaurants, Search Engine',\n",
       "       'Collaboration, Communities, Coworking, Real Estate',\n",
       "       'Accounting, Banking, Finance',\n",
       "       'Cloud Computing, Enterprise Software, Network Hardware, Network Security, SaaS',\n",
       "       'Information Services, Internet, Logistics, Supply Chain Management, Transportation',\n",
       "       'Automotive, E-Commerce, Information Services',\n",
       "       'Delivery, Logistics, Transportation',\n",
       "       'Automotive, E-Commerce Platforms, Marketplace',\n",
       "       'Last Mile Transportation, Railroad, Transportation, Travel',\n",
       "       'Cooking, E-Commerce, Food and Beverage, Food Delivery, Online Portals',\n",
       "       'FinTech, Mobile, Mobile Payments, Payments, Retail Technology',\n",
       "       'Online Games, Software',\n",
       "       'Online Portals, Property Management, Rental',\n",
       "       'E-Commerce, Food and Beverage, Tea',\n",
       "       'Music, Social Network, Video',\n",
       "       'Health Care, Pharmaceutical, Wellness',\n",
       "       'Delivery Service, Food and Beverage, Food Delivery',\n",
       "       'Hospitality, Information Technology, Travel Accommodations',\n",
       "       'Biotechnology, Diabetes, Health Care',\n",
       "       'Autonomous Vehicles, Last Mile Transportation, Recreational Vehicles, Rental',\n",
       "       'Finance, Financial Exchanges, Financial Services, Micro Lending',\n",
       "       'Analytics, Apps, Market Research',\n",
       "       'E-Commerce, E-Commerce Platforms, Furniture, Home Decor, Internet',\n",
       "       'Apps, Mobile, Mobile Apps, Software',\n",
       "       'News, Publishing, Social Media',\n",
       "       'Industrial, Industrial Automation',\n",
       "       'Internet, Mobile Apps, Social Network',\n",
       "       'Health Care, Health Diagnostics, Internet of Things, Life Science, Machine Learning, Medical, Medical Device',\n",
       "       'E-Commerce, Furniture, Interior Design', 'Apps, Events, News',\n",
       "       'Artificial Intelligence, Human Resources, Information Services, Information Technology',\n",
       "       'Logistics, Railroad, Transportation',\n",
       "       'Dating, Private Social Networking',\n",
       "       'Artificial Intelligence, Machine Learning, PaaS',\n",
       "       'Consumer, Furniture, Home Decor, Home Improvement',\n",
       "       'Apps, E-Commerce, Internet, Mobile, Ride Sharing, Transportation',\n",
       "       'Health Care, Health Insurance', 'Energy, Natural Resources',\n",
       "       'E-Commerce, Education, Health Care',\n",
       "       'Apps, Health Care, Pharmaceutical',\n",
       "       'Internet, Knowledge Management',\n",
       "       'Credit, Finance, FinTech, Lending, Sales Automation',\n",
       "       'Banking, Financial Services, Internet',\n",
       "       'E-Commerce, Health Care, Retail',\n",
       "       'Child Care, Information Technology',\n",
       "       'Financial Services, Micro Lending',\n",
       "       'E-Commerce, Retail, Shopping',\n",
       "       'Food and Beverage, Snack Food, Tea',\n",
       "       'Delivery Service, E-Commerce, Logistics',\n",
       "       'Fashion, Lifestyle, Rental', 'Fantasy Sports, Mobile, Sports',\n",
       "       'Beauty, Fashion, Wellness', 'Food and Beverage, Restaurants, Tea',\n",
       "       'Fitness, Sporting Goods, Sports',\n",
       "       'Food and Beverage, Food Processing, Manufacturing',\n",
       "       'E-Learning, Internet', 'Eyewear, Internet',\n",
       "       'Information Technology, Mobile, News, Operating Systems, Social Media, Social News',\n",
       "       'FinTech, Internet, Payments, Service Industry',\n",
       "       'B2B, Business Development, Internet, Marketplace',\n",
       "       'Food and Beverage, Food Delivery, Internet',\n",
       "       'Biotechnology, Health Care, Pharmaceutical'], dtype=object)"
      ]
     },
     "execution_count": 35,
     "metadata": {},
     "output_type": "execute_result"
    }
   ],
   "source": [
    "df_combined['Sector'].unique()"
   ]
  },
  {
   "cell_type": "code",
   "execution_count": 36,
   "metadata": {},
   "outputs": [],
   "source": [
    "def sector_redistribution(sector):\n",
    "    # Check if the sector is a float or NaN\n",
    "    if isinstance(sector, float) and not np.isnan(sector):\n",
    "        # Convert float to string\n",
    "        return str(int(sector))  # Convert float to integer and then to string\n",
    "    elif pd.isnull(sector):\n",
    "        # Handle NaN values, you can return a default value or handle as needed\n",
    "        return 'Unknown'\n",
    "    else:\n",
    "        # Sector is already a string, return it as is\n",
    "        return sector"
   ]
  },
  {
   "cell_type": "code",
   "execution_count": 37,
   "metadata": {},
   "outputs": [],
   "source": [
    "import re\n",
    "def sector_redistribution(sector):\n",
    "    if isinstance(sector, str):\n",
    "        if re.search(r'bank|fintech|finance|crypto|account|credit|venture|crowd|blockchain', sector, re.IGNORECASE):\n",
    "            return 'Finance'\n",
    "        elif re.search(r'automotive|air transport|transport|logistics|vehicle|transportation', sector, re.IGNORECASE):\n",
    "            return 'Transport'\n",
    "        else:\n",
    "            return sector\n",
    "    else:\n",
    "        return sector\n",
    "\n",
    "# Apply the function to the 'Sector' column\n",
    "df_combined['Sector'] = df_combined['Sector'].apply(sector_redistribution)"
   ]
  },
  {
   "cell_type": "code",
   "execution_count": 38,
   "metadata": {},
   "outputs": [],
   "source": [
    "df_combined['Sector'].fillna('Unknown', inplace=True)"
   ]
  },
  {
   "cell_type": "markdown",
   "metadata": {},
   "source": [
    "### FOUNDERS COLUMN"
   ]
  },
  {
   "cell_type": "code",
   "execution_count": 39,
   "metadata": {},
   "outputs": [
    {
     "data": {
      "text/plain": [
       "array(['Shantanu Deshpande', 'Adamas Belva Syah Devara, Iman Usman.',\n",
       "       'Jatin Solanki', ..., 'Bala Sarda', 'Arnav Kumar, Vaibhav Singh',\n",
       "       'Vishal Chopra, Himanshu Gupta'], dtype=object)"
      ]
     },
     "execution_count": 39,
     "metadata": {},
     "output_type": "execute_result"
    }
   ],
   "source": [
    "df_combined['Founders'].unique()"
   ]
  },
  {
   "cell_type": "code",
   "execution_count": 40,
   "metadata": {},
   "outputs": [
    {
     "data": {
      "text/plain": [
       "Founders\n",
       "Ashneer Grover, Shashvat Nakrani                   14\n",
       "Byju Raveendran, Divya Gokulnath                   10\n",
       "Ritesh Agarwal                                      9\n",
       "Bhavish Aggarwal                                    8\n",
       "Nirmit Parikh                                       6\n",
       "Prabhkiran Singh                                    6\n",
       "Ankur Gupta                                         6\n",
       "Utham Gowda                                         6\n",
       "Kunal Shah                                          6\n",
       "Ashish Singhal, Govind Soni, Vimal Sagar Tiwari     6\n",
       "Kshama Fernandes                                    6\n",
       "Saurav Kumar                                        5\n",
       "Saurabh Saxena                                      4\n",
       "Nitish Mittersain                                   4\n",
       "Sankar Bora, Sourjyendu Medda, Vineet Rao           4\n",
       "Kajal Ilmi                                          4\n",
       "Sai Srinivas Kiran G, Shubham Malhotra              4\n",
       "Aman Gupta, Sameer Mehta                            4\n",
       "Vineet Khanna, Varun Sadana, Aman Tekriwal          4\n",
       "Sahil Barua                                         4\n",
       "Name: count, dtype: int64"
      ]
     },
     "execution_count": 40,
     "metadata": {},
     "output_type": "execute_result"
    }
   ],
   "source": [
    "# Analyzing the most frequent founders' names\n",
    "founders_frequency = df_combined['Founders'].value_counts()\n",
    "founders_frequency.head(20)  # Displaying top 20 most frequent founders' names"
   ]
  },
  {
   "cell_type": "code",
   "execution_count": 41,
   "metadata": {},
   "outputs": [
    {
     "data": {
      "text/plain": [
       "\"Remaining missing values in 'Founders' column: 702\""
      ]
     },
     "execution_count": 41,
     "metadata": {},
     "output_type": "execute_result"
    }
   ],
   "source": [
    "# Step 1: Replace anomalies with NaN\n",
    "def clean_founders(founders):\n",
    "    if isinstance(founders, str) and re.search(r'^\\s*\\.+\\s*$|^\\s*$|unknown|nan', founders, re.IGNORECASE):\n",
    "        return np.nan\n",
    "    return founders\n",
    "\n",
    "df_combined['Founders'] = df_combined['Founders'].apply(clean_founders)\n",
    "\n",
    "# Check the remaining missing values\n",
    "missing_founders_count = df_combined['Founders'].isna().sum()\n",
    "f\"Remaining missing values in 'Founders' column: {missing_founders_count}\""
   ]
  },
  {
   "cell_type": "code",
   "execution_count": 42,
   "metadata": {},
   "outputs": [],
   "source": [
    "# Step 2: Use the most frequent names to fill missing values\n",
    "most_frequent_founders = [\n",
    "    \"Ashneer Grover, Shashvat Nakrani\",\n",
    "    \"Byju Raveendran, Divya Gokulnath\",\n",
    "    \"Ritesh Agarwal\",\n",
    "    \"Bhavish Aggarwal\",\n",
    "    \"Nirmit Parikh\",\n",
    "    \"Prabhkiran Singh\",\n",
    "    \"Ankur Gupta\",\n",
    "    \"Utham Gowda\",\n",
    "    \"Kunal Shah\",\n",
    "    \"Ashish Singhal, Govind Soni, Vimal Sagar Tiwari\",\n",
    "    \"Kshama Fernandes\",\n",
    "    \"Saurav Kumar\",\n",
    "    \"Saurabh Saxena\",\n",
    "    \"Nitish Mittersain\",\n",
    "    \"Sankar Bora, Sourjyendu Medda, Vineet Rao\",\n",
    "    \"Kajal Ilmi\",\n",
    "    \"Sai Srinivas Kiran G, Shubham Malhotra\",\n",
    "    \"Aman Gupta, Sameer Mehta\",\n",
    "    \"Vineet Khanna, Varun Sadana, Aman Tekriwal\",\n",
    "   \"Sahil Barua\"\n",
    "]"
   ]
  },
  {
   "cell_type": "code",
   "execution_count": 43,
   "metadata": {},
   "outputs": [],
   "source": [
    "# Function to fill missing values\n",
    "def fill_missing_founders_with_patterns(founders):\n",
    "    if pd.isna(founders):\n",
    "        return np.random.choice(most_frequent_founders)\n",
    "    return founders\n",
    "\n",
    "df_combined['Founders'] = df_combined['Founders'].apply(fill_missing_founders_with_patterns)"
   ]
  },
  {
   "cell_type": "code",
   "execution_count": 44,
   "metadata": {},
   "outputs": [
    {
     "data": {
      "text/plain": [
       "\"Remaining missing values in 'Founders' column after imputation: 0\""
      ]
     },
     "execution_count": 44,
     "metadata": {},
     "output_type": "execute_result"
    }
   ],
   "source": [
    "# Step 3: Verify if there are any remaining missing values\n",
    "remaining_missing_values = df_combined['Founders'].isna().sum()\n",
    "f\"Remaining missing values in 'Founders' column after imputation: {remaining_missing_values}\""
   ]
  },
  {
   "cell_type": "markdown",
   "metadata": {},
   "source": [
    "### INVESTOR COLUMN"
   ]
  },
  {
   "cell_type": "code",
   "execution_count": 45,
   "metadata": {},
   "outputs": [
    {
     "data": {
      "text/plain": [
       "array(['Sixth Sense Ventures', 'General Atlantic',\n",
       "       'Deepak Parekh, Amitabh Bachchan, Piyush Pandey', ...,\n",
       "       'Winter Capital, ETS, Man Capital',\n",
       "       '3one4 Capital, Kalaari Capital', nan], dtype=object)"
      ]
     },
     "execution_count": 45,
     "metadata": {},
     "output_type": "execute_result"
    }
   ],
   "source": [
    "df_combined['Investor'].unique()"
   ]
  },
  {
   "cell_type": "code",
   "execution_count": 46,
   "metadata": {},
   "outputs": [
    {
     "data": {
      "text/plain": [
       "Investor\n",
       "Inflection Point Ventures                        49\n",
       "Venture Catalysts                                23\n",
       "Tiger Global                                     22\n",
       "Elevation Capital                                14\n",
       "Titan Capital                                    13\n",
       "We Founder Circle                                12\n",
       "Sixth Sense Ventures                             11\n",
       "Sequoia Capital India                            10\n",
       "Kalaari Capital                                  10\n",
       "Anicut Angel Fund                                10\n",
       "Alteria Capital                                   9\n",
       "Mumbai Angels Network                             9\n",
       "SucSEED Indovation Fund                           8\n",
       "Venture Catalysts, 9Unicorns Accelerator Fund     8\n",
       "9Unicorns                                         8\n",
       "Better Capital                                    8\n",
       "Unicorn India Ventures                            8\n",
       "Blue Ashva Capital                                8\n",
       "Y Combinator                                      8\n",
       "Sequoia Capital                                   7\n",
       "Name: count, dtype: int64"
      ]
     },
     "execution_count": 46,
     "metadata": {},
     "output_type": "execute_result"
    }
   ],
   "source": [
    "# Analyzing the most frequent founders' names\n",
    "Investor_frequency = df_combined['Investor'].value_counts()\n",
    "Investor_frequency.head(20)  # Displaying top 20 most frequent Investor' names"
   ]
  },
  {
   "cell_type": "code",
   "execution_count": 47,
   "metadata": {},
   "outputs": [],
   "source": [
    "# Step 1: Clean the 'Investor' column by replacing anomalies and NaN values\n",
    "def clean_investor(investor):\n",
    "    if isinstance(investor, str) and re.search(r'^\\s*\\.+\\s*$|^\\s*$|unknown|nan', investor, re.IGNORECASE):\n",
    "        return np.nan\n",
    "    return investor\n",
    "\n",
    "df_combined['Investor'] = df_combined['Investor'].apply(clean_investor)"
   ]
  },
  {
   "cell_type": "code",
   "execution_count": 48,
   "metadata": {},
   "outputs": [],
   "source": [
    "# List of top 20 most frequent investors\n",
    "top_investors = [\n",
    "    'Inflection Point Ventures', 'Venture Catalysts', 'Tiger Global', 'Elevation Capital',\n",
    "    'Titan Capital', 'We Founder Circle', 'Sixth Sense Ventures', 'Sequoia Capital India',\n",
    "    'Kalaari Capital', 'Anicut Angel Fund', 'Alteria Capital', 'Mumbai Angels Network',\n",
    "    'SucSEED Indovation Fund', 'Venture Catalysts, 9Unicorns Accelerator Fund', '9Unicorns',\n",
    "    'Better Capital', 'Unicorn India Ventures', 'Blue Ashva Capital', 'Y Combinator', 'Sequoia Capital'\n",
    "]"
   ]
  },
  {
   "cell_type": "code",
   "execution_count": 49,
   "metadata": {},
   "outputs": [],
   "source": [
    "# Function to fill missing values with top 20 most frequent investors\n",
    "def fill_missing_investors(investor):\n",
    "    if pd.isna(investor):\n",
    "        return np.random.choice(top_investors)\n",
    "    return investor\n",
    "\n",
    "# Apply the fill_missing_investors function to fill missing values\n",
    "df_combined['Investor'] = df_combined['Investor'].apply(fill_missing_investors)"
   ]
  },
  {
   "cell_type": "markdown",
   "metadata": {},
   "source": [
    "### STAGE COLUMN"
   ]
  },
  {
   "cell_type": "code",
   "execution_count": 50,
   "metadata": {},
   "outputs": [
    {
     "data": {
      "text/plain": [
       "array([nan, 'Series C', 'Fresh funding', 'Series D', 'Pre series A',\n",
       "       'Series A', 'Series G', 'Series B', 'Post series A',\n",
       "       'Seed funding', 'Seed fund', 'Series E', 'Series F', 'Series B+',\n",
       "       'Seed round', 'Pre-series A', None, 'Seed', 'Pre-seed',\n",
       "       'Pre-series B', 'Debt', '$1200000', 'Bridge', 'Seed+', 'Series F2',\n",
       "       'Series A+', 'Series H', 'Series B3', 'PE', 'Series F1',\n",
       "       'Pre-series A1', '$300000', 'Early seed', 'Series D1', '$6000000',\n",
       "       '$1000000', 'Seies A', 'Pre-series', 'Series A2', 'Series I',\n",
       "       'Angel', 'Pre-Seed', 'Private Equity', 'Venture - Series Unknown',\n",
       "       'Grant', 'Debt Financing', 'Post-IPO Debt', 'Corporate Round',\n",
       "       'Undisclosed',\n",
       "       'https://docs.google.com/spreadsheets/d/1x9ziNeaz6auNChIHnMI8U6kS7knTr3byy_YBGfQaoUA/edit#gid=1861303593',\n",
       "       'Secondary Market', 'Post-IPO Equity', 'Non-equity Assistance',\n",
       "       'Funding Round'], dtype=object)"
      ]
     },
     "execution_count": 50,
     "metadata": {},
     "output_type": "execute_result"
    }
   ],
   "source": [
    "df_combined['Stage'].unique()"
   ]
  },
  {
   "cell_type": "code",
   "execution_count": 51,
   "metadata": {},
   "outputs": [],
   "source": [
    "stage_unique = {\n",
    "    'Stage': [\n",
    "        np.nan, 'Series C', 'Fresh funding', 'Series D', 'Pre series A', 'Series A', 'Series G', 'Series B',\n",
    "        'Post series A', 'Seed funding', 'Seed fund', 'Series E', 'Series F', 'Series B+', 'Seed round',\n",
    "        'Pre-series A', None, 'Seed', 'Pre-seed', 'Pre-series B', 'Debt', '$1200000', 'Bridge', 'Seed+', 'Series F2',\n",
    "        'Series A+', 'Series H', 'Series B3', 'PE', 'Series F1', 'Pre-series A1', '$300000', 'Early seed', 'Series D1',\n",
    "        '$6000000', '$1000000', 'Seies A', 'Pre-series', 'Series A2', 'Series I', 'Angel', 'Pre-Seed', 'Private Equity',\n",
    "        'Venture - Series Unknown', 'Grant', 'Debt Financing', 'Post-IPO Debt', 'Corporate Round', 'Undisclosed',\n",
    "        'https://docs.google.com/spreadsheets/d/1x9ziNeaz6auNChIHnMI8U6kS7knTr3byy_YBGfQaoUA/edit#gid=1861303593',\n",
    "        'Secondary Market', 'Post-IPO Equity', 'Non-equity Assistance', 'Funding Round']\n",
    "}"
   ]
  },
  {
   "cell_type": "code",
   "execution_count": 52,
   "metadata": {},
   "outputs": [],
   "source": [
    "# List of legitimate stages\n",
    "legitimate_stages = [\n",
    "    'Series A', 'Series B', 'Series C', 'Series D', 'Series E', 'Series F', 'Series G', 'Series H', 'Series I',\n",
    "    'Seed', 'Pre-Seed', 'Seed Funding', 'Early Seed', 'Seed Round', 'Series A+', 'Series B+', 'Series D1',\n",
    "    'Fresh Funding', 'Bridge', 'Private Equity', 'Debt Financing', 'Venture - Series Unknown'\n",
    "]\n",
    "\n",
    "# Function to clean and replace stages\n",
    "def clean_and_replace_stages(stage):\n",
    "    if pd.isna(stage) or stage not in legitimate_stages:\n",
    "        return np.random.choice(legitimate_stages)\n",
    "    return stage\n",
    "\n",
    "# Apply the clean_and_replace_stages function to clean and replace missing values\n",
    "df_combined['Stage'] = df_combined['Stage'].apply(clean_and_replace_stages)"
   ]
  },
  {
   "cell_type": "code",
   "execution_count": 53,
   "metadata": {},
   "outputs": [
    {
     "data": {
      "text/html": [
       "<div>\n",
       "<style scoped>\n",
       "    .dataframe tbody tr th:only-of-type {\n",
       "        vertical-align: middle;\n",
       "    }\n",
       "\n",
       "    .dataframe tbody tr th {\n",
       "        vertical-align: top;\n",
       "    }\n",
       "\n",
       "    .dataframe thead th {\n",
       "        text-align: right;\n",
       "    }\n",
       "</style>\n",
       "<table border=\"1\" class=\"dataframe\">\n",
       "  <thead>\n",
       "    <tr style=\"text-align: right;\">\n",
       "      <th></th>\n",
       "      <th>Year</th>\n",
       "      <th>HeadQuarter</th>\n",
       "      <th>Sector</th>\n",
       "      <th>Founders</th>\n",
       "      <th>Investor</th>\n",
       "      <th>Stage</th>\n",
       "      <th>Company_Brand</th>\n",
       "      <th>What_it_does</th>\n",
       "      <th>Amount</th>\n",
       "    </tr>\n",
       "  </thead>\n",
       "  <tbody>\n",
       "    <tr>\n",
       "      <th>332</th>\n",
       "      <td>2021-01-01</td>\n",
       "      <td>Bengaluru</td>\n",
       "      <td>Capital Markets</td>\n",
       "      <td>Manvendra Singh, Gaurav Agarwal</td>\n",
       "      <td>Accel India</td>\n",
       "      <td>Series A</td>\n",
       "      <td>Trinkerr</td>\n",
       "      <td>Trinkerr is India's first social trading platf...</td>\n",
       "      <td>6600000.0</td>\n",
       "    </tr>\n",
       "    <tr>\n",
       "      <th>333</th>\n",
       "      <td>2021-01-01</td>\n",
       "      <td>Gurugram</td>\n",
       "      <td>Social network</td>\n",
       "      <td>Jasveer Singh, Abhishek Asthana, Deepak Kumar</td>\n",
       "      <td>Vijay Shekhar Sharma, Ritesh Agarwal, Ankiti Bose</td>\n",
       "      <td>Seed</td>\n",
       "      <td>Zorro</td>\n",
       "      <td>Pseudonymous social network platform</td>\n",
       "      <td>32000000.0</td>\n",
       "    </tr>\n",
       "    <tr>\n",
       "      <th>334</th>\n",
       "      <td>2021-01-01</td>\n",
       "      <td>Bengaluru</td>\n",
       "      <td>Transport</td>\n",
       "      <td>Subramaniam Narayan, Niraj Rajmohan</td>\n",
       "      <td>TVS Motor, Zoho</td>\n",
       "      <td>Series C</td>\n",
       "      <td>Ultraviolette</td>\n",
       "      <td>Create and Inspire the future of sustainable u...</td>\n",
       "      <td>150000000.0</td>\n",
       "    </tr>\n",
       "    <tr>\n",
       "      <th>335</th>\n",
       "      <td>2009-01-01</td>\n",
       "      <td>Hyderabad</td>\n",
       "      <td>Hospital &amp; Health Care</td>\n",
       "      <td>Vikram Vuppala</td>\n",
       "      <td>IIFL Asset Management</td>\n",
       "      <td>Series E</td>\n",
       "      <td>NephroPlus</td>\n",
       "      <td>A vision and passion of redefining healthcare ...</td>\n",
       "      <td>24000000.0</td>\n",
       "    </tr>\n",
       "    <tr>\n",
       "      <th>336</th>\n",
       "      <td>2020-01-01</td>\n",
       "      <td>Bengaluru</td>\n",
       "      <td>Information Technology &amp; Services</td>\n",
       "      <td>Sankar Bora, Sourjyendu Medda, Vineet Rao</td>\n",
       "      <td>Inflection Point Ventures</td>\n",
       "      <td>Seed</td>\n",
       "      <td>Unremot</td>\n",
       "      <td>Unremot is a personal office for consultants!</td>\n",
       "      <td>700000.0</td>\n",
       "    </tr>\n",
       "    <tr>\n",
       "      <th>...</th>\n",
       "      <td>...</td>\n",
       "      <td>...</td>\n",
       "      <td>...</td>\n",
       "      <td>...</td>\n",
       "      <td>...</td>\n",
       "      <td>...</td>\n",
       "      <td>...</td>\n",
       "      <td>...</td>\n",
       "      <td>...</td>\n",
       "    </tr>\n",
       "    <tr>\n",
       "      <th>2503</th>\n",
       "      <td>2015-01-01</td>\n",
       "      <td>New Delhi</td>\n",
       "      <td>Food &amp; Beverages</td>\n",
       "      <td>Bala Sarda</td>\n",
       "      <td>IIFL AMC</td>\n",
       "      <td>Series D</td>\n",
       "      <td>Vahdam</td>\n",
       "      <td>VAHDAM is among the world’s first vertically i...</td>\n",
       "      <td>20000000.0</td>\n",
       "    </tr>\n",
       "    <tr>\n",
       "      <th>2504</th>\n",
       "      <td>2019-01-01</td>\n",
       "      <td>Bengaluru</td>\n",
       "      <td>Financial Services</td>\n",
       "      <td>Arnav Kumar, Vaibhav Singh</td>\n",
       "      <td>Owl Ventures</td>\n",
       "      <td>Series C</td>\n",
       "      <td>Leap Finance</td>\n",
       "      <td>International education loans for high potenti...</td>\n",
       "      <td>55000000.0</td>\n",
       "    </tr>\n",
       "    <tr>\n",
       "      <th>2505</th>\n",
       "      <td>2015-01-01</td>\n",
       "      <td>Gurugram</td>\n",
       "      <td>EdTech</td>\n",
       "      <td>Ruchir Arora</td>\n",
       "      <td>Winter Capital, ETS, Man Capital</td>\n",
       "      <td>Series B</td>\n",
       "      <td>CollegeDekho</td>\n",
       "      <td>Collegedekho.com is Student’s Partner, Friend ...</td>\n",
       "      <td>26000000.0</td>\n",
       "    </tr>\n",
       "    <tr>\n",
       "      <th>2506</th>\n",
       "      <td>2019-01-01</td>\n",
       "      <td>Bengaluru</td>\n",
       "      <td>Financial Services</td>\n",
       "      <td>Vishal Chopra, Himanshu Gupta</td>\n",
       "      <td>3one4 Capital, Kalaari Capital</td>\n",
       "      <td>Series A</td>\n",
       "      <td>WeRize</td>\n",
       "      <td>India’s first socially distributed full stack ...</td>\n",
       "      <td>8000000.0</td>\n",
       "    </tr>\n",
       "    <tr>\n",
       "      <th>2855</th>\n",
       "      <td>2018-01-01</td>\n",
       "      <td>Bengaluru</td>\n",
       "      <td>Brand Marketing, Event Promotion, Marketing, S...</td>\n",
       "      <td>Kunal Shah</td>\n",
       "      <td>Elevation Capital</td>\n",
       "      <td>Seed</td>\n",
       "      <td>TheCollegeFever</td>\n",
       "      <td>TheCollegeFever is a hub for fun, fiesta and f...</td>\n",
       "      <td>250000.0</td>\n",
       "    </tr>\n",
       "  </tbody>\n",
       "</table>\n",
       "<p>494 rows × 9 columns</p>\n",
       "</div>"
      ],
      "text/plain": [
       "           Year HeadQuarter  \\\n",
       "332  2021-01-01   Bengaluru   \n",
       "333  2021-01-01    Gurugram   \n",
       "334  2021-01-01   Bengaluru   \n",
       "335  2009-01-01   Hyderabad   \n",
       "336  2020-01-01   Bengaluru   \n",
       "...         ...         ...   \n",
       "2503 2015-01-01   New Delhi   \n",
       "2504 2019-01-01   Bengaluru   \n",
       "2505 2015-01-01    Gurugram   \n",
       "2506 2019-01-01   Bengaluru   \n",
       "2855 2018-01-01   Bengaluru   \n",
       "\n",
       "                                                 Sector  \\\n",
       "332                                     Capital Markets   \n",
       "333                                      Social network   \n",
       "334                                           Transport   \n",
       "335                              Hospital & Health Care   \n",
       "336                   Information Technology & Services   \n",
       "...                                                 ...   \n",
       "2503                                   Food & Beverages   \n",
       "2504                                 Financial Services   \n",
       "2505                                             EdTech   \n",
       "2506                                 Financial Services   \n",
       "2855  Brand Marketing, Event Promotion, Marketing, S...   \n",
       "\n",
       "                                           Founders  \\\n",
       "332                 Manvendra Singh, Gaurav Agarwal   \n",
       "333   Jasveer Singh, Abhishek Asthana, Deepak Kumar   \n",
       "334             Subramaniam Narayan, Niraj Rajmohan   \n",
       "335                                  Vikram Vuppala   \n",
       "336       Sankar Bora, Sourjyendu Medda, Vineet Rao   \n",
       "...                                             ...   \n",
       "2503                                     Bala Sarda   \n",
       "2504                     Arnav Kumar, Vaibhav Singh   \n",
       "2505                                   Ruchir Arora   \n",
       "2506                  Vishal Chopra, Himanshu Gupta   \n",
       "2855                                     Kunal Shah   \n",
       "\n",
       "                                               Investor     Stage  \\\n",
       "332                                         Accel India  Series A   \n",
       "333   Vijay Shekhar Sharma, Ritesh Agarwal, Ankiti Bose      Seed   \n",
       "334                                     TVS Motor, Zoho  Series C   \n",
       "335                               IIFL Asset Management  Series E   \n",
       "336                           Inflection Point Ventures      Seed   \n",
       "...                                                 ...       ...   \n",
       "2503                                           IIFL AMC  Series D   \n",
       "2504                                       Owl Ventures  Series C   \n",
       "2505                   Winter Capital, ETS, Man Capital  Series B   \n",
       "2506                     3one4 Capital, Kalaari Capital  Series A   \n",
       "2855                                  Elevation Capital      Seed   \n",
       "\n",
       "        Company_Brand                                       What_it_does  \\\n",
       "332          Trinkerr  Trinkerr is India's first social trading platf...   \n",
       "333             Zorro               Pseudonymous social network platform   \n",
       "334     Ultraviolette  Create and Inspire the future of sustainable u...   \n",
       "335        NephroPlus  A vision and passion of redefining healthcare ...   \n",
       "336           Unremot      Unremot is a personal office for consultants!   \n",
       "...               ...                                                ...   \n",
       "2503           Vahdam  VAHDAM is among the world’s first vertically i...   \n",
       "2504     Leap Finance  International education loans for high potenti...   \n",
       "2505     CollegeDekho  Collegedekho.com is Student’s Partner, Friend ...   \n",
       "2506           WeRize  India’s first socially distributed full stack ...   \n",
       "2855  TheCollegeFever  TheCollegeFever is a hub for fun, fiesta and f...   \n",
       "\n",
       "           Amount  \n",
       "332     6600000.0  \n",
       "333    32000000.0  \n",
       "334   150000000.0  \n",
       "335    24000000.0  \n",
       "336      700000.0  \n",
       "...           ...  \n",
       "2503   20000000.0  \n",
       "2504   55000000.0  \n",
       "2505   26000000.0  \n",
       "2506    8000000.0  \n",
       "2855     250000.0  \n",
       "\n",
       "[494 rows x 9 columns]"
      ]
     },
     "execution_count": 53,
     "metadata": {},
     "output_type": "execute_result"
    }
   ],
   "source": [
    "duplicate_rows = df_combined[df_combined.duplicated()]\n",
    "duplicate_rows"
   ]
  },
  {
   "cell_type": "markdown",
   "metadata": {},
   "source": [
    "## HYPOTHESIS TESTING"
   ]
  },
  {
   "cell_type": "code",
   "execution_count": 54,
   "metadata": {},
   "outputs": [
    {
     "name": "stdout",
     "output_type": "stream",
     "text": [
      "                 sum_sq      df         F    PR(>F)\n",
      "C(Sector)  3.528772e+20   565.0  0.034693  1.000000\n",
      "C(Stage)   7.031886e+20    21.0  1.860015  0.010083\n",
      "Residual   4.403444e+22  2446.0       NaN       NaN\n",
      "P-value for Sector: 0.9999999999999999\n",
      "P-value for Stage: 0.010083429744218051\n",
      "Fail to reject the null hypothesis for Sector: No significant difference in funding across different sectors.\n",
      "Reject the null hypothesis for Stage: There is a significant difference in funding across different stages.\n"
     ]
    }
   ],
   "source": [
    "import statsmodels.api as sm\n",
    "from statsmodels.formula.api import ols\n",
    "from statsmodels.stats.anova import anova_lm\n",
    "\n",
    "\n",
    "# Create the model\n",
    "model = ols('Amount ~ C(Sector) + C(Stage)', data=df_combined).fit()\n",
    "\n",
    "# Perform the ANOVA\n",
    "anova_results = sm.stats.anova_lm(model, typ=2)\n",
    "\n",
    "# Display the results\n",
    "print(anova_results)\n",
    "\n",
    "# Interpretation\n",
    "p_value_sector = anova_results['PR(>F)']['C(Sector)']\n",
    "p_value_stage = anova_results['PR(>F)']['C(Stage)']\n",
    "\n",
    "print(f\"P-value for Sector: {p_value_sector}\")\n",
    "print(f\"P-value for Stage: {p_value_stage}\")\n",
    "\n",
    "if p_value_sector < 0.05:\n",
    "    print(\"Reject the null hypothesis for Sector: There is a significant difference in funding across different sectors.\")\n",
    "else:\n",
    "    print(\"Fail to reject the null hypothesis for Sector: No significant difference in funding across different sectors.\")\n",
    "\n",
    "if p_value_stage < 0.05:\n",
    "    print(\"Reject the null hypothesis for Stage: There is a significant difference in funding across different stages.\")\n",
    "else:\n",
    "    print(\"Fail to reject the null hypothesis for Stage: No significant difference in funding across different stages.\")"
   ]
  },
  {
   "cell_type": "markdown",
   "metadata": {},
   "source": [
    "The output suggests that there is no significant difference in funding across different sectors and stages of startups, according to the ANOVA test performed. However, the p-value for the Sector factor (0.042076) is lower than the typical significance level of 0.05, which could indicate some potential difference in funding across sectors, but this difference is not statistically significant based on the chose"
   ]
  },
  {
   "cell_type": "markdown",
   "metadata": {},
   "source": [
    "### ANALYTICAL QUESTIONS"
   ]
  },
  {
   "cell_type": "markdown",
   "metadata": {},
   "source": [
    "**1. Funding Trends: How has the total funding amount changed year over year from 2018 to 2021? How has the average funding amount in each sector changed over the years (2018 - 2021)**"
   ]
  },
  {
   "cell_type": "code",
   "execution_count": 68,
   "metadata": {},
   "outputs": [
    {
     "name": "stdout",
     "output_type": "stream",
     "text": [
      "         Year        Amount\n",
      "26 2018-01-01  3.150191e+11\n",
      "27 2019-01-01  2.733650e+09\n",
      "28 2020-01-01  2.376834e+09\n",
      "29 2021-01-01  2.701860e+09\n"
     ]
    }
   ],
   "source": [
    "# Ensure the 'Year' column is in datetime format\n",
    "df_combined['Year'] = pd.to_datetime(df_combined['Year'], format='%Y')\n",
    "\n",
    "# Calculate the total funding amount per year\n",
    "Total_funding = df_combined.groupby('Year')['Amount'].sum().reset_index()\n",
    "\n",
    "# Convert the comparison values to datetime\n",
    "start_year = pd.to_datetime('2018', format='%Y')\n",
    "end_year = pd.to_datetime('2021', format='%Y')\n",
    "\n",
    "# Filter the data for the years 2018 to 2021\n",
    "filtered_funding = Total_funding[Total_funding['Year'].between(start_year, end_year)]\n",
    "\n",
    "# Display the result\n",
    "print(filtered_funding)"
   ]
  },
  {
   "cell_type": "code",
   "execution_count": 71,
   "metadata": {},
   "outputs": [
    {
     "data": {
      "image/png": "[encoded data removed]",
      "text/plain": [
       "<Figure size 1000x600 with 1 Axes>"
      ]
     },
     "metadata": {},
     "output_type": "display_data"
    }
   ],
   "source": [
    "# Create the line plot\n",
    "plt.figure(figsize=(10, 6))\n",
    "plt.plot(filtered_funding['Year'], filtered_funding['Amount'], marker='o', linestyle='-', color='b')\n",
    "\n",
    "# Customize the plot\n",
    "plt.title('Total Funding Amount per Year (2018-2021)')\n",
    "plt.xlabel('Year')\n",
    "plt.ylabel('Total Funding Amount')\n",
    "plt.xticks(filtered_funding['Year'])  # Ensure all years are shown on the x-axis\n",
    "plt.grid(True)\n",
    "plt.show()"
   ]
  },
  {
   "cell_type": "code",
   "execution_count": 57,
   "metadata": {},
   "outputs": [
    {
     "data": {
      "text/html": [
       "<div>\n",
       "<style scoped>\n",
       "    .dataframe tbody tr th:only-of-type {\n",
       "        vertical-align: middle;\n",
       "    }\n",
       "\n",
       "    .dataframe tbody tr th {\n",
       "        vertical-align: top;\n",
       "    }\n",
       "\n",
       "    .dataframe thead th {\n",
       "        text-align: right;\n",
       "    }\n",
       "</style>\n",
       "<table border=\"1\" class=\"dataframe\">\n",
       "  <thead>\n",
       "    <tr style=\"text-align: right;\">\n",
       "      <th></th>\n",
       "      <th>Sector</th>\n",
       "      <th>Year</th>\n",
       "      <th>Amount</th>\n",
       "    </tr>\n",
       "  </thead>\n",
       "  <tbody>\n",
       "    <tr>\n",
       "      <th>451</th>\n",
       "      <td>Finance</td>\n",
       "      <td>2018-01-01</td>\n",
       "      <td>2.944206e+09</td>\n",
       "    </tr>\n",
       "    <tr>\n",
       "      <th>694</th>\n",
       "      <td>Innovation Management</td>\n",
       "      <td>2007-01-01</td>\n",
       "      <td>1.000000e+09</td>\n",
       "    </tr>\n",
       "    <tr>\n",
       "      <th>495</th>\n",
       "      <td>Food Delivery, Food Processing, Internet</td>\n",
       "      <td>2018-01-01</td>\n",
       "      <td>1.000000e+09</td>\n",
       "    </tr>\n",
       "    <tr>\n",
       "      <th>893</th>\n",
       "      <td>Sports</td>\n",
       "      <td>2008-01-01</td>\n",
       "      <td>8.400000e+08</td>\n",
       "    </tr>\n",
       "    <tr>\n",
       "      <th>519</th>\n",
       "      <td>Food delivery</td>\n",
       "      <td>2014-01-01</td>\n",
       "      <td>8.000000e+08</td>\n",
       "    </tr>\n",
       "    <tr>\n",
       "      <th>...</th>\n",
       "      <td>...</td>\n",
       "      <td>...</td>\n",
       "      <td>...</td>\n",
       "    </tr>\n",
       "    <tr>\n",
       "      <th>109</th>\n",
       "      <td>B2B, Biometrics, Cyber Security, Fraud Detecti...</td>\n",
       "      <td>2018-01-01</td>\n",
       "      <td>1.000000e+04</td>\n",
       "    </tr>\n",
       "    <tr>\n",
       "      <th>507</th>\n",
       "      <td>Food and Beverage, Food Delivery, Internet</td>\n",
       "      <td>2018-01-01</td>\n",
       "      <td>7.500000e+03</td>\n",
       "    </tr>\n",
       "    <tr>\n",
       "      <th>719</th>\n",
       "      <td>Internet of Things, Waste Management</td>\n",
       "      <td>2018-01-01</td>\n",
       "      <td>6.500000e+03</td>\n",
       "    </tr>\n",
       "    <tr>\n",
       "      <th>387</th>\n",
       "      <td>Education, Information Technology, Internet, M...</td>\n",
       "      <td>2018-01-01</td>\n",
       "      <td>1.300000e+03</td>\n",
       "    </tr>\n",
       "    <tr>\n",
       "      <th>290</th>\n",
       "      <td>Digital Marketing, SEM, SEO, Web Development</td>\n",
       "      <td>2018-01-01</td>\n",
       "      <td>1.300000e+03</td>\n",
       "    </tr>\n",
       "  </tbody>\n",
       "</table>\n",
       "<p>958 rows × 3 columns</p>\n",
       "</div>"
      ],
      "text/plain": [
       "                                                Sector       Year  \\\n",
       "451                                            Finance 2018-01-01   \n",
       "694                              Innovation Management 2007-01-01   \n",
       "495           Food Delivery, Food Processing, Internet 2018-01-01   \n",
       "893                                             Sports 2008-01-01   \n",
       "519                                      Food delivery 2014-01-01   \n",
       "..                                                 ...        ...   \n",
       "109  B2B, Biometrics, Cyber Security, Fraud Detecti... 2018-01-01   \n",
       "507         Food and Beverage, Food Delivery, Internet 2018-01-01   \n",
       "719               Internet of Things, Waste Management 2018-01-01   \n",
       "387  Education, Information Technology, Internet, M... 2018-01-01   \n",
       "290       Digital Marketing, SEM, SEO, Web Development 2018-01-01   \n",
       "\n",
       "           Amount  \n",
       "451  2.944206e+09  \n",
       "694  1.000000e+09  \n",
       "495  1.000000e+09  \n",
       "893  8.400000e+08  \n",
       "519  8.000000e+08  \n",
       "..            ...  \n",
       "109  1.000000e+04  \n",
       "507  7.500000e+03  \n",
       "719  6.500000e+03  \n",
       "387  1.300000e+03  \n",
       "290  1.300000e+03  \n",
       "\n",
       "[958 rows x 3 columns]"
      ]
     },
     "execution_count": 57,
     "metadata": {},
     "output_type": "execute_result"
    }
   ],
   "source": [
    "# HoW has the average funding amount in each Sector changed over the years \n",
    "\n",
    "# The data to include years 2018 to 2021\n",
    "Year = df_combined['Year']\n",
    "\n",
    "# Group the data by 'Sector' and 'Year', and calculate the mean 'Amount'\n",
    "average_funding = df_combined.groupby(['Sector', 'Year'])['Amount'].mean().reset_index()\n",
    "\n",
    "# Sort the DataFrame in descending order based on 'Amount'\n",
    "average_funding = average_funding.sort_values('Amount', ascending=False)\n",
    "\n",
    "average_funding"
   ]
  },
  {
   "cell_type": "code",
   "execution_count": 58,
   "metadata": {},
   "outputs": [
    {
     "data": {
      "application/vnd.plotly.v1+json": {
       "config": {
        "plotlyServerURL": "https://plot.ly"
       },
       "data": [
        {
         "hovertemplate": "Sector=Innovation Management<br>Year=%{x}<br>Amount=%{y}<extra></extra>",
         "legendgroup": "Innovation Management",
         "line": {
          "color": "#636efa",
          "dash": "solid"
         },
         "marker": {
          "symbol": "circle"
         },
         "mode": "lines",
         "name": "Innovation Management",
         "orientation": "v",
         "showlegend": true,
         "type": "scatter",
         "x": [
          "2007-01-01T00:00:00"
         ],
         "xaxis": "x",
         "y": [
          1000000000
         ],
         "yaxis": "y"
        },
        {
         "hovertemplate": "Sector=Food Delivery, Food Processing, Internet<br>Year=%{x}<br>Amount=%{y}<extra></extra>",
         "legendgroup": "Food Delivery, Food Processing, Internet",
         "line": {
          "color": "#EF553B",
          "dash": "solid"
         },
         "marker": {
          "symbol": "circle"
         },
         "mode": "lines",
         "name": "Food Delivery, Food Processing, Internet",
         "orientation": "v",
         "showlegend": true,
         "type": "scatter",
         "x": [
          "2018-01-01T00:00:00"
         ],
         "xaxis": "x",
         "y": [
          1000000000
         ],
         "yaxis": "y"
        },
        {
         "hovertemplate": "Sector=Food delivery<br>Year=%{x}<br>Amount=%{y}<extra></extra>",
         "legendgroup": "Food delivery",
         "line": {
          "color": "#00cc96",
          "dash": "solid"
         },
         "marker": {
          "symbol": "circle"
         },
         "mode": "lines",
         "name": "Food delivery",
         "orientation": "v",
         "showlegend": true,
         "type": "scatter",
         "x": [
          "2014-01-01T00:00:00"
         ],
         "xaxis": "x",
         "y": [
          800000000
         ],
         "yaxis": "y"
        },
        {
         "hovertemplate": "Sector=EdTech, Education, Higher Education, Secondary Education<br>Year=%{x}<br>Amount=%{y}<extra></extra>",
         "legendgroup": "EdTech, Education, Higher Education, Secondary Education",
         "line": {
          "color": "#ab63fa",
          "dash": "solid"
         },
         "marker": {
          "symbol": "circle"
         },
         "mode": "lines",
         "name": "EdTech, Education, Higher Education, Secondary Education",
         "orientation": "v",
         "showlegend": true,
         "type": "scatter",
         "x": [
          "2018-01-01T00:00:00"
         ],
         "xaxis": "x",
         "y": [
          540000000
         ],
         "yaxis": "y"
        },
        {
         "hovertemplate": "Sector=Energy, Natural Resources<br>Year=%{x}<br>Amount=%{y}<extra></extra>",
         "legendgroup": "Energy, Natural Resources",
         "line": {
          "color": "#FFA15A",
          "dash": "solid"
         },
         "marker": {
          "symbol": "circle"
         },
         "mode": "lines",
         "name": "Energy, Natural Resources",
         "orientation": "v",
         "showlegend": true,
         "type": "scatter",
         "x": [
          "2018-01-01T00:00:00"
         ],
         "xaxis": "x",
         "y": [
          365000000
         ],
         "yaxis": "y"
        }
       ],
       "layout": {
        "font": {
         "size": 14
        },
        "legend": {
         "orientation": "h",
         "title": {
          "text": "Sector"
         },
         "tracegroupgap": 0,
         "x": 1,
         "xanchor": "right",
         "y": 1.02,
         "yanchor": "bottom"
        },
        "template": {
         "data": {
          "bar": [
           {
            "error_x": {
             "color": "#2a3f5f"
            },
            "error_y": {
             "color": "#2a3f5f"
            },
            "marker": {
             "line": {
              "color": "#E5ECF6",
              "width": 0.5
             },
             "pattern": {
              "fillmode": "overlay",
              "size": 10,
              "solidity": 0.2
             }
            },
            "type": "bar"
           }
          ],
          "barpolar": [
           {
            "marker": {
             "line": {
              "color": "#E5ECF6",
              "width": 0.5
             },
             "pattern": {
              "fillmode": "overlay",
              "size": 10,
              "solidity": 0.2
             }
            },
            "type": "barpolar"
           }
          ],
          "carpet": [
           {
            "aaxis": {
             "endlinecolor": "#2a3f5f",
             "gridcolor": "white",
             "linecolor": "white",
             "minorgridcolor": "white",
             "startlinecolor": "#2a3f5f"
            },
            "baxis": {
             "endlinecolor": "#2a3f5f",
             "gridcolor": "white",
             "linecolor": "white",
             "minorgridcolor": "white",
             "startlinecolor": "#2a3f5f"
            },
            "type": "carpet"
           }
          ],
          "choropleth": [
           {
            "colorbar": {
             "outlinewidth": 0,
             "ticks": ""
            },
            "type": "choropleth"
           }
          ],
          "contour": [
           {
            "colorbar": {
             "outlinewidth": 0,
             "ticks": ""
            },
            "colorscale": [
             [
              0,
              "#0d0887"
             ],
             [
              0.1111111111111111,
              "#46039f"
             ],
             [
              0.2222222222222222,
              "#7201a8"
             ],
             [
              0.3333333333333333,
              "#9c179e"
             ],
             [
              0.4444444444444444,
              "#bd3786"
             ],
             [
              0.5555555555555556,
              "#d8576b"
             ],
             [
              0.6666666666666666,
              "#ed7953"
             ],
             [
              0.7777777777777778,
              "#fb9f3a"
             ],
             [
              0.8888888888888888,
              "#fdca26"
             ],
             [
              1,
              "#f0f921"
             ]
            ],
            "type": "contour"
           }
          ],
          "contourcarpet": [
           {
            "colorbar": {
             "outlinewidth": 0,
             "ticks": ""
            },
            "type": "contourcarpet"
           }
          ],
          "heatmap": [
           {
            "colorbar": {
             "outlinewidth": 0,
             "ticks": ""
            },
            "colorscale": [
             [
              0,
              "#0d0887"
             ],
             [
              0.1111111111111111,
              "#46039f"
             ],
             [
              0.2222222222222222,
              "#7201a8"
             ],
             [
              0.3333333333333333,
              "#9c179e"
             ],
             [
              0.4444444444444444,
              "#bd3786"
             ],
             [
              0.5555555555555556,
              "#d8576b"
             ],
             [
              0.6666666666666666,
              "#ed7953"
             ],
             [
              0.7777777777777778,
              "#fb9f3a"
             ],
             [
              0.8888888888888888,
              "#fdca26"
             ],
             [
              1,
              "#f0f921"
             ]
            ],
            "type": "heatmap"
           }
          ],
          "heatmapgl": [
           {
            "colorbar": {
             "outlinewidth": 0,
             "ticks": ""
            },
            "colorscale": [
             [
              0,
              "#0d0887"
             ],
             [
              0.1111111111111111,
              "#46039f"
             ],
             [
              0.2222222222222222,
              "#7201a8"
             ],
             [
              0.3333333333333333,
              "#9c179e"
             ],
             [
              0.4444444444444444,
              "#bd3786"
             ],
             [
              0.5555555555555556,
              "#d8576b"
             ],
             [
              0.6666666666666666,
              "#ed7953"
             ],
             [
              0.7777777777777778,
              "#fb9f3a"
             ],
             [
              0.8888888888888888,
              "#fdca26"
             ],
             [
              1,
              "#f0f921"
             ]
            ],
            "type": "heatmapgl"
           }
          ],
          "histogram": [
           {
            "marker": {
             "pattern": {
              "fillmode": "overlay",
              "size": 10,
              "solidity": 0.2
             }
            },
            "type": "histogram"
           }
          ],
          "histogram2d": [
           {
            "colorbar": {
             "outlinewidth": 0,
             "ticks": ""
            },
            "colorscale": [
             [
              0,
              "#0d0887"
             ],
             [
              0.1111111111111111,
              "#46039f"
             ],
             [
              0.2222222222222222,
              "#7201a8"
             ],
             [
              0.3333333333333333,
              "#9c179e"
             ],
             [
              0.4444444444444444,
              "#bd3786"
             ],
             [
              0.5555555555555556,
              "#d8576b"
             ],
             [
              0.6666666666666666,
              "#ed7953"
             ],
             [
              0.7777777777777778,
              "#fb9f3a"
             ],
             [
              0.8888888888888888,
              "#fdca26"
             ],
             [
              1,
              "#f0f921"
             ]
            ],
            "type": "histogram2d"
           }
          ],
          "histogram2dcontour": [
           {
            "colorbar": {
             "outlinewidth": 0,
             "ticks": ""
            },
            "colorscale": [
             [
              0,
              "#0d0887"
             ],
             [
              0.1111111111111111,
              "#46039f"
             ],
             [
              0.2222222222222222,
              "#7201a8"
             ],
             [
              0.3333333333333333,
              "#9c179e"
             ],
             [
              0.4444444444444444,
              "#bd3786"
             ],
             [
              0.5555555555555556,
              "#d8576b"
             ],
             [
              0.6666666666666666,
              "#ed7953"
             ],
             [
              0.7777777777777778,
              "#fb9f3a"
             ],
             [
              0.8888888888888888,
              "#fdca26"
             ],
             [
              1,
              "#f0f921"
             ]
            ],
            "type": "histogram2dcontour"
           }
          ],
          "mesh3d": [
           {
            "colorbar": {
             "outlinewidth": 0,
             "ticks": ""
            },
            "type": "mesh3d"
           }
          ],
          "parcoords": [
           {
            "line": {
             "colorbar": {
              "outlinewidth": 0,
              "ticks": ""
             }
            },
            "type": "parcoords"
           }
          ],
          "pie": [
           {
            "automargin": true,
            "type": "pie"
           }
          ],
          "scatter": [
           {
            "fillpattern": {
             "fillmode": "overlay",
             "size": 10,
             "solidity": 0.2
            },
            "type": "scatter"
           }
          ],
          "scatter3d": [
           {
            "line": {
             "colorbar": {
              "outlinewidth": 0,
              "ticks": ""
             }
            },
            "marker": {
             "colorbar": {
              "outlinewidth": 0,
              "ticks": ""
             }
            },
            "type": "scatter3d"
           }
          ],
          "scattercarpet": [
           {
            "marker": {
             "colorbar": {
              "outlinewidth": 0,
              "ticks": ""
             }
            },
            "type": "scattercarpet"
           }
          ],
          "scattergeo": [
           {
            "marker": {
             "colorbar": {
              "outlinewidth": 0,
              "ticks": ""
             }
            },
            "type": "scattergeo"
           }
          ],
          "scattergl": [
           {
            "marker": {
             "colorbar": {
              "outlinewidth": 0,
              "ticks": ""
             }
            },
            "type": "scattergl"
           }
          ],
          "scattermapbox": [
           {
            "marker": {
             "colorbar": {
              "outlinewidth": 0,
              "ticks": ""
             }
            },
            "type": "scattermapbox"
           }
          ],
          "scatterpolar": [
           {
            "marker": {
             "colorbar": {
              "outlinewidth": 0,
              "ticks": ""
             }
            },
            "type": "scatterpolar"
           }
          ],
          "scatterpolargl": [
           {
            "marker": {
             "colorbar": {
              "outlinewidth": 0,
              "ticks": ""
             }
            },
            "type": "scatterpolargl"
           }
          ],
          "scatterternary": [
           {
            "marker": {
             "colorbar": {
              "outlinewidth": 0,
              "ticks": ""
             }
            },
            "type": "scatterternary"
           }
          ],
          "surface": [
           {
            "colorbar": {
             "outlinewidth": 0,
             "ticks": ""
            },
            "colorscale": [
             [
              0,
              "#0d0887"
             ],
             [
              0.1111111111111111,
              "#46039f"
             ],
             [
              0.2222222222222222,
              "#7201a8"
             ],
             [
              0.3333333333333333,
              "#9c179e"
             ],
             [
              0.4444444444444444,
              "#bd3786"
             ],
             [
              0.5555555555555556,
              "#d8576b"
             ],
             [
              0.6666666666666666,
              "#ed7953"
             ],
             [
              0.7777777777777778,
              "#fb9f3a"
             ],
             [
              0.8888888888888888,
              "#fdca26"
             ],
             [
              1,
              "#f0f921"
             ]
            ],
            "type": "surface"
           }
          ],
          "table": [
           {
            "cells": {
             "fill": {
              "color": "#EBF0F8"
             },
             "line": {
              "color": "white"
             }
            },
            "header": {
             "fill": {
              "color": "#C8D4E3"
             },
             "line": {
              "color": "white"
             }
            },
            "type": "table"
           }
          ]
         },
         "layout": {
          "annotationdefaults": {
           "arrowcolor": "#2a3f5f",
           "arrowhead": 0,
           "arrowwidth": 1
          },
          "autotypenumbers": "strict",
          "coloraxis": {
           "colorbar": {
            "outlinewidth": 0,
            "ticks": ""
           }
          },
          "colorscale": {
           "diverging": [
            [
             0,
             "#8e0152"
            ],
            [
             0.1,
             "#c51b7d"
            ],
            [
             0.2,
             "#de77ae"
            ],
            [
             0.3,
             "#f1b6da"
            ],
            [
             0.4,
             "#fde0ef"
            ],
            [
             0.5,
             "#f7f7f7"
            ],
            [
             0.6,
             "#e6f5d0"
            ],
            [
             0.7,
             "#b8e186"
            ],
            [
             0.8,
             "#7fbc41"
            ],
            [
             0.9,
             "#4d9221"
            ],
            [
             1,
             "#276419"
            ]
           ],
           "sequential": [
            [
             0,
             "#0d0887"
            ],
            [
             0.1111111111111111,
             "#46039f"
            ],
            [
             0.2222222222222222,
             "#7201a8"
            ],
            [
             0.3333333333333333,
             "#9c179e"
            ],
            [
             0.4444444444444444,
             "#bd3786"
            ],
            [
             0.5555555555555556,
             "#d8576b"
            ],
            [
             0.6666666666666666,
             "#ed7953"
            ],
            [
             0.7777777777777778,
             "#fb9f3a"
            ],
            [
             0.8888888888888888,
             "#fdca26"
            ],
            [
             1,
             "#f0f921"
            ]
           ],
           "sequentialminus": [
            [
             0,
             "#0d0887"
            ],
            [
             0.1111111111111111,
             "#46039f"
            ],
            [
             0.2222222222222222,
             "#7201a8"
            ],
            [
             0.3333333333333333,
             "#9c179e"
            ],
            [
             0.4444444444444444,
             "#bd3786"
            ],
            [
             0.5555555555555556,
             "#d8576b"
            ],
            [
             0.6666666666666666,
             "#ed7953"
            ],
            [
             0.7777777777777778,
             "#fb9f3a"
            ],
            [
             0.8888888888888888,
             "#fdca26"
            ],
            [
             1,
             "#f0f921"
            ]
           ]
          },
          "colorway": [
           "#636efa",
           "#EF553B",
           "#00cc96",
           "#ab63fa",
           "#FFA15A",
           "#19d3f3",
           "#FF6692",
           "#B6E880",
           "#FF97FF",
           "#FECB52"
          ],
          "font": {
           "color": "#2a3f5f"
          },
          "geo": {
           "bgcolor": "white",
           "lakecolor": "white",
           "landcolor": "#E5ECF6",
           "showlakes": true,
           "showland": true,
           "subunitcolor": "white"
          },
          "hoverlabel": {
           "align": "left"
          },
          "hovermode": "closest",
          "mapbox": {
           "style": "light"
          },
          "paper_bgcolor": "white",
          "plot_bgcolor": "#E5ECF6",
          "polar": {
           "angularaxis": {
            "gridcolor": "white",
            "linecolor": "white",
            "ticks": ""
           },
           "bgcolor": "#E5ECF6",
           "radialaxis": {
            "gridcolor": "white",
            "linecolor": "white",
            "ticks": ""
           }
          },
          "scene": {
           "xaxis": {
            "backgroundcolor": "#E5ECF6",
            "gridcolor": "white",
            "gridwidth": 2,
            "linecolor": "white",
            "showbackground": true,
            "ticks": "",
            "zerolinecolor": "white"
           },
           "yaxis": {
            "backgroundcolor": "#E5ECF6",
            "gridcolor": "white",
            "gridwidth": 2,
            "linecolor": "white",
            "showbackground": true,
            "ticks": "",
            "zerolinecolor": "white"
           },
           "zaxis": {
            "backgroundcolor": "#E5ECF6",
            "gridcolor": "white",
            "gridwidth": 2,
            "linecolor": "white",
            "showbackground": true,
            "ticks": "",
            "zerolinecolor": "white"
           }
          },
          "shapedefaults": {
           "line": {
            "color": "#2a3f5f"
           }
          },
          "ternary": {
           "aaxis": {
            "gridcolor": "white",
            "linecolor": "white",
            "ticks": ""
           },
           "baxis": {
            "gridcolor": "white",
            "linecolor": "white",
            "ticks": ""
           },
           "bgcolor": "#E5ECF6",
           "caxis": {
            "gridcolor": "white",
            "linecolor": "white",
            "ticks": ""
           }
          },
          "title": {
           "x": 0.05
          },
          "xaxis": {
           "automargin": true,
           "gridcolor": "white",
           "linecolor": "white",
           "ticks": "",
           "title": {
            "standoff": 15
           },
           "zerolinecolor": "white",
           "zerolinewidth": 2
          },
          "yaxis": {
           "automargin": true,
           "gridcolor": "white",
           "linecolor": "white",
           "ticks": "",
           "title": {
            "standoff": 15
           },
           "zerolinecolor": "white",
           "zerolinewidth": 2
          }
         }
        },
        "title": {
         "text": "Average Funding Amount by Sector and Year (Top 5 Sectors)"
        },
        "xaxis": {
         "anchor": "y",
         "domain": [
          0,
          1
         ],
         "tickangle": 45,
         "title": {
          "text": "Year"
         }
        },
        "yaxis": {
         "anchor": "x",
         "domain": [
          0,
          1
         ],
         "title": {
          "text": "Average Funding Amount"
         }
        }
       }
      }
     },
     "metadata": {},
     "output_type": "display_data"
    }
   ],
   "source": [
    "# Select the top 10 sectors\n",
    "top_5_sectors = average_funding.groupby('Sector')['Amount'].mean().sort_values(ascending=False).head(5).reset_index()\n",
    "\n",
    "# Filter the data for the top 10 sectors\n",
    "filtered_data = average_funding[average_funding['Sector'].isin(top_5_sectors['Sector'])]\n",
    "\n",
    "# Create the line plot\n",
    "fig = px.line(filtered_data, x='Year', y='Amount', color='Sector', title='Average Funding Amount by Sector and Year (Top 5 Sectors)')\n",
    "\n",
    "# Customize the plot\n",
    "fig.update_layout(\n",
    "    xaxis_title='Year',\n",
    "    yaxis_title='Average Funding Amount',\n",
    "    legend_title='Sector',\n",
    "    legend=dict(orientation='h', yanchor='bottom', y=1.02, xanchor='right', x=1),\n",
    "    font=dict(size=14)\n",
    ")\n",
    "\n",
    "# Rotate the x-axis tick labels\n",
    "fig.update_xaxes(tickangle=45)\n",
    "\n",
    "# Show the plot\n",
    "fig.show()"
   ]
  },
  {
   "cell_type": "markdown",
   "metadata": {},
   "source": [
    "**2. Sector Analysis: Which sectors have received the most funding, and how does the funding distribution vary across sectors?**"
   ]
  },
  {
   "cell_type": "code",
   "execution_count": 59,
   "metadata": {},
   "outputs": [
    {
     "name": "stdout",
     "output_type": "stream",
     "text": [
      "Top Sectors by Total Funding Amount:\n",
      "                    Sector        Amount\n",
      "293                Finance  3.085703e+11\n",
      "551              Transport  6.986306e+09\n",
      "248                 EdTech  3.998460e+09\n",
      "294     Financial Services  3.259532e+09\n",
      "241             E-commerce  2.958890e+09\n",
      "385            Hospitality  2.536665e+09\n",
      "406  Innovation Management  2.000000e+09\n",
      "532                 Sports  1.690585e+09\n",
      "332          Food delivery  1.600000e+09\n",
      "408              Insurance  1.452300e+09\n"
     ]
    },
    {
     "data": {
      "application/vnd.plotly.v1+json": {
       "config": {
        "plotlyServerURL": "https://plot.ly"
       },
       "data": [
        {
         "alignmentgroup": "True",
         "hovertemplate": "Sector=%{x}<br>Total Funding Amount=%{y}<extra></extra>",
         "legendgroup": "",
         "marker": {
          "color": "#636efa",
          "pattern": {
           "shape": ""
          }
         },
         "name": "",
         "offsetgroup": "",
         "orientation": "v",
         "showlegend": false,
         "textposition": "auto",
         "type": "bar",
         "x": [
          "Finance",
          "Transport",
          "EdTech",
          "Financial Services",
          "E-commerce",
          "Hospitality",
          "Innovation Management",
          "Sports",
          "Food delivery",
          "Insurance"
         ],
         "xaxis": "x",
         "y": [
          308570291000,
          6986306426,
          3998460000,
          3259532500,
          2958890000,
          2536665000,
          2000000000,
          1690585000,
          1600000000,
          1452300000
         ],
         "yaxis": "y"
        }
       ],
       "layout": {
        "barmode": "relative",
        "legend": {
         "tracegroupgap": 0
        },
        "template": {
         "data": {
          "bar": [
           {
            "error_x": {
             "color": "#2a3f5f"
            },
            "error_y": {
             "color": "#2a3f5f"
            },
            "marker": {
             "line": {
              "color": "#E5ECF6",
              "width": 0.5
             },
             "pattern": {
              "fillmode": "overlay",
              "size": 10,
              "solidity": 0.2
             }
            },
            "type": "bar"
           }
          ],
          "barpolar": [
           {
            "marker": {
             "line": {
              "color": "#E5ECF6",
              "width": 0.5
             },
             "pattern": {
              "fillmode": "overlay",
              "size": 10,
              "solidity": 0.2
             }
            },
            "type": "barpolar"
           }
          ],
          "carpet": [
           {
            "aaxis": {
             "endlinecolor": "#2a3f5f",
             "gridcolor": "white",
             "linecolor": "white",
             "minorgridcolor": "white",
             "startlinecolor": "#2a3f5f"
            },
            "baxis": {
             "endlinecolor": "#2a3f5f",
             "gridcolor": "white",
             "linecolor": "white",
             "minorgridcolor": "white",
             "startlinecolor": "#2a3f5f"
            },
            "type": "carpet"
           }
          ],
          "choropleth": [
           {
            "colorbar": {
             "outlinewidth": 0,
             "ticks": ""
            },
            "type": "choropleth"
           }
          ],
          "contour": [
           {
            "colorbar": {
             "outlinewidth": 0,
             "ticks": ""
            },
            "colorscale": [
             [
              0,
              "#0d0887"
             ],
             [
              0.1111111111111111,
              "#46039f"
             ],
             [
              0.2222222222222222,
              "#7201a8"
             ],
             [
              0.3333333333333333,
              "#9c179e"
             ],
             [
              0.4444444444444444,
              "#bd3786"
             ],
             [
              0.5555555555555556,
              "#d8576b"
             ],
             [
              0.6666666666666666,
              "#ed7953"
             ],
             [
              0.7777777777777778,
              "#fb9f3a"
             ],
             [
              0.8888888888888888,
              "#fdca26"
             ],
             [
              1,
              "#f0f921"
             ]
            ],
            "type": "contour"
           }
          ],
          "contourcarpet": [
           {
            "colorbar": {
             "outlinewidth": 0,
             "ticks": ""
            },
            "type": "contourcarpet"
           }
          ],
          "heatmap": [
           {
            "colorbar": {
             "outlinewidth": 0,
             "ticks": ""
            },
            "colorscale": [
             [
              0,
              "#0d0887"
             ],
             [
              0.1111111111111111,
              "#46039f"
             ],
             [
              0.2222222222222222,
              "#7201a8"
             ],
             [
              0.3333333333333333,
              "#9c179e"
             ],
             [
              0.4444444444444444,
              "#bd3786"
             ],
             [
              0.5555555555555556,
              "#d8576b"
             ],
             [
              0.6666666666666666,
              "#ed7953"
             ],
             [
              0.7777777777777778,
              "#fb9f3a"
             ],
             [
              0.8888888888888888,
              "#fdca26"
             ],
             [
              1,
              "#f0f921"
             ]
            ],
            "type": "heatmap"
           }
          ],
          "heatmapgl": [
           {
            "colorbar": {
             "outlinewidth": 0,
             "ticks": ""
            },
            "colorscale": [
             [
              0,
              "#0d0887"
             ],
             [
              0.1111111111111111,
              "#46039f"
             ],
             [
              0.2222222222222222,
              "#7201a8"
             ],
             [
              0.3333333333333333,
              "#9c179e"
             ],
             [
              0.4444444444444444,
              "#bd3786"
             ],
             [
              0.5555555555555556,
              "#d8576b"
             ],
             [
              0.6666666666666666,
              "#ed7953"
             ],
             [
              0.7777777777777778,
              "#fb9f3a"
             ],
             [
              0.8888888888888888,
              "#fdca26"
             ],
             [
              1,
              "#f0f921"
             ]
            ],
            "type": "heatmapgl"
           }
          ],
          "histogram": [
           {
            "marker": {
             "pattern": {
              "fillmode": "overlay",
              "size": 10,
              "solidity": 0.2
             }
            },
            "type": "histogram"
           }
          ],
          "histogram2d": [
           {
            "colorbar": {
             "outlinewidth": 0,
             "ticks": ""
            },
            "colorscale": [
             [
              0,
              "#0d0887"
             ],
             [
              0.1111111111111111,
              "#46039f"
             ],
             [
              0.2222222222222222,
              "#7201a8"
             ],
             [
              0.3333333333333333,
              "#9c179e"
             ],
             [
              0.4444444444444444,
              "#bd3786"
             ],
             [
              0.5555555555555556,
              "#d8576b"
             ],
             [
              0.6666666666666666,
              "#ed7953"
             ],
             [
              0.7777777777777778,
              "#fb9f3a"
             ],
             [
              0.8888888888888888,
              "#fdca26"
             ],
             [
              1,
              "#f0f921"
             ]
            ],
            "type": "histogram2d"
           }
          ],
          "histogram2dcontour": [
           {
            "colorbar": {
             "outlinewidth": 0,
             "ticks": ""
            },
            "colorscale": [
             [
              0,
              "#0d0887"
             ],
             [
              0.1111111111111111,
              "#46039f"
             ],
             [
              0.2222222222222222,
              "#7201a8"
             ],
             [
              0.3333333333333333,
              "#9c179e"
             ],
             [
              0.4444444444444444,
              "#bd3786"
             ],
             [
              0.5555555555555556,
              "#d8576b"
             ],
             [
              0.6666666666666666,
              "#ed7953"
             ],
             [
              0.7777777777777778,
              "#fb9f3a"
             ],
             [
              0.8888888888888888,
              "#fdca26"
             ],
             [
              1,
              "#f0f921"
             ]
            ],
            "type": "histogram2dcontour"
           }
          ],
          "mesh3d": [
           {
            "colorbar": {
             "outlinewidth": 0,
             "ticks": ""
            },
            "type": "mesh3d"
           }
          ],
          "parcoords": [
           {
            "line": {
             "colorbar": {
              "outlinewidth": 0,
              "ticks": ""
             }
            },
            "type": "parcoords"
           }
          ],
          "pie": [
           {
            "automargin": true,
            "type": "pie"
           }
          ],
          "scatter": [
           {
            "fillpattern": {
             "fillmode": "overlay",
             "size": 10,
             "solidity": 0.2
            },
            "type": "scatter"
           }
          ],
          "scatter3d": [
           {
            "line": {
             "colorbar": {
              "outlinewidth": 0,
              "ticks": ""
             }
            },
            "marker": {
             "colorbar": {
              "outlinewidth": 0,
              "ticks": ""
             }
            },
            "type": "scatter3d"
           }
          ],
          "scattercarpet": [
           {
            "marker": {
             "colorbar": {
              "outlinewidth": 0,
              "ticks": ""
             }
            },
            "type": "scattercarpet"
           }
          ],
          "scattergeo": [
           {
            "marker": {
             "colorbar": {
              "outlinewidth": 0,
              "ticks": ""
             }
            },
            "type": "scattergeo"
           }
          ],
          "scattergl": [
           {
            "marker": {
             "colorbar": {
              "outlinewidth": 0,
              "ticks": ""
             }
            },
            "type": "scattergl"
           }
          ],
          "scattermapbox": [
           {
            "marker": {
             "colorbar": {
              "outlinewidth": 0,
              "ticks": ""
             }
            },
            "type": "scattermapbox"
           }
          ],
          "scatterpolar": [
           {
            "marker": {
             "colorbar": {
              "outlinewidth": 0,
              "ticks": ""
             }
            },
            "type": "scatterpolar"
           }
          ],
          "scatterpolargl": [
           {
            "marker": {
             "colorbar": {
              "outlinewidth": 0,
              "ticks": ""
             }
            },
            "type": "scatterpolargl"
           }
          ],
          "scatterternary": [
           {
            "marker": {
             "colorbar": {
              "outlinewidth": 0,
              "ticks": ""
             }
            },
            "type": "scatterternary"
           }
          ],
          "surface": [
           {
            "colorbar": {
             "outlinewidth": 0,
             "ticks": ""
            },
            "colorscale": [
             [
              0,
              "#0d0887"
             ],
             [
              0.1111111111111111,
              "#46039f"
             ],
             [
              0.2222222222222222,
              "#7201a8"
             ],
             [
              0.3333333333333333,
              "#9c179e"
             ],
             [
              0.4444444444444444,
              "#bd3786"
             ],
             [
              0.5555555555555556,
              "#d8576b"
             ],
             [
              0.6666666666666666,
              "#ed7953"
             ],
             [
              0.7777777777777778,
              "#fb9f3a"
             ],
             [
              0.8888888888888888,
              "#fdca26"
             ],
             [
              1,
              "#f0f921"
             ]
            ],
            "type": "surface"
           }
          ],
          "table": [
           {
            "cells": {
             "fill": {
              "color": "#EBF0F8"
             },
             "line": {
              "color": "white"
             }
            },
            "header": {
             "fill": {
              "color": "#C8D4E3"
             },
             "line": {
              "color": "white"
             }
            },
            "type": "table"
           }
          ]
         },
         "layout": {
          "annotationdefaults": {
           "arrowcolor": "#2a3f5f",
           "arrowhead": 0,
           "arrowwidth": 1
          },
          "autotypenumbers": "strict",
          "coloraxis": {
           "colorbar": {
            "outlinewidth": 0,
            "ticks": ""
           }
          },
          "colorscale": {
           "diverging": [
            [
             0,
             "#8e0152"
            ],
            [
             0.1,
             "#c51b7d"
            ],
            [
             0.2,
             "#de77ae"
            ],
            [
             0.3,
             "#f1b6da"
            ],
            [
             0.4,
             "#fde0ef"
            ],
            [
             0.5,
             "#f7f7f7"
            ],
            [
             0.6,
             "#e6f5d0"
            ],
            [
             0.7,
             "#b8e186"
            ],
            [
             0.8,
             "#7fbc41"
            ],
            [
             0.9,
             "#4d9221"
            ],
            [
             1,
             "#276419"
            ]
           ],
           "sequential": [
            [
             0,
             "#0d0887"
            ],
            [
             0.1111111111111111,
             "#46039f"
            ],
            [
             0.2222222222222222,
             "#7201a8"
            ],
            [
             0.3333333333333333,
             "#9c179e"
            ],
            [
             0.4444444444444444,
             "#bd3786"
            ],
            [
             0.5555555555555556,
             "#d8576b"
            ],
            [
             0.6666666666666666,
             "#ed7953"
            ],
            [
             0.7777777777777778,
             "#fb9f3a"
            ],
            [
             0.8888888888888888,
             "#fdca26"
            ],
            [
             1,
             "#f0f921"
            ]
           ],
           "sequentialminus": [
            [
             0,
             "#0d0887"
            ],
            [
             0.1111111111111111,
             "#46039f"
            ],
            [
             0.2222222222222222,
             "#7201a8"
            ],
            [
             0.3333333333333333,
             "#9c179e"
            ],
            [
             0.4444444444444444,
             "#bd3786"
            ],
            [
             0.5555555555555556,
             "#d8576b"
            ],
            [
             0.6666666666666666,
             "#ed7953"
            ],
            [
             0.7777777777777778,
             "#fb9f3a"
            ],
            [
             0.8888888888888888,
             "#fdca26"
            ],
            [
             1,
             "#f0f921"
            ]
           ]
          },
          "colorway": [
           "#636efa",
           "#EF553B",
           "#00cc96",
           "#ab63fa",
           "#FFA15A",
           "#19d3f3",
           "#FF6692",
           "#B6E880",
           "#FF97FF",
           "#FECB52"
          ],
          "font": {
           "color": "#2a3f5f"
          },
          "geo": {
           "bgcolor": "white",
           "lakecolor": "white",
           "landcolor": "#E5ECF6",
           "showlakes": true,
           "showland": true,
           "subunitcolor": "white"
          },
          "hoverlabel": {
           "align": "left"
          },
          "hovermode": "closest",
          "mapbox": {
           "style": "light"
          },
          "paper_bgcolor": "white",
          "plot_bgcolor": "#E5ECF6",
          "polar": {
           "angularaxis": {
            "gridcolor": "white",
            "linecolor": "white",
            "ticks": ""
           },
           "bgcolor": "#E5ECF6",
           "radialaxis": {
            "gridcolor": "white",
            "linecolor": "white",
            "ticks": ""
           }
          },
          "scene": {
           "xaxis": {
            "backgroundcolor": "#E5ECF6",
            "gridcolor": "white",
            "gridwidth": 2,
            "linecolor": "white",
            "showbackground": true,
            "ticks": "",
            "zerolinecolor": "white"
           },
           "yaxis": {
            "backgroundcolor": "#E5ECF6",
            "gridcolor": "white",
            "gridwidth": 2,
            "linecolor": "white",
            "showbackground": true,
            "ticks": "",
            "zerolinecolor": "white"
           },
           "zaxis": {
            "backgroundcolor": "#E5ECF6",
            "gridcolor": "white",
            "gridwidth": 2,
            "linecolor": "white",
            "showbackground": true,
            "ticks": "",
            "zerolinecolor": "white"
           }
          },
          "shapedefaults": {
           "line": {
            "color": "#2a3f5f"
           }
          },
          "ternary": {
           "aaxis": {
            "gridcolor": "white",
            "linecolor": "white",
            "ticks": ""
           },
           "baxis": {
            "gridcolor": "white",
            "linecolor": "white",
            "ticks": ""
           },
           "bgcolor": "#E5ECF6",
           "caxis": {
            "gridcolor": "white",
            "linecolor": "white",
            "ticks": ""
           }
          },
          "title": {
           "x": 0.05
          },
          "xaxis": {
           "automargin": true,
           "gridcolor": "white",
           "linecolor": "white",
           "ticks": "",
           "title": {
            "standoff": 15
           },
           "zerolinecolor": "white",
           "zerolinewidth": 2
          },
          "yaxis": {
           "automargin": true,
           "gridcolor": "white",
           "linecolor": "white",
           "ticks": "",
           "title": {
            "standoff": 15
           },
           "zerolinecolor": "white",
           "zerolinewidth": 2
          }
         }
        },
        "title": {
         "text": "Top Sectors by Total Funding Amount"
        },
        "xaxis": {
         "anchor": "y",
         "domain": [
          0,
          1
         ],
         "tickangle": 45,
         "title": {
          "text": "Sector"
         }
        },
        "yaxis": {
         "anchor": "x",
         "domain": [
          0,
          1
         ],
         "title": {
          "text": "Total Funding Amount"
         }
        }
       }
      }
     },
     "metadata": {},
     "output_type": "display_data"
    }
   ],
   "source": [
    "# Calculate total funding amount for each sector\n",
    "total_funding_by_sector = df_combined.groupby('Sector')['Amount'].sum().reset_index()\n",
    "\n",
    "# Sort the sectors by total funding amount in descending order\n",
    "total_funding_by_sector = total_funding_by_sector.sort_values('Amount', ascending=False)\n",
    "\n",
    "# Print the top sectors by total funding amount\n",
    "print(\"Top Sectors by Total Funding Amount:\")\n",
    "print(total_funding_by_sector.head(10))\n",
    "\n",
    "# Visualize the funding distribution across sectors\n",
    "fig = px.bar(total_funding_by_sector.head(10), x='Sector', y='Amount',\n",
    "             title='Top Sectors by Total Funding Amount',\n",
    "             labels={'Sector': 'Sector', 'Amount': 'Total Funding Amount'})\n",
    "\n",
    "# Rotate the x-axis tick labels\n",
    "fig.update_xaxes(tickangle=45)\n",
    "\n",
    "# Show the plot\n",
    "fig.show()"
   ]
  },
  {
   "cell_type": "markdown",
   "metadata": {},
   "source": [
    "**3. Stage Analysis: What is the distribution of funding across different investment stages (e.g., Pre-seed, Seed, Series A)?**"
   ]
  },
  {
   "cell_type": "code",
   "execution_count": 60,
   "metadata": {},
   "outputs": [
    {
     "name": "stdout",
     "output_type": "stream",
     "text": [
      "Investment Stages by Total Funding Amount:\n",
      "                       Stage        Amount\n",
      "1             Debt Financing  1.515386e+11\n",
      "15                 Series D1  1.508586e+11\n",
      "13                  Series C  8.028326e+09\n",
      "16                  Series E  7.406276e+09\n",
      "9                   Series A  6.503848e+09\n",
      "11                  Series B  6.473998e+09\n",
      "14                  Series D  5.785530e+09\n",
      "19                  Series H  5.064200e+09\n",
      "17                  Series F  4.605132e+09\n",
      "5             Private Equity  3.339035e+09\n",
      "6                       Seed  3.295586e+09\n",
      "8                 Seed Round  2.179940e+09\n",
      "20                  Series I  2.160859e+09\n",
      "0                     Bridge  2.137671e+09\n",
      "18                  Series G  1.873541e+09\n",
      "3              Fresh Funding  1.631805e+09\n",
      "12                 Series B+  1.609560e+09\n",
      "21  Venture - Series Unknown  1.601383e+09\n",
      "7               Seed Funding  1.546070e+09\n",
      "4                   Pre-Seed  1.432641e+09\n",
      "10                 Series A+  1.147475e+09\n",
      "2                 Early Seed  6.469650e+08\n"
     ]
    },
    {
     "data": {
      "application/vnd.plotly.v1+json": {
       "config": {
        "plotlyServerURL": "https://plot.ly"
       },
       "data": [
        {
         "alignmentgroup": "True",
         "hovertemplate": "Investment Stage=%{x}<br>Total Funding Amount=%{y}<extra></extra>",
         "legendgroup": "",
         "marker": {
          "color": "#636efa",
          "pattern": {
           "shape": ""
          }
         },
         "name": "",
         "offsetgroup": "",
         "orientation": "v",
         "showlegend": false,
         "textposition": "auto",
         "type": "bar",
         "x": [
          "Debt Financing",
          "Series D1",
          "Series C",
          "Series E",
          "Series A",
          "Series B",
          "Series D",
          "Series H",
          "Series F",
          "Private Equity"
         ],
         "xaxis": "x",
         "y": [
          151538581000,
          150858600000,
          8028325600,
          7406276000,
          6503848380,
          6473998000,
          5785530300,
          5064200000,
          4605132500,
          3339035000
         ],
         "yaxis": "y"
        }
       ],
       "layout": {
        "barmode": "relative",
        "legend": {
         "tracegroupgap": 0
        },
        "template": {
         "data": {
          "bar": [
           {
            "error_x": {
             "color": "#2a3f5f"
            },
            "error_y": {
             "color": "#2a3f5f"
            },
            "marker": {
             "line": {
              "color": "#E5ECF6",
              "width": 0.5
             },
             "pattern": {
              "fillmode": "overlay",
              "size": 10,
              "solidity": 0.2
             }
            },
            "type": "bar"
           }
          ],
          "barpolar": [
           {
            "marker": {
             "line": {
              "color": "#E5ECF6",
              "width": 0.5
             },
             "pattern": {
              "fillmode": "overlay",
              "size": 10,
              "solidity": 0.2
             }
            },
            "type": "barpolar"
           }
          ],
          "carpet": [
           {
            "aaxis": {
             "endlinecolor": "#2a3f5f",
             "gridcolor": "white",
             "linecolor": "white",
             "minorgridcolor": "white",
             "startlinecolor": "#2a3f5f"
            },
            "baxis": {
             "endlinecolor": "#2a3f5f",
             "gridcolor": "white",
             "linecolor": "white",
             "minorgridcolor": "white",
             "startlinecolor": "#2a3f5f"
            },
            "type": "carpet"
           }
          ],
          "choropleth": [
           {
            "colorbar": {
             "outlinewidth": 0,
             "ticks": ""
            },
            "type": "choropleth"
           }
          ],
          "contour": [
           {
            "colorbar": {
             "outlinewidth": 0,
             "ticks": ""
            },
            "colorscale": [
             [
              0,
              "#0d0887"
             ],
             [
              0.1111111111111111,
              "#46039f"
             ],
             [
              0.2222222222222222,
              "#7201a8"
             ],
             [
              0.3333333333333333,
              "#9c179e"
             ],
             [
              0.4444444444444444,
              "#bd3786"
             ],
             [
              0.5555555555555556,
              "#d8576b"
             ],
             [
              0.6666666666666666,
              "#ed7953"
             ],
             [
              0.7777777777777778,
              "#fb9f3a"
             ],
             [
              0.8888888888888888,
              "#fdca26"
             ],
             [
              1,
              "#f0f921"
             ]
            ],
            "type": "contour"
           }
          ],
          "contourcarpet": [
           {
            "colorbar": {
             "outlinewidth": 0,
             "ticks": ""
            },
            "type": "contourcarpet"
           }
          ],
          "heatmap": [
           {
            "colorbar": {
             "outlinewidth": 0,
             "ticks": ""
            },
            "colorscale": [
             [
              0,
              "#0d0887"
             ],
             [
              0.1111111111111111,
              "#46039f"
             ],
             [
              0.2222222222222222,
              "#7201a8"
             ],
             [
              0.3333333333333333,
              "#9c179e"
             ],
             [
              0.4444444444444444,
              "#bd3786"
             ],
             [
              0.5555555555555556,
              "#d8576b"
             ],
             [
              0.6666666666666666,
              "#ed7953"
             ],
             [
              0.7777777777777778,
              "#fb9f3a"
             ],
             [
              0.8888888888888888,
              "#fdca26"
             ],
             [
              1,
              "#f0f921"
             ]
            ],
            "type": "heatmap"
           }
          ],
          "heatmapgl": [
           {
            "colorbar": {
             "outlinewidth": 0,
             "ticks": ""
            },
            "colorscale": [
             [
              0,
              "#0d0887"
             ],
             [
              0.1111111111111111,
              "#46039f"
             ],
             [
              0.2222222222222222,
              "#7201a8"
             ],
             [
              0.3333333333333333,
              "#9c179e"
             ],
             [
              0.4444444444444444,
              "#bd3786"
             ],
             [
              0.5555555555555556,
              "#d8576b"
             ],
             [
              0.6666666666666666,
              "#ed7953"
             ],
             [
              0.7777777777777778,
              "#fb9f3a"
             ],
             [
              0.8888888888888888,
              "#fdca26"
             ],
             [
              1,
              "#f0f921"
             ]
            ],
            "type": "heatmapgl"
           }
          ],
          "histogram": [
           {
            "marker": {
             "pattern": {
              "fillmode": "overlay",
              "size": 10,
              "solidity": 0.2
             }
            },
            "type": "histogram"
           }
          ],
          "histogram2d": [
           {
            "colorbar": {
             "outlinewidth": 0,
             "ticks": ""
            },
            "colorscale": [
             [
              0,
              "#0d0887"
             ],
             [
              0.1111111111111111,
              "#46039f"
             ],
             [
              0.2222222222222222,
              "#7201a8"
             ],
             [
              0.3333333333333333,
              "#9c179e"
             ],
             [
              0.4444444444444444,
              "#bd3786"
             ],
             [
              0.5555555555555556,
              "#d8576b"
             ],
             [
              0.6666666666666666,
              "#ed7953"
             ],
             [
              0.7777777777777778,
              "#fb9f3a"
             ],
             [
              0.8888888888888888,
              "#fdca26"
             ],
             [
              1,
              "#f0f921"
             ]
            ],
            "type": "histogram2d"
           }
          ],
          "histogram2dcontour": [
           {
            "colorbar": {
             "outlinewidth": 0,
             "ticks": ""
            },
            "colorscale": [
             [
              0,
              "#0d0887"
             ],
             [
              0.1111111111111111,
              "#46039f"
             ],
             [
              0.2222222222222222,
              "#7201a8"
             ],
             [
              0.3333333333333333,
              "#9c179e"
             ],
             [
              0.4444444444444444,
              "#bd3786"
             ],
             [
              0.5555555555555556,
              "#d8576b"
             ],
             [
              0.6666666666666666,
              "#ed7953"
             ],
             [
              0.7777777777777778,
              "#fb9f3a"
             ],
             [
              0.8888888888888888,
              "#fdca26"
             ],
             [
              1,
              "#f0f921"
             ]
            ],
            "type": "histogram2dcontour"
           }
          ],
          "mesh3d": [
           {
            "colorbar": {
             "outlinewidth": 0,
             "ticks": ""
            },
            "type": "mesh3d"
           }
          ],
          "parcoords": [
           {
            "line": {
             "colorbar": {
              "outlinewidth": 0,
              "ticks": ""
             }
            },
            "type": "parcoords"
           }
          ],
          "pie": [
           {
            "automargin": true,
            "type": "pie"
           }
          ],
          "scatter": [
           {
            "fillpattern": {
             "fillmode": "overlay",
             "size": 10,
             "solidity": 0.2
            },
            "type": "scatter"
           }
          ],
          "scatter3d": [
           {
            "line": {
             "colorbar": {
              "outlinewidth": 0,
              "ticks": ""
             }
            },
            "marker": {
             "colorbar": {
              "outlinewidth": 0,
              "ticks": ""
             }
            },
            "type": "scatter3d"
           }
          ],
          "scattercarpet": [
           {
            "marker": {
             "colorbar": {
              "outlinewidth": 0,
              "ticks": ""
             }
            },
            "type": "scattercarpet"
           }
          ],
          "scattergeo": [
           {
            "marker": {
             "colorbar": {
              "outlinewidth": 0,
              "ticks": ""
             }
            },
            "type": "scattergeo"
           }
          ],
          "scattergl": [
           {
            "marker": {
             "colorbar": {
              "outlinewidth": 0,
              "ticks": ""
             }
            },
            "type": "scattergl"
           }
          ],
          "scattermapbox": [
           {
            "marker": {
             "colorbar": {
              "outlinewidth": 0,
              "ticks": ""
             }
            },
            "type": "scattermapbox"
           }
          ],
          "scatterpolar": [
           {
            "marker": {
             "colorbar": {
              "outlinewidth": 0,
              "ticks": ""
             }
            },
            "type": "scatterpolar"
           }
          ],
          "scatterpolargl": [
           {
            "marker": {
             "colorbar": {
              "outlinewidth": 0,
              "ticks": ""
             }
            },
            "type": "scatterpolargl"
           }
          ],
          "scatterternary": [
           {
            "marker": {
             "colorbar": {
              "outlinewidth": 0,
              "ticks": ""
             }
            },
            "type": "scatterternary"
           }
          ],
          "surface": [
           {
            "colorbar": {
             "outlinewidth": 0,
             "ticks": ""
            },
            "colorscale": [
             [
              0,
              "#0d0887"
             ],
             [
              0.1111111111111111,
              "#46039f"
             ],
             [
              0.2222222222222222,
              "#7201a8"
             ],
             [
              0.3333333333333333,
              "#9c179e"
             ],
             [
              0.4444444444444444,
              "#bd3786"
             ],
             [
              0.5555555555555556,
              "#d8576b"
             ],
             [
              0.6666666666666666,
              "#ed7953"
             ],
             [
              0.7777777777777778,
              "#fb9f3a"
             ],
             [
              0.8888888888888888,
              "#fdca26"
             ],
             [
              1,
              "#f0f921"
             ]
            ],
            "type": "surface"
           }
          ],
          "table": [
           {
            "cells": {
             "fill": {
              "color": "#EBF0F8"
             },
             "line": {
              "color": "white"
             }
            },
            "header": {
             "fill": {
              "color": "#C8D4E3"
             },
             "line": {
              "color": "white"
             }
            },
            "type": "table"
           }
          ]
         },
         "layout": {
          "annotationdefaults": {
           "arrowcolor": "#2a3f5f",
           "arrowhead": 0,
           "arrowwidth": 1
          },
          "autotypenumbers": "strict",
          "coloraxis": {
           "colorbar": {
            "outlinewidth": 0,
            "ticks": ""
           }
          },
          "colorscale": {
           "diverging": [
            [
             0,
             "#8e0152"
            ],
            [
             0.1,
             "#c51b7d"
            ],
            [
             0.2,
             "#de77ae"
            ],
            [
             0.3,
             "#f1b6da"
            ],
            [
             0.4,
             "#fde0ef"
            ],
            [
             0.5,
             "#f7f7f7"
            ],
            [
             0.6,
             "#e6f5d0"
            ],
            [
             0.7,
             "#b8e186"
            ],
            [
             0.8,
             "#7fbc41"
            ],
            [
             0.9,
             "#4d9221"
            ],
            [
             1,
             "#276419"
            ]
           ],
           "sequential": [
            [
             0,
             "#0d0887"
            ],
            [
             0.1111111111111111,
             "#46039f"
            ],
            [
             0.2222222222222222,
             "#7201a8"
            ],
            [
             0.3333333333333333,
             "#9c179e"
            ],
            [
             0.4444444444444444,
             "#bd3786"
            ],
            [
             0.5555555555555556,
             "#d8576b"
            ],
            [
             0.6666666666666666,
             "#ed7953"
            ],
            [
             0.7777777777777778,
             "#fb9f3a"
            ],
            [
             0.8888888888888888,
             "#fdca26"
            ],
            [
             1,
             "#f0f921"
            ]
           ],
           "sequentialminus": [
            [
             0,
             "#0d0887"
            ],
            [
             0.1111111111111111,
             "#46039f"
            ],
            [
             0.2222222222222222,
             "#7201a8"
            ],
            [
             0.3333333333333333,
             "#9c179e"
            ],
            [
             0.4444444444444444,
             "#bd3786"
            ],
            [
             0.5555555555555556,
             "#d8576b"
            ],
            [
             0.6666666666666666,
             "#ed7953"
            ],
            [
             0.7777777777777778,
             "#fb9f3a"
            ],
            [
             0.8888888888888888,
             "#fdca26"
            ],
            [
             1,
             "#f0f921"
            ]
           ]
          },
          "colorway": [
           "#636efa",
           "#EF553B",
           "#00cc96",
           "#ab63fa",
           "#FFA15A",
           "#19d3f3",
           "#FF6692",
           "#B6E880",
           "#FF97FF",
           "#FECB52"
          ],
          "font": {
           "color": "#2a3f5f"
          },
          "geo": {
           "bgcolor": "white",
           "lakecolor": "white",
           "landcolor": "#E5ECF6",
           "showlakes": true,
           "showland": true,
           "subunitcolor": "white"
          },
          "hoverlabel": {
           "align": "left"
          },
          "hovermode": "closest",
          "mapbox": {
           "style": "light"
          },
          "paper_bgcolor": "white",
          "plot_bgcolor": "#E5ECF6",
          "polar": {
           "angularaxis": {
            "gridcolor": "white",
            "linecolor": "white",
            "ticks": ""
           },
           "bgcolor": "#E5ECF6",
           "radialaxis": {
            "gridcolor": "white",
            "linecolor": "white",
            "ticks": ""
           }
          },
          "scene": {
           "xaxis": {
            "backgroundcolor": "#E5ECF6",
            "gridcolor": "white",
            "gridwidth": 2,
            "linecolor": "white",
            "showbackground": true,
            "ticks": "",
            "zerolinecolor": "white"
           },
           "yaxis": {
            "backgroundcolor": "#E5ECF6",
            "gridcolor": "white",
            "gridwidth": 2,
            "linecolor": "white",
            "showbackground": true,
            "ticks": "",
            "zerolinecolor": "white"
           },
           "zaxis": {
            "backgroundcolor": "#E5ECF6",
            "gridcolor": "white",
            "gridwidth": 2,
            "linecolor": "white",
            "showbackground": true,
            "ticks": "",
            "zerolinecolor": "white"
           }
          },
          "shapedefaults": {
           "line": {
            "color": "#2a3f5f"
           }
          },
          "ternary": {
           "aaxis": {
            "gridcolor": "white",
            "linecolor": "white",
            "ticks": ""
           },
           "baxis": {
            "gridcolor": "white",
            "linecolor": "white",
            "ticks": ""
           },
           "bgcolor": "#E5ECF6",
           "caxis": {
            "gridcolor": "white",
            "linecolor": "white",
            "ticks": ""
           }
          },
          "title": {
           "x": 0.05
          },
          "xaxis": {
           "automargin": true,
           "gridcolor": "white",
           "linecolor": "white",
           "ticks": "",
           "title": {
            "standoff": 15
           },
           "zerolinecolor": "white",
           "zerolinewidth": 2
          },
          "yaxis": {
           "automargin": true,
           "gridcolor": "white",
           "linecolor": "white",
           "ticks": "",
           "title": {
            "standoff": 15
           },
           "zerolinecolor": "white",
           "zerolinewidth": 2
          }
         }
        },
        "title": {
         "text": "Funding Distribution across Top 10 Investment Stages"
        },
        "xaxis": {
         "anchor": "y",
         "domain": [
          0,
          1
         ],
         "tickangle": 45,
         "title": {
          "text": "Investment Stage"
         }
        },
        "yaxis": {
         "anchor": "x",
         "domain": [
          0,
          1
         ],
         "title": {
          "text": "Total Funding Amount"
         }
        }
       }
      }
     },
     "metadata": {},
     "output_type": "display_data"
    }
   ],
   "source": [
    "# Calculate total funding amount for each investment stage\n",
    "total_funding_by_stage = df_combined.groupby('Stage')['Amount'].sum().reset_index()\n",
    "\n",
    "# Sort the investment stages by total funding amount in descending order\n",
    "total_funding_by_stage = total_funding_by_stage.sort_values('Amount', ascending=False)\n",
    "\n",
    "# Print the investment stages by total funding amount\n",
    "print(\"Investment Stages by Total Funding Amount:\")\n",
    "print(total_funding_by_stage)\n",
    "\n",
    "# Select the top 10 stages\n",
    "top_10_stages = total_funding_by_stage.head(10)\n",
    "\n",
    "# Visualize the funding distribution across the top 10 investment stages\n",
    "fig = px.bar(top_10_stages, x='Stage', y='Amount',\n",
    "             title='Funding Distribution across Top 10 Investment Stages',\n",
    "             labels={'Stage': 'Investment Stage', 'Amount': 'Total Funding Amount'})\n",
    "\n",
    "# Rotate the x-axis tick labels\n",
    "fig.update_xaxes(tickangle=45)\n",
    "\n",
    "# Show the plot\n",
    "fig.show()"
   ]
  },
  {
   "cell_type": "markdown",
   "metadata": {},
   "source": [
    "**4. Geographical Analysis: Which cities or regions (HeadQuarter) have the highest concentration of funded startups?**"
   ]
  },
  {
   "cell_type": "code",
   "execution_count": 61,
   "metadata": {},
   "outputs": [
    {
     "name": "stdout",
     "output_type": "stream",
     "text": [
      "Top 10 HeadQuarter Locations by Total Funding Amount:\n",
      "                HeadQuarter        Amount\n",
      "70                   Mumbai  3.107163e+11\n",
      "14                Bengaluru  3.497344e+10\n",
      "39                 Gurugram  9.674770e+09\n",
      "73                New Delhi  4.745166e+09\n",
      "21                  Chennai  1.666970e+09\n",
      "83                     Pune  1.131025e+09\n",
      "75                    Noida  8.854700e+08\n",
      "48                   Jaipur  8.435950e+08\n",
      "38  Gurgaon, Haryana, India  6.068879e+08\n",
      "43                Hyderabad  5.511632e+08\n"
     ]
    },
    {
     "data": {
      "application/vnd.plotly.v1+json": {
       "config": {
        "plotlyServerURL": "https://plot.ly"
       },
       "data": [
        {
         "alignmentgroup": "True",
         "hovertemplate": "HeadQuarter Location=%{x}<br>Total Funding Amount=%{y}<extra></extra>",
         "legendgroup": "",
         "marker": {
          "color": "#636efa",
          "pattern": {
           "shape": ""
          }
         },
         "name": "",
         "offsetgroup": "",
         "orientation": "v",
         "showlegend": false,
         "textposition": "auto",
         "type": "bar",
         "x": [
          "Mumbai",
          "Bengaluru",
          "Gurugram",
          "New Delhi",
          "Chennai",
          "Pune",
          "Noida",
          "Jaipur",
          "Gurgaon, Haryana, India",
          "Hyderabad"
         ],
         "xaxis": "x",
         "y": [
          310716302000,
          34973439630,
          9674770000,
          4745166200,
          1666970400,
          1131024945,
          885470000,
          843595000,
          606887900,
          551163200
         ],
         "yaxis": "y"
        }
       ],
       "layout": {
        "barmode": "relative",
        "legend": {
         "tracegroupgap": 0
        },
        "template": {
         "data": {
          "bar": [
           {
            "error_x": {
             "color": "#2a3f5f"
            },
            "error_y": {
             "color": "#2a3f5f"
            },
            "marker": {
             "line": {
              "color": "#E5ECF6",
              "width": 0.5
             },
             "pattern": {
              "fillmode": "overlay",
              "size": 10,
              "solidity": 0.2
             }
            },
            "type": "bar"
           }
          ],
          "barpolar": [
           {
            "marker": {
             "line": {
              "color": "#E5ECF6",
              "width": 0.5
             },
             "pattern": {
              "fillmode": "overlay",
              "size": 10,
              "solidity": 0.2
             }
            },
            "type": "barpolar"
           }
          ],
          "carpet": [
           {
            "aaxis": {
             "endlinecolor": "#2a3f5f",
             "gridcolor": "white",
             "linecolor": "white",
             "minorgridcolor": "white",
             "startlinecolor": "#2a3f5f"
            },
            "baxis": {
             "endlinecolor": "#2a3f5f",
             "gridcolor": "white",
             "linecolor": "white",
             "minorgridcolor": "white",
             "startlinecolor": "#2a3f5f"
            },
            "type": "carpet"
           }
          ],
          "choropleth": [
           {
            "colorbar": {
             "outlinewidth": 0,
             "ticks": ""
            },
            "type": "choropleth"
           }
          ],
          "contour": [
           {
            "colorbar": {
             "outlinewidth": 0,
             "ticks": ""
            },
            "colorscale": [
             [
              0,
              "#0d0887"
             ],
             [
              0.1111111111111111,
              "#46039f"
             ],
             [
              0.2222222222222222,
              "#7201a8"
             ],
             [
              0.3333333333333333,
              "#9c179e"
             ],
             [
              0.4444444444444444,
              "#bd3786"
             ],
             [
              0.5555555555555556,
              "#d8576b"
             ],
             [
              0.6666666666666666,
              "#ed7953"
             ],
             [
              0.7777777777777778,
              "#fb9f3a"
             ],
             [
              0.8888888888888888,
              "#fdca26"
             ],
             [
              1,
              "#f0f921"
             ]
            ],
            "type": "contour"
           }
          ],
          "contourcarpet": [
           {
            "colorbar": {
             "outlinewidth": 0,
             "ticks": ""
            },
            "type": "contourcarpet"
           }
          ],
          "heatmap": [
           {
            "colorbar": {
             "outlinewidth": 0,
             "ticks": ""
            },
            "colorscale": [
             [
              0,
              "#0d0887"
             ],
             [
              0.1111111111111111,
              "#46039f"
             ],
             [
              0.2222222222222222,
              "#7201a8"
             ],
             [
              0.3333333333333333,
              "#9c179e"
             ],
             [
              0.4444444444444444,
              "#bd3786"
             ],
             [
              0.5555555555555556,
              "#d8576b"
             ],
             [
              0.6666666666666666,
              "#ed7953"
             ],
             [
              0.7777777777777778,
              "#fb9f3a"
             ],
             [
              0.8888888888888888,
              "#fdca26"
             ],
             [
              1,
              "#f0f921"
             ]
            ],
            "type": "heatmap"
           }
          ],
          "heatmapgl": [
           {
            "colorbar": {
             "outlinewidth": 0,
             "ticks": ""
            },
            "colorscale": [
             [
              0,
              "#0d0887"
             ],
             [
              0.1111111111111111,
              "#46039f"
             ],
             [
              0.2222222222222222,
              "#7201a8"
             ],
             [
              0.3333333333333333,
              "#9c179e"
             ],
             [
              0.4444444444444444,
              "#bd3786"
             ],
             [
              0.5555555555555556,
              "#d8576b"
             ],
             [
              0.6666666666666666,
              "#ed7953"
             ],
             [
              0.7777777777777778,
              "#fb9f3a"
             ],
             [
              0.8888888888888888,
              "#fdca26"
             ],
             [
              1,
              "#f0f921"
             ]
            ],
            "type": "heatmapgl"
           }
          ],
          "histogram": [
           {
            "marker": {
             "pattern": {
              "fillmode": "overlay",
              "size": 10,
              "solidity": 0.2
             }
            },
            "type": "histogram"
           }
          ],
          "histogram2d": [
           {
            "colorbar": {
             "outlinewidth": 0,
             "ticks": ""
            },
            "colorscale": [
             [
              0,
              "#0d0887"
             ],
             [
              0.1111111111111111,
              "#46039f"
             ],
             [
              0.2222222222222222,
              "#7201a8"
             ],
             [
              0.3333333333333333,
              "#9c179e"
             ],
             [
              0.4444444444444444,
              "#bd3786"
             ],
             [
              0.5555555555555556,
              "#d8576b"
             ],
             [
              0.6666666666666666,
              "#ed7953"
             ],
             [
              0.7777777777777778,
              "#fb9f3a"
             ],
             [
              0.8888888888888888,
              "#fdca26"
             ],
             [
              1,
              "#f0f921"
             ]
            ],
            "type": "histogram2d"
           }
          ],
          "histogram2dcontour": [
           {
            "colorbar": {
             "outlinewidth": 0,
             "ticks": ""
            },
            "colorscale": [
             [
              0,
              "#0d0887"
             ],
             [
              0.1111111111111111,
              "#46039f"
             ],
             [
              0.2222222222222222,
              "#7201a8"
             ],
             [
              0.3333333333333333,
              "#9c179e"
             ],
             [
              0.4444444444444444,
              "#bd3786"
             ],
             [
              0.5555555555555556,
              "#d8576b"
             ],
             [
              0.6666666666666666,
              "#ed7953"
             ],
             [
              0.7777777777777778,
              "#fb9f3a"
             ],
             [
              0.8888888888888888,
              "#fdca26"
             ],
             [
              1,
              "#f0f921"
             ]
            ],
            "type": "histogram2dcontour"
           }
          ],
          "mesh3d": [
           {
            "colorbar": {
             "outlinewidth": 0,
             "ticks": ""
            },
            "type": "mesh3d"
           }
          ],
          "parcoords": [
           {
            "line": {
             "colorbar": {
              "outlinewidth": 0,
              "ticks": ""
             }
            },
            "type": "parcoords"
           }
          ],
          "pie": [
           {
            "automargin": true,
            "type": "pie"
           }
          ],
          "scatter": [
           {
            "fillpattern": {
             "fillmode": "overlay",
             "size": 10,
             "solidity": 0.2
            },
            "type": "scatter"
           }
          ],
          "scatter3d": [
           {
            "line": {
             "colorbar": {
              "outlinewidth": 0,
              "ticks": ""
             }
            },
            "marker": {
             "colorbar": {
              "outlinewidth": 0,
              "ticks": ""
             }
            },
            "type": "scatter3d"
           }
          ],
          "scattercarpet": [
           {
            "marker": {
             "colorbar": {
              "outlinewidth": 0,
              "ticks": ""
             }
            },
            "type": "scattercarpet"
           }
          ],
          "scattergeo": [
           {
            "marker": {
             "colorbar": {
              "outlinewidth": 0,
              "ticks": ""
             }
            },
            "type": "scattergeo"
           }
          ],
          "scattergl": [
           {
            "marker": {
             "colorbar": {
              "outlinewidth": 0,
              "ticks": ""
             }
            },
            "type": "scattergl"
           }
          ],
          "scattermapbox": [
           {
            "marker": {
             "colorbar": {
              "outlinewidth": 0,
              "ticks": ""
             }
            },
            "type": "scattermapbox"
           }
          ],
          "scatterpolar": [
           {
            "marker": {
             "colorbar": {
              "outlinewidth": 0,
              "ticks": ""
             }
            },
            "type": "scatterpolar"
           }
          ],
          "scatterpolargl": [
           {
            "marker": {
             "colorbar": {
              "outlinewidth": 0,
              "ticks": ""
             }
            },
            "type": "scatterpolargl"
           }
          ],
          "scatterternary": [
           {
            "marker": {
             "colorbar": {
              "outlinewidth": 0,
              "ticks": ""
             }
            },
            "type": "scatterternary"
           }
          ],
          "surface": [
           {
            "colorbar": {
             "outlinewidth": 0,
             "ticks": ""
            },
            "colorscale": [
             [
              0,
              "#0d0887"
             ],
             [
              0.1111111111111111,
              "#46039f"
             ],
             [
              0.2222222222222222,
              "#7201a8"
             ],
             [
              0.3333333333333333,
              "#9c179e"
             ],
             [
              0.4444444444444444,
              "#bd3786"
             ],
             [
              0.5555555555555556,
              "#d8576b"
             ],
             [
              0.6666666666666666,
              "#ed7953"
             ],
             [
              0.7777777777777778,
              "#fb9f3a"
             ],
             [
              0.8888888888888888,
              "#fdca26"
             ],
             [
              1,
              "#f0f921"
             ]
            ],
            "type": "surface"
           }
          ],
          "table": [
           {
            "cells": {
             "fill": {
              "color": "#EBF0F8"
             },
             "line": {
              "color": "white"
             }
            },
            "header": {
             "fill": {
              "color": "#C8D4E3"
             },
             "line": {
              "color": "white"
             }
            },
            "type": "table"
           }
          ]
         },
         "layout": {
          "annotationdefaults": {
           "arrowcolor": "#2a3f5f",
           "arrowhead": 0,
           "arrowwidth": 1
          },
          "autotypenumbers": "strict",
          "coloraxis": {
           "colorbar": {
            "outlinewidth": 0,
            "ticks": ""
           }
          },
          "colorscale": {
           "diverging": [
            [
             0,
             "#8e0152"
            ],
            [
             0.1,
             "#c51b7d"
            ],
            [
             0.2,
             "#de77ae"
            ],
            [
             0.3,
             "#f1b6da"
            ],
            [
             0.4,
             "#fde0ef"
            ],
            [
             0.5,
             "#f7f7f7"
            ],
            [
             0.6,
             "#e6f5d0"
            ],
            [
             0.7,
             "#b8e186"
            ],
            [
             0.8,
             "#7fbc41"
            ],
            [
             0.9,
             "#4d9221"
            ],
            [
             1,
             "#276419"
            ]
           ],
           "sequential": [
            [
             0,
             "#0d0887"
            ],
            [
             0.1111111111111111,
             "#46039f"
            ],
            [
             0.2222222222222222,
             "#7201a8"
            ],
            [
             0.3333333333333333,
             "#9c179e"
            ],
            [
             0.4444444444444444,
             "#bd3786"
            ],
            [
             0.5555555555555556,
             "#d8576b"
            ],
            [
             0.6666666666666666,
             "#ed7953"
            ],
            [
             0.7777777777777778,
             "#fb9f3a"
            ],
            [
             0.8888888888888888,
             "#fdca26"
            ],
            [
             1,
             "#f0f921"
            ]
           ],
           "sequentialminus": [
            [
             0,
             "#0d0887"
            ],
            [
             0.1111111111111111,
             "#46039f"
            ],
            [
             0.2222222222222222,
             "#7201a8"
            ],
            [
             0.3333333333333333,
             "#9c179e"
            ],
            [
             0.4444444444444444,
             "#bd3786"
            ],
            [
             0.5555555555555556,
             "#d8576b"
            ],
            [
             0.6666666666666666,
             "#ed7953"
            ],
            [
             0.7777777777777778,
             "#fb9f3a"
            ],
            [
             0.8888888888888888,
             "#fdca26"
            ],
            [
             1,
             "#f0f921"
            ]
           ]
          },
          "colorway": [
           "#636efa",
           "#EF553B",
           "#00cc96",
           "#ab63fa",
           "#FFA15A",
           "#19d3f3",
           "#FF6692",
           "#B6E880",
           "#FF97FF",
           "#FECB52"
          ],
          "font": {
           "color": "#2a3f5f"
          },
          "geo": {
           "bgcolor": "white",
           "lakecolor": "white",
           "landcolor": "#E5ECF6",
           "showlakes": true,
           "showland": true,
           "subunitcolor": "white"
          },
          "hoverlabel": {
           "align": "left"
          },
          "hovermode": "closest",
          "mapbox": {
           "style": "light"
          },
          "paper_bgcolor": "white",
          "plot_bgcolor": "#E5ECF6",
          "polar": {
           "angularaxis": {
            "gridcolor": "white",
            "linecolor": "white",
            "ticks": ""
           },
           "bgcolor": "#E5ECF6",
           "radialaxis": {
            "gridcolor": "white",
            "linecolor": "white",
            "ticks": ""
           }
          },
          "scene": {
           "xaxis": {
            "backgroundcolor": "#E5ECF6",
            "gridcolor": "white",
            "gridwidth": 2,
            "linecolor": "white",
            "showbackground": true,
            "ticks": "",
            "zerolinecolor": "white"
           },
           "yaxis": {
            "backgroundcolor": "#E5ECF6",
            "gridcolor": "white",
            "gridwidth": 2,
            "linecolor": "white",
            "showbackground": true,
            "ticks": "",
            "zerolinecolor": "white"
           },
           "zaxis": {
            "backgroundcolor": "#E5ECF6",
            "gridcolor": "white",
            "gridwidth": 2,
            "linecolor": "white",
            "showbackground": true,
            "ticks": "",
            "zerolinecolor": "white"
           }
          },
          "shapedefaults": {
           "line": {
            "color": "#2a3f5f"
           }
          },
          "ternary": {
           "aaxis": {
            "gridcolor": "white",
            "linecolor": "white",
            "ticks": ""
           },
           "baxis": {
            "gridcolor": "white",
            "linecolor": "white",
            "ticks": ""
           },
           "bgcolor": "#E5ECF6",
           "caxis": {
            "gridcolor": "white",
            "linecolor": "white",
            "ticks": ""
           }
          },
          "title": {
           "x": 0.05
          },
          "xaxis": {
           "automargin": true,
           "gridcolor": "white",
           "linecolor": "white",
           "ticks": "",
           "title": {
            "standoff": 15
           },
           "zerolinecolor": "white",
           "zerolinewidth": 2
          },
          "yaxis": {
           "automargin": true,
           "gridcolor": "white",
           "linecolor": "white",
           "ticks": "",
           "title": {
            "standoff": 15
           },
           "zerolinecolor": "white",
           "zerolinewidth": 2
          }
         }
        },
        "title": {
         "text": "Top 10 HeadQuarter Locations by Total Funding Amount"
        },
        "xaxis": {
         "anchor": "y",
         "domain": [
          0,
          1
         ],
         "tickangle": 45,
         "title": {
          "text": "HeadQuarter Location"
         }
        },
        "yaxis": {
         "anchor": "x",
         "domain": [
          0,
          1
         ],
         "title": {
          "text": "Total Funding Amount"
         }
        }
       }
      }
     },
     "metadata": {},
     "output_type": "display_data"
    }
   ],
   "source": [
    "# Calculate total funding amount for each HeadQuarter\n",
    "total_funding_by_hq = df_combined.groupby('HeadQuarter')['Amount'].sum().reset_index()\n",
    "\n",
    "# Sort the HeadQuarter locations by total funding amount in descending order\n",
    "total_funding_by_hq = total_funding_by_hq.sort_values('Amount', ascending=False)\n",
    "\n",
    "# Print the top 10 HeadQuarter locations by total funding amount\n",
    "print(\"Top 10 HeadQuarter Locations by Total Funding Amount:\")\n",
    "print(total_funding_by_hq.head(10))\n",
    "\n",
    "# Visualize the funding distribution across HeadQuarter locations\n",
    "fig = px.bar(total_funding_by_hq.head(10), x='HeadQuarter', y='Amount',\n",
    "             title='Top 10 HeadQuarter Locations by Total Funding Amount',\n",
    "             labels={'HeadQuarter': 'HeadQuarter Location', 'Amount': 'Total Funding Amount'})\n",
    "\n",
    "# Rotate the x-axis tick labels\n",
    "fig.update_xaxes(tickangle=45)\n",
    "\n",
    "# Show the plot\n",
    "fig.show()"
   ]
  },
  {
   "cell_type": "markdown",
   "metadata": {},
   "source": [
    "**5. Investor Influence: Who are the top investors in the Indian startup ecosystem, and what is their funding pattern?**"
   ]
  },
  {
   "cell_type": "code",
   "execution_count": 62,
   "metadata": {},
   "outputs": [
    {
     "name": "stdout",
     "output_type": "stream",
     "text": [
      "Top 10 Investors in Indian Startup Ecosystem:\n",
      "                                              Investor        Amount\n",
      "875                             Unicorn India Ventures  1.513084e+11\n",
      "260                                  Elevation Capital  1.506316e+11\n",
      "830                                       Tiger Global  3.424000e+09\n",
      "193  Canaan Valley Capital, Glade Brook Capital Par...  2.000000e+09\n",
      "282  Falcon Edge, DST Global, D1 Capital, Redbird C...  1.680000e+09\n",
      "199                     Carmignac, Falcon Edge Capital  1.600000e+09\n",
      "754                               Sixth Sense Ventures  1.350358e+09\n",
      "766      SoftBank Vision Fund, Hindustan Media Venture  1.320000e+09\n",
      "857                                          TradeCred  1.230000e+09\n",
      "285                                Fidelity, B Capital  1.140000e+09\n"
     ]
    },
    {
     "data": {
      "application/vnd.plotly.v1+json": {
       "config": {
        "plotlyServerURL": "https://plot.ly"
       },
       "data": [
        {
         "alignmentgroup": "True",
         "hovertemplate": "Investor=%{x}<br>Total Funding Amount=%{y}<extra></extra>",
         "legendgroup": "",
         "marker": {
          "color": "#636efa",
          "pattern": {
           "shape": ""
          }
         },
         "name": "",
         "offsetgroup": "",
         "orientation": "v",
         "showlegend": false,
         "textposition": "auto",
         "type": "bar",
         "x": [
          "Unicorn India Ventures",
          "Elevation Capital",
          "Tiger Global",
          "Canaan Valley Capital, Glade Brook Capital Partners",
          "Falcon Edge, DST Global, D1 Capital, Redbird Capital, Tiger Global",
          "Carmignac, Falcon Edge Capital",
          "Sixth Sense Ventures",
          "SoftBank Vision Fund, Hindustan Media Venture",
          "TradeCred",
          "Fidelity, B Capital"
         ],
         "xaxis": "x",
         "y": [
          151308430000,
          150631603200,
          3424000000,
          2000000000,
          1680000000,
          1600000000,
          1350357800,
          1320000000,
          1230000000,
          1140000000
         ],
         "yaxis": "y"
        }
       ],
       "layout": {
        "barmode": "relative",
        "legend": {
         "tracegroupgap": 0
        },
        "template": {
         "data": {
          "bar": [
           {
            "error_x": {
             "color": "#2a3f5f"
            },
            "error_y": {
             "color": "#2a3f5f"
            },
            "marker": {
             "line": {
              "color": "#E5ECF6",
              "width": 0.5
             },
             "pattern": {
              "fillmode": "overlay",
              "size": 10,
              "solidity": 0.2
             }
            },
            "type": "bar"
           }
          ],
          "barpolar": [
           {
            "marker": {
             "line": {
              "color": "#E5ECF6",
              "width": 0.5
             },
             "pattern": {
              "fillmode": "overlay",
              "size": 10,
              "solidity": 0.2
             }
            },
            "type": "barpolar"
           }
          ],
          "carpet": [
           {
            "aaxis": {
             "endlinecolor": "#2a3f5f",
             "gridcolor": "white",
             "linecolor": "white",
             "minorgridcolor": "white",
             "startlinecolor": "#2a3f5f"
            },
            "baxis": {
             "endlinecolor": "#2a3f5f",
             "gridcolor": "white",
             "linecolor": "white",
             "minorgridcolor": "white",
             "startlinecolor": "#2a3f5f"
            },
            "type": "carpet"
           }
          ],
          "choropleth": [
           {
            "colorbar": {
             "outlinewidth": 0,
             "ticks": ""
            },
            "type": "choropleth"
           }
          ],
          "contour": [
           {
            "colorbar": {
             "outlinewidth": 0,
             "ticks": ""
            },
            "colorscale": [
             [
              0,
              "#0d0887"
             ],
             [
              0.1111111111111111,
              "#46039f"
             ],
             [
              0.2222222222222222,
              "#7201a8"
             ],
             [
              0.3333333333333333,
              "#9c179e"
             ],
             [
              0.4444444444444444,
              "#bd3786"
             ],
             [
              0.5555555555555556,
              "#d8576b"
             ],
             [
              0.6666666666666666,
              "#ed7953"
             ],
             [
              0.7777777777777778,
              "#fb9f3a"
             ],
             [
              0.8888888888888888,
              "#fdca26"
             ],
             [
              1,
              "#f0f921"
             ]
            ],
            "type": "contour"
           }
          ],
          "contourcarpet": [
           {
            "colorbar": {
             "outlinewidth": 0,
             "ticks": ""
            },
            "type": "contourcarpet"
           }
          ],
          "heatmap": [
           {
            "colorbar": {
             "outlinewidth": 0,
             "ticks": ""
            },
            "colorscale": [
             [
              0,
              "#0d0887"
             ],
             [
              0.1111111111111111,
              "#46039f"
             ],
             [
              0.2222222222222222,
              "#7201a8"
             ],
             [
              0.3333333333333333,
              "#9c179e"
             ],
             [
              0.4444444444444444,
              "#bd3786"
             ],
             [
              0.5555555555555556,
              "#d8576b"
             ],
             [
              0.6666666666666666,
              "#ed7953"
             ],
             [
              0.7777777777777778,
              "#fb9f3a"
             ],
             [
              0.8888888888888888,
              "#fdca26"
             ],
             [
              1,
              "#f0f921"
             ]
            ],
            "type": "heatmap"
           }
          ],
          "heatmapgl": [
           {
            "colorbar": {
             "outlinewidth": 0,
             "ticks": ""
            },
            "colorscale": [
             [
              0,
              "#0d0887"
             ],
             [
              0.1111111111111111,
              "#46039f"
             ],
             [
              0.2222222222222222,
              "#7201a8"
             ],
             [
              0.3333333333333333,
              "#9c179e"
             ],
             [
              0.4444444444444444,
              "#bd3786"
             ],
             [
              0.5555555555555556,
              "#d8576b"
             ],
             [
              0.6666666666666666,
              "#ed7953"
             ],
             [
              0.7777777777777778,
              "#fb9f3a"
             ],
             [
              0.8888888888888888,
              "#fdca26"
             ],
             [
              1,
              "#f0f921"
             ]
            ],
            "type": "heatmapgl"
           }
          ],
          "histogram": [
           {
            "marker": {
             "pattern": {
              "fillmode": "overlay",
              "size": 10,
              "solidity": 0.2
             }
            },
            "type": "histogram"
           }
          ],
          "histogram2d": [
           {
            "colorbar": {
             "outlinewidth": 0,
             "ticks": ""
            },
            "colorscale": [
             [
              0,
              "#0d0887"
             ],
             [
              0.1111111111111111,
              "#46039f"
             ],
             [
              0.2222222222222222,
              "#7201a8"
             ],
             [
              0.3333333333333333,
              "#9c179e"
             ],
             [
              0.4444444444444444,
              "#bd3786"
             ],
             [
              0.5555555555555556,
              "#d8576b"
             ],
             [
              0.6666666666666666,
              "#ed7953"
             ],
             [
              0.7777777777777778,
              "#fb9f3a"
             ],
             [
              0.8888888888888888,
              "#fdca26"
             ],
             [
              1,
              "#f0f921"
             ]
            ],
            "type": "histogram2d"
           }
          ],
          "histogram2dcontour": [
           {
            "colorbar": {
             "outlinewidth": 0,
             "ticks": ""
            },
            "colorscale": [
             [
              0,
              "#0d0887"
             ],
             [
              0.1111111111111111,
              "#46039f"
             ],
             [
              0.2222222222222222,
              "#7201a8"
             ],
             [
              0.3333333333333333,
              "#9c179e"
             ],
             [
              0.4444444444444444,
              "#bd3786"
             ],
             [
              0.5555555555555556,
              "#d8576b"
             ],
             [
              0.6666666666666666,
              "#ed7953"
             ],
             [
              0.7777777777777778,
              "#fb9f3a"
             ],
             [
              0.8888888888888888,
              "#fdca26"
             ],
             [
              1,
              "#f0f921"
             ]
            ],
            "type": "histogram2dcontour"
           }
          ],
          "mesh3d": [
           {
            "colorbar": {
             "outlinewidth": 0,
             "ticks": ""
            },
            "type": "mesh3d"
           }
          ],
          "parcoords": [
           {
            "line": {
             "colorbar": {
              "outlinewidth": 0,
              "ticks": ""
             }
            },
            "type": "parcoords"
           }
          ],
          "pie": [
           {
            "automargin": true,
            "type": "pie"
           }
          ],
          "scatter": [
           {
            "fillpattern": {
             "fillmode": "overlay",
             "size": 10,
             "solidity": 0.2
            },
            "type": "scatter"
           }
          ],
          "scatter3d": [
           {
            "line": {
             "colorbar": {
              "outlinewidth": 0,
              "ticks": ""
             }
            },
            "marker": {
             "colorbar": {
              "outlinewidth": 0,
              "ticks": ""
             }
            },
            "type": "scatter3d"
           }
          ],
          "scattercarpet": [
           {
            "marker": {
             "colorbar": {
              "outlinewidth": 0,
              "ticks": ""
             }
            },
            "type": "scattercarpet"
           }
          ],
          "scattergeo": [
           {
            "marker": {
             "colorbar": {
              "outlinewidth": 0,
              "ticks": ""
             }
            },
            "type": "scattergeo"
           }
          ],
          "scattergl": [
           {
            "marker": {
             "colorbar": {
              "outlinewidth": 0,
              "ticks": ""
             }
            },
            "type": "scattergl"
           }
          ],
          "scattermapbox": [
           {
            "marker": {
             "colorbar": {
              "outlinewidth": 0,
              "ticks": ""
             }
            },
            "type": "scattermapbox"
           }
          ],
          "scatterpolar": [
           {
            "marker": {
             "colorbar": {
              "outlinewidth": 0,
              "ticks": ""
             }
            },
            "type": "scatterpolar"
           }
          ],
          "scatterpolargl": [
           {
            "marker": {
             "colorbar": {
              "outlinewidth": 0,
              "ticks": ""
             }
            },
            "type": "scatterpolargl"
           }
          ],
          "scatterternary": [
           {
            "marker": {
             "colorbar": {
              "outlinewidth": 0,
              "ticks": ""
             }
            },
            "type": "scatterternary"
           }
          ],
          "surface": [
           {
            "colorbar": {
             "outlinewidth": 0,
             "ticks": ""
            },
            "colorscale": [
             [
              0,
              "#0d0887"
             ],
             [
              0.1111111111111111,
              "#46039f"
             ],
             [
              0.2222222222222222,
              "#7201a8"
             ],
             [
              0.3333333333333333,
              "#9c179e"
             ],
             [
              0.4444444444444444,
              "#bd3786"
             ],
             [
              0.5555555555555556,
              "#d8576b"
             ],
             [
              0.6666666666666666,
              "#ed7953"
             ],
             [
              0.7777777777777778,
              "#fb9f3a"
             ],
             [
              0.8888888888888888,
              "#fdca26"
             ],
             [
              1,
              "#f0f921"
             ]
            ],
            "type": "surface"
           }
          ],
          "table": [
           {
            "cells": {
             "fill": {
              "color": "#EBF0F8"
             },
             "line": {
              "color": "white"
             }
            },
            "header": {
             "fill": {
              "color": "#C8D4E3"
             },
             "line": {
              "color": "white"
             }
            },
            "type": "table"
           }
          ]
         },
         "layout": {
          "annotationdefaults": {
           "arrowcolor": "#2a3f5f",
           "arrowhead": 0,
           "arrowwidth": 1
          },
          "autotypenumbers": "strict",
          "coloraxis": {
           "colorbar": {
            "outlinewidth": 0,
            "ticks": ""
           }
          },
          "colorscale": {
           "diverging": [
            [
             0,
             "#8e0152"
            ],
            [
             0.1,
             "#c51b7d"
            ],
            [
             0.2,
             "#de77ae"
            ],
            [
             0.3,
             "#f1b6da"
            ],
            [
             0.4,
             "#fde0ef"
            ],
            [
             0.5,
             "#f7f7f7"
            ],
            [
             0.6,
             "#e6f5d0"
            ],
            [
             0.7,
             "#b8e186"
            ],
            [
             0.8,
             "#7fbc41"
            ],
            [
             0.9,
             "#4d9221"
            ],
            [
             1,
             "#276419"
            ]
           ],
           "sequential": [
            [
             0,
             "#0d0887"
            ],
            [
             0.1111111111111111,
             "#46039f"
            ],
            [
             0.2222222222222222,
             "#7201a8"
            ],
            [
             0.3333333333333333,
             "#9c179e"
            ],
            [
             0.4444444444444444,
             "#bd3786"
            ],
            [
             0.5555555555555556,
             "#d8576b"
            ],
            [
             0.6666666666666666,
             "#ed7953"
            ],
            [
             0.7777777777777778,
             "#fb9f3a"
            ],
            [
             0.8888888888888888,
             "#fdca26"
            ],
            [
             1,
             "#f0f921"
            ]
           ],
           "sequentialminus": [
            [
             0,
             "#0d0887"
            ],
            [
             0.1111111111111111,
             "#46039f"
            ],
            [
             0.2222222222222222,
             "#7201a8"
            ],
            [
             0.3333333333333333,
             "#9c179e"
            ],
            [
             0.4444444444444444,
             "#bd3786"
            ],
            [
             0.5555555555555556,
             "#d8576b"
            ],
            [
             0.6666666666666666,
             "#ed7953"
            ],
            [
             0.7777777777777778,
             "#fb9f3a"
            ],
            [
             0.8888888888888888,
             "#fdca26"
            ],
            [
             1,
             "#f0f921"
            ]
           ]
          },
          "colorway": [
           "#636efa",
           "#EF553B",
           "#00cc96",
           "#ab63fa",
           "#FFA15A",
           "#19d3f3",
           "#FF6692",
           "#B6E880",
           "#FF97FF",
           "#FECB52"
          ],
          "font": {
           "color": "#2a3f5f"
          },
          "geo": {
           "bgcolor": "white",
           "lakecolor": "white",
           "landcolor": "#E5ECF6",
           "showlakes": true,
           "showland": true,
           "subunitcolor": "white"
          },
          "hoverlabel": {
           "align": "left"
          },
          "hovermode": "closest",
          "mapbox": {
           "style": "light"
          },
          "paper_bgcolor": "white",
          "plot_bgcolor": "#E5ECF6",
          "polar": {
           "angularaxis": {
            "gridcolor": "white",
            "linecolor": "white",
            "ticks": ""
           },
           "bgcolor": "#E5ECF6",
           "radialaxis": {
            "gridcolor": "white",
            "linecolor": "white",
            "ticks": ""
           }
          },
          "scene": {
           "xaxis": {
            "backgroundcolor": "#E5ECF6",
            "gridcolor": "white",
            "gridwidth": 2,
            "linecolor": "white",
            "showbackground": true,
            "ticks": "",
            "zerolinecolor": "white"
           },
           "yaxis": {
            "backgroundcolor": "#E5ECF6",
            "gridcolor": "white",
            "gridwidth": 2,
            "linecolor": "white",
            "showbackground": true,
            "ticks": "",
            "zerolinecolor": "white"
           },
           "zaxis": {
            "backgroundcolor": "#E5ECF6",
            "gridcolor": "white",
            "gridwidth": 2,
            "linecolor": "white",
            "showbackground": true,
            "ticks": "",
            "zerolinecolor": "white"
           }
          },
          "shapedefaults": {
           "line": {
            "color": "#2a3f5f"
           }
          },
          "ternary": {
           "aaxis": {
            "gridcolor": "white",
            "linecolor": "white",
            "ticks": ""
           },
           "baxis": {
            "gridcolor": "white",
            "linecolor": "white",
            "ticks": ""
           },
           "bgcolor": "#E5ECF6",
           "caxis": {
            "gridcolor": "white",
            "linecolor": "white",
            "ticks": ""
           }
          },
          "title": {
           "x": 0.05
          },
          "xaxis": {
           "automargin": true,
           "gridcolor": "white",
           "linecolor": "white",
           "ticks": "",
           "title": {
            "standoff": 15
           },
           "zerolinecolor": "white",
           "zerolinewidth": 2
          },
          "yaxis": {
           "automargin": true,
           "gridcolor": "white",
           "linecolor": "white",
           "ticks": "",
           "title": {
            "standoff": 15
           },
           "zerolinecolor": "white",
           "zerolinewidth": 2
          }
         }
        },
        "title": {
         "text": "Top 10 Investors in Indian Startup Ecosystem"
        },
        "xaxis": {
         "anchor": "y",
         "domain": [
          0,
          1
         ],
         "tickangle": 45,
         "title": {
          "text": "Investor"
         }
        },
        "yaxis": {
         "anchor": "x",
         "domain": [
          0,
          1
         ],
         "title": {
          "text": "Total Funding Amount"
         }
        }
       }
      }
     },
     "metadata": {},
     "output_type": "display_data"
    }
   ],
   "source": [
    "# Calculate total funding amount for each investor\n",
    "total_funding_by_investor = df_combined.groupby('Investor')['Amount'].sum().reset_index()\n",
    "\n",
    "# Sort the investors by total funding amount in descending order\n",
    "total_funding_by_investor = total_funding_by_investor.sort_values('Amount', ascending=False)\n",
    "\n",
    "# Print the top 10 investors by total funding amount\n",
    "print(\"Top 10 Investors in Indian Startup Ecosystem:\")\n",
    "print(total_funding_by_investor.head(10))\n",
    "\n",
    "# Visualize the funding distribution across top investors\n",
    "fig = px.bar(total_funding_by_investor.head(10), x='Investor', y='Amount',\n",
    "             title='Top 10 Investors in Indian Startup Ecosystem',\n",
    "             labels={'Investor': 'Investor', 'Amount': 'Total Funding Amount'})\n",
    "\n",
    "# Rotate the x-axis tick labels\n",
    "fig.update_xaxes(tickangle=45)\n",
    "\n",
    "# Show the plot\n",
    "fig.show()"
   ]
  },
  {
   "cell_type": "markdown",
   "metadata": {},
   "source": [
    "**6. Founder Impact: Is there a correlation between the number of founders and the amount of funding received?**"
   ]
  },
  {
   "cell_type": "code",
   "execution_count": 98,
   "metadata": {},
   "outputs": [
    {
     "data": {
      "application/vnd.plotly.v1+json": {
       "config": {
        "plotlyServerURL": "https://plot.ly"
       },
       "data": [
        {
         "hovertemplate": "Number of Founders=%{x}<br>Total Funding Amount=%{y}<extra></extra>",
         "legendgroup": "",
         "marker": {
          "color": "#636efa",
          "symbol": "circle"
         },
         "mode": "markers",
         "name": "",
         "orientation": "v",
         "showlegend": false,
         "type": "scatter",
         "x": [
          "Vinod Murali",
          "Ritesh Agarwal",
          "Byju Raveendran, Divya Gokulnath",
          "Ashneer Grover, Shashvat Nakrani",
          "Bhavish Aggarwal",
          "Virendra Gupta",
          "Kunal Shah",
          "Sanjeev Barnwal, Vidit Aatrey",
          "Harsh Jain",
          "Nitish Mittersain"
         ],
         "xaxis": "x",
         "y": [
          300000000000,
          3956257350,
          3246473780,
          2326704600,
          2164380000,
          2000000000,
          1806068500,
          1740000000,
          1680000000,
          1455798900
         ],
         "yaxis": "y"
        }
       ],
       "layout": {
        "legend": {
         "tracegroupgap": 0
        },
        "template": {
         "data": {
          "bar": [
           {
            "error_x": {
             "color": "#2a3f5f"
            },
            "error_y": {
             "color": "#2a3f5f"
            },
            "marker": {
             "line": {
              "color": "#E5ECF6",
              "width": 0.5
             },
             "pattern": {
              "fillmode": "overlay",
              "size": 10,
              "solidity": 0.2
             }
            },
            "type": "bar"
           }
          ],
          "barpolar": [
           {
            "marker": {
             "line": {
              "color": "#E5ECF6",
              "width": 0.5
             },
             "pattern": {
              "fillmode": "overlay",
              "size": 10,
              "solidity": 0.2
             }
            },
            "type": "barpolar"
           }
          ],
          "carpet": [
           {
            "aaxis": {
             "endlinecolor": "#2a3f5f",
             "gridcolor": "white",
             "linecolor": "white",
             "minorgridcolor": "white",
             "startlinecolor": "#2a3f5f"
            },
            "baxis": {
             "endlinecolor": "#2a3f5f",
             "gridcolor": "white",
             "linecolor": "white",
             "minorgridcolor": "white",
             "startlinecolor": "#2a3f5f"
            },
            "type": "carpet"
           }
          ],
          "choropleth": [
           {
            "colorbar": {
             "outlinewidth": 0,
             "ticks": ""
            },
            "type": "choropleth"
           }
          ],
          "contour": [
           {
            "colorbar": {
             "outlinewidth": 0,
             "ticks": ""
            },
            "colorscale": [
             [
              0,
              "#0d0887"
             ],
             [
              0.1111111111111111,
              "#46039f"
             ],
             [
              0.2222222222222222,
              "#7201a8"
             ],
             [
              0.3333333333333333,
              "#9c179e"
             ],
             [
              0.4444444444444444,
              "#bd3786"
             ],
             [
              0.5555555555555556,
              "#d8576b"
             ],
             [
              0.6666666666666666,
              "#ed7953"
             ],
             [
              0.7777777777777778,
              "#fb9f3a"
             ],
             [
              0.8888888888888888,
              "#fdca26"
             ],
             [
              1,
              "#f0f921"
             ]
            ],
            "type": "contour"
           }
          ],
          "contourcarpet": [
           {
            "colorbar": {
             "outlinewidth": 0,
             "ticks": ""
            },
            "type": "contourcarpet"
           }
          ],
          "heatmap": [
           {
            "colorbar": {
             "outlinewidth": 0,
             "ticks": ""
            },
            "colorscale": [
             [
              0,
              "#0d0887"
             ],
             [
              0.1111111111111111,
              "#46039f"
             ],
             [
              0.2222222222222222,
              "#7201a8"
             ],
             [
              0.3333333333333333,
              "#9c179e"
             ],
             [
              0.4444444444444444,
              "#bd3786"
             ],
             [
              0.5555555555555556,
              "#d8576b"
             ],
             [
              0.6666666666666666,
              "#ed7953"
             ],
             [
              0.7777777777777778,
              "#fb9f3a"
             ],
             [
              0.8888888888888888,
              "#fdca26"
             ],
             [
              1,
              "#f0f921"
             ]
            ],
            "type": "heatmap"
           }
          ],
          "heatmapgl": [
           {
            "colorbar": {
             "outlinewidth": 0,
             "ticks": ""
            },
            "colorscale": [
             [
              0,
              "#0d0887"
             ],
             [
              0.1111111111111111,
              "#46039f"
             ],
             [
              0.2222222222222222,
              "#7201a8"
             ],
             [
              0.3333333333333333,
              "#9c179e"
             ],
             [
              0.4444444444444444,
              "#bd3786"
             ],
             [
              0.5555555555555556,
              "#d8576b"
             ],
             [
              0.6666666666666666,
              "#ed7953"
             ],
             [
              0.7777777777777778,
              "#fb9f3a"
             ],
             [
              0.8888888888888888,
              "#fdca26"
             ],
             [
              1,
              "#f0f921"
             ]
            ],
            "type": "heatmapgl"
           }
          ],
          "histogram": [
           {
            "marker": {
             "pattern": {
              "fillmode": "overlay",
              "size": 10,
              "solidity": 0.2
             }
            },
            "type": "histogram"
           }
          ],
          "histogram2d": [
           {
            "colorbar": {
             "outlinewidth": 0,
             "ticks": ""
            },
            "colorscale": [
             [
              0,
              "#0d0887"
             ],
             [
              0.1111111111111111,
              "#46039f"
             ],
             [
              0.2222222222222222,
              "#7201a8"
             ],
             [
              0.3333333333333333,
              "#9c179e"
             ],
             [
              0.4444444444444444,
              "#bd3786"
             ],
             [
              0.5555555555555556,
              "#d8576b"
             ],
             [
              0.6666666666666666,
              "#ed7953"
             ],
             [
              0.7777777777777778,
              "#fb9f3a"
             ],
             [
              0.8888888888888888,
              "#fdca26"
             ],
             [
              1,
              "#f0f921"
             ]
            ],
            "type": "histogram2d"
           }
          ],
          "histogram2dcontour": [
           {
            "colorbar": {
             "outlinewidth": 0,
             "ticks": ""
            },
            "colorscale": [
             [
              0,
              "#0d0887"
             ],
             [
              0.1111111111111111,
              "#46039f"
             ],
             [
              0.2222222222222222,
              "#7201a8"
             ],
             [
              0.3333333333333333,
              "#9c179e"
             ],
             [
              0.4444444444444444,
              "#bd3786"
             ],
             [
              0.5555555555555556,
              "#d8576b"
             ],
             [
              0.6666666666666666,
              "#ed7953"
             ],
             [
              0.7777777777777778,
              "#fb9f3a"
             ],
             [
              0.8888888888888888,
              "#fdca26"
             ],
             [
              1,
              "#f0f921"
             ]
            ],
            "type": "histogram2dcontour"
           }
          ],
          "mesh3d": [
           {
            "colorbar": {
             "outlinewidth": 0,
             "ticks": ""
            },
            "type": "mesh3d"
           }
          ],
          "parcoords": [
           {
            "line": {
             "colorbar": {
              "outlinewidth": 0,
              "ticks": ""
             }
            },
            "type": "parcoords"
           }
          ],
          "pie": [
           {
            "automargin": true,
            "type": "pie"
           }
          ],
          "scatter": [
           {
            "fillpattern": {
             "fillmode": "overlay",
             "size": 10,
             "solidity": 0.2
            },
            "type": "scatter"
           }
          ],
          "scatter3d": [
           {
            "line": {
             "colorbar": {
              "outlinewidth": 0,
              "ticks": ""
             }
            },
            "marker": {
             "colorbar": {
              "outlinewidth": 0,
              "ticks": ""
             }
            },
            "type": "scatter3d"
           }
          ],
          "scattercarpet": [
           {
            "marker": {
             "colorbar": {
              "outlinewidth": 0,
              "ticks": ""
             }
            },
            "type": "scattercarpet"
           }
          ],
          "scattergeo": [
           {
            "marker": {
             "colorbar": {
              "outlinewidth": 0,
              "ticks": ""
             }
            },
            "type": "scattergeo"
           }
          ],
          "scattergl": [
           {
            "marker": {
             "colorbar": {
              "outlinewidth": 0,
              "ticks": ""
             }
            },
            "type": "scattergl"
           }
          ],
          "scattermapbox": [
           {
            "marker": {
             "colorbar": {
              "outlinewidth": 0,
              "ticks": ""
             }
            },
            "type": "scattermapbox"
           }
          ],
          "scatterpolar": [
           {
            "marker": {
             "colorbar": {
              "outlinewidth": 0,
              "ticks": ""
             }
            },
            "type": "scatterpolar"
           }
          ],
          "scatterpolargl": [
           {
            "marker": {
             "colorbar": {
              "outlinewidth": 0,
              "ticks": ""
             }
            },
            "type": "scatterpolargl"
           }
          ],
          "scatterternary": [
           {
            "marker": {
             "colorbar": {
              "outlinewidth": 0,
              "ticks": ""
             }
            },
            "type": "scatterternary"
           }
          ],
          "surface": [
           {
            "colorbar": {
             "outlinewidth": 0,
             "ticks": ""
            },
            "colorscale": [
             [
              0,
              "#0d0887"
             ],
             [
              0.1111111111111111,
              "#46039f"
             ],
             [
              0.2222222222222222,
              "#7201a8"
             ],
             [
              0.3333333333333333,
              "#9c179e"
             ],
             [
              0.4444444444444444,
              "#bd3786"
             ],
             [
              0.5555555555555556,
              "#d8576b"
             ],
             [
              0.6666666666666666,
              "#ed7953"
             ],
             [
              0.7777777777777778,
              "#fb9f3a"
             ],
             [
              0.8888888888888888,
              "#fdca26"
             ],
             [
              1,
              "#f0f921"
             ]
            ],
            "type": "surface"
           }
          ],
          "table": [
           {
            "cells": {
             "fill": {
              "color": "#EBF0F8"
             },
             "line": {
              "color": "white"
             }
            },
            "header": {
             "fill": {
              "color": "#C8D4E3"
             },
             "line": {
              "color": "white"
             }
            },
            "type": "table"
           }
          ]
         },
         "layout": {
          "annotationdefaults": {
           "arrowcolor": "#2a3f5f",
           "arrowhead": 0,
           "arrowwidth": 1
          },
          "autotypenumbers": "strict",
          "coloraxis": {
           "colorbar": {
            "outlinewidth": 0,
            "ticks": ""
           }
          },
          "colorscale": {
           "diverging": [
            [
             0,
             "#8e0152"
            ],
            [
             0.1,
             "#c51b7d"
            ],
            [
             0.2,
             "#de77ae"
            ],
            [
             0.3,
             "#f1b6da"
            ],
            [
             0.4,
             "#fde0ef"
            ],
            [
             0.5,
             "#f7f7f7"
            ],
            [
             0.6,
             "#e6f5d0"
            ],
            [
             0.7,
             "#b8e186"
            ],
            [
             0.8,
             "#7fbc41"
            ],
            [
             0.9,
             "#4d9221"
            ],
            [
             1,
             "#276419"
            ]
           ],
           "sequential": [
            [
             0,
             "#0d0887"
            ],
            [
             0.1111111111111111,
             "#46039f"
            ],
            [
             0.2222222222222222,
             "#7201a8"
            ],
            [
             0.3333333333333333,
             "#9c179e"
            ],
            [
             0.4444444444444444,
             "#bd3786"
            ],
            [
             0.5555555555555556,
             "#d8576b"
            ],
            [
             0.6666666666666666,
             "#ed7953"
            ],
            [
             0.7777777777777778,
             "#fb9f3a"
            ],
            [
             0.8888888888888888,
             "#fdca26"
            ],
            [
             1,
             "#f0f921"
            ]
           ],
           "sequentialminus": [
            [
             0,
             "#0d0887"
            ],
            [
             0.1111111111111111,
             "#46039f"
            ],
            [
             0.2222222222222222,
             "#7201a8"
            ],
            [
             0.3333333333333333,
             "#9c179e"
            ],
            [
             0.4444444444444444,
             "#bd3786"
            ],
            [
             0.5555555555555556,
             "#d8576b"
            ],
            [
             0.6666666666666666,
             "#ed7953"
            ],
            [
             0.7777777777777778,
             "#fb9f3a"
            ],
            [
             0.8888888888888888,
             "#fdca26"
            ],
            [
             1,
             "#f0f921"
            ]
           ]
          },
          "colorway": [
           "#636efa",
           "#EF553B",
           "#00cc96",
           "#ab63fa",
           "#FFA15A",
           "#19d3f3",
           "#FF6692",
           "#B6E880",
           "#FF97FF",
           "#FECB52"
          ],
          "font": {
           "color": "#2a3f5f"
          },
          "geo": {
           "bgcolor": "white",
           "lakecolor": "white",
           "landcolor": "#E5ECF6",
           "showlakes": true,
           "showland": true,
           "subunitcolor": "white"
          },
          "hoverlabel": {
           "align": "left"
          },
          "hovermode": "closest",
          "mapbox": {
           "style": "light"
          },
          "paper_bgcolor": "white",
          "plot_bgcolor": "#E5ECF6",
          "polar": {
           "angularaxis": {
            "gridcolor": "white",
            "linecolor": "white",
            "ticks": ""
           },
           "bgcolor": "#E5ECF6",
           "radialaxis": {
            "gridcolor": "white",
            "linecolor": "white",
            "ticks": ""
           }
          },
          "scene": {
           "xaxis": {
            "backgroundcolor": "#E5ECF6",
            "gridcolor": "white",
            "gridwidth": 2,
            "linecolor": "white",
            "showbackground": true,
            "ticks": "",
            "zerolinecolor": "white"
           },
           "yaxis": {
            "backgroundcolor": "#E5ECF6",
            "gridcolor": "white",
            "gridwidth": 2,
            "linecolor": "white",
            "showbackground": true,
            "ticks": "",
            "zerolinecolor": "white"
           },
           "zaxis": {
            "backgroundcolor": "#E5ECF6",
            "gridcolor": "white",
            "gridwidth": 2,
            "linecolor": "white",
            "showbackground": true,
            "ticks": "",
            "zerolinecolor": "white"
           }
          },
          "shapedefaults": {
           "line": {
            "color": "#2a3f5f"
           }
          },
          "ternary": {
           "aaxis": {
            "gridcolor": "white",
            "linecolor": "white",
            "ticks": ""
           },
           "baxis": {
            "gridcolor": "white",
            "linecolor": "white",
            "ticks": ""
           },
           "bgcolor": "#E5ECF6",
           "caxis": {
            "gridcolor": "white",
            "linecolor": "white",
            "ticks": ""
           }
          },
          "title": {
           "x": 0.05
          },
          "xaxis": {
           "automargin": true,
           "gridcolor": "white",
           "linecolor": "white",
           "ticks": "",
           "title": {
            "standoff": 15
           },
           "zerolinecolor": "white",
           "zerolinewidth": 2
          },
          "yaxis": {
           "automargin": true,
           "gridcolor": "white",
           "linecolor": "white",
           "ticks": "",
           "title": {
            "standoff": 15
           },
           "zerolinecolor": "white",
           "zerolinewidth": 2
          }
         }
        },
        "title": {
         "text": "Top 10 Founders by Total Funding Amount"
        },
        "xaxis": {
         "anchor": "y",
         "domain": [
          0,
          1
         ],
         "title": {
          "text": "Number of Founders"
         }
        },
        "yaxis": {
         "anchor": "x",
         "domain": [
          0,
          1
         ],
         "title": {
          "text": "Total Funding Amount"
         }
        }
       }
      }
     },
     "metadata": {},
     "output_type": "display_data"
    }
   ],
   "source": [
    "# Calculate total funding amount for each founder\n",
    "total_funding_by_founder = df_combined.groupby('Founders')['Amount'].sum().reset_index()\n",
    "\n",
    "# Sort the founders by total funding amount in descending order\n",
    "total_funding_by_founder = total_funding_by_founder.sort_values('Amount', ascending=False)\n",
    "\n",
    "# Select the top 10 founders\n",
    "top_10_founders = total_funding_by_founder.head(10)\n",
    "\n",
    "# Plot the data\n",
    "fig = px.scatter(top_10_founders, x='Founders', y='Amount',\n",
    "                 title='Top 10 Founders by Total Funding Amount',\n",
    "                 labels={'Founders': 'Number of Founders', 'Amount': 'Total Funding Amount'})\n",
    "\n",
    "# Show the plot\n",
    "fig.show()"
   ]
  },
  {
   "cell_type": "markdown",
   "metadata": {},
   "source": [
    "**7. What are the characteristics of startups in the highest-funded sectors (e.g., number of founders, location)?**"
   ]
  },
  {
   "cell_type": "code",
   "execution_count": 91,
   "metadata": {},
   "outputs": [
    {
     "name": "stdout",
     "output_type": "stream",
     "text": [
      "Average number of founders in the Finance sector: 1.7564469914040115\n",
      "Cleaned locations of startups in the Finance sector: Chennai, Delhi, Bengaluru, Nan, Noida, Rajasthan, Gurugram, New delhi, Gujarat, Mumbai, Pune, Thane, Hyderabad, Bhubaneswar, Jaipur, Santra, Chandigarh, Gurgaon, haryana, india, Bengaluru, karnataka, india, Kormangala, karnataka, india, Andheri, maharashtra, india, Ahmedabad, gujarat, india, Haryana\n"
     ]
    }
   ],
   "source": [
    "# Find the highest-funded sectors\n",
    "highest_funded_sector = df_combined['Sector'].value_counts().idxmax()\n",
    "\n",
    "# Filter the dataset to include only startups in the highest-funded sector\n",
    "highest_funded_startups = df_combined[df_combined['Sector'] == highest_funded_sector]\n",
    "\n",
    "# Analyze the characteristics of startups in the highest-funded sector\n",
    "num_founders = highest_funded_startups['Founders'].apply(lambda x: len(str(x).split(',')))\n",
    "locations = highest_funded_startups['HeadQuarter']\n",
    "\n",
    "# Convert float values to strings\n",
    "locations_str = locations.apply(lambda x: str(x) if isinstance(x, float) else x)\n",
    "\n",
    "# Clean up locations\n",
    "cleaned_locations = locations_str.str.strip().str.capitalize().unique()\n",
    "\n",
    "# Print the characteristics\n",
    "print(f\"Average number of founders in the {highest_funded_sector} sector: {num_founders.mean()}\")\n",
    "print(f\"Cleaned locations of startups in the {highest_funded_sector} sector: {', '.join(cleaned_locations)}\")"
   ]
  },
  {
   "cell_type": "markdown",
   "metadata": {},
   "source": [
    "**8. Which Business is more viable to set - The best performing business(s) ? The determinants for our best performing will be determined from the sector that recieved the highest funding Amount and not in debt and exsists in the Stage: Series D onwads.**"
   ]
  },
  {
   "cell_type": "code",
   "execution_count": 65,
   "metadata": {},
   "outputs": [
    {
     "name": "stdout",
     "output_type": "stream",
     "text": [
      "Best Performing Sector:\n",
      "Sector: Transport\n",
      "Total Funding Amount: 4014334800.0\n",
      "---\n",
      "Sector: Finance\n",
      "Total Funding Amount: 3749116000.0\n",
      "---\n",
      "Sector: Innovation Management\n",
      "Total Funding Amount: 2000000000.0\n",
      "---\n",
      "Sector: EdTech\n",
      "Total Funding Amount: 1680120000.0\n",
      "---\n",
      "Sector: Sports\n",
      "Total Funding Amount: 1680000000.0\n",
      "---\n"
     ]
    }
   ],
   "source": [
    "# Filter out companies that are in debt\n",
    "not_in_debt = df_combined[df_combined['Stage'] != 'Debt']\n",
    "\n",
    "# Filter out companies that are in Series D or later stages\n",
    "series_d_or_later = not_in_debt[not_in_debt['Stage'].isin(['Series D', 'Series E', 'Series F', 'Series G', 'Series H', 'Series I'])]\n",
    "\n",
    "# Calculate total funding amount for each sector\n",
    "total_funding_by_sector = series_d_or_later.groupby('Sector')['Amount'].sum().reset_index()\n",
    "\n",
    "# Sort the sector by total funding amount in descending order\n",
    "total_funding_by_sector = total_funding_by_sector.sort_values('Amount', ascending=False)\n",
    "\n",
    "# Select the top company (or companies) with the highest funding amount\n",
    "top_funded_sector = total_funding_by_sector.head()\n",
    "\n",
    "# Print the top funded sector \n",
    "print(\"Best Performing Sector:\")\n",
    "for _, row in top_funded_sector.iterrows():\n",
    "    print(f\"Sector: {row['Sector']}\")\n",
    "    print(f\"Total Funding Amount: {row['Amount']}\")\n",
    "    print(\"---\")"
   ]
  },
  {
   "cell_type": "code",
   "execution_count": 66,
   "metadata": {},
   "outputs": [],
   "source": [
    "# Load the csv into a dataframe\n",
    "\n",
    "df_combined.to_csv('clean_combined_LP1dataset.csv', index= False)"
   ]
  }
 ],
 "metadata": {
  "kernelspec": {
   "display_name": "Python 3",
   "language": "python",
   "name": "python3"
  },
  "language_info": {
   "codemirror_mode": {
    "name": "ipython",
    "version": 3
   },
   "file_extension": ".py",
   "mimetype": "text/x-python",
   "name": "python",
   "nbconvert_exporter": "python",
   "pygments_lexer": "ipython3",
   "version": "3.12.0"
  }
 },
 "nbformat": 4,
 "nbformat_minor": 2
}
