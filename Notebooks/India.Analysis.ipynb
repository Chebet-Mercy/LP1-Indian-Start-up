{
 "cells": [
  {
   "cell_type": "markdown",
   "metadata": {},
   "source": [
    "# Analysis of Funding Distribution of India Startup"
   ]
  },
  {
   "cell_type": "markdown",
   "metadata": {},
   "source": [
    "**BUSINESS UNDERSTANDING**\n",
    "\n",
    "We are exploring The Indian Startup Ecosystem to understand funding trends and identify promising opportunity. The goal is to analyze funding data from 2018 to 2021, focusing on key factors such as amount of funding received, sectors, stages of investment, and geographic locations.\n",
    "\n",
    "**HYPOTHESIS TESTING**\n",
    "\n",
    "Null Hypothesis (H0): There is no significant difference in the amount of funding received by startups across different sectors and stages.\n",
    " \n",
    "Alternate Hypothesis (H1): There is a significant difference in the amount of funding received by startups across different sectors and stages.\n",
    "\n",
    "\n",
    "**ANALYTICAL QUESTIONS**\n",
    "1. Funding Trends:\n",
    "How has the total funding amount changed year over year from 2018 to 2021?\n",
    "How has the average funding amount in each sector changed over the years (2018 - 2021)\n",
    " \n",
    "2. Sector Analysis:\n",
    "Which sectors have received the most funding, and how does the funding distribution vary across sectors?\n",
    " \n",
    "3.Stage Analysis:\n",
    "What is the distribution of funding across different investment stages (e.g., Pre-seed, Seed, Series A)?\n",
    " \n",
    "4. Geographical Analysis:\n",
    "Which cities or regions have the highest concentration of funded startups?\n",
    " \n",
    "5.Investor Influence:\n",
    "Who are the top investors in the Indian startup ecosystem, and what is their funding pattern?\n",
    " \n",
    "6. Founder Impact:\n",
    "Is there a correlation between the number of founders and the amount of funding received?\n",
    " \n",
    "7. What are the characteristics of startups in the highest-funded sectors (e.g., number of founders, location)?\n",
    " \n",
    "8. Which Business is more viable to set - The best performing businesses?"
   ]
  },
  {
   "cell_type": "code",
   "execution_count": 1,
   "metadata": {},
   "outputs": [
    {
     "name": "stdout",
     "output_type": "stream",
     "text": [
      "Requirement already satisfied: pyodbc in c:\\users\\mercy chebet\\appdata\\local\\programs\\python\\python312\\lib\\site-packages (5.1.0)\n",
      "Note: you may need to restart the kernel to use updated packages.\n"
     ]
    },
    {
     "name": "stderr",
     "output_type": "stream",
     "text": [
      "\n",
      "[notice] A new release of pip is available: 23.2.1 -> 24.0\n",
      "[notice] To update, run: python.exe -m pip install --upgrade pip\n"
     ]
    },
    {
     "name": "stdout",
     "output_type": "stream",
     "text": [
      "Requirement already satisfied: python-dotenv in c:\\users\\mercy chebet\\appdata\\local\\programs\\python\\python312\\lib\\site-packages (1.0.1)Note: you may need to restart the kernel to use updated packages.\n"
     ]
    },
    {
     "name": "stderr",
     "output_type": "stream",
     "text": [
      "\n",
      "[notice] A new release of pip is available: 23.2.1 -> 24.0\n",
      "[notice] To update, run: python.exe -m pip install --upgrade pip\n"
     ]
    },
    {
     "name": "stdout",
     "output_type": "stream",
     "text": [
      "\n",
      "Requirement already satisfied: seaborn in c:\\users\\mercy chebet\\appdata\\local\\programs\\python\\python312\\lib\\site-packages (0.13.2)\n",
      "Requirement already satisfied: numpy!=1.24.0,>=1.20 in c:\\users\\mercy chebet\\appdata\\local\\programs\\python\\python312\\lib\\site-packages (from seaborn) (1.26.4)\n",
      "Requirement already satisfied: pandas>=1.2 in c:\\users\\mercy chebet\\appdata\\local\\programs\\python\\python312\\lib\\site-packages (from seaborn) (2.2.1)\n",
      "Requirement already satisfied: matplotlib!=3.6.1,>=3.4 in c:\\users\\mercy chebet\\appdata\\local\\programs\\python\\python312\\lib\\site-packages (from seaborn) (3.8.4)\n",
      "Requirement already satisfied: contourpy>=1.0.1 in c:\\users\\mercy chebet\\appdata\\local\\programs\\python\\python312\\lib\\site-packages (from matplotlib!=3.6.1,>=3.4->seaborn) (1.2.1)\n",
      "Requirement already satisfied: cycler>=0.10 in c:\\users\\mercy chebet\\appdata\\local\\programs\\python\\python312\\lib\\site-packages (from matplotlib!=3.6.1,>=3.4->seaborn) (0.12.1)\n",
      "Requirement already satisfied: fonttools>=4.22.0 in c:\\users\\mercy chebet\\appdata\\local\\programs\\python\\python312\\lib\\site-packages (from matplotlib!=3.6.1,>=3.4->seaborn) (4.51.0)\n",
      "Requirement already satisfied: kiwisolver>=1.3.1 in c:\\users\\mercy chebet\\appdata\\local\\programs\\python\\python312\\lib\\site-packages (from matplotlib!=3.6.1,>=3.4->seaborn) (1.4.5)\n",
      "Requirement already satisfied: packaging>=20.0 in c:\\users\\mercy chebet\\appdata\\roaming\\python\\python312\\site-packages (from matplotlib!=3.6.1,>=3.4->seaborn) (23.2)\n",
      "Requirement already satisfied: pillow>=8 in c:\\users\\mercy chebet\\appdata\\local\\programs\\python\\python312\\lib\\site-packages (from matplotlib!=3.6.1,>=3.4->seaborn) (10.3.0)\n",
      "Requirement already satisfied: pyparsing>=2.3.1 in c:\\users\\mercy chebet\\appdata\\local\\programs\\python\\python312\\lib\\site-packages (from matplotlib!=3.6.1,>=3.4->seaborn) (3.1.2)\n",
      "Requirement already satisfied: python-dateutil>=2.7 in c:\\users\\mercy chebet\\appdata\\roaming\\python\\python312\\site-packages (from matplotlib!=3.6.1,>=3.4->seaborn) (2.8.2)\n",
      "Requirement already satisfied: pytz>=2020.1 in c:\\users\\mercy chebet\\appdata\\local\\programs\\python\\python312\\lib\\site-packages (from pandas>=1.2->seaborn) (2024.1)\n",
      "Requirement already satisfied: tzdata>=2022.7 in c:\\users\\mercy chebet\\appdata\\local\\programs\\python\\python312\\lib\\site-packages (from pandas>=1.2->seaborn) (2024.1)\n",
      "Requirement already satisfied: six>=1.5 in c:\\users\\mercy chebet\\appdata\\roaming\\python\\python312\\site-packages (from python-dateutil>=2.7->matplotlib!=3.6.1,>=3.4->seaborn) (1.16.0)\n",
      "Note: you may need to restart the kernel to use updated packages.\n"
     ]
    },
    {
     "name": "stderr",
     "output_type": "stream",
     "text": [
      "\n",
      "[notice] A new release of pip is available: 23.2.1 -> 24.0\n",
      "[notice] To update, run: python.exe -m pip install --upgrade pip\n"
     ]
    },
    {
     "name": "stdout",
     "output_type": "stream",
     "text": [
      "Requirement already satisfied: openpyxl in c:\\users\\mercy chebet\\appdata\\local\\programs\\python\\python312\\lib\\site-packages (3.1.2)\n",
      "Requirement already satisfied: et-xmlfile in c:\\users\\mercy chebet\\appdata\\local\\programs\\python\\python312\\lib\\site-packages (from openpyxl) (1.1.0)\n",
      "Note: you may need to restart the kernel to use updated packages.\n"
     ]
    },
    {
     "name": "stderr",
     "output_type": "stream",
     "text": [
      "\n",
      "[notice] A new release of pip is available: 23.2.1 -> 24.0\n",
      "[notice] To update, run: python.exe -m pip install --upgrade pip\n"
     ]
    },
    {
     "name": "stdout",
     "output_type": "stream",
     "text": [
      "Requirement already satisfied: plotly in c:\\users\\mercy chebet\\appdata\\local\\programs\\python\\python312\\lib\\site-packages (5.22.0)\n",
      "Requirement already satisfied: tenacity>=6.2.0 in c:\\users\\mercy chebet\\appdata\\local\\programs\\python\\python312\\lib\\site-packages (from plotly) (8.3.0)\n",
      "Requirement already satisfied: packaging in c:\\users\\mercy chebet\\appdata\\roaming\\python\\python312\\site-packages (from plotly) (23.2)\n",
      "Note: you may need to restart the kernel to use updated packages.\n"
     ]
    },
    {
     "name": "stderr",
     "output_type": "stream",
     "text": [
      "\n",
      "[notice] A new release of pip is available: 23.2.1 -> 24.0\n",
      "[notice] To update, run: python.exe -m pip install --upgrade pip\n"
     ]
    }
   ],
   "source": [
    "%pip install pyodbc  \n",
    "%pip install python-dotenv\n",
    "%pip install seaborn\n",
    "%pip install openpyxl\n",
    "%pip install plotly\n"
   ]
  },
  {
   "cell_type": "code",
   "execution_count": 2,
   "metadata": {},
   "outputs": [],
   "source": [
    "import pyodbc     \n",
    "from dotenv import dotenv_values    #import the dotenv_values function from the dotenv package\n",
    "import pandas as pd\n",
    "import numpy as np\n",
    "import warnings \n",
    "import matplotlib.pyplot as plt\n",
    "import seaborn as sns\n",
    "import plotly.express as px\n",
    "import plotly.graph_objs as go\n",
    "\n",
    "warnings.filterwarnings('ignore')"
   ]
  },
  {
   "cell_type": "code",
   "execution_count": 3,
   "metadata": {},
   "outputs": [],
   "source": [
    "# Load environment variables from .env file into a dictionary\n",
    "environment_variables = dotenv_values('.env')\n",
    "\n",
    "# Get the values for the credentials you set in the '.env' file\n",
    "server = environment_variables.get(\"server\")\n",
    "database = environment_variables.get(\"database\")\n",
    "username = environment_variables.get(\"username\")\n",
    "password = environment_variables.get(\"password\")"
   ]
  },
  {
   "cell_type": "code",
   "execution_count": 4,
   "metadata": {},
   "outputs": [],
   "source": [
    "# Create a connection string\n",
    "connection_string = f\"DRIVER={{SQL Server}};SERVER={server};DATABASE={database};UID={username};PWD={password};MARS_Connection=yes;MinProtocolVersion=TLSv1.2;\"\n"
   ]
  },
  {
   "cell_type": "code",
   "execution_count": 5,
   "metadata": {},
   "outputs": [],
   "source": [
    "# Use the connect method of the pyodbc library and pass in the connection string.\n",
    "# This will connect to the server and might take a few seconds to be complete. \n",
    "# Check your internet connection if it takes more time than necessary\n",
    "\n",
    "connection = pyodbc.connect(connection_string)"
   ]
  },
  {
   "cell_type": "markdown",
   "metadata": {},
   "source": [
    "**Loading the datasets**"
   ]
  },
  {
   "cell_type": "code",
   "execution_count": 6,
   "metadata": {},
   "outputs": [
    {
     "data": {
      "text/html": [
       "<div>\n",
       "<style scoped>\n",
       "    .dataframe tbody tr th:only-of-type {\n",
       "        vertical-align: middle;\n",
       "    }\n",
       "\n",
       "    .dataframe tbody tr th {\n",
       "        vertical-align: top;\n",
       "    }\n",
       "\n",
       "    .dataframe thead th {\n",
       "        text-align: right;\n",
       "    }\n",
       "</style>\n",
       "<table border=\"1\" class=\"dataframe\">\n",
       "  <thead>\n",
       "    <tr style=\"text-align: right;\">\n",
       "      <th></th>\n",
       "      <th>Company_Brand</th>\n",
       "      <th>Founded</th>\n",
       "      <th>HeadQuarter</th>\n",
       "      <th>Sector</th>\n",
       "      <th>What_it_does</th>\n",
       "      <th>Founders</th>\n",
       "      <th>Investor</th>\n",
       "      <th>Amount</th>\n",
       "      <th>Stage</th>\n",
       "    </tr>\n",
       "  </thead>\n",
       "  <tbody>\n",
       "    <tr>\n",
       "      <th>0</th>\n",
       "      <td>Unbox Robotics</td>\n",
       "      <td>2019.0</td>\n",
       "      <td>Bangalore</td>\n",
       "      <td>AI startup</td>\n",
       "      <td>Unbox Robotics builds on-demand AI-driven ware...</td>\n",
       "      <td>Pramod Ghadge, Shahid Memon</td>\n",
       "      <td>BEENEXT, Entrepreneur First</td>\n",
       "      <td>$1,200,000</td>\n",
       "      <td>Pre-series A</td>\n",
       "    </tr>\n",
       "    <tr>\n",
       "      <th>1</th>\n",
       "      <td>upGrad</td>\n",
       "      <td>2015.0</td>\n",
       "      <td>Mumbai</td>\n",
       "      <td>EdTech</td>\n",
       "      <td>UpGrad is an online higher education platform.</td>\n",
       "      <td>Mayank Kumar, Phalgun Kompalli, Ravijot Chugh,...</td>\n",
       "      <td>Unilazer Ventures, IIFL Asset Management</td>\n",
       "      <td>$120,000,000</td>\n",
       "      <td>None</td>\n",
       "    </tr>\n",
       "    <tr>\n",
       "      <th>2</th>\n",
       "      <td>Lead School</td>\n",
       "      <td>2012.0</td>\n",
       "      <td>Mumbai</td>\n",
       "      <td>EdTech</td>\n",
       "      <td>LEAD School offers technology based school tra...</td>\n",
       "      <td>Smita Deorah, Sumeet Mehta</td>\n",
       "      <td>GSV Ventures, Westbridge Capital</td>\n",
       "      <td>$30,000,000</td>\n",
       "      <td>Series D</td>\n",
       "    </tr>\n",
       "    <tr>\n",
       "      <th>3</th>\n",
       "      <td>Bizongo</td>\n",
       "      <td>2015.0</td>\n",
       "      <td>Mumbai</td>\n",
       "      <td>B2B E-commerce</td>\n",
       "      <td>Bizongo is a business-to-business online marke...</td>\n",
       "      <td>Aniket Deb, Ankit Tomar, Sachin Agrawal</td>\n",
       "      <td>CDC Group, IDG Capital</td>\n",
       "      <td>$51,000,000</td>\n",
       "      <td>Series C</td>\n",
       "    </tr>\n",
       "    <tr>\n",
       "      <th>4</th>\n",
       "      <td>FypMoney</td>\n",
       "      <td>2021.0</td>\n",
       "      <td>Gurugram</td>\n",
       "      <td>FinTech</td>\n",
       "      <td>FypMoney is Digital NEO Bank for Teenagers, em...</td>\n",
       "      <td>Kapil Banwari</td>\n",
       "      <td>Liberatha Kallat, Mukesh Yadav, Dinesh Nagpal</td>\n",
       "      <td>$2,000,000</td>\n",
       "      <td>Seed</td>\n",
       "    </tr>\n",
       "    <tr>\n",
       "      <th>...</th>\n",
       "      <td>...</td>\n",
       "      <td>...</td>\n",
       "      <td>...</td>\n",
       "      <td>...</td>\n",
       "      <td>...</td>\n",
       "      <td>...</td>\n",
       "      <td>...</td>\n",
       "      <td>...</td>\n",
       "      <td>...</td>\n",
       "    </tr>\n",
       "    <tr>\n",
       "      <th>1204</th>\n",
       "      <td>Gigforce</td>\n",
       "      <td>2019.0</td>\n",
       "      <td>Gurugram</td>\n",
       "      <td>Staffing &amp; Recruiting</td>\n",
       "      <td>A gig/on-demand staffing company.</td>\n",
       "      <td>Chirag Mittal, Anirudh Syal</td>\n",
       "      <td>Endiya Partners</td>\n",
       "      <td>$3000000</td>\n",
       "      <td>Pre-series A</td>\n",
       "    </tr>\n",
       "    <tr>\n",
       "      <th>1205</th>\n",
       "      <td>Vahdam</td>\n",
       "      <td>2015.0</td>\n",
       "      <td>New Delhi</td>\n",
       "      <td>Food &amp; Beverages</td>\n",
       "      <td>VAHDAM is among the world’s first vertically i...</td>\n",
       "      <td>Bala Sarda</td>\n",
       "      <td>IIFL AMC</td>\n",
       "      <td>$20000000</td>\n",
       "      <td>Series D</td>\n",
       "    </tr>\n",
       "    <tr>\n",
       "      <th>1206</th>\n",
       "      <td>Leap Finance</td>\n",
       "      <td>2019.0</td>\n",
       "      <td>Bangalore</td>\n",
       "      <td>Financial Services</td>\n",
       "      <td>International education loans for high potenti...</td>\n",
       "      <td>Arnav Kumar, Vaibhav Singh</td>\n",
       "      <td>Owl Ventures</td>\n",
       "      <td>$55000000</td>\n",
       "      <td>Series C</td>\n",
       "    </tr>\n",
       "    <tr>\n",
       "      <th>1207</th>\n",
       "      <td>CollegeDekho</td>\n",
       "      <td>2015.0</td>\n",
       "      <td>Gurugram</td>\n",
       "      <td>EdTech</td>\n",
       "      <td>Collegedekho.com is Student’s Partner, Friend ...</td>\n",
       "      <td>Ruchir Arora</td>\n",
       "      <td>Winter Capital, ETS, Man Capital</td>\n",
       "      <td>$26000000</td>\n",
       "      <td>Series B</td>\n",
       "    </tr>\n",
       "    <tr>\n",
       "      <th>1208</th>\n",
       "      <td>WeRize</td>\n",
       "      <td>2019.0</td>\n",
       "      <td>Bangalore</td>\n",
       "      <td>Financial Services</td>\n",
       "      <td>India’s first socially distributed full stack ...</td>\n",
       "      <td>Vishal Chopra, Himanshu Gupta</td>\n",
       "      <td>3one4 Capital, Kalaari Capital</td>\n",
       "      <td>$8000000</td>\n",
       "      <td>Series A</td>\n",
       "    </tr>\n",
       "  </tbody>\n",
       "</table>\n",
       "<p>1209 rows × 9 columns</p>\n",
       "</div>"
      ],
      "text/plain": [
       "       Company_Brand  Founded HeadQuarter                 Sector  \\\n",
       "0     Unbox Robotics   2019.0   Bangalore             AI startup   \n",
       "1             upGrad   2015.0      Mumbai                 EdTech   \n",
       "2        Lead School   2012.0      Mumbai                 EdTech   \n",
       "3            Bizongo   2015.0      Mumbai         B2B E-commerce   \n",
       "4           FypMoney   2021.0    Gurugram                FinTech   \n",
       "...              ...      ...         ...                    ...   \n",
       "1204        Gigforce   2019.0    Gurugram  Staffing & Recruiting   \n",
       "1205          Vahdam   2015.0   New Delhi       Food & Beverages   \n",
       "1206    Leap Finance   2019.0   Bangalore     Financial Services   \n",
       "1207    CollegeDekho   2015.0    Gurugram                 EdTech   \n",
       "1208          WeRize   2019.0   Bangalore     Financial Services   \n",
       "\n",
       "                                           What_it_does  \\\n",
       "0     Unbox Robotics builds on-demand AI-driven ware...   \n",
       "1        UpGrad is an online higher education platform.   \n",
       "2     LEAD School offers technology based school tra...   \n",
       "3     Bizongo is a business-to-business online marke...   \n",
       "4     FypMoney is Digital NEO Bank for Teenagers, em...   \n",
       "...                                                 ...   \n",
       "1204                  A gig/on-demand staffing company.   \n",
       "1205  VAHDAM is among the world’s first vertically i...   \n",
       "1206  International education loans for high potenti...   \n",
       "1207  Collegedekho.com is Student’s Partner, Friend ...   \n",
       "1208  India’s first socially distributed full stack ...   \n",
       "\n",
       "                                               Founders  \\\n",
       "0                           Pramod Ghadge, Shahid Memon   \n",
       "1     Mayank Kumar, Phalgun Kompalli, Ravijot Chugh,...   \n",
       "2                            Smita Deorah, Sumeet Mehta   \n",
       "3               Aniket Deb, Ankit Tomar, Sachin Agrawal   \n",
       "4                                         Kapil Banwari   \n",
       "...                                                 ...   \n",
       "1204                        Chirag Mittal, Anirudh Syal   \n",
       "1205                                         Bala Sarda   \n",
       "1206                         Arnav Kumar, Vaibhav Singh   \n",
       "1207                                       Ruchir Arora   \n",
       "1208                      Vishal Chopra, Himanshu Gupta   \n",
       "\n",
       "                                           Investor        Amount  \\\n",
       "0                       BEENEXT, Entrepreneur First    $1,200,000   \n",
       "1          Unilazer Ventures, IIFL Asset Management  $120,000,000   \n",
       "2                  GSV Ventures, Westbridge Capital   $30,000,000   \n",
       "3                            CDC Group, IDG Capital   $51,000,000   \n",
       "4     Liberatha Kallat, Mukesh Yadav, Dinesh Nagpal    $2,000,000   \n",
       "...                                             ...           ...   \n",
       "1204                                Endiya Partners      $3000000   \n",
       "1205                                       IIFL AMC     $20000000   \n",
       "1206                                   Owl Ventures     $55000000   \n",
       "1207               Winter Capital, ETS, Man Capital     $26000000   \n",
       "1208                 3one4 Capital, Kalaari Capital      $8000000   \n",
       "\n",
       "             Stage  \n",
       "0     Pre-series A  \n",
       "1             None  \n",
       "2         Series D  \n",
       "3         Series C  \n",
       "4             Seed  \n",
       "...            ...  \n",
       "1204  Pre-series A  \n",
       "1205      Series D  \n",
       "1206      Series C  \n",
       "1207      Series B  \n",
       "1208      Series A  \n",
       "\n",
       "[1209 rows x 9 columns]"
      ]
     },
     "execution_count": 6,
     "metadata": {},
     "output_type": "execute_result"
    }
   ],
   "source": [
    "query = '''SELECT * FROM dbo.LP1_startup_funding2020'''\n",
    "query = '''SELECT * FROM dbo.LP1_startup_funding2021'''\n",
    "data_2018 = pd.read_csv(r\"C:\\Users\\MERCY CHEBET\\Projects\\LP1 Project\\LP1-Indian-Start-up\\startup_funding2018.csv\")\n",
    "data_2018\n",
    "data_2019 = pd.read_excel (r\"C:\\Users\\MERCY CHEBET\\Projects\\LP1 Project\\LP1-Indian-Start-up\\startup_funding2019.xlsx\")\n",
    "data_2019\n",
    "data_2020 = pd.read_sql(query, connection)\n",
    "data_2020\n",
    "data_2021 = pd.read_sql(query, connection)\n",
    "data_2021"
   ]
  },
  {
   "cell_type": "code",
   "execution_count": 7,
   "metadata": {},
   "outputs": [],
   "source": [
    "import pandas as pd\n",
    "import matplotlib.pyplot as plt\n",
    "import seaborn as sns"
   ]
  },
  {
   "cell_type": "code",
   "execution_count": 8,
   "metadata": {},
   "outputs": [
    {
     "data": {
      "text/html": [
       "<div>\n",
       "<style scoped>\n",
       "    .dataframe tbody tr th:only-of-type {\n",
       "        vertical-align: middle;\n",
       "    }\n",
       "\n",
       "    .dataframe tbody tr th {\n",
       "        vertical-align: top;\n",
       "    }\n",
       "\n",
       "    .dataframe thead th {\n",
       "        text-align: right;\n",
       "    }\n",
       "</style>\n",
       "<table border=\"1\" class=\"dataframe\">\n",
       "  <thead>\n",
       "    <tr style=\"text-align: right;\">\n",
       "      <th></th>\n",
       "      <th>Company Name</th>\n",
       "      <th>Industry</th>\n",
       "      <th>Round/Series</th>\n",
       "      <th>Amount</th>\n",
       "      <th>Location</th>\n",
       "      <th>About Company</th>\n",
       "    </tr>\n",
       "  </thead>\n",
       "  <tbody>\n",
       "    <tr>\n",
       "      <th>0</th>\n",
       "      <td>TheCollegeFever</td>\n",
       "      <td>Brand Marketing, Event Promotion, Marketing, S...</td>\n",
       "      <td>Seed</td>\n",
       "      <td>250000</td>\n",
       "      <td>Bangalore, Karnataka, India</td>\n",
       "      <td>TheCollegeFever is a hub for fun, fiesta and f...</td>\n",
       "    </tr>\n",
       "    <tr>\n",
       "      <th>1</th>\n",
       "      <td>Happy Cow Dairy</td>\n",
       "      <td>Agriculture, Farming</td>\n",
       "      <td>Seed</td>\n",
       "      <td>₹40,000,000</td>\n",
       "      <td>Mumbai, Maharashtra, India</td>\n",
       "      <td>A startup which aggregates milk from dairy far...</td>\n",
       "    </tr>\n",
       "    <tr>\n",
       "      <th>2</th>\n",
       "      <td>MyLoanCare</td>\n",
       "      <td>Credit, Financial Services, Lending, Marketplace</td>\n",
       "      <td>Series A</td>\n",
       "      <td>₹65,000,000</td>\n",
       "      <td>Gurgaon, Haryana, India</td>\n",
       "      <td>Leading Online Loans Marketplace in India</td>\n",
       "    </tr>\n",
       "    <tr>\n",
       "      <th>3</th>\n",
       "      <td>PayMe India</td>\n",
       "      <td>Financial Services, FinTech</td>\n",
       "      <td>Angel</td>\n",
       "      <td>2000000</td>\n",
       "      <td>Noida, Uttar Pradesh, India</td>\n",
       "      <td>PayMe India is an innovative FinTech organizat...</td>\n",
       "    </tr>\n",
       "    <tr>\n",
       "      <th>4</th>\n",
       "      <td>Eunimart</td>\n",
       "      <td>E-Commerce Platforms, Retail, SaaS</td>\n",
       "      <td>Seed</td>\n",
       "      <td>—</td>\n",
       "      <td>Hyderabad, Andhra Pradesh, India</td>\n",
       "      <td>Eunimart is a one stop solution for merchants ...</td>\n",
       "    </tr>\n",
       "    <tr>\n",
       "      <th>5</th>\n",
       "      <td>Hasura</td>\n",
       "      <td>Cloud Infrastructure, PaaS, SaaS</td>\n",
       "      <td>Seed</td>\n",
       "      <td>1600000</td>\n",
       "      <td>Bengaluru, Karnataka, India</td>\n",
       "      <td>Hasura is a platform that allows developers to...</td>\n",
       "    </tr>\n",
       "    <tr>\n",
       "      <th>6</th>\n",
       "      <td>Tripshelf</td>\n",
       "      <td>Internet, Leisure, Marketplace</td>\n",
       "      <td>Seed</td>\n",
       "      <td>₹16,000,000</td>\n",
       "      <td>Kalkaji, Delhi, India</td>\n",
       "      <td>Tripshelf is an online market place for holida...</td>\n",
       "    </tr>\n",
       "    <tr>\n",
       "      <th>7</th>\n",
       "      <td>Hyperdata.IO</td>\n",
       "      <td>Market Research</td>\n",
       "      <td>Angel</td>\n",
       "      <td>₹50,000,000</td>\n",
       "      <td>Hyderabad, Andhra Pradesh, India</td>\n",
       "      <td>Hyperdata combines advanced machine learning w...</td>\n",
       "    </tr>\n",
       "    <tr>\n",
       "      <th>8</th>\n",
       "      <td>Freightwalla</td>\n",
       "      <td>Information Services, Information Technology</td>\n",
       "      <td>Seed</td>\n",
       "      <td>—</td>\n",
       "      <td>Mumbai, Maharashtra, India</td>\n",
       "      <td>Freightwalla is an international forwarder tha...</td>\n",
       "    </tr>\n",
       "    <tr>\n",
       "      <th>9</th>\n",
       "      <td>Microchip Payments</td>\n",
       "      <td>Mobile Payments</td>\n",
       "      <td>Seed</td>\n",
       "      <td>—</td>\n",
       "      <td>Bangalore, Karnataka, India</td>\n",
       "      <td>Microchip payments is a mobile-based payment a...</td>\n",
       "    </tr>\n",
       "  </tbody>\n",
       "</table>\n",
       "</div>"
      ],
      "text/plain": [
       "         Company Name                                           Industry  \\\n",
       "0     TheCollegeFever  Brand Marketing, Event Promotion, Marketing, S...   \n",
       "1     Happy Cow Dairy                               Agriculture, Farming   \n",
       "2          MyLoanCare   Credit, Financial Services, Lending, Marketplace   \n",
       "3         PayMe India                        Financial Services, FinTech   \n",
       "4            Eunimart                 E-Commerce Platforms, Retail, SaaS   \n",
       "5              Hasura                   Cloud Infrastructure, PaaS, SaaS   \n",
       "6           Tripshelf                     Internet, Leisure, Marketplace   \n",
       "7        Hyperdata.IO                                    Market Research   \n",
       "8        Freightwalla       Information Services, Information Technology   \n",
       "9  Microchip Payments                                    Mobile Payments   \n",
       "\n",
       "  Round/Series       Amount                          Location  \\\n",
       "0         Seed       250000       Bangalore, Karnataka, India   \n",
       "1         Seed  ₹40,000,000        Mumbai, Maharashtra, India   \n",
       "2     Series A  ₹65,000,000           Gurgaon, Haryana, India   \n",
       "3        Angel      2000000       Noida, Uttar Pradesh, India   \n",
       "4         Seed            —  Hyderabad, Andhra Pradesh, India   \n",
       "5         Seed      1600000       Bengaluru, Karnataka, India   \n",
       "6         Seed  ₹16,000,000             Kalkaji, Delhi, India   \n",
       "7        Angel  ₹50,000,000  Hyderabad, Andhra Pradesh, India   \n",
       "8         Seed            —        Mumbai, Maharashtra, India   \n",
       "9         Seed            —       Bangalore, Karnataka, India   \n",
       "\n",
       "                                       About Company  \n",
       "0  TheCollegeFever is a hub for fun, fiesta and f...  \n",
       "1  A startup which aggregates milk from dairy far...  \n",
       "2          Leading Online Loans Marketplace in India  \n",
       "3  PayMe India is an innovative FinTech organizat...  \n",
       "4  Eunimart is a one stop solution for merchants ...  \n",
       "5  Hasura is a platform that allows developers to...  \n",
       "6  Tripshelf is an online market place for holida...  \n",
       "7  Hyperdata combines advanced machine learning w...  \n",
       "8  Freightwalla is an international forwarder tha...  \n",
       "9  Microchip payments is a mobile-based payment a...  "
      ]
     },
     "execution_count": 8,
     "metadata": {},
     "output_type": "execute_result"
    }
   ],
   "source": [
    "#Knowing the first 10 rows\n",
    "data_2018.head(10)"
   ]
  },
  {
   "cell_type": "code",
   "execution_count": 9,
   "metadata": {},
   "outputs": [
    {
     "name": "stdout",
     "output_type": "stream",
     "text": [
      "<class 'pandas.core.frame.DataFrame'>\n",
      "RangeIndex: 526 entries, 0 to 525\n",
      "Data columns (total 6 columns):\n",
      " #   Column         Non-Null Count  Dtype \n",
      "---  ------         --------------  ----- \n",
      " 0   Company Name   526 non-null    object\n",
      " 1   Industry       526 non-null    object\n",
      " 2   Round/Series   526 non-null    object\n",
      " 3   Amount         526 non-null    object\n",
      " 4   Location       526 non-null    object\n",
      " 5   About Company  526 non-null    object\n",
      "dtypes: object(6)\n",
      "memory usage: 24.8+ KB\n"
     ]
    }
   ],
   "source": [
    "data_2018.info()"
   ]
  },
  {
   "cell_type": "code",
   "execution_count": 10,
   "metadata": {},
   "outputs": [
    {
     "name": "stdout",
     "output_type": "stream",
     "text": [
      "<class 'pandas.core.frame.DataFrame'>\n",
      "RangeIndex: 89 entries, 0 to 88\n",
      "Data columns (total 9 columns):\n",
      " #   Column         Non-Null Count  Dtype  \n",
      "---  ------         --------------  -----  \n",
      " 0   Company/Brand  89 non-null     object \n",
      " 1   Founded        60 non-null     float64\n",
      " 2   HeadQuarter    70 non-null     object \n",
      " 3   Sector         84 non-null     object \n",
      " 4   What it does   89 non-null     object \n",
      " 5   Founders       86 non-null     object \n",
      " 6   Investor       89 non-null     object \n",
      " 7   Amount($)      89 non-null     object \n",
      " 8   Stage          43 non-null     object \n",
      "dtypes: float64(1), object(8)\n",
      "memory usage: 6.4+ KB\n"
     ]
    }
   ],
   "source": [
    "data_2019.head(10)\n",
    "data_2019.info()"
   ]
  },
  {
   "cell_type": "code",
   "execution_count": 11,
   "metadata": {},
   "outputs": [
    {
     "name": "stdout",
     "output_type": "stream",
     "text": [
      "<class 'pandas.core.frame.DataFrame'>\n",
      "RangeIndex: 1209 entries, 0 to 1208\n",
      "Data columns (total 9 columns):\n",
      " #   Column         Non-Null Count  Dtype  \n",
      "---  ------         --------------  -----  \n",
      " 0   Company_Brand  1209 non-null   object \n",
      " 1   Founded        1208 non-null   float64\n",
      " 2   HeadQuarter    1208 non-null   object \n",
      " 3   Sector         1209 non-null   object \n",
      " 4   What_it_does   1209 non-null   object \n",
      " 5   Founders       1205 non-null   object \n",
      " 6   Investor       1147 non-null   object \n",
      " 7   Amount         1206 non-null   object \n",
      " 8   Stage          781 non-null    object \n",
      "dtypes: float64(1), object(8)\n",
      "memory usage: 85.1+ KB\n"
     ]
    }
   ],
   "source": [
    "data_2020.head(10)\n",
    "data_2020.info()"
   ]
  },
  {
   "cell_type": "code",
   "execution_count": 12,
   "metadata": {},
   "outputs": [
    {
     "name": "stdout",
     "output_type": "stream",
     "text": [
      "<class 'pandas.core.frame.DataFrame'>\n",
      "RangeIndex: 1209 entries, 0 to 1208\n",
      "Data columns (total 9 columns):\n",
      " #   Column         Non-Null Count  Dtype  \n",
      "---  ------         --------------  -----  \n",
      " 0   Company_Brand  1209 non-null   object \n",
      " 1   Founded        1208 non-null   float64\n",
      " 2   HeadQuarter    1208 non-null   object \n",
      " 3   Sector         1209 non-null   object \n",
      " 4   What_it_does   1209 non-null   object \n",
      " 5   Founders       1205 non-null   object \n",
      " 6   Investor       1147 non-null   object \n",
      " 7   Amount         1206 non-null   object \n",
      " 8   Stage          781 non-null    object \n",
      "dtypes: float64(1), object(8)\n",
      "memory usage: 85.1+ KB\n"
     ]
    }
   ],
   "source": [
    "data_2021.head(10)\n",
    "data_2021.info()"
   ]
  },
  {
   "cell_type": "code",
   "execution_count": 13,
   "metadata": {},
   "outputs": [],
   "source": [
    "#Rename columns of data_2018 to match combined_data\n",
    "data_2018 = data_2018.rename(columns={\n",
    "    'Company Name': 'Company_Brand',\n",
    "    'Industry': 'Sector',\n",
    "    'Round/Series': 'Stage',\n",
    "    'Amount': 'Amount',\n",
    "    'Location': 'HeadQuarter',\n",
    "    'About Company': 'What_it_does'\n",
    "})"
   ]
  },
  {
   "cell_type": "code",
   "execution_count": 14,
   "metadata": {},
   "outputs": [],
   "source": [
    "# Combine all datasets\n",
    "df_combined = pd.concat([data_2019, data_2020, data_2021, data_2018], ignore_index=True)"
   ]
  },
  {
   "cell_type": "code",
   "execution_count": 15,
   "metadata": {},
   "outputs": [
    {
     "data": {
      "text/plain": [
       "<bound method NDFrame.describe of        Company/Brand  Founded                  HeadQuarter  \\\n",
       "0     Bombay Shaving      NaN                          NaN   \n",
       "1          Ruangguru   2014.0                       Mumbai   \n",
       "2           Eduisfun      NaN                       Mumbai   \n",
       "3           HomeLane   2014.0                      Chennai   \n",
       "4           Nu Genes   2004.0                    Telangana   \n",
       "...              ...      ...                          ...   \n",
       "3028             NaN      NaN  Bangalore, Karnataka, India   \n",
       "3029             NaN      NaN      Haryana, Haryana, India   \n",
       "3030             NaN      NaN   Mumbai, Maharashtra, India   \n",
       "3031             NaN      NaN   Mumbai, Maharashtra, India   \n",
       "3032             NaN      NaN   Chennai, Tamil Nadu, India   \n",
       "\n",
       "                                                Sector  \\\n",
       "0                                            Ecommerce   \n",
       "1                                               Edtech   \n",
       "2                                               Edtech   \n",
       "3                                      Interior design   \n",
       "4                                             AgriTech   \n",
       "...                                                ...   \n",
       "3028  B2B, Business Development, Internet, Marketplace   \n",
       "3029                                   Tourism, Travel   \n",
       "3030        Food and Beverage, Food Delivery, Internet   \n",
       "3031                            Information Technology   \n",
       "3032        Biotechnology, Health Care, Pharmaceutical   \n",
       "\n",
       "                                           What it does  \\\n",
       "0            Provides a range of male grooming products   \n",
       "1     A learning platform that provides topic-based ...   \n",
       "2               It aims to make learning fun via games.   \n",
       "3                 Provides interior designing solutions   \n",
       "4     It is a seed company engaged in production, pr...   \n",
       "...                                                 ...   \n",
       "3028                                                NaN   \n",
       "3029                                                NaN   \n",
       "3030                                                NaN   \n",
       "3031                                                NaN   \n",
       "3032                                                NaN   \n",
       "\n",
       "                                   Founders  \\\n",
       "0                        Shantanu Deshpande   \n",
       "1     Adamas Belva Syah Devara, Iman Usman.   \n",
       "2                             Jatin Solanki   \n",
       "3              Srikanth Iyer, Rama Harinath   \n",
       "4                    Narayana Reddy Punyala   \n",
       "...                                     ...   \n",
       "3028                                    NaN   \n",
       "3029                                    NaN   \n",
       "3030                                    NaN   \n",
       "3031                                    NaN   \n",
       "3032                                    NaN   \n",
       "\n",
       "                                               Investor  Amount($)  \\\n",
       "0                                  Sixth Sense Ventures    6300000   \n",
       "1                                      General Atlantic  150000000   \n",
       "2        Deepak Parekh, Amitabh Bachchan, Piyush Pandey   28000000   \n",
       "3     Evolvence India Fund (EIF), Pidilite Group, FJ...   30000000   \n",
       "4              Innovation in Food and Agriculture (IFA)    6000000   \n",
       "...                                                 ...        ...   \n",
       "3028                                                NaN        NaN   \n",
       "3029                                                NaN        NaN   \n",
       "3030                                                NaN        NaN   \n",
       "3031                                                NaN        NaN   \n",
       "3032                                                NaN        NaN   \n",
       "\n",
       "              Stage      Company_Brand  \\\n",
       "0               NaN                NaN   \n",
       "1          Series C                NaN   \n",
       "2     Fresh funding                NaN   \n",
       "3          Series D                NaN   \n",
       "4               NaN                NaN   \n",
       "...             ...                ...   \n",
       "3028       Series C              Udaan   \n",
       "3029       Series A  Happyeasygo Group   \n",
       "3030           Seed             Mombay   \n",
       "3031           Seed         Droni Tech   \n",
       "3032       Series C            Netmeds   \n",
       "\n",
       "                                           What_it_does       Amount  \n",
       "0                                                   NaN          NaN  \n",
       "1                                                   NaN          NaN  \n",
       "2                                                   NaN          NaN  \n",
       "3                                                   NaN          NaN  \n",
       "4                                                   NaN          NaN  \n",
       "...                                                 ...          ...  \n",
       "3028  Udaan is a B2B trade platform, designed specif...    225000000  \n",
       "3029            HappyEasyGo is an online travel domain.            —  \n",
       "3030  Mombay is a unique opportunity for housewives ...         7500  \n",
       "3031  Droni Tech manufacture UAVs and develop softwa...  ₹35,000,000  \n",
       "3032       Welcome to India's most convenient pharmacy!     35000000  \n",
       "\n",
       "[3033 rows x 12 columns]>"
      ]
     },
     "execution_count": 15,
     "metadata": {},
     "output_type": "execute_result"
    }
   ],
   "source": [
    "df_combined.describe"
   ]
  },
  {
   "cell_type": "code",
   "execution_count": 16,
   "metadata": {},
   "outputs": [
    {
     "data": {
      "text/plain": [
       "<bound method DataFrame.info of        Company/Brand  Founded                  HeadQuarter  \\\n",
       "0     Bombay Shaving      NaN                          NaN   \n",
       "1          Ruangguru   2014.0                       Mumbai   \n",
       "2           Eduisfun      NaN                       Mumbai   \n",
       "3           HomeLane   2014.0                      Chennai   \n",
       "4           Nu Genes   2004.0                    Telangana   \n",
       "...              ...      ...                          ...   \n",
       "3028             NaN      NaN  Bangalore, Karnataka, India   \n",
       "3029             NaN      NaN      Haryana, Haryana, India   \n",
       "3030             NaN      NaN   Mumbai, Maharashtra, India   \n",
       "3031             NaN      NaN   Mumbai, Maharashtra, India   \n",
       "3032             NaN      NaN   Chennai, Tamil Nadu, India   \n",
       "\n",
       "                                                Sector  \\\n",
       "0                                            Ecommerce   \n",
       "1                                               Edtech   \n",
       "2                                               Edtech   \n",
       "3                                      Interior design   \n",
       "4                                             AgriTech   \n",
       "...                                                ...   \n",
       "3028  B2B, Business Development, Internet, Marketplace   \n",
       "3029                                   Tourism, Travel   \n",
       "3030        Food and Beverage, Food Delivery, Internet   \n",
       "3031                            Information Technology   \n",
       "3032        Biotechnology, Health Care, Pharmaceutical   \n",
       "\n",
       "                                           What it does  \\\n",
       "0            Provides a range of male grooming products   \n",
       "1     A learning platform that provides topic-based ...   \n",
       "2               It aims to make learning fun via games.   \n",
       "3                 Provides interior designing solutions   \n",
       "4     It is a seed company engaged in production, pr...   \n",
       "...                                                 ...   \n",
       "3028                                                NaN   \n",
       "3029                                                NaN   \n",
       "3030                                                NaN   \n",
       "3031                                                NaN   \n",
       "3032                                                NaN   \n",
       "\n",
       "                                   Founders  \\\n",
       "0                        Shantanu Deshpande   \n",
       "1     Adamas Belva Syah Devara, Iman Usman.   \n",
       "2                             Jatin Solanki   \n",
       "3              Srikanth Iyer, Rama Harinath   \n",
       "4                    Narayana Reddy Punyala   \n",
       "...                                     ...   \n",
       "3028                                    NaN   \n",
       "3029                                    NaN   \n",
       "3030                                    NaN   \n",
       "3031                                    NaN   \n",
       "3032                                    NaN   \n",
       "\n",
       "                                               Investor  Amount($)  \\\n",
       "0                                  Sixth Sense Ventures    6300000   \n",
       "1                                      General Atlantic  150000000   \n",
       "2        Deepak Parekh, Amitabh Bachchan, Piyush Pandey   28000000   \n",
       "3     Evolvence India Fund (EIF), Pidilite Group, FJ...   30000000   \n",
       "4              Innovation in Food and Agriculture (IFA)    6000000   \n",
       "...                                                 ...        ...   \n",
       "3028                                                NaN        NaN   \n",
       "3029                                                NaN        NaN   \n",
       "3030                                                NaN        NaN   \n",
       "3031                                                NaN        NaN   \n",
       "3032                                                NaN        NaN   \n",
       "\n",
       "              Stage      Company_Brand  \\\n",
       "0               NaN                NaN   \n",
       "1          Series C                NaN   \n",
       "2     Fresh funding                NaN   \n",
       "3          Series D                NaN   \n",
       "4               NaN                NaN   \n",
       "...             ...                ...   \n",
       "3028       Series C              Udaan   \n",
       "3029       Series A  Happyeasygo Group   \n",
       "3030           Seed             Mombay   \n",
       "3031           Seed         Droni Tech   \n",
       "3032       Series C            Netmeds   \n",
       "\n",
       "                                           What_it_does       Amount  \n",
       "0                                                   NaN          NaN  \n",
       "1                                                   NaN          NaN  \n",
       "2                                                   NaN          NaN  \n",
       "3                                                   NaN          NaN  \n",
       "4                                                   NaN          NaN  \n",
       "...                                                 ...          ...  \n",
       "3028  Udaan is a B2B trade platform, designed specif...    225000000  \n",
       "3029            HappyEasyGo is an online travel domain.            —  \n",
       "3030  Mombay is a unique opportunity for housewives ...         7500  \n",
       "3031  Droni Tech manufacture UAVs and develop softwa...  ₹35,000,000  \n",
       "3032       Welcome to India's most convenient pharmacy!     35000000  \n",
       "\n",
       "[3033 rows x 12 columns]>"
      ]
     },
     "execution_count": 16,
     "metadata": {},
     "output_type": "execute_result"
    }
   ],
   "source": [
    "df_combined.info"
   ]
  },
  {
   "cell_type": "code",
   "execution_count": 17,
   "metadata": {},
   "outputs": [
    {
     "data": {
      "text/plain": [
       "Company/Brand     object\n",
       "Founded          float64\n",
       "HeadQuarter       object\n",
       "Sector            object\n",
       "What it does      object\n",
       "Founders          object\n",
       "Investor          object\n",
       "Amount($)         object\n",
       "Stage             object\n",
       "Company_Brand     object\n",
       "What_it_does      object\n",
       "Amount            object\n",
       "dtype: object"
      ]
     },
     "execution_count": 17,
     "metadata": {},
     "output_type": "execute_result"
    }
   ],
   "source": [
    "df_combined.dtypes"
   ]
  },
  {
   "cell_type": "code",
   "execution_count": 18,
   "metadata": {},
   "outputs": [
    {
     "data": {
      "text/plain": [
       "<bound method DataFrame.nunique of        Company/Brand  Founded                  HeadQuarter  \\\n",
       "0     Bombay Shaving      NaN                          NaN   \n",
       "1          Ruangguru   2014.0                       Mumbai   \n",
       "2           Eduisfun      NaN                       Mumbai   \n",
       "3           HomeLane   2014.0                      Chennai   \n",
       "4           Nu Genes   2004.0                    Telangana   \n",
       "...              ...      ...                          ...   \n",
       "3028             NaN      NaN  Bangalore, Karnataka, India   \n",
       "3029             NaN      NaN      Haryana, Haryana, India   \n",
       "3030             NaN      NaN   Mumbai, Maharashtra, India   \n",
       "3031             NaN      NaN   Mumbai, Maharashtra, India   \n",
       "3032             NaN      NaN   Chennai, Tamil Nadu, India   \n",
       "\n",
       "                                                Sector  \\\n",
       "0                                            Ecommerce   \n",
       "1                                               Edtech   \n",
       "2                                               Edtech   \n",
       "3                                      Interior design   \n",
       "4                                             AgriTech   \n",
       "...                                                ...   \n",
       "3028  B2B, Business Development, Internet, Marketplace   \n",
       "3029                                   Tourism, Travel   \n",
       "3030        Food and Beverage, Food Delivery, Internet   \n",
       "3031                            Information Technology   \n",
       "3032        Biotechnology, Health Care, Pharmaceutical   \n",
       "\n",
       "                                           What it does  \\\n",
       "0            Provides a range of male grooming products   \n",
       "1     A learning platform that provides topic-based ...   \n",
       "2               It aims to make learning fun via games.   \n",
       "3                 Provides interior designing solutions   \n",
       "4     It is a seed company engaged in production, pr...   \n",
       "...                                                 ...   \n",
       "3028                                                NaN   \n",
       "3029                                                NaN   \n",
       "3030                                                NaN   \n",
       "3031                                                NaN   \n",
       "3032                                                NaN   \n",
       "\n",
       "                                   Founders  \\\n",
       "0                        Shantanu Deshpande   \n",
       "1     Adamas Belva Syah Devara, Iman Usman.   \n",
       "2                             Jatin Solanki   \n",
       "3              Srikanth Iyer, Rama Harinath   \n",
       "4                    Narayana Reddy Punyala   \n",
       "...                                     ...   \n",
       "3028                                    NaN   \n",
       "3029                                    NaN   \n",
       "3030                                    NaN   \n",
       "3031                                    NaN   \n",
       "3032                                    NaN   \n",
       "\n",
       "                                               Investor  Amount($)  \\\n",
       "0                                  Sixth Sense Ventures    6300000   \n",
       "1                                      General Atlantic  150000000   \n",
       "2        Deepak Parekh, Amitabh Bachchan, Piyush Pandey   28000000   \n",
       "3     Evolvence India Fund (EIF), Pidilite Group, FJ...   30000000   \n",
       "4              Innovation in Food and Agriculture (IFA)    6000000   \n",
       "...                                                 ...        ...   \n",
       "3028                                                NaN        NaN   \n",
       "3029                                                NaN        NaN   \n",
       "3030                                                NaN        NaN   \n",
       "3031                                                NaN        NaN   \n",
       "3032                                                NaN        NaN   \n",
       "\n",
       "              Stage      Company_Brand  \\\n",
       "0               NaN                NaN   \n",
       "1          Series C                NaN   \n",
       "2     Fresh funding                NaN   \n",
       "3          Series D                NaN   \n",
       "4               NaN                NaN   \n",
       "...             ...                ...   \n",
       "3028       Series C              Udaan   \n",
       "3029       Series A  Happyeasygo Group   \n",
       "3030           Seed             Mombay   \n",
       "3031           Seed         Droni Tech   \n",
       "3032       Series C            Netmeds   \n",
       "\n",
       "                                           What_it_does       Amount  \n",
       "0                                                   NaN          NaN  \n",
       "1                                                   NaN          NaN  \n",
       "2                                                   NaN          NaN  \n",
       "3                                                   NaN          NaN  \n",
       "4                                                   NaN          NaN  \n",
       "...                                                 ...          ...  \n",
       "3028  Udaan is a B2B trade platform, designed specif...    225000000  \n",
       "3029            HappyEasyGo is an online travel domain.            —  \n",
       "3030  Mombay is a unique opportunity for housewives ...         7500  \n",
       "3031  Droni Tech manufacture UAVs and develop softwa...  ₹35,000,000  \n",
       "3032       Welcome to India's most convenient pharmacy!     35000000  \n",
       "\n",
       "[3033 rows x 12 columns]>"
      ]
     },
     "execution_count": 18,
     "metadata": {},
     "output_type": "execute_result"
    }
   ],
   "source": [
    "df_combined.nunique"
   ]
  },
  {
   "cell_type": "code",
   "execution_count": 19,
   "metadata": {},
   "outputs": [
    {
     "data": {
      "text/plain": [
       "(3033, 12)"
      ]
     },
     "execution_count": 19,
     "metadata": {},
     "output_type": "execute_result"
    }
   ],
   "source": [
    "df_combined.shape"
   ]
  },
  {
   "cell_type": "code",
   "execution_count": 20,
   "metadata": {},
   "outputs": [
    {
     "data": {
      "text/plain": [
       "1229"
      ]
     },
     "execution_count": 20,
     "metadata": {},
     "output_type": "execute_result"
    }
   ],
   "source": [
    "df_combined.duplicated().sum()"
   ]
  },
  {
   "cell_type": "markdown",
   "metadata": {},
   "source": [
    "## DATA CLEANING"
   ]
  },
  {
   "cell_type": "code",
   "execution_count": 21,
   "metadata": {},
   "outputs": [],
   "source": [
    "# Renaming columns to standardize names\n",
    "df_combined.rename(columns={\n",
    "    'Company/Brand': 'Company_Brand',\n",
    "    'What it does': 'What_it_does',\n",
    "    'Amount($)': 'Amount'\n",
    "},inplace=True)"
   ]
  },
  {
   "cell_type": "code",
   "execution_count": 22,
   "metadata": {},
   "outputs": [
    {
     "data": {
      "text/plain": [
       "array([False, False, False, False, False, False, False, False, False,\n",
       "        True,  True,  True])"
      ]
     },
     "execution_count": 22,
     "metadata": {},
     "output_type": "execute_result"
    }
   ],
   "source": [
    "# Check for duplicated columns\n",
    "df_combined.columns.duplicated()"
   ]
  },
  {
   "cell_type": "code",
   "execution_count": 23,
   "metadata": {},
   "outputs": [],
   "source": [
    "# Rename duplicate columns to make them unique\n",
    "df_combined.columns = ['Company_Brand_1', 'Founded', 'HeadQuarter', 'Sector', 'What_it_does_1', 'Founders', 'Investor', 'Amount_1', 'Stage', 'Company_Brand_2', 'What_it_does_2', 'Amount_2']\n",
    "\n",
    "# Merge the duplicated columns\n",
    "df_combined['Company_Brand'] = df_combined['Company_Brand_1'].combine_first(df_combined['Company_Brand_2'])\n",
    "df_combined['What_it_does'] = df_combined['What_it_does_1'].combine_first(df_combined['What_it_does_2'])\n",
    "df_combined['Amount'] = df_combined['Amount_1'].combine_first(df_combined['Amount_2'])\n",
    "\n",
    "# Drop the original duplicated columns after merging\n",
    "df_combined.drop(columns=['Company_Brand_1', 'Company_Brand_2', 'What_it_does_1', 'What_it_does_2', 'Amount_1', 'Amount_2'], inplace=True)"
   ]
  },
  {
   "cell_type": "code",
   "execution_count": 24,
   "metadata": {},
   "outputs": [
    {
     "name": "stdout",
     "output_type": "stream",
     "text": [
      "<class 'pandas.core.frame.DataFrame'>\n",
      "RangeIndex: 3033 entries, 0 to 3032\n",
      "Data columns (total 9 columns):\n",
      " #   Column         Non-Null Count  Dtype  \n",
      "---  ------         --------------  -----  \n",
      " 0   Founded        2476 non-null   float64\n",
      " 1   HeadQuarter    3012 non-null   object \n",
      " 2   Sector         3028 non-null   object \n",
      " 3   Founders       2496 non-null   object \n",
      " 4   Investor       2383 non-null   object \n",
      " 5   Stage          2131 non-null   object \n",
      " 6   Company_Brand  3033 non-null   object \n",
      " 7   What_it_does   3033 non-null   object \n",
      " 8   Amount         3027 non-null   object \n",
      "dtypes: float64(1), object(8)\n",
      "memory usage: 213.4+ KB\n"
     ]
    }
   ],
   "source": [
    "df_combined.info()"
   ]
  },
  {
   "cell_type": "markdown",
   "metadata": {},
   "source": [
    "### COLUMN CLEANING - AMOUNT"
   ]
  },
  {
   "cell_type": "code",
   "execution_count": 25,
   "metadata": {},
   "outputs": [
    {
     "data": {
      "text/plain": [
       "array([6300000, 150000000, 28000000, 30000000, 6000000, 'Undisclosed',\n",
       "       1000000, 20000000, 275000000, 22000000, 5000000, 140500, 540000000,\n",
       "       15000000, 182700, 12000000, 11000000, 15500000, 1500000, 5500000,\n",
       "       2500000, 140000, 230000000, 49400000, 32000000, 26000000, 150000,\n",
       "       400000, 2000000, 100000000, 8000000, 100000, 50000000, 120000000,\n",
       "       4000000, 6800000, 36000000, 5700000, 25000000, 600000, 70000000,\n",
       "       60000000, 220000, 2800000, 2100000, 7000000, 311000000, 4800000,\n",
       "       693000000, 33000000, '$1,200,000', '$120,000,000', '$30,000,000',\n",
       "       '$51,000,000', '$2,000,000', '$188,000,000', '$200,000',\n",
       "       '$1,000,000', '$3,000,000', '$100,000', '$700,000', '$9,000,000',\n",
       "       '$40,000,000', '$49,000,000', '$400,000', '$300,000',\n",
       "       '$25,000,000', '$160,000,000', '$150,000', '$1,800,000',\n",
       "       '$5,000,000', '$850,000', '$53,000,000', '$500,000', '$1,100,000',\n",
       "       '$6,000,000', '$800,000', '$10,000,000', '$21,000,000',\n",
       "       '$7,500,000', '$26,000,000', '$7,400,000', '$1,500,000',\n",
       "       '$600,000', '$800,000,000', '$17,000,000', '$3,500,000',\n",
       "       '$15,000,000', '$215,000,000', '$2,500,000', '$350,000,000',\n",
       "       '$5,500,000', '$83,000,000', '$110,000,000', '$500,000,000',\n",
       "       '$65,000,000', '$150,000,000,000', '$300,000,000', '$2,200,000',\n",
       "       '$35,000,000', '$140,000,000', '$4,000,000', '$13,000,000', None,\n",
       "       '$Undisclosed', '$2000000', '$800000', '$6000000', '$2500000',\n",
       "       '$9500000', '$13000000', '$5000000', '$8000000', '$1000000',\n",
       "       'Upsparks', '$200000', '$12000000', '$1500000', '$1700000',\n",
       "       '$5500000', '$400000', '$150000000', '$4000000', '$100000000',\n",
       "       '$500000', '$15000000', '$10000000', '$40000000', '$225000000',\n",
       "       '$6700000', '$1300000', '$20000000', '$250000', '$21000000',\n",
       "       '$1200000', '$52000000', '$3800000', '$17500000', '$42000000',\n",
       "       '$2300000', '$7000000', '$30000000', '$450000000', '$28000000',\n",
       "       '$300000', '$3500000', '$8500000', '$25000000', '$3000000',\n",
       "       '$37000000', '$370000000', '$700000', '$16000000', '$100000',\n",
       "       '$44000000', '$770000', '$125000000', '$35000000', '$50000000',\n",
       "       '$4900000', '$145000000', '$22000000', '$70000000', '$6600000',\n",
       "       '$32000000', '$24000000', '$725000', '$461000', 'Series C', 'Seed',\n",
       "       '$96000000', '$60000000', '$500000000', '$266000000', '$4500000',\n",
       "       '$325000000', '$6500000', '$1600000', '$150000', '$225000',\n",
       "       '$85000000', '$235000', '$260000', '$2900000', '$53000000',\n",
       "       '$1100000', '$86000000', '$130000', '$$100,00', '$111000000',\n",
       "       '$265000', '$76000000', '$100,000,000', '$75,000,000',\n",
       "       '$3,800,000', '$12,000,000', '$1,600,000', '$260,000',\n",
       "       '$1,000,000,000', '$18,000,000', '$20,000,000', '$350,000',\n",
       "       '$95,000,000', '$4,100,000', '$5,200,000', '$8,000,000',\n",
       "       '$1,400,000', '$2,600,000', '$900,000', '$250,000', '$16,000,000',\n",
       "       '$7,000,000', '$11,000,000', '$280,000,000', '$50,000,000',\n",
       "       '$14,300,000', '$81,000,000', '$1,300,000', '$8,200,000',\n",
       "       '$70,000,000', '$720,000', '$600000', '$9000000', '$1800000',\n",
       "       '$330000', '$undisclosed', '$200000000', '$36000000', '$67000000',\n",
       "       '$10200000', '$220000000', '$108000000', '$75000000', '$450000',\n",
       "       '$660000000', 'ah! Ventures', '$45000000', '$3200000', '$370000',\n",
       "       'Pre-series A', 'ITO Angel Network, LetsVenture', '$48000000',\n",
       "       '$3600000', '$11000000', '$192000000', '$65000000', '$1400000',\n",
       "       '$1900000', '$41000000', '$144000000', '$5200000', '$270000000',\n",
       "       '$140000', '$250000000', '$320000', '$350000000', '$4800000',\n",
       "       '$38000000', '$125000', '$26000000', '$64000000', '$620000',\n",
       "       '$900000', 'JITO Angel Network, LetsVenture', '$2600000',\n",
       "       '$1,250,000', '$400,000,000', '$1,700,000', '$27,000,000',\n",
       "       '$234,000,000', '$460,000,000', '$13,500,000', '$5,100,000',\n",
       "       '$195,000,000', '$125,000', '$45,000,000', '$200,000,000',\n",
       "       '$7,300,000', '$6,300,000', '$12,500,000', '$24,000,000',\n",
       "       '$140,000', '$16,500,000', '$340,000', '$43,000,000',\n",
       "       '$150,000,000', '$3300000', '$92000000', '$17000000', '$135000000',\n",
       "       '$$1,55,000', '$2100000', '$840000000', '$248000000', '$4300000',\n",
       "       '$570000', '$2200000', '$4700000', '$300000000', '$260000000',\n",
       "       '$140000000', '$175000000', '$19000000', '$810000', '$7500000',\n",
       "       '$600000000', '$90000000', '$5700000', '$6750000', '$78000000',\n",
       "       '$5400000', '$115000000', '$255000000', '$18000000', '$570000000',\n",
       "       '$550000', '$2700000', '$4200000', '$31000000', '$540000',\n",
       "       '$14000000', '$340000', '$', '$6200000', '$750000', '$6300000',\n",
       "       '$23000000', '$55000000', '250000', '₹40,000,000', '₹65,000,000',\n",
       "       '2000000', '—', '1600000', '₹16,000,000', '₹50,000,000',\n",
       "       '₹100,000,000', '150000', '1100000', '₹500,000', '6000000',\n",
       "       '650000', '₹35,000,000', '₹64,000,000', '₹20,000,000', '1000000',\n",
       "       '5000000', '4000000', '₹30,000,000', '2800000', '1700000',\n",
       "       '1300000', '₹5,000,000', '₹12,500,000', '₹15,000,000', '500000',\n",
       "       '₹104,000,000', '₹45,000,000', '13400000', '₹25,000,000',\n",
       "       '₹26,400,000', '₹8,000,000', '₹60,000', '9000000', '100000',\n",
       "       '20000', '120000', '₹34,000,000', '₹342,000,000', '$143,145',\n",
       "       '₹600,000,000', '$742,000,000', '₹1,000,000,000', '₹2,000,000,000',\n",
       "       '$3,980,000', '$10,000', '₹100,000', '₹250,000,000',\n",
       "       '₹550,000,000', '$28,500,000', '₹240,000,000', '₹120,000,000',\n",
       "       '$2,400,000', '₹2,500,000,000', '$23,000,000', '₹44,000,000',\n",
       "       '$3,240,000', '₹60,000,000', '$540,000,000', '₹650,000,000',\n",
       "       '₹1,600,000,000', '₹70,000,000', '$14,000,000', '₹102,500,000',\n",
       "       '₹1,200,000', '₹5,200,000,000', '$1,041,000', '$15,000', '1400000',\n",
       "       '1200000', '2200000', '1800000', '3600000', '₹9,500,000', '300000',\n",
       "       '6830000', '200000', '₹150,000,000', '4300000', '364846', '400000',\n",
       "       '1500000', '₹7,000,000', '₹1,400,000', '₹10,000,000',\n",
       "       '₹22,500,000', '13200000', '50000', '₹140,200,000', '3000000',\n",
       "       '1250000', '180000', '₹19,200,000', '₹103,000,000', '4200000',\n",
       "       '175000', '1450000', '₹200,000', '4500000', '600000',\n",
       "       '₹16,600,000', '₹12,000,000', '15000000', '₹33,000,000', '125000',\n",
       "       '130000', '₹34,900,000', '₹72,000,000', '17200000', '₹32,000,000',\n",
       "       '3500000', '₹135,000,000', '12000000', '₹1,540,000,000',\n",
       "       '₹140,000,000', '$41,900,000', '₹1,410,000,000', '$3,530,000',\n",
       "       '$3,300,000', '₹580,000,000', '₹36,000,000', '₹340,000,000',\n",
       "       '$210,000,000', '$37,680,000', '$20,000', '₹510,000,000',\n",
       "       '₹2,200,000,000', '22000000', '70000', '10000000',\n",
       "       '₹15,392,000,000', '₹20,000,000,000', '₹4,000,000,000',\n",
       "       '185000000', '65000000', '₹165,000,000', '700000', '30000000',\n",
       "       '₹210,000,000', '210000000', '₹2,029,600,000', '75000000',\n",
       "       '₹80,000,000', '1760000', '2700000', '₹280,000,000',\n",
       "       '₹800,000,000', '750000', '2500000', '80000000', '25000000',\n",
       "       '₹730,000,000', '₹400,000,000', '3700000', '5600000',\n",
       "       '₹260,000,000', '99230000', '70000000', '40000', '550000',\n",
       "       '50000000', '365000000', '₹8,750,000', '₹78,000,000', '28000000',\n",
       "       '₹264,000,000', '100000000', '₹1,130,000,000', '₹810,000,000',\n",
       "       '₹1,400,000,000', '14900000', '225000000', '7500', '35000000'],\n",
       "      dtype=object)"
      ]
     },
     "execution_count": 25,
     "metadata": {},
     "output_type": "execute_result"
    }
   ],
   "source": [
    "df_combined['Amount'].unique()"
   ]
  },
  {
   "cell_type": "code",
   "execution_count": 26,
   "metadata": {},
   "outputs": [],
   "source": [
    "# Function to clean and normalize the 'Amount' column\n",
    "def clean_amount(amount):\n",
    "    if pd.isna(amount) or amount in ['Undisclosed', '$Undisclosed', 'Upsparks']:\n",
    "        return np.nan\n",
    "    amount = str(amount).replace(',', '').replace('$', '').replace('₹', '')\n",
    "    try:\n",
    "        amount = float(amount)\n",
    "    except ValueError:\n",
    "        return np.nan\n",
    "    return amount\n",
    "\n",
    "# Create a temporary column to identify the currency type before cleaning the Amount column\n",
    "df_combined['Currency'] = df_combined['Amount'].apply(lambda x: 'INR' if '₹' in str(x) else 'USD')\n",
    "\n",
    "# Apply the cleaning function to the 'Amount' column\n",
    "df_combined['Amount'] = df_combined['Amount'].apply(clean_amount)\n",
    "\n",
    "# Function to convert all amounts to USD\n",
    "def convert_currency(amount, currency):\n",
    "    if currency == 'INR':\n",
    "        return amount * 0.013  # Assuming an exchange rate of 1 INR = 0.013 USD\n",
    "    return amount"
   ]
  },
  {
   "cell_type": "code",
   "execution_count": 27,
   "metadata": {},
   "outputs": [
    {
     "name": "stdout",
     "output_type": "stream",
     "text": [
      "Missing values in 'Amount' column before filling: 466\n",
      "Missing values in 'Amount' column after filling: 0\n",
      "<class 'pandas.core.frame.DataFrame'>\n",
      "RangeIndex: 3033 entries, 0 to 3032\n",
      "Data columns (total 9 columns):\n",
      " #   Column         Non-Null Count  Dtype  \n",
      "---  ------         --------------  -----  \n",
      " 0   Founded        2476 non-null   float64\n",
      " 1   HeadQuarter    3012 non-null   object \n",
      " 2   Sector         3028 non-null   object \n",
      " 3   Founders       2496 non-null   object \n",
      " 4   Investor       2383 non-null   object \n",
      " 5   Stage          2131 non-null   object \n",
      " 6   Company_Brand  3033 non-null   object \n",
      " 7   What_it_does   3033 non-null   object \n",
      " 8   Amount         3033 non-null   float64\n",
      "dtypes: float64(2), object(7)\n",
      "memory usage: 213.4+ KB\n"
     ]
    }
   ],
   "source": [
    "# Convert all amounts to USD\n",
    "df_combined['Amount'] = df_combined.apply(lambda row: convert_currency(row['Amount'], row['Currency']), axis=1)\n",
    "\n",
    "# Drop the temporary 'Currency' column\n",
    "df_combined.drop(columns=['Currency'], inplace=True)\n",
    "\n",
    "# Convert the cleaned 'Amount' column to numeric, forcing errors to NaN\n",
    "df_combined['Amount'] = pd.to_numeric(df_combined['Amount'], errors='coerce')\n",
    "\n",
    "# Check for missing values before filling\n",
    "missing_values_before = df_combined['Amount'].isnull().sum()\n",
    "print(f\"Missing values in 'Amount' column before filling: {missing_values_before}\")\n",
    "\n",
    "# Fill remaining missing values in 'Amount' column with the median value\n",
    "df_combined['Amount'].fillna(df_combined['Amount'].median(), inplace=True)\n",
    "\n",
    "# Check for missing values after filling\n",
    "missing_values_after = df_combined['Amount'].isnull().sum()\n",
    "print(f\"Missing values in 'Amount' column after filling: {missing_values_after}\")\n",
    "\n",
    "# Check the cleaned DataFrame\n",
    "df_combined.info()"
   ]
  },
  {
   "cell_type": "markdown",
   "metadata": {},
   "source": [
    "### FOUNDED COLUMN"
   ]
  },
  {
   "cell_type": "code",
   "execution_count": 28,
   "metadata": {},
   "outputs": [
    {
     "data": {
      "text/plain": [
       "array([  nan, 2014., 2004., 2013., 2010., 2018., 2019., 2017., 2011.,\n",
       "       2015., 2016., 2012., 2008., 2021., 2020., 1993., 1999., 1989.,\n",
       "       2009., 2002., 1994., 2006., 2000., 2007., 1978., 2003., 1998.,\n",
       "       1991., 1984., 2005., 1963.])"
      ]
     },
     "execution_count": 28,
     "metadata": {},
     "output_type": "execute_result"
    }
   ],
   "source": [
    "df_combined['Founded'].unique()"
   ]
  },
  {
   "cell_type": "code",
   "execution_count": 29,
   "metadata": {},
   "outputs": [
    {
     "data": {
      "text/plain": [
       "<DatetimeArray>\n",
       "[                'NaT', '2014-01-01 00:00:00', '2004-01-01 00:00:00',\n",
       " '2013-01-01 00:00:00', '2010-01-01 00:00:00', '2018-01-01 00:00:00',\n",
       " '2019-01-01 00:00:00', '2017-01-01 00:00:00', '2011-01-01 00:00:00',\n",
       " '2015-01-01 00:00:00', '2016-01-01 00:00:00', '2012-01-01 00:00:00',\n",
       " '2008-01-01 00:00:00', '2021-01-01 00:00:00', '2020-01-01 00:00:00',\n",
       " '1993-01-01 00:00:00', '1999-01-01 00:00:00', '1989-01-01 00:00:00',\n",
       " '2009-01-01 00:00:00', '2002-01-01 00:00:00', '1994-01-01 00:00:00',\n",
       " '2006-01-01 00:00:00', '2000-01-01 00:00:00', '2007-01-01 00:00:00',\n",
       " '1978-01-01 00:00:00', '2003-01-01 00:00:00', '1998-01-01 00:00:00',\n",
       " '1991-01-01 00:00:00', '1984-01-01 00:00:00', '2005-01-01 00:00:00',\n",
       " '1963-01-01 00:00:00']\n",
       "Length: 31, dtype: datetime64[ns]"
      ]
     },
     "execution_count": 29,
     "metadata": {},
     "output_type": "execute_result"
    }
   ],
   "source": [
    "# Rename the column\n",
    "df_combined.rename(columns={'Founded': 'Year'}, inplace=True)\n",
    "\n",
    "# Convert the 'Year' column to datetime format (handling NaNs appropriately)\n",
    "df_combined['Year'] = pd.to_datetime(df_combined['Year'], format='%Y', errors='coerce')\n",
    "\n",
    "# Check unique values to ensure conversion\n",
    "df_combined['Year'].unique()"
   ]
  },
  {
   "cell_type": "code",
   "execution_count": 30,
   "metadata": {},
   "outputs": [
    {
     "name": "stdout",
     "output_type": "stream",
     "text": [
      "<class 'pandas.core.frame.DataFrame'>\n",
      "RangeIndex: 3033 entries, 0 to 3032\n",
      "Data columns (total 9 columns):\n",
      " #   Column         Non-Null Count  Dtype         \n",
      "---  ------         --------------  -----         \n",
      " 0   Year           3033 non-null   datetime64[ns]\n",
      " 1   HeadQuarter    3012 non-null   object        \n",
      " 2   Sector         3028 non-null   object        \n",
      " 3   Founders       2496 non-null   object        \n",
      " 4   Investor       2383 non-null   object        \n",
      " 5   Stage          2131 non-null   object        \n",
      " 6   Company_Brand  3033 non-null   object        \n",
      " 7   What_it_does   3033 non-null   object        \n",
      " 8   Amount         3033 non-null   float64       \n",
      "dtypes: datetime64[ns](1), float64(1), object(7)\n",
      "memory usage: 213.4+ KB\n"
     ]
    }
   ],
   "source": [
    "# Handle missing values by filling with the median year\n",
    "# Calculate the median year as an integer\n",
    "median_year = int(df_combined['Year'].dropna().dt.year.median())\n",
    "\n",
    "# Fill missing values with the median year\n",
    "df_combined['Year'] = df_combined['Year'].fillna(pd.Timestamp(median_year, 1, 1))\n",
    "\n",
    "# Ensure the 'Year' column is in datetime format\n",
    "df_combined['Year'] = pd.to_datetime(df_combined['Year'], format='%Y', errors='coerce')\n",
    "\n",
    "# Check the DataFrame info to ensure proper conversion and filling\n",
    "df_combined.info()"
   ]
  },
  {
   "cell_type": "markdown",
   "metadata": {},
   "source": [
    "### HEADQUARTER"
   ]
  },
  {
   "cell_type": "code",
   "execution_count": 31,
   "metadata": {},
   "outputs": [
    {
     "data": {
      "text/plain": [
       "array([nan, 'Mumbai', 'Chennai', 'Telangana', 'Pune', 'Bangalore',\n",
       "       'Noida', 'Delhi', 'Ahmedabad', 'Gurugram', 'Haryana', 'Chandigarh',\n",
       "       'Jaipur', 'New Delhi', 'Surat', 'Uttar pradesh', 'Hyderabad',\n",
       "       'Rajasthan', 'Ahmadabad', None, 'Small Towns, Andhra Pradesh',\n",
       "       'Goa', 'Rajsamand', 'Ranchi', 'Faridabad, Haryana', 'Gujarat',\n",
       "       'Thane', 'Computer Games', 'Cochin', 'Gurgaon', 'Vadodara',\n",
       "       'Food & Beverages', 'Pharmaceuticals\\t#REF!', 'Gurugram\\t#REF!',\n",
       "       'Kolkata', 'Mohali', 'Indore', 'Powai', 'Ghaziabad', 'Nagpur',\n",
       "       'West Bengal', 'Patna', 'Samsitpur', 'Lucknow', 'Silvassa',\n",
       "       'Thiruvananthapuram', 'Faridabad', 'Roorkee', 'Ambernath',\n",
       "       'Panchkula', 'Coimbatore', 'Andheri', 'Mangalore', 'Telugana',\n",
       "       'Bhubaneswar', 'Kottayam', 'Beijing', 'Panaji', 'Satara',\n",
       "       'Orissia', 'Jodhpur', 'New York', 'Santra', 'Mountain View, CA',\n",
       "       'Trivandrum', 'Jharkhand', 'Kanpur', 'Bhilwara', 'Guwahati',\n",
       "       'Online Media\\t#REF!', 'Kochi', 'London',\n",
       "       'Information Technology & Services', 'The Nilgiris', 'Gandhinagar',\n",
       "       'Bangalore, Karnataka, India', 'Mumbai, Maharashtra, India',\n",
       "       'Gurgaon, Haryana, India', 'Noida, Uttar Pradesh, India',\n",
       "       'Hyderabad, Andhra Pradesh, India', 'Bengaluru, Karnataka, India',\n",
       "       'Kalkaji, Delhi, India', 'Delhi, Delhi, India', 'India, Asia',\n",
       "       'Hubli, Karnataka, India', 'New Delhi, Delhi, India',\n",
       "       'Chennai, Tamil Nadu, India', 'Mohali, Punjab, India',\n",
       "       'Kolkata, West Bengal, India', 'Pune, Maharashtra, India',\n",
       "       'Jodhpur, Rajasthan, India', 'Kanpur, Uttar Pradesh, India',\n",
       "       'Ahmedabad, Gujarat, India', 'Azadpur, Delhi, India',\n",
       "       'Haryana, Haryana, India', 'Cochin, Kerala, India',\n",
       "       'Faridabad, Haryana, India', 'Jaipur, Rajasthan, India',\n",
       "       'Kota, Rajasthan, India', 'Anand, Gujarat, India',\n",
       "       'Bangalore City, Karnataka, India', 'Belgaum, Karnataka, India',\n",
       "       'Thane, Maharashtra, India', 'Margão, Goa, India',\n",
       "       'Indore, Madhya Pradesh, India', 'Alwar, Rajasthan, India',\n",
       "       'Kannur, Kerala, India', 'Trivandrum, Kerala, India',\n",
       "       'Ernakulam, Kerala, India', 'Kormangala, Karnataka, India',\n",
       "       'Uttar Pradesh, India, Asia', 'Andheri, Maharashtra, India',\n",
       "       'Mylapore, Tamil Nadu, India', 'Ghaziabad, Uttar Pradesh, India',\n",
       "       'Kochi, Kerala, India', 'Powai, Assam, India',\n",
       "       'Guntur, Andhra Pradesh, India', 'Kalpakkam, Tamil Nadu, India',\n",
       "       'Bhopal, Madhya Pradesh, India', 'Coimbatore, Tamil Nadu, India',\n",
       "       'Worli, Maharashtra, India', 'Alleppey, Kerala, India',\n",
       "       'Chandigarh, Chandigarh, India', 'Guindy, Tamil Nadu, India',\n",
       "       'Lucknow, Uttar Pradesh, India'], dtype=object)"
      ]
     },
     "execution_count": 31,
     "metadata": {},
     "output_type": "execute_result"
    }
   ],
   "source": [
    "df_combined['HeadQuarter'].unique()"
   ]
  },
  {
   "cell_type": "code",
   "execution_count": 32,
   "metadata": {},
   "outputs": [],
   "source": [
    "# Step 1: Replace anomalies like '\\t#REF!' and other known errors\n",
    "df_combined['HeadQuarter'] = df_combined['HeadQuarter'].replace({\n",
    "    '\\t#REF!': '',\n",
    "    'Pharmaceuticals\\t#REF!': 'Pharmaceuticals',\n",
    "    'Gurugram\\t#REF!': 'Gurugram',\n",
    "    'Telugana': 'Telangana',\n",
    "    'Orissia': 'Odisha',\n",
    "    'Small Towns, Andhra Pradesh': 'Andhra Pradesh',\n",
    "    'Bangalore': 'Bengaluru',\n",
    "    'Gurgaon': 'Gurugram',\n",
    "    'Pune, Maharashtra, India': 'Pune',\n",
    "    'Hyderabad, Andhra Pradesh, India': 'Hyderabad',\n",
    "    'Bangalore, Karnataka, India': 'Bengaluru',\n",
    "    'Mumbai, Maharashtra, India': 'Mumbai',\n",
    "    'Noida, Uttar Pradesh, India': 'Noida',\n",
    "    'Chennai, Tamil Nadu, India': 'Chennai',\n",
    "    'New Delhi, Delhi, India': 'New Delhi',\n",
    "    'Delhi, Delhi, India': 'Delhi',\n",
    "    'Haryana, Haryana, India': 'Haryana', \n",
    "    'Cochin, Kerala, India': 'Cochin',\n",
    "    'Jaipur, Rajasthan, India': 'Jaipur',\n",
    "    'Kolkata, West Bengal, India': 'Kolkata',\n",
    "    'Powai, Assam, India': 'Powai',\n",
    "    'Ghaziabad, Uttar Pradesh, India': 'Ghaziabad',\n",
    "    'Mylapore, Tamil Nadu, India': 'Mylapore',\n",
    "    'Lucknow, Uttar Pradesh, India': 'Lucknow',\n",
    "})"
   ]
  },
  {
   "cell_type": "code",
   "execution_count": 33,
   "metadata": {},
   "outputs": [],
   "source": [
    "# Step 2: Remove anomalies and whitespace\n",
    "df_combined['HeadQuarter'] = df_combined['HeadQuarter'].str.replace(r'\\t#REF!', '', regex=True).str.strip()\n",
    "\n",
    "# Step 3: Standardize city and state/country names\n",
    "# Create a mapping dictionary for standardizing names\n",
    "standard_city_names = {\n",
    "    'Mumbai': 'Mumbai',\n",
    "    'Bengaluru': 'Bengaluru',\n",
    "    'Hyderabad': 'Hyderabad',\n",
    "    'Chennai': 'Chennai',\n",
    "    'Pune': 'Pune',\n",
    "    'Noida': 'Noida',\n",
    "    'New Delhi': 'New Delhi',\n",
    "    'Delhi': 'Delhi',\n",
    "    'Gurugram': 'Gurugram',\n",
    "    'Gurgaon': 'Gurugram',\n",
    "    'Kolkata': 'Kolkata',\n",
    "    'Rajasthan': 'Rajasthan',  \n",
    "    'Odisha': 'Odisha',  \n",
    "    'Goa': 'Goa',  \n",
    "    'Gujarat': 'Gujarat',  \n",
    "    'West Bengal': 'West Bengal',  \n",
    "    'Jharkhand': 'Jharkhand',  \n",
    "    'Uttar Pradesh': 'Uttar Pradesh',  \n",
    "    'Haryana': 'Haryana',  \n",
    "    'Madhya Pradesh': 'Madhya Pradesh',  \n",
    "    'Kerala': 'Kerala',  \n",
    "    'Punjab': 'Punjab',  \n",
    "    'Andhra Pradesh': 'Andhra Pradesh'\n",
    "}"
   ]
  },
  {
   "cell_type": "code",
   "execution_count": 34,
   "metadata": {},
   "outputs": [],
   "source": [
    "# Step 2: Remove anomalies and whitespace\n",
    "df_combined['HeadQuarter'] = df_combined['HeadQuarter'].str.replace(r'\\t#REF!', '', regex=True).str.strip()\n",
    "\n",
    "# Step 3: Standardize city and state/country names\n",
    "# Create a mapping dictionary for standardizing names\n",
    "standard_city_names = {\n",
    "    'Mumbai': 'Mumbai',\n",
    "    'Bengaluru': 'Bengaluru',\n",
    "    'Hyderabad': 'Hyderabad',\n",
    "    'Chennai': 'Chennai',\n",
    "    'Pune': 'Pune',\n",
    "    'Noida': 'Noida',\n",
    "    'New Delhi': 'New Delhi',\n",
    "    'Delhi': 'Delhi',\n",
    "    'Gurugram': 'Gurugram',\n",
    "    'Gurgaon': 'Gurugram',\n",
    "    'Kolkata': 'Kolkata',\n",
    "    'Rajasthan': 'Rajasthan',  \n",
    "    'Odisha': 'Odisha',  \n",
    "    'Goa': 'Goa',  \n",
    "    'Gujarat': 'Gujarat',  \n",
    "    'West Bengal': 'West Bengal',  \n",
    "    'Jharkhand': 'Jharkhand',  \n",
    "    'Uttar Pradesh': 'Uttar Pradesh',  \n",
    "    'Haryana': 'Haryana',  \n",
    "    'Madhya Pradesh': 'Madhya Pradesh',  \n",
    "    'Kerala': 'Kerala',  \n",
    "    'Punjab': 'Punjab',  \n",
    "    'Andhra Pradesh': 'Andhra Pradesh'\n",
    "}"
   ]
  },
  {
   "cell_type": "markdown",
   "metadata": {},
   "source": [
    "### SECTOR COLUMN"
   ]
  },
  {
   "cell_type": "code",
   "execution_count": 35,
   "metadata": {},
   "outputs": [
    {
     "data": {
      "text/plain": [
       "array(['Ecommerce', 'Edtech', 'Interior design', 'AgriTech', 'Technology',\n",
       "       'SaaS', 'AI & Tech', 'E-commerce', 'E-commerce & AR', 'Fintech',\n",
       "       'HR tech', 'Food tech', 'Health', 'Healthcare', 'Safety tech',\n",
       "       'Pharmaceutical', 'Insurance technology', 'AI', 'Foodtech', 'Food',\n",
       "       'IoT', 'E-marketplace', 'Robotics & AI', 'Logistics', 'Travel',\n",
       "       'Manufacturing', 'Food & Nutrition', 'Social Media', nan,\n",
       "       'E-Sports', 'Cosmetics', 'B2B', 'Jewellery', 'B2B Supply Chain',\n",
       "       'Games', 'Food & tech', 'Accomodation', 'Automotive tech',\n",
       "       'Legal tech', 'Mutual Funds', 'Cybersecurity', 'Automobile',\n",
       "       'Sports', 'Healthtech', 'Yoga & wellness', 'Virtual Banking',\n",
       "       'Transportation', 'Transport & Rentals',\n",
       "       'Marketing & Customer loyalty', 'Infratech', 'Hospitality',\n",
       "       'Automobile & Technology', 'Banking', 'AI startup', 'EdTech',\n",
       "       'B2B E-commerce', 'FinTech', 'Home services', 'HealthTech',\n",
       "       'Tech Startup', 'B2B service', 'Helathcare', 'Renewable Energy',\n",
       "       'Electronics', 'IT startup', 'Food & Beverages', 'Aeorspace',\n",
       "       'Deep Tech', 'Dating', 'Gaming', 'Robotics', 'Retail',\n",
       "       'Oil and Energy', 'Telecommuncation', 'Milk startup', 'AI Chatbot',\n",
       "       'IT', 'Fashion', 'Marketing', 'LegalTech', 'Food delivery',\n",
       "       'Automotive', 'SaaS startup', 'Fantasy sports',\n",
       "       'Video communication', 'Skill development', 'Rental',\n",
       "       'Recruitment', 'HealthCare', 'Computer Games', 'Consumer Goods',\n",
       "       'Information Technology', 'Apparel & Fashion',\n",
       "       'Logistics & Supply Chain', 'SportsTech', 'HRTech',\n",
       "       'Wine & Spirits', 'Mechanical & Industrial Engineering',\n",
       "       'Spiritual', 'Financial Services', 'Industrial Automation',\n",
       "       'Lifestyle', 'Computer software', 'Tech startup',\n",
       "       'Digital mortgage', 'Information Technology & Services',\n",
       "       'Furniture', 'B2B marketplace', 'Healtcare', 'Location Analytics',\n",
       "       'Media', 'Consumer Electronics', 'Tobacco', 'Deeptech',\n",
       "       'Insuretech', 'MLOps platform', 'Venture Capital', 'Pet care',\n",
       "       'Drone', 'Wholesale', 'Construction', 'E-learning',\n",
       "       'Consumer Services', 'Venture Capital & Private Equity',\n",
       "       'Health, Wellness & Fitness', 'OTT', 'Education Management',\n",
       "       'Computer Software', 'Insurance', 'Software Startup',\n",
       "       'Computer & Network Security', 'Capital Markets', 'Social network',\n",
       "       'Hospital & Health Care', 'Music', 'Hauz Khas',\n",
       "       'Primary Business is Development and Manufacturing of Novel Healthcare Products in Effervescent forms using imported propriety ingredients.',\n",
       "       \"MoEVing is India's only Electric Mobility focused Technology Platform with a vision to accelerate EV adoption in India.\",\n",
       "       'Mobility', 'Social media', 'Real Estate', 'Digital platform',\n",
       "       'B2B Ecommerce', 'Online Media', 'Social commerce', 'Mobile Games',\n",
       "       'Food Production', 'Podcast', 'HeathTech', 'Battery',\n",
       "       'Content publishing', 'Water purification', 'Content commerce',\n",
       "       'Innovation Management', 'Software company', 'Automation',\n",
       "       'Food Industry', 'Celebrity Engagement', 'Trading platform',\n",
       "       'Personal Care', 'Cannabis startup', 'Blogging', 'Consulting',\n",
       "       'BioTechnology', 'B2B Marketplace', 'Health care', 'Social audio',\n",
       "       'Fashion and lifestyle', 'Delivery service', 'B2B Manufacturing',\n",
       "       'Home Decor', 'Solar', 'TaaS startup', 'EV startup', 'HR Tech',\n",
       "       'Blockchain startup', 'Food and Beverages', 'Beverages',\n",
       "       'Manufacturing startup', 'Cryptocurrency',\n",
       "       'Vehicle repair startup', 'Advisory firm', 'Legaltech',\n",
       "       'Pollution control equiptment', 'Fashion & Lifestyle',\n",
       "       'Blockchain', 'Fitness', 'D2C', 'Environmental Services',\n",
       "       'Merchandise', 'Facilities Services', 'Marketing & Advertising',\n",
       "       'Human Resources', 'Eyewear', 'D2C Business', 'Biotechnology',\n",
       "       'Farming', 'NFT Marketplace', 'Internet', 'SpaceTech',\n",
       "       'Consumer software', 'Social community', 'Fishery',\n",
       "       'Renewables & Environment', 'Online storytelling', 'Aviation',\n",
       "       'IT company', 'Environmental service', 'Job discovery platform',\n",
       "       'D2C Fashion', 'Heathcare', 'CRM', 'Software', 'Nutrition',\n",
       "       'D2C startup', 'Innovation management', 'Community platform',\n",
       "       'Venture capitalist', 'Networking', 'Commercial Real Estate',\n",
       "       'AR startup', 'Consumer service', 'Consumer goods', 'MarTech',\n",
       "       'Advertisement', 'Content creation', 'Augmented reality',\n",
       "       'Rental space', 'Bike Rental', 'Beauty products', 'Tourism',\n",
       "       'FemTech', 'Cultural', 'Co-working', 'InsureTech',\n",
       "       'Supply chain platform', 'Social platform', 'CleanTech',\n",
       "       'Real estate', 'AI company', 'Sports startup', 'Matrimony',\n",
       "       'Crypto', 'Clothing', 'Analytics', 'Finance', 'IoT platform',\n",
       "       'Commerce', 'Defense & Space', 'Entertainment',\n",
       "       'Business Supplies & Equipment', 'NFT', 'Oil & Energy', 'EV',\n",
       "       'Company-as-a-Service', 'Textiles',\n",
       "       'Professional Training & Coaching', 'Maritime',\n",
       "       'Housing Marketplace', 'Furniture Rental', 'Telecommunications',\n",
       "       'Equity Management', 'Cloud kitchen', 'Nanotechnology',\n",
       "       'Community', 'Higher Education',\n",
       "       'Mechanical Or Industrial Engineering', 'D2C jewellery',\n",
       "       'Sales and Distribution', 'Information Services',\n",
       "       'Translation & Localization', 'Investment Banking', 'Femtech',\n",
       "       'sports', 'Foootwear', 'Legal Services', 'Veterinary',\n",
       "       'Arts & Crafts', 'Investment Management', 'Education',\n",
       "       'Management Consulting', 'B2B startup',\n",
       "       'Sochcast is an Audio experiences company that give the listener and creators an Immersive Audio experience',\n",
       "       'Design', 'B2B Travel', 'Interior Design',\n",
       "       'Manchester, Greater Manchester', 'Product studio',\n",
       "       'Aviation & Aerospace', 'Staffing & Recruiting',\n",
       "       'Brand Marketing, Event Promotion, Marketing, Sponsorship, Ticketing',\n",
       "       'Agriculture, Farming',\n",
       "       'Credit, Financial Services, Lending, Marketplace',\n",
       "       'Financial Services, FinTech',\n",
       "       'E-Commerce Platforms, Retail, SaaS',\n",
       "       'Cloud Infrastructure, PaaS, SaaS',\n",
       "       'Internet, Leisure, Marketplace', 'Market Research',\n",
       "       'Information Services, Information Technology', 'Mobile Payments',\n",
       "       'B2B, Shoes',\n",
       "       'Apps, Collaboration, Developer Platform, Enterprise Software, Messaging, Productivity Tools, Video Chat',\n",
       "       'Food Delivery', 'Automotive, Search Engine, Service Industry',\n",
       "       'Finance, Internet, Travel',\n",
       "       'Accounting, Business Information Systems, Business Travel, Finance, SaaS',\n",
       "       'Artificial Intelligence, Product Search, SaaS, Service Industry, Software',\n",
       "       'Internet of Things, Waste Management',\n",
       "       'Air Transportation, Freight Service, Logistics, Marine Transportation',\n",
       "       'Food and Beverage', 'Autonomous Vehicles',\n",
       "       'Enterprise Software, Health Care, Hospital, Parenting, Personal Health, SaaS',\n",
       "       'Agriculture, Analytics, Big Data, Farming',\n",
       "       'Logistics, Supply Chain Management',\n",
       "       'Financial Services, Lending',\n",
       "       'Automotive, Marketplace, Online Portals',\n",
       "       'Artificial Intelligence',\n",
       "       'Internet of Things, Telecommunications',\n",
       "       'Information Technology, Logistics, Supply Chain Management',\n",
       "       'Blockchain, Developer Tools, Enterprise Software',\n",
       "       'Industrial Automation, Logistics, Supply Chain Management',\n",
       "       'Food and Beverage, Food Delivery, Snack Food',\n",
       "       'E-Commerce, Fashion, Jewelry, Retail', 'E-Learning, Education',\n",
       "       'Clean Energy, CleanTech, Laundry and Dry-cleaning',\n",
       "       'E-Commerce, Fashion, Mobile',\n",
       "       'Apps, Messaging, Navigation, Public Safety',\n",
       "       'Fitness, Health Care, Wellness',\n",
       "       'Artificial Intelligence, Machine Learning, SaaS, Virtual Assistant',\n",
       "       'Food and Beverage, Tea',\n",
       "       'Media and Entertainment, News, Outdoors',\n",
       "       'Broadcasting, Media and Entertainment, Music, Music Streaming, Video, Video Streaming',\n",
       "       'B2B, Information Services, Information Technology',\n",
       "       'EdTech, Education, Enterprise Software, Peer to Peer',\n",
       "       'Health Care, Medical', 'E-Commerce',\n",
       "       'Health Care, Hospital, Wellness', '—',\n",
       "       'Big Data, Consumer Lending, FinTech',\n",
       "       'Cloud Computing, Computer, Semiconductor',\n",
       "       'Health Care, Medical, Pharmaceutical', 'Food Processing, Retail',\n",
       "       'Trading Platform', \"Consumer Goods, Lifestyle, Men's\", 'Wellness',\n",
       "       'Food and Beverage, Food Processing, Nutrition',\n",
       "       'Automotive, Electric Vehicle, Energy Storage',\n",
       "       'Consulting, Retail, Social',\n",
       "       'Biotechnology, Life Science, Pharmaceutical, Product Research',\n",
       "       'Health Care',\n",
       "       'Credit, Financial Services, FinTech, Personal Finance',\n",
       "       'Communities, Coworking, Incubators',\n",
       "       'Consumer, Financial Services, FinTech',\n",
       "       'Consumer Applications, Information Services, Location Based Services, Virtual Assistant',\n",
       "       'Mobile, Mobile Apps, Personalization, Test and Measurement, Web Apps',\n",
       "       'Education, Financial Services, FinTech',\n",
       "       'Advertising, Consulting, Digital Marketing',\n",
       "       'Marketplace, Real Estate, Rental Property',\n",
       "       'E-Learning, Internet, Video Games',\n",
       "       'Artificial Intelligence, Cloud Computing, Video',\n",
       "       'Health Care, Information Technology', 'Aerospace',\n",
       "       'E-Commerce, Fashion, Lifestyle',\n",
       "       'Artificial Intelligence, Business Intelligence, Industrial Automation, Machine Learning',\n",
       "       'Home Decor, Home Improvement, Home Renovation, Home Services, Interior Design, Smart Home',\n",
       "       'EdTech, Education, Information Services, SaaS', 'Energy, Solar',\n",
       "       'B2B, Biometrics, Cyber Security, Fraud Detection, SaaS, Security',\n",
       "       'Artificial Intelligence, Social',\n",
       "       'Logistics, Transportation, Travel',\n",
       "       'Digital Marketing, SEM, SEO, Web Development',\n",
       "       'Health Care, Hospital, Medical', 'Finance, Financial Services',\n",
       "       'Food Delivery, Food Processing, Internet',\n",
       "       'E-Commerce, Food and Beverage, Internet',\n",
       "       'Fitness, Food and Beverage, Health Care, Nutrition',\n",
       "       'EdTech, Education, Knowledge Management',\n",
       "       'Apps, Beauty, Consumer, Retail',\n",
       "       'Creative Agency, Crowdfunding, EdTech, Health Care, Internet, Medical, Non Profit, Personal Health',\n",
       "       'Consumer Lending, Financial Services, FinTech, Insurance, Lending, Mobile Payments, Payments, Wealth Management',\n",
       "       'E-Learning, Education, Higher Education', 'Health Diagnostics',\n",
       "       'EdTech, Education', 'Financial Services, SaaS, Security',\n",
       "       'Banking, Finance, Financial Services, Non Profit',\n",
       "       'B2B, E-Commerce, Mobile',\n",
       "       'Automotive, Electric Vehicle, Renewable Energy', 'E-Learning',\n",
       "       'Embedded Systems, Health Care, Medical, Product Research',\n",
       "       'Apps, E-Commerce, Internet',\n",
       "       'Advertising, Human Resources, Marketing',\n",
       "       'Beauty, Fitness, Home Services, Internet',\n",
       "       'Health Care, Medical Device, Public Safety',\n",
       "       'Food Delivery, Online Portals, Restaurants',\n",
       "       'AgTech, B2B, Supply Chain Management',\n",
       "       'Credit Cards, Finance, Mobile Apps, Mobile Payments, Payments',\n",
       "       'EdTech, Education, Higher Education, Secondary Education',\n",
       "       'Manufacturing, Retail',\n",
       "       'Information Services, Information Technology, InsurTech',\n",
       "       'Consumer Lending, FinTech', 'Internet, Social Network, TV',\n",
       "       'Beauty, Health Care', 'Hospital', 'Events',\n",
       "       '3D Printing, Manufacturing, Product Design', 'Automotive, Retail',\n",
       "       'Apps, Audio', 'Automotive, E-Commerce',\n",
       "       'Digital Entertainment, Fantasy Sports, Sports',\n",
       "       'E-Learning, EdTech, Education',\n",
       "       'Funding Platform, Incubators, Non Profit',\n",
       "       'Hospitality, Hotel, Leisure, Travel',\n",
       "       'Classifieds, Internet, Marketplace, Rental Property',\n",
       "       'Banking, E-Learning, Trading Platform',\n",
       "       'E-Commerce, Mobile, Retail',\n",
       "       'Artificial Intelligence, Information Technology',\n",
       "       'Enterprise Resource Planning (ERP), Information Services, Information Technology, Real Estate',\n",
       "       'Banking, Finance, Financial Services',\n",
       "       'Audio, Mobile, Tourism, Travel',\n",
       "       'Energy, Energy Storage, Infrastructure',\n",
       "       'Government, Information Technology, Software',\n",
       "       'Education, Information Technology, Internet, Mobile, Software',\n",
       "       'Consumer Lending, Financial Services, Lending, Personal Finance',\n",
       "       'Digital Media, Internet, Media and Entertainment, Online Portals, Social Media',\n",
       "       'Business Intelligence, Customer Service, Market Research, SaaS',\n",
       "       'Credit, Financial Services, FinTech, Lending',\n",
       "       'Children, Education, Parenting',\n",
       "       'Automotive, Battery, Energy, Energy Storage',\n",
       "       'E-Commerce, Mobile, Sharing Economy',\n",
       "       'Food Delivery, Organic, Organic Food', 'Mobile', 'Consumer',\n",
       "       'B2B, Farming, Marketplace', 'Wealth Management',\n",
       "       'Education, Gaming, Training',\n",
       "       'Internet, Mobile, Social Entrepreneurship, Telecommunications, Wireless',\n",
       "       'Health Care, Hospital, Supply Chain Management',\n",
       "       'Tourism, Travel', 'Hospitality, Real Estate',\n",
       "       'Digital Media, EBooks, Publishing, Reading Apps',\n",
       "       'Consumer Electronics, Embedded Systems, Hardware, Smart Building, Software',\n",
       "       'Food and Beverage, Food Processing',\n",
       "       'Internet, Marketplace, Shopping',\n",
       "       'Analytics, Computer Vision, Enterprise Software, Machine Learning, Natural Language Processing, Speech Recognition',\n",
       "       'Facilities Support Services',\n",
       "       'Automotive, Electric Vehicle, Energy',\n",
       "       'Health Care, Health Diagnostics, Predictive Analytics',\n",
       "       'Cloud Computing, Computer, SaaS, Software',\n",
       "       'Fashion, Lifestyle, Retail', 'Medical', 'Music Streaming',\n",
       "       'Finance, Impact Investing, Internet',\n",
       "       'Internet, Social Entrepreneurship',\n",
       "       'Finance, Impact Investing, Mobile Apps',\n",
       "       'Cloud Computing, Computer, Software',\n",
       "       'Business Development, Market Research, Outsourcing',\n",
       "       'Health Care, Hospitality', 'Internet, Social News, Sports',\n",
       "       'Finance, Financial Services, FinTech',\n",
       "       'Customer Service, Software, Video, Video Streaming',\n",
       "       'E-Commerce, Food Processing', 'Training',\n",
       "       'Dietary Supplements, Food and Beverage, Health Care, Organic Food, Snack Food',\n",
       "       'Manufacturing, Oil and Gas, Robotics',\n",
       "       'Artificial Intelligence, Computer, Machine Learning',\n",
       "       'Collaboration, Communities, Coworking, Sharing Economy',\n",
       "       'Big Data, EdTech, Machine Learning',\n",
       "       'Analytics, Audio, Digital Media, Innovation Management, Internet Radio, Media and Entertainment',\n",
       "       'Financial Services, Lending, Peer to Peer',\n",
       "       'E-Commerce, Furniture, Home Decor, Interior Design, Internet',\n",
       "       'Digital Media', 'File Sharing, Personalization, Social Media',\n",
       "       'Home Decor, Interior Design',\n",
       "       'Health Care, Medical Device, Mobile Apps',\n",
       "       'E-Commerce, Facilities Support Services, Procurement, Supply Chain Management',\n",
       "       'Crowdfunding, Finance, Financial Services',\n",
       "       'Finance, Financial Services, Insurance',\n",
       "       'Children, Education, Online Portals', 'Software, Virtual Reality',\n",
       "       'B2B, Food and Beverage, Food Delivery',\n",
       "       'Catering, Food and Beverage, Food Delivery, Food Processing',\n",
       "       'Food and Beverage, Snack Food', 'Automotive, E-Commerce, Mobile',\n",
       "       'Computer, Digital Marketing, Facilities Support Services, Graphic Design, Internet, Mobile Apps, Social Media Marketing, Web Development',\n",
       "       'Android, Big Data, Blockchain, Cloud Computing, EdTech, Education, Information Technology, iOS, Training, Web Development',\n",
       "       'Analytics, CRM, Loyalty Programs, Machine Learning, Marketing Automation, Retail Technology, SaaS, Small and Medium Businesses',\n",
       "       'Delivery, Information Technology, Mobile Apps',\n",
       "       'Environmental Consulting, Renewable Energy',\n",
       "       'Big Data, Business Intelligence, Financial Services, FinTech, Personal Finance',\n",
       "       'Commercial Real Estate, Coworking, Office Administration, Real Estate',\n",
       "       'Food and Beverage, Food Processing, Organic Food, Snack Food',\n",
       "       'Apps, Health Care, Internet, Mobile Apps, Personal Health',\n",
       "       'Digital Media, Incubators, Social Entrepreneurship',\n",
       "       'Finance, Financial Services, Marketing',\n",
       "       'Biotechnology, Health Care, Life Science, Medical Device',\n",
       "       'Education, Human Resources',\n",
       "       'Apps, Health Care, Hospital, Mobile Apps',\n",
       "       'Delivery Service, Logistics, Service Industry',\n",
       "       'Big Data, Data Visualization, Logistics, Software',\n",
       "       'Basketball, Cricket, Cycling, eSports, Fitness, Golf, Health Care, Hockey, Sports, Swimming, Table Tennis, Volley Ball',\n",
       "       'Media and Entertainment, News, Publishing',\n",
       "       'Big Data, Financial Services, Machine Learning, Predictive Analytics',\n",
       "       'Agriculture, AgTech, Manufacturing',\n",
       "       'Digital Media, News, Publishing', 'Health Care, Hospital',\n",
       "       'B2B, E-Commerce, Enterprise',\n",
       "       'Fraud Detection, Information Services, Security',\n",
       "       'Agriculture, AgTech, Artificial Intelligence, Internet of Things, Machine Learning',\n",
       "       'Cryptocurrency, Trading Platform',\n",
       "       'Finance, FinTech, Mobile Payments', 'Wedding',\n",
       "       'E-Learning, EdTech, Education, Image Recognition, Machine Learning, STEM Education',\n",
       "       'Digital Entertainment',\n",
       "       'Crowdsourcing, Financial Services, Funding Platform, Venture Capital',\n",
       "       'Delivery, Drones, Geospatial, Robotics',\n",
       "       'Health Care, Information Technology, Management Information Systems',\n",
       "       'Business Travel, Hospitality, Hotel, Marketplace, Tourism, Travel Accommodations',\n",
       "       'Career Planning, Education, Higher Education, Service Industry',\n",
       "       'Medical Device', 'Alternative Medicine, Health Care',\n",
       "       'Internet, Software',\n",
       "       'Dental, Elder Care, Health Care, Home Health Care, Personal Health',\n",
       "       'Financial Services, Insurance, Private Social Networking',\n",
       "       'Consumer Electronics, E-Commerce, E-Commerce Platforms, Electronics, Shipping, Shopping',\n",
       "       'Advertising, Internet, Marketing',\n",
       "       'Human Resources, Security, Training',\n",
       "       'Consumer Lending, Finance, FinTech',\n",
       "       'Marketing, Social Media, Video', 'Food Processing', 'Apps',\n",
       "       'Apps, B2B, Freight Service, Logistics, SaaS, Shipping, Supply Chain Management, Transportation',\n",
       "       'Digital Entertainment, Fantasy Sports, Gaming, Sports',\n",
       "       'Automotive, Last Mile Transportation, Peer to Peer, Ride Sharing',\n",
       "       'Commercial, E-Learning, Education',\n",
       "       'Continuing Education, EdTech, Education, Skill Assessment',\n",
       "       'Smart Cities, Telecommunications', 'Internet of Things, Robotics',\n",
       "       'Apps, Home Services, Information Services, Information Technology',\n",
       "       'Medical, Tourism', 'Career Planning, Education, Internet',\n",
       "       'Fashion, Graphic Design, Wearables',\n",
       "       'Communities, Leisure, Mobile Apps, Software',\n",
       "       'Automotive, Rental, Sharing Economy',\n",
       "       'Energy, Environmental Consulting, Renewable Energy, Solar',\n",
       "       'Information Technology, SaaS, Security',\n",
       "       'Crowdfunding, Financial Services, Internet',\n",
       "       'Customer Service, Information Technology, Internet, Sales Automation',\n",
       "       'Advertising, Artificial Intelligence, Digital Media, iOS, Location Based Services, News, Video, Video on Demand, Video Streaming',\n",
       "       'Credit Cards, Payments, Property Insurance, Property Management, Rental Property',\n",
       "       'Beauty, Cosmetics, Health Care, Service Industry',\n",
       "       'EdTech, Education, Mobile, Tutoring', 'Social Media, Sports',\n",
       "       'Biopharma', 'E-Commerce, E-Commerce Platforms, Retail',\n",
       "       'E-Commerce, Fashion, Shopping',\n",
       "       'Digital Entertainment, Mobile, PC Games',\n",
       "       'Finance, Financial Services, Small and Medium Businesses',\n",
       "       'Artificial Intelligence, Energy, Oil and Gas',\n",
       "       'Computer, FinTech, Risk Management, Software',\n",
       "       'Apps, Financial Services, FinTech',\n",
       "       \"Child Care, Health Care, Hospital, Medical, Women's\",\n",
       "       'Agriculture, Mobile',\n",
       "       'Finance, FinTech, Payments, Property Development, Rental',\n",
       "       'Information Services, Information Technology, Mobile, Software',\n",
       "       'Apps, Fitness, Health Care, mHealth',\n",
       "       'Food and Beverage, Food Delivery', 'Apps, Payments, Retail',\n",
       "       'Health Insurance, Insurance, Life Insurance',\n",
       "       'Rental, Taxi Service, Travel',\n",
       "       'E-Commerce, E-Commerce Platforms, Internet, Retail',\n",
       "       'Financial Services, Professional Services',\n",
       "       'Customer Service, Messaging, Mobile Apps, Personalization',\n",
       "       'Gaming, iOS, Sports',\n",
       "       'E-Commerce, E-Commerce Platforms, Internet, Mobile Apps, Social Media',\n",
       "       'Search Engine',\n",
       "       'Battery, Electric Vehicle, Energy, Renewable Energy, Transportation',\n",
       "       'Agriculture, Farmers Market, Farming',\n",
       "       'Artificial Intelligence, Drones, Navigation, Packaging Services, Robotics',\n",
       "       'Fitness, GreenTech, Internet of Things, Mobile Apps, Ride Sharing, Transportation',\n",
       "       'Mobile, Software, Travel',\n",
       "       'Consulting, Cyber Security, Network Security',\n",
       "       'eSports, Gaming, Video Games', 'Fashion, Jewelry',\n",
       "       'B2B, Medical Device', 'Consumer Goods, Manufacturing',\n",
       "       'Biotechnology, Health Care, Wellness',\n",
       "       'Health Care, Hospital, Medical, Robotics',\n",
       "       'E-Commerce, Fitness, Health Care',\n",
       "       'Financial Services, Venture Capital', 'Accounting, Apps, FinTech',\n",
       "       'Apps, Mobile, Transportation', 'Reading Apps',\n",
       "       'Energy, Renewable Energy, Solar',\n",
       "       'Banking, Financial Services, FinTech', 'Apps, Education, Retail',\n",
       "       'Electric Vehicle',\n",
       "       'Automotive, Battery, Electric Vehicle, Manufacturing, Mechanical Design',\n",
       "       'Automotive, E-Commerce, Marketplace', 'Agriculture',\n",
       "       'Apps, Information Services, Information Technology',\n",
       "       'B2B, Marketplace', 'Packaging Services',\n",
       "       'Computer, Furniture, Software',\n",
       "       'Food Delivery, Hospitality, Reservations, Restaurants, Search Engine',\n",
       "       'Collaboration, Communities, Coworking, Real Estate',\n",
       "       'Accounting, Banking, Finance',\n",
       "       'Cloud Computing, Enterprise Software, Network Hardware, Network Security, SaaS',\n",
       "       'Information Services, Internet, Logistics, Supply Chain Management, Transportation',\n",
       "       'Automotive, E-Commerce, Information Services',\n",
       "       'Delivery, Logistics, Transportation',\n",
       "       'Automotive, E-Commerce Platforms, Marketplace',\n",
       "       'Last Mile Transportation, Railroad, Transportation, Travel',\n",
       "       'Cooking, E-Commerce, Food and Beverage, Food Delivery, Online Portals',\n",
       "       'FinTech, Mobile, Mobile Payments, Payments, Retail Technology',\n",
       "       'Online Games, Software',\n",
       "       'Online Portals, Property Management, Rental',\n",
       "       'E-Commerce, Food and Beverage, Tea',\n",
       "       'Music, Social Network, Video',\n",
       "       'Health Care, Pharmaceutical, Wellness',\n",
       "       'Delivery Service, Food and Beverage, Food Delivery',\n",
       "       'Hospitality, Information Technology, Travel Accommodations',\n",
       "       'Biotechnology, Diabetes, Health Care',\n",
       "       'Autonomous Vehicles, Last Mile Transportation, Recreational Vehicles, Rental',\n",
       "       'Finance, Financial Exchanges, Financial Services, Micro Lending',\n",
       "       'Analytics, Apps, Market Research',\n",
       "       'E-Commerce, E-Commerce Platforms, Furniture, Home Decor, Internet',\n",
       "       'Apps, Mobile, Mobile Apps, Software',\n",
       "       'News, Publishing, Social Media',\n",
       "       'Industrial, Industrial Automation',\n",
       "       'Internet, Mobile Apps, Social Network',\n",
       "       'Health Care, Health Diagnostics, Internet of Things, Life Science, Machine Learning, Medical, Medical Device',\n",
       "       'E-Commerce, Furniture, Interior Design', 'Apps, Events, News',\n",
       "       'Artificial Intelligence, Human Resources, Information Services, Information Technology',\n",
       "       'Logistics, Railroad, Transportation',\n",
       "       'Dating, Private Social Networking',\n",
       "       'Artificial Intelligence, Machine Learning, PaaS',\n",
       "       'Consumer, Furniture, Home Decor, Home Improvement',\n",
       "       'Apps, E-Commerce, Internet, Mobile, Ride Sharing, Transportation',\n",
       "       'Health Care, Health Insurance', 'Energy, Natural Resources',\n",
       "       'E-Commerce, Education, Health Care',\n",
       "       'Apps, Health Care, Pharmaceutical',\n",
       "       'Internet, Knowledge Management',\n",
       "       'Credit, Finance, FinTech, Lending, Sales Automation',\n",
       "       'Banking, Financial Services, Internet',\n",
       "       'E-Commerce, Health Care, Retail',\n",
       "       'Child Care, Information Technology',\n",
       "       'Financial Services, Micro Lending',\n",
       "       'E-Commerce, Retail, Shopping',\n",
       "       'Food and Beverage, Snack Food, Tea',\n",
       "       'Delivery Service, E-Commerce, Logistics',\n",
       "       'Fashion, Lifestyle, Rental', 'Fantasy Sports, Mobile, Sports',\n",
       "       'Beauty, Fashion, Wellness', 'Food and Beverage, Restaurants, Tea',\n",
       "       'Fitness, Sporting Goods, Sports',\n",
       "       'Food and Beverage, Food Processing, Manufacturing',\n",
       "       'E-Learning, Internet', 'Eyewear, Internet',\n",
       "       'Information Technology, Mobile, News, Operating Systems, Social Media, Social News',\n",
       "       'FinTech, Internet, Payments, Service Industry',\n",
       "       'B2B, Business Development, Internet, Marketplace',\n",
       "       'Food and Beverage, Food Delivery, Internet',\n",
       "       'Biotechnology, Health Care, Pharmaceutical'], dtype=object)"
      ]
     },
     "execution_count": 35,
     "metadata": {},
     "output_type": "execute_result"
    }
   ],
   "source": [
    "df_combined['Sector'].unique()"
   ]
  },
  {
   "cell_type": "code",
   "execution_count": 36,
   "metadata": {},
   "outputs": [],
   "source": [
    "def sector_redistribution(sector):\n",
    "    # Check if the sector is a float or NaN\n",
    "    if isinstance(sector, float) and not np.isnan(sector):\n",
    "        # Convert float to string\n",
    "        return str(int(sector))  # Convert float to integer and then to string\n",
    "    elif pd.isnull(sector):\n",
    "        # Handle NaN values, you can return a default value or handle as needed\n",
    "        return 'Unknown'\n",
    "    else:\n",
    "        # Sector is already a string, return it as is\n",
    "        return sector"
   ]
  },
  {
   "cell_type": "code",
   "execution_count": 37,
   "metadata": {},
   "outputs": [],
   "source": [
    "import re\n",
    "def sector_redistribution(sector):\n",
    "    if isinstance(sector, str):\n",
    "        if re.search(r'bank|fintech|finance|crypto|account|credit|venture|crowd|blockchain', sector, re.IGNORECASE):\n",
    "            return 'Finance'\n",
    "        elif re.search(r'automotive|air transport|transport|logistics|vehicle|transportation', sector, re.IGNORECASE):\n",
    "            return 'Transport'\n",
    "        else:\n",
    "            return sector\n",
    "    else:\n",
    "        return sector\n",
    "\n",
    "# Apply the function to the 'Sector' column\n",
    "df_combined['Sector'] = df_combined['Sector'].apply(sector_redistribution)"
   ]
  },
  {
   "cell_type": "code",
   "execution_count": 38,
   "metadata": {},
   "outputs": [],
   "source": [
    "df_combined['Sector'].fillna('Unknown', inplace=True)"
   ]
  },
  {
   "cell_type": "markdown",
   "metadata": {},
   "source": [
    "### FOUNDERS COLUMN"
   ]
  },
  {
   "cell_type": "code",
   "execution_count": 39,
   "metadata": {},
   "outputs": [
    {
     "data": {
      "text/plain": [
       "array(['Shantanu Deshpande', 'Adamas Belva Syah Devara, Iman Usman.',\n",
       "       'Jatin Solanki', ..., 'Bala Sarda', 'Arnav Kumar, Vaibhav Singh',\n",
       "       'Vishal Chopra, Himanshu Gupta'], dtype=object)"
      ]
     },
     "execution_count": 39,
     "metadata": {},
     "output_type": "execute_result"
    }
   ],
   "source": [
    "df_combined['Founders'].unique()"
   ]
  },
  {
   "cell_type": "code",
   "execution_count": 40,
   "metadata": {},
   "outputs": [
    {
     "data": {
      "text/plain": [
       "Founders\n",
       "Ashneer Grover, Shashvat Nakrani                   14\n",
       "Byju Raveendran, Divya Gokulnath                   10\n",
       "Ritesh Agarwal                                      9\n",
       "Bhavish Aggarwal                                    8\n",
       "Nirmit Parikh                                       6\n",
       "Prabhkiran Singh                                    6\n",
       "Ankur Gupta                                         6\n",
       "Utham Gowda                                         6\n",
       "Kunal Shah                                          6\n",
       "Ashish Singhal, Govind Soni, Vimal Sagar Tiwari     6\n",
       "Kshama Fernandes                                    6\n",
       "Saurav Kumar                                        5\n",
       "Saurabh Saxena                                      4\n",
       "Nitish Mittersain                                   4\n",
       "Sankar Bora, Sourjyendu Medda, Vineet Rao           4\n",
       "Kajal Ilmi                                          4\n",
       "Sai Srinivas Kiran G, Shubham Malhotra              4\n",
       "Aman Gupta, Sameer Mehta                            4\n",
       "Vineet Khanna, Varun Sadana, Aman Tekriwal          4\n",
       "Sahil Barua                                         4\n",
       "Name: count, dtype: int64"
      ]
     },
     "execution_count": 40,
     "metadata": {},
     "output_type": "execute_result"
    }
   ],
   "source": [
    "# Analyzing the most frequent founders' names\n",
    "founders_frequency = df_combined['Founders'].value_counts()\n",
    "founders_frequency.head(20)  # Displaying top 20 most frequent founders' names"
   ]
  },
  {
   "cell_type": "code",
   "execution_count": 41,
   "metadata": {},
   "outputs": [
    {
     "data": {
      "text/plain": [
       "\"Remaining missing values in 'Founders' column: 702\""
      ]
     },
     "execution_count": 41,
     "metadata": {},
     "output_type": "execute_result"
    }
   ],
   "source": [
    "# Step 1: Replace anomalies with NaN\n",
    "def clean_founders(founders):\n",
    "    if isinstance(founders, str) and re.search(r'^\\s*\\.+\\s*$|^\\s*$|unknown|nan', founders, re.IGNORECASE):\n",
    "        return np.nan\n",
    "    return founders\n",
    "\n",
    "df_combined['Founders'] = df_combined['Founders'].apply(clean_founders)\n",
    "\n",
    "# Check the remaining missing values\n",
    "missing_founders_count = df_combined['Founders'].isna().sum()\n",
    "f\"Remaining missing values in 'Founders' column: {missing_founders_count}\""
   ]
  },
  {
   "cell_type": "code",
   "execution_count": 42,
   "metadata": {},
   "outputs": [],
   "source": [
    "# Step 2: Use the most frequent names to fill missing values\n",
    "most_frequent_founders = [\n",
    "    \"Ashneer Grover, Shashvat Nakrani\",\n",
    "    \"Byju Raveendran, Divya Gokulnath\",\n",
    "    \"Ritesh Agarwal\",\n",
    "    \"Bhavish Aggarwal\",\n",
    "    \"Nirmit Parikh\",\n",
    "    \"Prabhkiran Singh\",\n",
    "    \"Ankur Gupta\",\n",
    "    \"Utham Gowda\",\n",
    "    \"Kunal Shah\",\n",
    "    \"Ashish Singhal, Govind Soni, Vimal Sagar Tiwari\",\n",
    "    \"Kshama Fernandes\",\n",
    "    \"Saurav Kumar\",\n",
    "    \"Saurabh Saxena\",\n",
    "    \"Nitish Mittersain\",\n",
    "    \"Sankar Bora, Sourjyendu Medda, Vineet Rao\",\n",
    "    \"Kajal Ilmi\",\n",
    "    \"Sai Srinivas Kiran G, Shubham Malhotra\",\n",
    "    \"Aman Gupta, Sameer Mehta\",\n",
    "    \"Vineet Khanna, Varun Sadana, Aman Tekriwal\",\n",
    "   \"Sahil Barua\"\n",
    "]"
   ]
  },
  {
   "cell_type": "code",
   "execution_count": 43,
   "metadata": {},
   "outputs": [],
   "source": [
    "# Function to fill missing values\n",
    "def fill_missing_founders_with_patterns(founders):\n",
    "    if pd.isna(founders):\n",
    "        return np.random.choice(most_frequent_founders)\n",
    "    return founders\n",
    "\n",
    "df_combined['Founders'] = df_combined['Founders'].apply(fill_missing_founders_with_patterns)"
   ]
  },
  {
   "cell_type": "code",
   "execution_count": 44,
   "metadata": {},
   "outputs": [
    {
     "data": {
      "text/plain": [
       "\"Remaining missing values in 'Founders' column after imputation: 0\""
      ]
     },
     "execution_count": 44,
     "metadata": {},
     "output_type": "execute_result"
    }
   ],
   "source": [
    "# Step 3: Verify if there are any remaining missing values\n",
    "remaining_missing_values = df_combined['Founders'].isna().sum()\n",
    "f\"Remaining missing values in 'Founders' column after imputation: {remaining_missing_values}\""
   ]
  },
  {
   "cell_type": "markdown",
   "metadata": {},
   "source": [
    "### INVESTOR COLUMN"
   ]
  },
  {
   "cell_type": "code",
   "execution_count": 45,
   "metadata": {},
   "outputs": [
    {
     "data": {
      "text/plain": [
       "array(['Sixth Sense Ventures', 'General Atlantic',\n",
       "       'Deepak Parekh, Amitabh Bachchan, Piyush Pandey', ...,\n",
       "       'Winter Capital, ETS, Man Capital',\n",
       "       '3one4 Capital, Kalaari Capital', nan], dtype=object)"
      ]
     },
     "execution_count": 45,
     "metadata": {},
     "output_type": "execute_result"
    }
   ],
   "source": [
    "df_combined['Investor'].unique()"
   ]
  },
  {
   "cell_type": "code",
   "execution_count": 46,
   "metadata": {},
   "outputs": [
    {
     "data": {
      "text/plain": [
       "Investor\n",
       "Inflection Point Ventures                        49\n",
       "Venture Catalysts                                23\n",
       "Tiger Global                                     22\n",
       "Elevation Capital                                14\n",
       "Titan Capital                                    13\n",
       "We Founder Circle                                12\n",
       "Sixth Sense Ventures                             11\n",
       "Sequoia Capital India                            10\n",
       "Kalaari Capital                                  10\n",
       "Anicut Angel Fund                                10\n",
       "Alteria Capital                                   9\n",
       "Mumbai Angels Network                             9\n",
       "SucSEED Indovation Fund                           8\n",
       "Venture Catalysts, 9Unicorns Accelerator Fund     8\n",
       "9Unicorns                                         8\n",
       "Better Capital                                    8\n",
       "Unicorn India Ventures                            8\n",
       "Blue Ashva Capital                                8\n",
       "Y Combinator                                      8\n",
       "Sequoia Capital                                   7\n",
       "Name: count, dtype: int64"
      ]
     },
     "execution_count": 46,
     "metadata": {},
     "output_type": "execute_result"
    }
   ],
   "source": [
    "# Analyzing the most frequent founders' names\n",
    "Investor_frequency = df_combined['Investor'].value_counts()\n",
    "Investor_frequency.head(20)  # Displaying top 20 most frequent Investor' names"
   ]
  },
  {
   "cell_type": "code",
   "execution_count": 47,
   "metadata": {},
   "outputs": [],
   "source": [
    "# Step 1: Clean the 'Investor' column by replacing anomalies and NaN values\n",
    "def clean_investor(investor):\n",
    "    if isinstance(investor, str) and re.search(r'^\\s*\\.+\\s*$|^\\s*$|unknown|nan', investor, re.IGNORECASE):\n",
    "        return np.nan\n",
    "    return investor\n",
    "\n",
    "df_combined['Investor'] = df_combined['Investor'].apply(clean_investor)"
   ]
  },
  {
   "cell_type": "code",
   "execution_count": 48,
   "metadata": {},
   "outputs": [],
   "source": [
    "# List of top 20 most frequent investors\n",
    "top_investors = [\n",
    "    'Inflection Point Ventures', 'Venture Catalysts', 'Tiger Global', 'Elevation Capital',\n",
    "    'Titan Capital', 'We Founder Circle', 'Sixth Sense Ventures', 'Sequoia Capital India',\n",
    "    'Kalaari Capital', 'Anicut Angel Fund', 'Alteria Capital', 'Mumbai Angels Network',\n",
    "    'SucSEED Indovation Fund', 'Venture Catalysts, 9Unicorns Accelerator Fund', '9Unicorns',\n",
    "    'Better Capital', 'Unicorn India Ventures', 'Blue Ashva Capital', 'Y Combinator', 'Sequoia Capital'\n",
    "]"
   ]
  },
  {
   "cell_type": "code",
   "execution_count": 49,
   "metadata": {},
   "outputs": [],
   "source": [
    "# Function to fill missing values with top 20 most frequent investors\n",
    "def fill_missing_investors(investor):\n",
    "    if pd.isna(investor):\n",
    "        return np.random.choice(top_investors)\n",
    "    return investor\n",
    "\n",
    "# Apply the fill_missing_investors function to fill missing values\n",
    "df_combined['Investor'] = df_combined['Investor'].apply(fill_missing_investors)"
   ]
  },
  {
   "cell_type": "markdown",
   "metadata": {},
   "source": [
    "### STAGE COLUMN"
   ]
  },
  {
   "cell_type": "code",
   "execution_count": 50,
   "metadata": {},
   "outputs": [
    {
     "data": {
      "text/plain": [
       "array([nan, 'Series C', 'Fresh funding', 'Series D', 'Pre series A',\n",
       "       'Series A', 'Series G', 'Series B', 'Post series A',\n",
       "       'Seed funding', 'Seed fund', 'Series E', 'Series F', 'Series B+',\n",
       "       'Seed round', 'Pre-series A', None, 'Seed', 'Pre-seed',\n",
       "       'Pre-series B', 'Debt', '$1200000', 'Bridge', 'Seed+', 'Series F2',\n",
       "       'Series A+', 'Series H', 'Series B3', 'PE', 'Series F1',\n",
       "       'Pre-series A1', '$300000', 'Early seed', 'Series D1', '$6000000',\n",
       "       '$1000000', 'Seies A', 'Pre-series', 'Series A2', 'Series I',\n",
       "       'Angel', 'Pre-Seed', 'Private Equity', 'Venture - Series Unknown',\n",
       "       'Grant', 'Debt Financing', 'Post-IPO Debt', 'Corporate Round',\n",
       "       'Undisclosed',\n",
       "       'https://docs.google.com/spreadsheets/d/1x9ziNeaz6auNChIHnMI8U6kS7knTr3byy_YBGfQaoUA/edit#gid=1861303593',\n",
       "       'Secondary Market', 'Post-IPO Equity', 'Non-equity Assistance',\n",
       "       'Funding Round'], dtype=object)"
      ]
     },
     "execution_count": 50,
     "metadata": {},
     "output_type": "execute_result"
    }
   ],
   "source": [
    "df_combined['Stage'].unique()"
   ]
  },
  {
   "cell_type": "code",
   "execution_count": 51,
   "metadata": {},
   "outputs": [],
   "source": [
    "stage_unique = {\n",
    "    'Stage': [\n",
    "        np.nan, 'Series C', 'Fresh funding', 'Series D', 'Pre series A', 'Series A', 'Series G', 'Series B',\n",
    "        'Post series A', 'Seed funding', 'Seed fund', 'Series E', 'Series F', 'Series B+', 'Seed round',\n",
    "        'Pre-series A', None, 'Seed', 'Pre-seed', 'Pre-series B', 'Debt', '$1200000', 'Bridge', 'Seed+', 'Series F2',\n",
    "        'Series A+', 'Series H', 'Series B3', 'PE', 'Series F1', 'Pre-series A1', '$300000', 'Early seed', 'Series D1',\n",
    "        '$6000000', '$1000000', 'Seies A', 'Pre-series', 'Series A2', 'Series I', 'Angel', 'Pre-Seed', 'Private Equity',\n",
    "        'Venture - Series Unknown', 'Grant', 'Debt Financing', 'Post-IPO Debt', 'Corporate Round', 'Undisclosed',\n",
    "        'https://docs.google.com/spreadsheets/d/1x9ziNeaz6auNChIHnMI8U6kS7knTr3byy_YBGfQaoUA/edit#gid=1861303593',\n",
    "        'Secondary Market', 'Post-IPO Equity', 'Non-equity Assistance', 'Funding Round']\n",
    "}"
   ]
  },
  {
   "cell_type": "code",
   "execution_count": 52,
   "metadata": {},
   "outputs": [],
   "source": [
    "# List of legitimate stages\n",
    "legitimate_stages = [\n",
    "    'Series A', 'Series B', 'Series C', 'Series D', 'Series E', 'Series F', 'Series G', 'Series H', 'Series I',\n",
    "    'Seed', 'Pre-Seed', 'Seed Funding', 'Early Seed', 'Seed Round', 'Series A+', 'Series B+', 'Series D1',\n",
    "    'Fresh Funding', 'Bridge', 'Private Equity', 'Debt Financing', 'Venture - Series Unknown'\n",
    "]\n",
    "\n",
    "# Function to clean and replace stages\n",
    "def clean_and_replace_stages(stage):\n",
    "    if pd.isna(stage) or stage not in legitimate_stages:\n",
    "        return np.random.choice(legitimate_stages)\n",
    "    return stage\n",
    "\n",
    "# Apply the clean_and_replace_stages function to clean and replace missing values\n",
    "df_combined['Stage'] = df_combined['Stage'].apply(clean_and_replace_stages)"
   ]
  },
  {
   "cell_type": "code",
   "execution_count": 53,
   "metadata": {},
   "outputs": [
    {
     "data": {
      "text/html": [
       "<div>\n",
       "<style scoped>\n",
       "    .dataframe tbody tr th:only-of-type {\n",
       "        vertical-align: middle;\n",
       "    }\n",
       "\n",
       "    .dataframe tbody tr th {\n",
       "        vertical-align: top;\n",
       "    }\n",
       "\n",
       "    .dataframe thead th {\n",
       "        text-align: right;\n",
       "    }\n",
       "</style>\n",
       "<table border=\"1\" class=\"dataframe\">\n",
       "  <thead>\n",
       "    <tr style=\"text-align: right;\">\n",
       "      <th></th>\n",
       "      <th>Year</th>\n",
       "      <th>HeadQuarter</th>\n",
       "      <th>Sector</th>\n",
       "      <th>Founders</th>\n",
       "      <th>Investor</th>\n",
       "      <th>Stage</th>\n",
       "      <th>Company_Brand</th>\n",
       "      <th>What_it_does</th>\n",
       "      <th>Amount</th>\n",
       "    </tr>\n",
       "  </thead>\n",
       "  <tbody>\n",
       "    <tr>\n",
       "      <th>332</th>\n",
       "      <td>2021-01-01</td>\n",
       "      <td>Bengaluru</td>\n",
       "      <td>Capital Markets</td>\n",
       "      <td>Manvendra Singh, Gaurav Agarwal</td>\n",
       "      <td>Accel India</td>\n",
       "      <td>Series A</td>\n",
       "      <td>Trinkerr</td>\n",
       "      <td>Trinkerr is India's first social trading platf...</td>\n",
       "      <td>6600000.0</td>\n",
       "    </tr>\n",
       "    <tr>\n",
       "      <th>333</th>\n",
       "      <td>2021-01-01</td>\n",
       "      <td>Gurugram</td>\n",
       "      <td>Social network</td>\n",
       "      <td>Jasveer Singh, Abhishek Asthana, Deepak Kumar</td>\n",
       "      <td>Vijay Shekhar Sharma, Ritesh Agarwal, Ankiti Bose</td>\n",
       "      <td>Seed</td>\n",
       "      <td>Zorro</td>\n",
       "      <td>Pseudonymous social network platform</td>\n",
       "      <td>32000000.0</td>\n",
       "    </tr>\n",
       "    <tr>\n",
       "      <th>334</th>\n",
       "      <td>2021-01-01</td>\n",
       "      <td>Bengaluru</td>\n",
       "      <td>Transport</td>\n",
       "      <td>Subramaniam Narayan, Niraj Rajmohan</td>\n",
       "      <td>TVS Motor, Zoho</td>\n",
       "      <td>Series C</td>\n",
       "      <td>Ultraviolette</td>\n",
       "      <td>Create and Inspire the future of sustainable u...</td>\n",
       "      <td>150000000.0</td>\n",
       "    </tr>\n",
       "    <tr>\n",
       "      <th>335</th>\n",
       "      <td>2009-01-01</td>\n",
       "      <td>Hyderabad</td>\n",
       "      <td>Hospital &amp; Health Care</td>\n",
       "      <td>Vikram Vuppala</td>\n",
       "      <td>IIFL Asset Management</td>\n",
       "      <td>Series E</td>\n",
       "      <td>NephroPlus</td>\n",
       "      <td>A vision and passion of redefining healthcare ...</td>\n",
       "      <td>24000000.0</td>\n",
       "    </tr>\n",
       "    <tr>\n",
       "      <th>336</th>\n",
       "      <td>2020-01-01</td>\n",
       "      <td>Bengaluru</td>\n",
       "      <td>Information Technology &amp; Services</td>\n",
       "      <td>Sankar Bora, Sourjyendu Medda, Vineet Rao</td>\n",
       "      <td>Inflection Point Ventures</td>\n",
       "      <td>Seed</td>\n",
       "      <td>Unremot</td>\n",
       "      <td>Unremot is a personal office for consultants!</td>\n",
       "      <td>700000.0</td>\n",
       "    </tr>\n",
       "    <tr>\n",
       "      <th>...</th>\n",
       "      <td>...</td>\n",
       "      <td>...</td>\n",
       "      <td>...</td>\n",
       "      <td>...</td>\n",
       "      <td>...</td>\n",
       "      <td>...</td>\n",
       "      <td>...</td>\n",
       "      <td>...</td>\n",
       "      <td>...</td>\n",
       "    </tr>\n",
       "    <tr>\n",
       "      <th>2503</th>\n",
       "      <td>2015-01-01</td>\n",
       "      <td>New Delhi</td>\n",
       "      <td>Food &amp; Beverages</td>\n",
       "      <td>Bala Sarda</td>\n",
       "      <td>IIFL AMC</td>\n",
       "      <td>Series D</td>\n",
       "      <td>Vahdam</td>\n",
       "      <td>VAHDAM is among the world’s first vertically i...</td>\n",
       "      <td>20000000.0</td>\n",
       "    </tr>\n",
       "    <tr>\n",
       "      <th>2504</th>\n",
       "      <td>2019-01-01</td>\n",
       "      <td>Bengaluru</td>\n",
       "      <td>Financial Services</td>\n",
       "      <td>Arnav Kumar, Vaibhav Singh</td>\n",
       "      <td>Owl Ventures</td>\n",
       "      <td>Series C</td>\n",
       "      <td>Leap Finance</td>\n",
       "      <td>International education loans for high potenti...</td>\n",
       "      <td>55000000.0</td>\n",
       "    </tr>\n",
       "    <tr>\n",
       "      <th>2505</th>\n",
       "      <td>2015-01-01</td>\n",
       "      <td>Gurugram</td>\n",
       "      <td>EdTech</td>\n",
       "      <td>Ruchir Arora</td>\n",
       "      <td>Winter Capital, ETS, Man Capital</td>\n",
       "      <td>Series B</td>\n",
       "      <td>CollegeDekho</td>\n",
       "      <td>Collegedekho.com is Student’s Partner, Friend ...</td>\n",
       "      <td>26000000.0</td>\n",
       "    </tr>\n",
       "    <tr>\n",
       "      <th>2506</th>\n",
       "      <td>2019-01-01</td>\n",
       "      <td>Bengaluru</td>\n",
       "      <td>Financial Services</td>\n",
       "      <td>Vishal Chopra, Himanshu Gupta</td>\n",
       "      <td>3one4 Capital, Kalaari Capital</td>\n",
       "      <td>Series A</td>\n",
       "      <td>WeRize</td>\n",
       "      <td>India’s first socially distributed full stack ...</td>\n",
       "      <td>8000000.0</td>\n",
       "    </tr>\n",
       "    <tr>\n",
       "      <th>2855</th>\n",
       "      <td>2018-01-01</td>\n",
       "      <td>Bengaluru</td>\n",
       "      <td>Brand Marketing, Event Promotion, Marketing, S...</td>\n",
       "      <td>Kunal Shah</td>\n",
       "      <td>Elevation Capital</td>\n",
       "      <td>Seed</td>\n",
       "      <td>TheCollegeFever</td>\n",
       "      <td>TheCollegeFever is a hub for fun, fiesta and f...</td>\n",
       "      <td>250000.0</td>\n",
       "    </tr>\n",
       "  </tbody>\n",
       "</table>\n",
       "<p>494 rows × 9 columns</p>\n",
       "</div>"
      ],
      "text/plain": [
       "           Year HeadQuarter  \\\n",
       "332  2021-01-01   Bengaluru   \n",
       "333  2021-01-01    Gurugram   \n",
       "334  2021-01-01   Bengaluru   \n",
       "335  2009-01-01   Hyderabad   \n",
       "336  2020-01-01   Bengaluru   \n",
       "...         ...         ...   \n",
       "2503 2015-01-01   New Delhi   \n",
       "2504 2019-01-01   Bengaluru   \n",
       "2505 2015-01-01    Gurugram   \n",
       "2506 2019-01-01   Bengaluru   \n",
       "2855 2018-01-01   Bengaluru   \n",
       "\n",
       "                                                 Sector  \\\n",
       "332                                     Capital Markets   \n",
       "333                                      Social network   \n",
       "334                                           Transport   \n",
       "335                              Hospital & Health Care   \n",
       "336                   Information Technology & Services   \n",
       "...                                                 ...   \n",
       "2503                                   Food & Beverages   \n",
       "2504                                 Financial Services   \n",
       "2505                                             EdTech   \n",
       "2506                                 Financial Services   \n",
       "2855  Brand Marketing, Event Promotion, Marketing, S...   \n",
       "\n",
       "                                           Founders  \\\n",
       "332                 Manvendra Singh, Gaurav Agarwal   \n",
       "333   Jasveer Singh, Abhishek Asthana, Deepak Kumar   \n",
       "334             Subramaniam Narayan, Niraj Rajmohan   \n",
       "335                                  Vikram Vuppala   \n",
       "336       Sankar Bora, Sourjyendu Medda, Vineet Rao   \n",
       "...                                             ...   \n",
       "2503                                     Bala Sarda   \n",
       "2504                     Arnav Kumar, Vaibhav Singh   \n",
       "2505                                   Ruchir Arora   \n",
       "2506                  Vishal Chopra, Himanshu Gupta   \n",
       "2855                                     Kunal Shah   \n",
       "\n",
       "                                               Investor     Stage  \\\n",
       "332                                         Accel India  Series A   \n",
       "333   Vijay Shekhar Sharma, Ritesh Agarwal, Ankiti Bose      Seed   \n",
       "334                                     TVS Motor, Zoho  Series C   \n",
       "335                               IIFL Asset Management  Series E   \n",
       "336                           Inflection Point Ventures      Seed   \n",
       "...                                                 ...       ...   \n",
       "2503                                           IIFL AMC  Series D   \n",
       "2504                                       Owl Ventures  Series C   \n",
       "2505                   Winter Capital, ETS, Man Capital  Series B   \n",
       "2506                     3one4 Capital, Kalaari Capital  Series A   \n",
       "2855                                  Elevation Capital      Seed   \n",
       "\n",
       "        Company_Brand                                       What_it_does  \\\n",
       "332          Trinkerr  Trinkerr is India's first social trading platf...   \n",
       "333             Zorro               Pseudonymous social network platform   \n",
       "334     Ultraviolette  Create and Inspire the future of sustainable u...   \n",
       "335        NephroPlus  A vision and passion of redefining healthcare ...   \n",
       "336           Unremot      Unremot is a personal office for consultants!   \n",
       "...               ...                                                ...   \n",
       "2503           Vahdam  VAHDAM is among the world’s first vertically i...   \n",
       "2504     Leap Finance  International education loans for high potenti...   \n",
       "2505     CollegeDekho  Collegedekho.com is Student’s Partner, Friend ...   \n",
       "2506           WeRize  India’s first socially distributed full stack ...   \n",
       "2855  TheCollegeFever  TheCollegeFever is a hub for fun, fiesta and f...   \n",
       "\n",
       "           Amount  \n",
       "332     6600000.0  \n",
       "333    32000000.0  \n",
       "334   150000000.0  \n",
       "335    24000000.0  \n",
       "336      700000.0  \n",
       "...           ...  \n",
       "2503   20000000.0  \n",
       "2504   55000000.0  \n",
       "2505   26000000.0  \n",
       "2506    8000000.0  \n",
       "2855     250000.0  \n",
       "\n",
       "[494 rows x 9 columns]"
      ]
     },
     "execution_count": 53,
     "metadata": {},
     "output_type": "execute_result"
    }
   ],
   "source": [
    "duplicate_rows = df_combined[df_combined.duplicated()]\n",
    "duplicate_rows"
   ]
  },
  {
   "cell_type": "markdown",
   "metadata": {},
   "source": [
    "## HYPOTHESIS TESTING"
   ]
  },
  {
   "cell_type": "code",
   "execution_count": 54,
   "metadata": {},
   "outputs": [
    {
     "name": "stdout",
     "output_type": "stream",
     "text": [
      "                 sum_sq      df         F    PR(>F)\n",
      "C(Sector)  3.528772e+20   565.0  0.034693  1.000000\n",
      "C(Stage)   7.031886e+20    21.0  1.860015  0.010083\n",
      "Residual   4.403444e+22  2446.0       NaN       NaN\n",
      "P-value for Sector: 0.9999999999999999\n",
      "P-value for Stage: 0.010083429744218051\n",
      "Fail to reject the null hypothesis for Sector: No significant difference in funding across different sectors.\n",
      "Reject the null hypothesis for Stage: There is a significant difference in funding across different stages.\n"
     ]
    }
   ],
   "source": [
    "import statsmodels.api as sm\n",
    "from statsmodels.formula.api import ols\n",
    "from statsmodels.stats.anova import anova_lm\n",
    "\n",
    "\n",
    "# Create the model\n",
    "model = ols('Amount ~ C(Sector) + C(Stage)', data=df_combined).fit()\n",
    "\n",
    "# Perform the ANOVA\n",
    "anova_results = sm.stats.anova_lm(model, typ=2)\n",
    "\n",
    "# Display the results\n",
    "print(anova_results)\n",
    "\n",
    "# Interpretation\n",
    "p_value_sector = anova_results['PR(>F)']['C(Sector)']\n",
    "p_value_stage = anova_results['PR(>F)']['C(Stage)']\n",
    "\n",
    "print(f\"P-value for Sector: {p_value_sector}\")\n",
    "print(f\"P-value for Stage: {p_value_stage}\")\n",
    "\n",
    "if p_value_sector < 0.05:\n",
    "    print(\"Reject the null hypothesis for Sector: There is a significant difference in funding across different sectors.\")\n",
    "else:\n",
    "    print(\"Fail to reject the null hypothesis for Sector: No significant difference in funding across different sectors.\")\n",
    "\n",
    "if p_value_stage < 0.05:\n",
    "    print(\"Reject the null hypothesis for Stage: There is a significant difference in funding across different stages.\")\n",
    "else:\n",
    "    print(\"Fail to reject the null hypothesis for Stage: No significant difference in funding across different stages.\")"
   ]
  },
  {
   "cell_type": "markdown",
   "metadata": {},
   "source": [
    "The output suggests that there is no significant difference in funding across different sectors and stages of startups, according to the ANOVA test performed. However, the p-value for the Sector factor (0.042076) is lower than the typical significance level of 0.05, which could indicate some potential difference in funding across sectors, but this difference is not statistically significant based on the chose"
   ]
  },
  {
   "cell_type": "markdown",
   "metadata": {},
   "source": [
    "### ANALYTICAL QUESTIONS"
   ]
  },
  {
   "cell_type": "markdown",
   "metadata": {},
   "source": [
    "**1. Funding Trends: How has the total funding amount changed year over year from 2018 to 2021? How has the average funding amount in each sector changed over the years (2018 - 2021)**"
   ]
  },
  {
   "cell_type": "code",
   "execution_count": 68,
   "metadata": {},
   "outputs": [
    {
     "name": "stdout",
     "output_type": "stream",
     "text": [
      "         Year        Amount\n",
      "26 2018-01-01  3.150191e+11\n",
      "27 2019-01-01  2.733650e+09\n",
      "28 2020-01-01  2.376834e+09\n",
      "29 2021-01-01  2.701860e+09\n"
     ]
    }
   ],
   "source": [
    "# Ensure the 'Year' column is in datetime format\n",
    "df_combined['Year'] = pd.to_datetime(df_combined['Year'], format='%Y')\n",
    "\n",
    "# Calculate the total funding amount per year\n",
    "Total_funding = df_combined.groupby('Year')['Amount'].sum().reset_index()\n",
    "\n",
    "# Convert the comparison values to datetime\n",
    "start_year = pd.to_datetime('2018', format='%Y')\n",
    "end_year = pd.to_datetime('2021', format='%Y')\n",
    "\n",
    "# Filter the data for the years 2018 to 2021\n",
    "filtered_funding = Total_funding[Total_funding['Year'].between(start_year, end_year)]\n",
    "\n",
    "# Display the result\n",
    "print(filtered_funding)"
   ]
  },
  {
   "cell_type": "code",
   "execution_count": 71,
   "metadata": {},
   "outputs": [
    {
     "data": {
      "image/png": "[encoded data removed]",
      "text/plain": [
       "<Figure size 1000x600 with 1 Axes>"
      ]
     },
     "metadata": {},
     "output_type": "display_data"
    }
   ],
   "source": [
    "# Create the line plot\n",
    "plt.figure(figsize=(10, 6))\n",
    "plt.plot(filtered_funding['Year'], filtered_funding['Amount'], marker='o', linestyle='-', color='b')\n",
    "\n",
    "# Customize the plot\n",
    "plt.title('Total Funding Amount per Year (2018-2021)')\n",
    "plt.xlabel('Year')\n",
    "plt.ylabel('Total Funding Amount')\n",
    "plt.xticks(filtered_funding['Year'])  # Ensure all years are shown on the x-axis\n",
    "plt.grid(True)\n",
    "plt.show()"
   ]
  },
  {
   "cell_type": "code",
   "execution_count": 57,
   "metadata": {},
   "outputs": [
    {
     "data": {
      "text/html": [
       "<div>\n",
       "<style scoped>\n",
       "    .dataframe tbody tr th:only-of-type {\n",
       "        vertical-align: middle;\n",
       "    }\n",
       "\n",
       "    .dataframe tbody tr th {\n",
       "        vertical-align: top;\n",
       "    }\n",
       "\n",
       "    .dataframe thead th {\n",
       "        text-align: right;\n",
       "    }\n",
       "</style>\n",
       "<table border=\"1\" class=\"dataframe\">\n",
       "  <thead>\n",
       "    <tr style=\"text-align: right;\">\n",
       "      <th></th>\n",
       "      <th>Sector</th>\n",
       "      <th>Year</th>\n",
       "      <th>Amount</th>\n",
       "    </tr>\n",
       "  </thead>\n",
       "  <tbody>\n",
       "    <tr>\n",
       "      <th>451</th>\n",
       "      <td>Finance</td>\n",
       "      <td>2018-01-01</td>\n",
       "      <td>2.944206e+09</td>\n",
       "    </tr>\n",
       "    <tr>\n",
       "      <th>694</th>\n",
       "      <td>Innovation Management</td>\n",
       "      <td>2007-01-01</td>\n",
       "      <td>1.000000e+09</td>\n",
       "    </tr>\n",
       "    <tr>\n",
       "      <th>495</th>\n",
       "      <td>Food Delivery, Food Processing, Internet</td>\n",
       "      <td>2018-01-01</td>\n",
       "      <td>1.000000e+09</td>\n",
       "    </tr>\n",
       "    <tr>\n",
       "      <th>893</th>\n",
       "      <td>Sports</td>\n",
       "      <td>2008-01-01</td>\n",
       "      <td>8.400000e+08</td>\n",
       "    </tr>\n",
       "    <tr>\n",
       "      <th>519</th>\n",
       "      <td>Food delivery</td>\n",
       "      <td>2014-01-01</td>\n",
       "      <td>8.000000e+08</td>\n",
       "    </tr>\n",
       "    <tr>\n",
       "      <th>...</th>\n",
       "      <td>...</td>\n",
       "      <td>...</td>\n",
       "      <td>...</td>\n",
       "    </tr>\n",
       "    <tr>\n",
       "      <th>109</th>\n",
       "      <td>B2B, Biometrics, Cyber Security, Fraud Detecti...</td>\n",
       "      <td>2018-01-01</td>\n",
       "      <td>1.000000e+04</td>\n",
       "    </tr>\n",
       "    <tr>\n",
       "      <th>507</th>\n",
       "      <td>Food and Beverage, Food Delivery, Internet</td>\n",
       "      <td>2018-01-01</td>\n",
       "      <td>7.500000e+03</td>\n",
       "    </tr>\n",
       "    <tr>\n",
       "      <th>719</th>\n",
       "      <td>Internet of Things, Waste Management</td>\n",
       "      <td>2018-01-01</td>\n",
       "      <td>6.500000e+03</td>\n",
       "    </tr>\n",
       "    <tr>\n",
       "      <th>387</th>\n",
       "      <td>Education, Information Technology, Internet, M...</td>\n",
       "      <td>2018-01-01</td>\n",
       "      <td>1.300000e+03</td>\n",
       "    </tr>\n",
       "    <tr>\n",
       "      <th>290</th>\n",
       "      <td>Digital Marketing, SEM, SEO, Web Development</td>\n",
       "      <td>2018-01-01</td>\n",
       "      <td>1.300000e+03</td>\n",
       "    </tr>\n",
       "  </tbody>\n",
       "</table>\n",
       "<p>958 rows × 3 columns</p>\n",
       "</div>"
      ],
      "text/plain": [
       "                                                Sector       Year  \\\n",
       "451                                            Finance 2018-01-01   \n",
       "694                              Innovation Management 2007-01-01   \n",
       "495           Food Delivery, Food Processing, Internet 2018-01-01   \n",
       "893                                             Sports 2008-01-01   \n",
       "519                                      Food delivery 2014-01-01   \n",
       "..                                                 ...        ...   \n",
       "109  B2B, Biometrics, Cyber Security, Fraud Detecti... 2018-01-01   \n",
       "507         Food and Beverage, Food Delivery, Internet 2018-01-01   \n",
       "719               Internet of Things, Waste Management 2018-01-01   \n",
       "387  Education, Information Technology, Internet, M... 2018-01-01   \n",
       "290       Digital Marketing, SEM, SEO, Web Development 2018-01-01   \n",
       "\n",
       "           Amount  \n",
       "451  2.944206e+09  \n",
       "694  1.000000e+09  \n",
       "495  1.000000e+09  \n",
       "893  8.400000e+08  \n",
       "519  8.000000e+08  \n",
       "..            ...  \n",
       "109  1.000000e+04  \n",
       "507  7.500000e+03  \n",
       "719  6.500000e+03  \n",
       "387  1.300000e+03  \n",
       "290  1.300000e+03  \n",
       "\n",
       "[958 rows x 3 columns]"
      ]
     },
     "execution_count": 57,
     "metadata": {},
     "output_type": "execute_result"
    }
   ],
   "source": [
    "# HoW has the average funding amount in each Sector changed over the years \n",
    "\n",
    "# The data to include years 2018 to 2021\n",
    "Year = df_combined['Year']\n",
    "\n",
    "# Group the data by 'Sector' and 'Year', and calculate the mean 'Amount'\n",
    "average_funding = df_combined.groupby(['Sector', 'Year'])['Amount'].mean().reset_index()\n",
    "\n",
    "# Sort the DataFrame in descending order based on 'Amount'\n",
    "average_funding = average_funding.sort_values('Amount', ascending=False)\n",
    "\n",
    "average_funding"
   ]
  },
  {
   "cell_type": "code",
   "execution_count": 58,
   "metadata": {},
   "outputs": [
    {
     "data": {
      "application/vnd.plotly.v1+json": {
       "config": {
        "plotlyServerURL": "https://plot.ly"
       },
       "data": [
        {
         "hovertemplate": "Sector=Innovation Management<br>Year=%{x}<br>Amount=%{y}<extra></extra>",
         "legendgroup": "Innovation Management",
         "line": {
          "color": "#636efa",
          "dash": "solid"
         },
         "marker": {
          "symbol": "circle"
         },
         "mode": "lines",
         "name": "Innovation Management",
         "orientation": "v",
         "showlegend": true,
         "type": "scatter",
         "x": [
          "2007-01-01T00:00:00"
         ],
         "xaxis": "x",
         "y": [
          1000000000
         ],
         "yaxis": "y"
        },
        {
         "hovertemplate": "Sector=Food Delivery, Food Processing, Internet<br>Year=%{x}<br>Amount=%{y}<extra></extra>",
         "legendgroup": "Food Delivery, Food Processing, Internet",
         "line": {
          "color": "#EF553B",
          "dash": "solid"
         },
         "marker": {
          "symbol": "circle"
         },
         "mode": "lines",
         "name": "Food Delivery, Food Processing, Internet",
         "orientation": "v",
         "showlegend": true,
         "type": "scatter",
         "x": [
          "2018-01-01T00:00:00"
         ],
         "xaxis": "x",
         "y": [
          1000000000
         ],
         "yaxis": "y"
        },
        {
         "hovertemplate": "Sector=Food delivery<br>Year=%{x}<br>Amount=%{y}<extra></extra>",
         "legendgroup": "Food delivery",
         "line": {
          "color": "#00cc96",
          "dash": "solid"
         },
         "marker": {
          "symbol": "circle"
         },
         "mode": "lines",
         "name": "Food delivery",
         "orientation": "v",
         "showlegend": true,
         "type": "scatter",
         "x": [
          "2014-01-01T00:00:00"
         ],
         "xaxis": "x",
         "y": [
          800000000
         ],
         "yaxis": "y"
        },
        {
         "hovertemplate": "Sector=EdTech, Education, Higher Education, Secondary Education<br>Year=%{x}<br>Amount=%{y}<extra></extra>",
         "legendgroup": "EdTech, Education, Higher Education, Secondary Education",
         "line": {
          "color": "#ab63fa",
          "dash": "solid"
         },
         "marker": {
          "symbol": "circle"
         },
         "mode": "lines",
         "name": "EdTech, Education, Higher Education, Secondary Education",
         "orientation": "v",
         "showlegend": true,
         "type": "scatter",
         "x": [
          "2018-01-01T00:00:00"
         ],
         "xaxis": "x",
         "y": [
          540000000
         ],
         "yaxis": "y"
        },
        {
         "hovertemplate": "Sector=Energy, Natural Resources<br>Year=%{x}<br>Amount=%{y}<extra></extra>",
         "legendgroup": "Energy, Natural Resources",
         "line": {
          "color": "#FFA15A",
          "dash": "solid"
         },
         "marker": {
          "symbol": "circle"
         },
         "mode": "lines",
         "name": "Energy, Natural Resources",
         "orientation": "v",
         "showlegend": true,
         "type": "scatter",
         "x": [
          "2018-01-01T00:00:00"
         ],
         "xaxis": "x",
         "y": [
          365000000
         ],
         "yaxis": "y"
        }
       ],
       "layout": {
        "font": {
         "size": 14
        },
        "legend": {
         "orientation": "h",
         "title": {
          "text": "Sector"
         },
         "tracegroupgap": 0,
         "x": 1,
         "xanchor": "right",
         "y": 1.02,
         "yanchor": "bottom"
        },
        "template": {
         "data": {
          "bar": [
           {
            "error_x": {
             "color": "#2a3f5f"
            },
            "error_y": {
             "color": "#2a3f5f"
            },
            "marker": {
             "line": {
              "color": "#E5ECF6",
              "width": 0.5
             },
             "pattern": {
              "fillmode": "overlay",
              "size": 10,
              "solidity": 0.2
             }
            },
            "type": "bar"
           }
          ],
          "barpolar": [
           {
            "marker": {
             "line": {
              "color": "#E5ECF6",
              "width": 0.5
             },
             "pattern": {
              "fillmode": "overlay",
              "size": 10,
              "solidity": 0.2
             }
            },
            "type": "barpolar"
           }
          ],
          "carpet": [
           {
            "aaxis": {
             "endlinecolor": "#2a3f5f",
             "gridcolor": "white",
             "linecolor": "white",
             "minorgridcolor": "white",
             "startlinecolor": "#2a3f5f"
            },
            "baxis": {
             "endlinecolor": "#2a3f5f",
             "gridcolor": "white",
             "linecolor": "white",
             "minorgridcolor": "white",
             "startlinecolor": "#2a3f5f"
            },
            "type": "carpet"
           }
          ],
          "choropleth": [
           {
            "colorbar": {
             "outlinewidth": 0,
             "ticks": ""
            },
            "type": "choropleth"
           }
          ],
          "contour": [
           {
            "colorbar": {
             "outlinewidth": 0,
             "ticks": ""
            },
            "colorscale": [
             [
              0,
              "#0d0887"
             ],
             [
              0.1111111111111111,
              "#46039f"
             ],
             [
              0.2222222222222222,
              "#7201a8"
             ],
             [
              0.3333333333333333,
              "#9c179e"
             ],
             [
              0.4444444444444444,
              "#bd3786"
             ],
             [
              0.5555555555555556,
              "#d8576b"
             ],
             [
              0.6666666666666666,
              "#ed7953"
             ],
             [
              0.7777777777777778,
              "#fb9f3a"
             ],
             [
              0.8888888888888888,
              "#fdca26"
             ],
             [
              1,
              "#f0f921"
             ]
            ],
            "type": "contour"
           }
          ],
          "contourcarpet": [
           {
            "colorbar": {
             "outlinewidth": 0,
             "ticks": ""
            },
            "type": "contourcarpet"
           }
          ],
          "heatmap": [
           {
            "colorbar": {
             "outlinewidth": 0,
             "ticks": ""
            },
            "colorscale": [
             [
              0,
              "#0d0887"
             ],
             [
              0.1111111111111111,
              "#46039f"
             ],
             [
              0.2222222222222222,
              "#7201a8"
             ],
             [
              0.3333333333333333,
              "#9c179e"
             ],
             [
              0.4444444444444444,
              "#bd3786"
             ],
             [
              0.5555555555555556,
              "#d8576b"
             ],
             [
              0.6666666666666666,
              "#ed7953"
             ],
             [
              0.7777777777777778,
              "#fb9f3a"
             ],
             [
              0.8888888888888888,
              "#fdca26"
             ],
             [
              1,
              "#f0f921"
             ]
            ],
            "type": "heatmap"
           }
          ],
          "heatmapgl": [
           {
            "colorbar": {
             "outlinewidth": 0,
             "ticks": ""
            },
            "colorscale": [
             [
              0,
              "#0d0887"
             ],
             [
              0.1111111111111111,
              "#46039f"
             ],
             [
              0.2222222222222222,
              "#7201a8"
             ],
             [
              0.3333333333333333,
              "#9c179e"
             ],
             [
              0.4444444444444444,
              "#bd3786"
             ],
             [
              0.5555555555555556,
              "#d8576b"
             ],
             [
              0.6666666666666666,
              "#ed7953"
             ],
             [
              0.7777777777777778,
              "#fb9f3a"
             ],
             [
              0.8888888888888888,
              "#fdca26"
             ],
             [
              1,
              "#f0f921"
             ]
            ],
            "type": "heatmapgl"
           }
          ],
          "histogram": [
           {
            "marker": {
             "pattern": {
              "fillmode": "overlay",
              "size": 10,
              "solidity": 0.2
             }
            },
            "type": "histogram"
           }
          ],
          "histogram2d": [
           {
            "colorbar": {
             "outlinewidth": 0,
             "ticks": ""
            },
            "colorscale": [
             [
              0,
              "#0d0887"
             ],
             [
              0.1111111111111111,
              "#46039f"
             ],
             [
              0.2222222222222222,
              "#7201a8"
             ],
             [
              0.3333333333333333,
              "#9c179e"
             ],
             [
              0.4444444444444444,
              "#bd3786"
             ],
             [
              0.5555555555555556,
              "#d8576b"
             ],
             [
              0.6666666666666666,
              "#ed7953"
             ],
             [
              0.7777777777777778,
              "#fb9f3a"
             ],
             [
              0.8888888888888888,
              "#fdca26"
             ],
             [
              1,
              "#f0f921"
             ]
            ],
            "type": "histogram2d"
           }
          ],
          "histogram2dcontour": [
           {
            "colorbar": {
             "outlinewidth": 0,
             "ticks": ""
            },
            "colorscale": [
             [
              0,
              "#0d0887"
             ],
             [
              0.1111111111111111,
              "#46039f"
             ],
             [
              0.2222222222222222,
              "#7201a8"
             ],
             [
              0.3333333333333333,
              "#9c179e"
             ],
             [
              0.4444444444444444,
              "#bd3786"
             ],
             [
              0.5555555555555556,
              "#d8576b"
             ],
             [
              0.6666666666666666,
              "#ed7953"
             ],
             [
              0.7777777777777778,
              "#fb9f3a"
             ],
             [
              0.8888888888888888,
              "#fdca26"
             ],
             [
              1,
              "#f0f921"
             ]
            ],
            "type": "histogram2dcontour"
           }
          ],
          "mesh3d": [
           {
            "colorbar": {
             "outlinewidth": 0,
             "ticks": ""
            },
            "type": "mesh3d"
           }
          ],
          "parcoords": [
           {
            "line": {
             "colorbar": {
              "outlinewidth": 0,
              "ticks": ""
             }
            },
            "type": "parcoords"
           }
          ],
          "pie": [
           {
            "automargin": true,
            "type": "pie"
           }
          ],
          "scatter": [
           {
            "fillpattern": {
             "fillmode": "overlay",
             "size": 10,
             "solidity": 0.2
            },
            "type": "scatter"
           }
          ],
          "scatter3d": [
           {
            "line": {
             "colorbar": {
              "outlinewidth": 0,
              "ticks": ""
             }
            },
            "marker": {
             "colorbar": {
              "outlinewidth": 0,
              "ticks": ""
             }
            },
            "type": "scatter3d"
           }
          ],
          "scattercarpet": [
           {
            "marker": {
             "colorbar": {
              "outlinewidth": 0,
              "ticks": ""
             }
            },
            "type": "scattercarpet"
           }
          ],
          "scattergeo": [
           {
            "marker": {
             "colorbar": {
              "outlinewidth": 0,
              "ticks": ""
             }
            },
            "type": "scattergeo"
           }
          ],
          "scattergl": [
           {
            "marker": {
             "colorbar": {
              "outlinewidth": 0,
              "ticks": ""
             }
            },
            "type": "scattergl"
           }
          ],
          "scattermapbox": [
           {
            "marker": {
             "colorbar": {
              "outlinewidth": 0,
              "ticks": ""
             }
            },
            "type": "scattermapbox"
           }
          ],
          "scatterpolar": [
           {
            "marker": {
             "colorbar": {
              "outlinewidth": 0,
              "ticks": ""
             }
            },
            "type": "scatterpolar"
           }
          ],
          "scatterpolargl": [
           {
            "marker": {
             "colorbar": {
              "outlinewidth": 0,
              "ticks": ""
             }
            },
            "type": "scatterpolargl"
           }
          ],
          "scatterternary": [
           {
            "marker": {
             "colorbar": {
              "outlinewidth": 0,
              "ticks": ""
             }
            },
            "type": "scatterternary"
           }
          ],
          "surface": [
           {
            "colorbar": {
             "outlinewidth": 0,
             "ticks": ""
            },
            "colorscale": [
             [
              0,
              "#0d0887"
             ],
             [
              0.1111111111111111,
              "#46039f"
             ],
             [
              0.2222222222222222,
              "#7201a8"
             ],
             [
              0.3333333333333333,
              "#9c179e"
             ],
             [
              0.4444444444444444,
              "#bd3786"
             ],
             [
              0.5555555555555556,
              "#d8576b"
             ],
             [
              0.6666666666666666,
              "#ed7953"
             ],
             [
              0.7777777777777778,
              "#fb9f3a"
             ],
             [
              0.8888888888888888,
              "#fdca26"
             ],
             [
              1,
              "#f0f921"
             ]
            ],
            "type": "surface"
           }
          ],
          "table": [
           {
            "cells": {
             "fill": {
              "color": "#EBF0F8"
             },
             "line": {
              "color": "white"
             }
            },
            "header": {
             "fill": {
              "color": "#C8D4E3"
             },
             "line": {
              "color": "white"
             }
            },
            "type": "table"
           }
          ]
         },
         "layout": {
          "annotationdefaults": {
           "arrowcolor": "#2a3f5f",
           "arrowhead": 0,
           "arrowwidth": 1
          },
          "autotypenumbers": "strict",
          "coloraxis": {
           "colorbar": {
            "outlinewidth": 0,
            "ticks": ""
           }
          },
          "colorscale": {
           "diverging": [
            [
             0,
             "#8e0152"
            ],
            [
             0.1,
             "#c51b7d"
            ],
            [
             0.2,
             "#de77ae"
            ],
            [
             0.3,
             "#f1b6da"
            ],
            [
             0.4,
             "#fde0ef"
            ],
            [
             0.5,
             "#f7f7f7"
            ],
            [
             0.6,
             "#e6f5d0"
            ],
            [
             0.7,
             "#b8e186"
            ],
            [
             0.8,
             "#7fbc41"
            ],
            [
             0.9,
             "#4d9221"
            ],
            [
             1,
             "#276419"
            ]
           ],
           "sequential": [
            [
             0,
             "#0d0887"
            ],
            [
             0.1111111111111111,
             "#46039f"
            ],
            [
             0.2222222222222222,
             "#7201a8"
            ],
            [
             0.3333333333333333,
             "#9c179e"
            ],
            [
             0.4444444444444444,
             "#bd3786"
            ],
            [
             0.5555555555555556,
             "#d8576b"
            ],
            [
             0.6666666666666666,
             "#ed7953"
            ],
            [
             0.7777777777777778,
             "#fb9f3a"
            ],
            [
             0.8888888888888888,
             "#fdca26"
            ],
            [
             1,
             "#f0f921"
            ]
           ],
           "sequentialminus": [
            [
             0,
             "#0d0887"
            ],
            [
             0.1111111111111111,
             "#46039f"
            ],
            [
             0.2222222222222222,
             "#7201a8"
            ],
            [
             0.3333333333333333,
             "#9c179e"
            ],
            [
             0.4444444444444444,
             "#bd3786"
            ],
            [
             0.5555555555555556,
             "#d8576b"
            ],
            [
             0.6666666666666666,
             "#ed7953"
            ],
            [
             0.7777777777777778,
             "#fb9f3a"
            ],
            [
             0.8888888888888888,
             "#fdca26"
            ],
            [
             1,
             "#f0f921"
            ]
           ]
          },
          "colorway": [
           "#636efa",
           "#EF553B",
           "#00cc96",
           "#ab63fa",
           "#FFA15A",
           "#19d3f3",
           "#FF6692",
           "#B6E880",
           "#FF97FF",
           "#FECB52"
          ],
          "font": {
           "color": "#2a3f5f"
          },
          "geo": {
           "bgcolor": "white",
           "lakecolor": "white",
           "landcolor": "#E5ECF6",
           "showlakes": true,
           "showland": true,
           "subunitcolor": "white"
          },
          "hoverlabel": {
           "align": "left"
          },
          "hovermode": "closest",
          "mapbox": {
           "style": "light"
          },
          "paper_bgcolor": "white",
          "plot_bgcolor": "#E5ECF6",
          "polar": {
           "angularaxis": {
            "gridcolor": "white",
            "linecolor": "white",
            "ticks": ""
           },
           "bgcolor": "#E5ECF6",
           "radialaxis": {
            "gridcolor": "white",
            "linecolor": "white",
            "ticks": ""
           }
          },
          "scene": {
           "xaxis": {
            "backgroundcolor": "#E5ECF6",
            "gridcolor": "white",
            "gridwidth": 2,
            "linecolor": "white",
            "showbackground": true,
            "ticks": "",
            "zerolinecolor": "white"
           },
           "yaxis": {
            "backgroundcolor": "#E5ECF6",
            "gridcolor": "white",
            "gridwidth": 2,
            "linecolor": "white",
            "showbackground": true,
            "ticks": "",
            "zerolinecolor": "white"
           },
           "zaxis": {
            "backgroundcolor": "#E5ECF6",
            "gridcolor": "white",
            "gridwidth": 2,
            "linecolor": "white",
            "showbackground": true,
            "ticks": "",
            "zerolinecolor": "white"
           }
          },
          "shapedefaults": {
           "line": {
            "color": "#2a3f5f"
           }
          },
          "ternary": {
           "aaxis": {
            "gridcolor": "white",
            "linecolor": "white",
            "ticks": ""
           },
           "baxis": {
            "gridcolor": "white",
            "linecolor": "white",
            "ticks": ""
           },
           "bgcolor": "#E5ECF6",
           "caxis": {
            "gridcolor": "white",
            "linecolor": "white",
            "ticks": ""
           }
          },
          "title": {
           "x": 0.05
          },
          "xaxis": {
           "automargin": true,
           "gridcolor": "white",
           "linecolor": "white",
           "ticks": "",
           "title": {
            "standoff": 15
           },
           "zerolinecolor": "white",
           "zerolinewidth": 2
          },
          "yaxis": {
           "automargin": true,
           "gridcolor": "white",
           "linecolor": "white",
           "ticks": "",
           "title": {
            "standoff": 15
           },
           "zerolinecolor": "white",
           "zerolinewidth": 2
          }
         }
        },
        "title": {
         "text": "Average Funding Amount by Sector and Year (Top 5 Sectors)"
        },
        "xaxis": {
         "anchor": "y",
         "domain": [
          0,
          1
         ],
         "tickangle": 45,
         "title": {
          "text": "Year"
         }
        },
        "yaxis": {
         "anchor": "x",
         "domain": [
          0,
          1
         ],
         "title": {
          "text": "Average Funding Amount"
         }
        }
       }
      }
     },
     "metadata": {},
     "output_type": "display_data"
    }
   ],
   "source": [
    "# Select the top 10 sectors\n",
    "top_5_sectors = average_funding.groupby('Sector')['Amount'].mean().sort_values(ascending=False).head(5).reset_index()\n",
    "\n",
    "# Filter the data for the top 10 sectors\n",
    "filtered_data = average_funding[average_funding['Sector'].isin(top_5_sectors['Sector'])]\n",
    "\n",
    "# Create the line plot\n",
    "fig = px.line(filtered_data, x='Year', y='Amount', color='Sector', title='Average Funding Amount by Sector and Year (Top 5 Sectors)')\n",
    "\n",
    "# Customize the plot\n",
    "fig.update_layout(\n",
    "    xaxis_title='Year',\n",
    "    yaxis_title='Average Funding Amount',\n",
    "    legend_title='Sector',\n",
    "    legend=dict(orientation='h', yanchor='bottom', y=1.02, xanchor='right', x=1),\n",
    "    font=dict(size=14)\n",
    ")\n",
    "\n",
    "# Rotate the x-axis tick labels\n",
    "fig.update_xaxes(tickangle=45)\n",
    "\n",
    "# Show the plot\n",
    "fig.show()"
   ]
  },
  {
   "cell_type": "markdown",
   "metadata": {},
   "source": [
    "**2. Sector Analysis: Which sectors have received the most funding, and how does the funding distribution vary across sectors?**"
   ]
  },
  {
   "cell_type": "code",
   "execution_count": 59,
   "metadata": {},
   "outputs": [
    {
     "name": "stdout",
     "output_type": "stream",
     "text": [
      "Top Sectors by Total Funding Amount:\n",
      "                    Sector        Amount\n",
      "293                Finance  3.085703e+11\n",
      "551              Transport  6.986306e+09\n",
      "248                 EdTech  3.998460e+09\n",
      "294     Financial Services  3.259532e+09\n",
      "241             E-commerce  2.958890e+09\n",
      "385            Hospitality  2.536665e+09\n",
      "406  Innovation Management  2.000000e+09\n",
      "532                 Sports  1.690585e+09\n",
      "332          Food delivery  1.600000e+09\n",
      "408              Insurance  1.452300e+09\n"
     ]
    },
    {
     "data": {
      "application/vnd.plotly.v1+json": {
       "config": {
        "plotlyServerURL": "https://plot.ly"
       },
       "data": [
        {
         "alignmentgroup": "True",
         "hovertemplate": "Sector=%{x}<br>Total Funding Amount=%{y}<extra></extra>",
         "legendgroup": "",
         "marker": {
          "color": "#636efa",
          "pattern": {
           "shape": ""
          }
         },
         "name": "",
         "offsetgroup": "",
         "orientation": "v",
         "showlegend": false,
         "textposition": "auto",
         "type": "bar",
         "x": [
          "Finance",
          "Transport",
          "EdTech",
          "Financial Services",
          "E-commerce",
          "Hospitality",
          "Innovation Management",
          "Sports",
          "Food delivery",
          "Insurance"
         ],
         "xaxis": "x",
         "y": [
          308570291000,
          6986306426,
          3998460000,
          3259532500,
          2958890000,
          2536665000,
          2000000000,
          1690585000,
          1600000000,
          1452300000
         ],
         "yaxis": "y"
        }
       ],
       "layout": {
        "barmode": "relative",
        "legend": {
         "tracegroupgap": 0
        },
        "template": {
         "data": {
          "bar": [
           {
            "error_x": {
             "color": "#2a3f5f"
            },
            "error_y": {
             "color": "#2a3f5f"
            },
            "marker": {
             "line": {
              "color": "#E5ECF6",
              "width": 0.5
             },
             "pattern": {
              "fillmode": "overlay",
              "size": 10,
              "solidity": 0.2
             }
            },
            "type": "bar"
           }
          ],
          "barpolar": [
           {
            "marker": {
             "line": {
              "color": "#E5ECF6",
              "width": 0.5
             },
             "pattern": {
              "fillmode": "overlay",
              "size": 10,
              "solidity": 0.2
             }
            },
            "type": "barpolar"
           }
          ],
          "carpet": [
           {
            "aaxis": {
             "endlinecolor": "#2a3f5f",
             "gridcolor": "white",
             "linecolor": "white",
             "minorgridcolor": "white",
             "startlinecolor": "#2a3f5f"
            },
            "baxis": {
             "endlinecolor": "#2a3f5f",
             "gridcolor": "white",
             "linecolor": "white",
             "minorgridcolor": "white",
             "startlinecolor": "#2a3f5f"
            },
            "type": "carpet"
           }
          ],
          "choropleth": [
           {
            "colorbar": {
             "outlinewidth": 0,
             "ticks": ""
            },
            "type": "choropleth"
           }
          ],
          "contour": [
           {
            "colorbar": {
             "outlinewidth": 0,
             "ticks": ""
            },
            "colorscale": [
             [
              0,
              "#0d0887"
             ],
             [
              0.1111111111111111,
              "#46039f"
             ],
             [
              0.2222222222222222,
              "#7201a8"
             ],
             [
              0.3333333333333333,
              "#9c179e"
             ],
             [
              0.4444444444444444,
              "#bd3786"
             ],
             [
              0.5555555555555556,
              "#d8576b"
             ],
             [
              0.6666666666666666,
              "#ed7953"
             ],
             [
              0.7777777777777778,
              "#fb9f3a"
             ],
             [
              0.8888888888888888,
              "#fdca26"
             ],
             [
              1,
              "#f0f921"
             ]
            ],
            "type": "contour"
           }
          ],
          "contourcarpet": [
           {
            "colorbar": {
             "outlinewidth": 0,
             "ticks": ""
            },
            "type": "contourcarpet"
           }
          ],
          "heatmap": [
           {
            "colorbar": {
             "outlinewidth": 0,
             "ticks": ""
            },
            "colorscale": [
             [
              0,
              "#0d0887"
             ],
             [
              0.1111111111111111,
              "#46039f"
             ],
             [
              0.2222222222222222,
              "#7201a8"
             ],
             [
              0.3333333333333333,
              "#9c179e"
             ],
             [
              0.4444444444444444,
              "#bd3786"
             ],
             [
              0.5555555555555556,
              "#d8576b"
             ],
             [
              0.6666666666666666,
              "#ed7953"
             ],
             [
              0.7777777777777778,
              "#fb9f3a"
             ],
             [
              0.8888888888888888,
              "#fdca26"
             ],
             [
              1,
              "#f0f921"
             ]
            ],
            "type": "heatmap"
           }
          ],
          "heatmapgl": [
           {
            "colorbar": {
             "outlinewidth": 0,
             "ticks": ""
            },
            "colorscale": [
             [
              0,
              "#0d0887"
             ],
             [
              0.1111111111111111,
              "#46039f"
             ],
             [
              0.2222222222222222,
              "#7201a8"
             ],
             [
              0.3333333333333333,
              "#9c179e"
             ],
             [
              0.4444444444444444,
              "#bd3786"
             ],
             [
              0.5555555555555556,
              "#d8576b"
             ],
             [
              0.6666666666666666,
              "#ed7953"
             ],
             [
              0.7777777777777778,
              "#fb9f3a"
             ],
             [
              0.8888888888888888,
              "#fdca26"
             ],
             [
              1,
              "#f0f921"
             ]
            ],
            "type": "heatmapgl"
           }
          ],
          "histogram": [
           {
            "marker": {
             "pattern": {
              "fillmode": "overlay",
              "size": 10,
              "solidity": 0.2
             }
            },
            "type": "histogram"
           }
          ],
          "histogram2d": [
           {
            "colorbar": {
             "outlinewidth": 0,
             "ticks": ""
            },
            "colorscale": [
             [
              0,
              "#0d0887"
             ],
             [
              0.1111111111111111,
              "#46039f"
             ],
             [
              0.2222222222222222,
              "#7201a8"
             ],
             [
              0.3333333333333333,
              "#9c179e"
             ],
             [
              0.4444444444444444,
              "#bd3786"
             ],
             [
              0.5555555555555556,
              "#d8576b"
             ],
             [
              0.6666666666666666,
              "#ed7953"
             ],
             [
              0.7777777777777778,
              "#fb9f3a"
             ],
             [
              0.8888888888888888,
              "#fdca26"
             ],
             [
              1,
              "#f0f921"
             ]
            ],
            "type": "histogram2d"
           }
          ],
          "histogram2dcontour": [
           {
            "colorbar": {
             "outlinewidth": 0,
             "ticks": ""
            },
            "colorscale": [
             [
              0,
              "#0d0887"
             ],
             [
              0.1111111111111111,
              "#46039f"
             ],
             [
              0.2222222222222222,
              "#7201a8"
             ],
             [
              0.3333333333333333,
              "#9c179e"
             ],
             [
              0.4444444444444444,
              "#bd3786"
             ],
             [
              0.5555555555555556,
              "#d8576b"
             ],
             [
              0.6666666666666666,
              "#ed7953"
             ],
             [
              0.7777777777777778,
              "#fb9f3a"
             ],
             [
              0.8888888888888888,
              "#fdca26"
             ],
             [
              1,
              "#f0f921"
             ]
            ],
            "type": "histogram2dcontour"
           }
          ],
          "mesh3d": [
           {
            "colorbar": {
             "outlinewidth": 0,
             "ticks": ""
            },
            "type": "mesh3d"
           }
          ],
          "parcoords": [
           {
            "line": {
             "colorbar": {
              "outlinewidth": 0,
              "ticks": ""
             }
            },
            "type": "parcoords"
           }
          ],
          "pie": [
           {
            "automargin": true,
            "type": "pie"
           }
          ],
          "scatter": [
           {
            "fillpattern": {
             "fillmode": "overlay",
             "size": 10,
             "solidity": 0.2
            },
            "type": "scatter"
           }
          ],
          "scatter3d": [
           {
            "line": {
             "colorbar": {
              "outlinewidth": 0,
              "ticks": ""
             }
            },
            "marker": {
             "colorbar": {
              "outlinewidth": 0,
              "ticks": ""
             }
            },
            "type": "scatter3d"
           }
          ],
          "scattercarpet": [
           {
            "marker": {
             "colorbar": {
              "outlinewidth": 0,
              "ticks": ""
             }
            },
            "type": "scattercarpet"
           }
          ],
          "scattergeo": [
           {
            "marker": {
             "colorbar": {
              "outlinewidth": 0,
              "ticks": ""
             }
            },
            "type": "scattergeo"
           }
          ],
          "scattergl": [
           {
            "marker": {
             "colorbar": {
              "outlinewidth": 0,
              "ticks": ""
             }
            },
            "type": "scattergl"
           }
          ],
          "scattermapbox": [
           {
            "marker": {
             "colorbar": {
              "outlinewidth": 0,
              "ticks": ""
             }
            },
            "type": "scattermapbox"
           }
          ],
          "scatterpolar": [
           {
            "marker": {
             "colorbar": {
              "outlinewidth": 0,
              "ticks": ""
             }
            },
            "type": "scatterpolar"
           }
          ],
          "scatterpolargl": [
           {
            "marker": {
             "colorbar": {
              "outlinewidth": 0,
              "ticks": ""
             }
            },
            "type": "scatterpolargl"
           }
          ],
          "scatterternary": [
           {
            "marker": {
             "colorbar": {
              "outlinewidth": 0,
              "ticks": ""
             }
            },
            "type": "scatterternary"
           }
          ],
          "surface": [
           {
            "colorbar": {
             "outlinewidth": 0,
             "ticks": ""
            },
            "colorscale": [
             [
              0,
              "#0d0887"
             ],
             [
              0.1111111111111111,
              "#46039f"
             ],
             [
              0.2222222222222222,
              "#7201a8"
             ],
             [
              0.3333333333333333,
              "#9c179e"
             ],
             [
              0.4444444444444444,
              "#bd3786"
             ],
             [
              0.5555555555555556,
              "#d8576b"
             ],
             [
              0.6666666666666666,
              "#ed7953"
             ],
             [
              0.7777777777777778,
              "#fb9f3a"
             ],
             [
              0.8888888888888888,
              "#fdca26"
             ],
             [
              1,
              "#f0f921"
             ]
            ],
            "type": "surface"
           }
          ],
          "table": [
           {
            "cells": {
             "fill": {
              "color": "#EBF0F8"
             },
             "line": {
              "color": "white"
             }
            },
            "header": {
             "fill": {
              "color": "#C8D4E3"
             },
             "line": {
              "color": "white"
             }
            },
            "type": "table"
           }
          ]
         },
         "layout": {
          "annotationdefaults": {
           "arrowcolor": "#2a3f5f",
           "arrowhead": 0,
           "arrowwidth": 1
          },
          "autotypenumbers": "strict",
          "coloraxis": {
           "colorbar": {
            "outlinewidth": 0,
            "ticks": ""
           }
          },
          "colorscale": {
           "diverging": [
            [
             0,
             "#8e0152"
            ],
            [
             0.1,
             "#c51b7d"
            ],
            [
             0.2,
             "#de77ae"
            ],
            [
             0.3,
             "#f1b6da"
            ],
            [
             0.4,
             "#fde0ef"
            ],
            [
             0.5,
             "#f7f7f7"
            ],
            [
             0.6,
             "#e6f5d0"
            ],
            [
             0.7,
             "#b8e186"
            ],
            [
             0.8,
             "#7fbc41"
            ],
            [
             0.9,
             "#4d9221"
            ],
            [
             1,
             "#276419"
            ]
           ],
           "sequential": [
            [
             0,
             "#0d0887"
            ],
            [
             0.1111111111111111,
             "#46039f"
            ],
            [
             0.2222222222222222,
             "#7201a8"
            ],
            [
             0.3333333333333333,
             "#9c179e"
            ],
            [
             0.4444444444444444,
             "#bd3786"
            ],
            [
             0.5555555555555556,
             "#d8576b"
            ],
            [
             0.6666666666666666,
             "#ed7953"
            ],
            [
             0.7777777777777778,
             "#fb9f3a"
            ],
            [
             0.8888888888888888,
             "#fdca26"
            ],
            [
             1,
             "#f0f921"
            ]
           ],
           "sequentialminus": [
            [
             0,
             "#0d0887"
            ],
            [
             0.1111111111111111,
             "#46039f"
            ],
            [
             0.2222222222222222,
             "#7201a8"
            ],
            [
             0.3333333333333333,
             "#9c179e"
            ],
            [
             0.4444444444444444,
             "#bd3786"
            ],
            [
             0.5555555555555556,
             "#d8576b"
            ],
            [
             0.6666666666666666,
             "#ed7953"
            ],
            [
             0.7777777777777778,
             "#fb9f3a"
            ],
            [
             0.8888888888888888,
             "#fdca26"
            ],
            [
             1,
             "#f0f921"
            ]
           ]
          },
          "colorway": [
           "#636efa",
           "#EF553B",
           "#00cc96",
           "#ab63fa",
           "#FFA15A",
           "#19d3f3",
           "#FF6692",
           "#B6E880",
           "#FF97FF",
           "#FECB52"
          ],
          "font": {
           "color": "#2a3f5f"
          },
          "geo": {
           "bgcolor": "white",
           "lakecolor": "white",
           "landcolor": "#E5ECF6",
           "showlakes": true,
           "showland": true,
           "subunitcolor": "white"
          },
          "hoverlabel": {
           "align": "left"
          },
          "hovermode": "closest",
          "mapbox": {
           "style": "light"
          },
          "paper_bgcolor": "white",
          "plot_bgcolor": "#E5ECF6",
          "polar": {
           "angularaxis": {
            "gridcolor": "white",
            "linecolor": "white",
            "ticks": ""
           },
           "bgcolor": "#E5ECF6",
           "radialaxis": {
            "gridcolor": "white",
            "linecolor": "white",
            "ticks": ""
           }
          },
          "scene": {
           "xaxis": {
            "backgroundcolor": "#E5ECF6",
            "gridcolor": "white",
            "gridwidth": 2,
            "linecolor": "white",
            "showbackground": true,
            "ticks": "",
            "zerolinecolor": "white"
           },
           "yaxis": {
            "backgroundcolor": "#E5ECF6",
            "gridcolor": "white",
            "gridwidth": 2,
            "linecolor": "white",
            "showbackground": true,
            "ticks": "",
            "zerolinecolor": "white"
           },
           "zaxis": {
            "backgroundcolor": "#E5ECF6",
            "gridcolor": "white",
            "gridwidth": 2,
            "linecolor": "white",
            "showbackground": true,
            "ticks": "",
            "zerolinecolor": "white"
           }
          },
          "shapedefaults": {
           "line": {
            "color": "#2a3f5f"
           }
          },
          "ternary": {
           "aaxis": {
            "gridcolor": "white",
            "linecolor": "white",
            "ticks": ""
           },
           "baxis": {
            "gridcolor": "white",
            "linecolor": "white",
            "ticks": ""
           },
           "bgcolor": "#E5ECF6",
           "caxis": {
            "gridcolor": "white",
            "linecolor": "white",
            "ticks": ""
           }
          },
          "title": {
           "x": 0.05
          },
          "xaxis": {
           "automargin": true,
           "gridcolor": "white",
           "linecolor": "white",
           "ticks": "",
           "title": {
            "standoff": 15
           },
           "zerolinecolor": "white",
           "zerolinewidth": 2
          },
          "yaxis": {
           "automargin": true,
           "gridcolor": "white",
           "linecolor": "white",
           "ticks": "",
           "title": {
            "standoff": 15
           },
           "zerolinecolor": "white",
           "zerolinewidth": 2
          }
         }
        },
        "title": {
         "text": "Top Sectors by Total Funding Amount"
        },
        "xaxis": {
         "anchor": "y",
         "domain": [
          0,
          1
         ],
         "tickangle": 45,
         "title": {
          "text": "Sector"
         }
        },
        "yaxis": {
         "anchor": "x",
         "domain": [
          0,
          1
         ],
         "title": {
          "text": "Total Funding Amount"
         }
        }
       }
      }
     },
     "metadata": {},
     "output_type": "display_data"
    }
   ],
   "source": [
    "# Calculate total funding amount for each sector\n",
    "total_funding_by_sector = df_combined.groupby('Sector')['Amount'].sum().reset_index()\n",
    "\n",
    "# Sort the sectors by total funding amount in descending order\n",
    "total_funding_by_sector = total_funding_by_sector.sort_values('Amount', ascending=False)\n",
    "\n",
    "# Print the top sectors by total funding amount\n",
    "print(\"Top Sectors by Total Funding Amount:\")\n",
    "print(total_funding_by_sector.head(10))\n",
    "\n",
    "# Visualize the funding distribution across sectors\n",
    "fig = px.bar(total_funding_by_sector.head(10), x='Sector', y='Amount',\n",
    "             title='Top Sectors by Total Funding Amount',\n",
    "             labels={'Sector': 'Sector', 'Amount': 'Total Funding Amount'})\n",
    "\n",
    "# Rotate the x-axis tick labels\n",
    "fig.update_xaxes(tickangle=45)\n",
    "\n",
    "# Show the plot\n",
    "fig.show()"
   ]
  },
  {
   "cell_type": "markdown",
   "metadata": {},
   "source": [
    "**3. Stage Analysis: What is the distribution of funding across different investment stages (e.g., Pre-seed, Seed, Series A)?**"
   ]
  },
  {
   "cell_type": "code",
   "execution_count": 60,
   "metadata": {},
   "outputs": [
    {
     "name": "stdout",
     "output_type": "stream",
     "text": [
      "Investment Stages by Total Funding Amount:\n",
      "                       Stage        Amount\n",
      "1             Debt Financing  1.515386e+11\n",
      "15                 Series D1  1.508586e+11\n",
      "13                  Series C  8.028326e+09\n",
      "16                  Series E  7.406276e+09\n",
      "9                   Series A  6.503848e+09\n",
      "11                  Series B  6.473998e+09\n",
      "14                  Series D  5.785530e+09\n",
      "19                  Series H  5.064200e+09\n",
      "17                  Series F  4.605132e+09\n",
      "5             Private Equity  3.339035e+09\n",
      "6                       Seed  3.295586e+09\n",
      "8                 Seed Round  2.179940e+09\n",
      "20                  Series I  2.160859e+09\n",
      "0                     Bridge  2.137671e+09\n",
      "18                  Series G  1.873541e+09\n",
      "3              Fresh Funding  1.631805e+09\n",
      "12                 Series B+  1.609560e+09\n",
      "21  Venture - Series Unknown  1.601383e+09\n",
      "7               Seed Funding  1.546070e+09\n",
      "4                   Pre-Seed  1.432641e+09\n",
      "10                 Series A+  1.147475e+09\n",
      "2                 Early Seed  6.469650e+08\n"
     ]
    },
    {
     "data": {
      "application/vnd.plotly.v1+json": {
       "config": {
        "plotlyServerURL": "https://plot.ly"
       },
       "data": [
        {
         "alignmentgroup": "True",
         "hovertemplate": "Investment Stage=%{x}<br>Total Funding Amount=%{y}<extra></extra>",
         "legendgroup": "",
         "marker": {
          "color": "#636efa",
          "pattern": {
           "shape": ""
          }
         },
         "name": "",
         "offsetgroup": "",
         "orientation": "v",
         "showlegend": false,
         "textposition": "auto",
         "type": "bar",
         "x": [
          "Debt Financing",
          "Series D1",
          "Series C",
          "Series E",
          "Series A",
          "Series B",
          "Series D",
          "Series H",
          "Series F",
          "Private Equity"
         ],
         "xaxis": "x",
         "y": [
          151538581000,
          150858600000,
          8028325600,
          7406276000,
          6503848380,
          6473998000,
          5785530300,
          5064200000,
          4605132500,
          3339035000
         ],
         "yaxis": "y"
        }
       ],
       "layout": {
        "barmode": "relative",
        "legend": {
         "tracegroupgap": 0
        },
        "template": {
         "data": {
          "bar": [
           {
            "error_x": {
             "color": "#2a3f5f"
            },
            "error_y": {
             "color": "#2a3f5f"
            },
            "marker": {
             "line": {
              "color": "#E5ECF6",
              "width": 0.5
             },
             "pattern": {
              "fillmode": "overlay",
              "size": 10,
              "solidity": 0.2
             }
            },
            "type": "bar"
           }
          ],
          "barpolar": [
           {
            "marker": {
             "line": {
              "color": "#E5ECF6",
              "width": 0.5
             },
             "pattern": {
              "fillmode": "overlay",
              "size": 10,
              "solidity": 0.2
             }
            },
            "type": "barpolar"
           }
          ],
          "carpet": [
           {
            "aaxis": {
             "endlinecolor": "#2a3f5f",
             "gridcolor": "white",
             "linecolor": "white",
             "minorgridcolor": "white",
             "startlinecolor": "#2a3f5f"
            },
            "baxis": {
             "endlinecolor": "#2a3f5f",
             "gridcolor": "white",
             "linecolor": "white",
             "minorgridcolor": "white",
             "startlinecolor": "#2a3f5f"
            },
            "type": "carpet"
           }
          ],
          "choropleth": [
           {
            "colorbar": {
             "outlinewidth": 0,
             "ticks": ""
            },
            "type": "choropleth"
           }
          ],
          "contour": [
           {
            "colorbar": {
             "outlinewidth": 0,
             "ticks": ""
            },
            "colorscale": [
             [
              0,
              "#0d0887"
             ],
             [
              0.1111111111111111,
              "#46039f"
             ],
             [
              0.2222222222222222,
              "#7201a8"
             ],
             [
              0.3333333333333333,
              "#9c179e"
             ],
             [
              0.4444444444444444,
              "#bd3786"
             ],
             [
              0.5555555555555556,
              "#d8576b"
             ],
             [
              0.6666666666666666,
              "#ed7953"
             ],
             [
              0.7777777777777778,
              "#fb9f3a"
             ],
             [
              0.8888888888888888,
              "#fdca26"
             ],
             [
              1,
              "#f0f921"
             ]
            ],
            "type": "contour"
           }
          ],
          "contourcarpet": [
           {
            "colorbar": {
             "outlinewidth": 0,
             "ticks": ""
            },
            "type": "contourcarpet"
           }
          ],
          "heatmap": [
           {
            "colorbar": {
             "outlinewidth": 0,
             "ticks": ""
            },
            "colorscale": [
             [
              0,
              "#0d0887"
             ],
             [
              0.1111111111111111,
              "#46039f"
             ],
             [
              0.2222222222222222,
              "#7201a8"
             ],
             [
              0.3333333333333333,
              "#9c179e"
             ],
             [
              0.4444444444444444,
              "#bd3786"
             ],
             [
              0.5555555555555556,
              "#d8576b"
             ],
             [
              0.6666666666666666,
              "#ed7953"
             ],
             [
              0.7777777777777778,
              "#fb9f3a"
             ],
             [
              0.8888888888888888,
              "#fdca26"
             ],
             [
              1,
              "#f0f921"
             ]
            ],
            "type": "heatmap"
           }
          ],
          "heatmapgl": [
           {
            "colorbar": {
             "outlinewidth": 0,
             "ticks": ""
            },
            "colorscale": [
             [
              0,
              "#0d0887"
             ],
             [
              0.1111111111111111,
              "#46039f"
             ],
             [
              0.2222222222222222,
              "#7201a8"
             ],
             [
              0.3333333333333333,
              "#9c179e"
             ],
             [
              0.4444444444444444,
              "#bd3786"
             ],
             [
              0.5555555555555556,
              "#d8576b"
             ],
             [
              0.6666666666666666,
              "#ed7953"
             ],
             [
              0.7777777777777778,
              "#fb9f3a"
             ],
             [
              0.8888888888888888,
              "#fdca26"
             ],
             [
              1,
              "#f0f921"
             ]
            ],
            "type": "heatmapgl"
           }
          ],
          "histogram": [
           {
            "marker": {
             "pattern": {
              "fillmode": "overlay",
              "size": 10,
              "solidity": 0.2
             }
            },
            "type": "histogram"
           }
          ],
          "histogram2d": [
           {
            "colorbar": {
             "outlinewidth": 0,
             "ticks": ""
            },
            "colorscale": [
             [
              0,
              "#0d0887"
             ],
             [
              0.1111111111111111,
              "#46039f"
             ],
             [
              0.2222222222222222,
              "#7201a8"
             ],
             [
              0.3333333333333333,
              "#9c179e"
             ],
             [
              0.4444444444444444,
              "#bd3786"
             ],
             [
              0.5555555555555556,
              "#d8576b"
             ],
             [
              0.6666666666666666,
              "#ed7953"
             ],
             [
              0.7777777777777778,
              "#fb9f3a"
             ],
             [
              0.8888888888888888,
              "#fdca26"
             ],
             [
              1,
              "#f0f921"
             ]
            ],
            "type": "histogram2d"
           }
          ],
          "histogram2dcontour": [
           {
            "colorbar": {
             "outlinewidth": 0,
             "ticks": ""
            },
            "colorscale": [
             [
              0,
              "#0d0887"
             ],
             [
              0.1111111111111111,
              "#46039f"
             ],
             [
              0.2222222222222222,
              "#7201a8"
             ],
             [
              0.3333333333333333,
              "#9c179e"
             ],
             [
              0.4444444444444444,
              "#bd3786"
             ],
             [
              0.5555555555555556,
              "#d8576b"
             ],
             [
              0.6666666666666666,
              "#ed7953"
             ],
             [
              0.7777777777777778,
              "#fb9f3a"
             ],
             [
              0.8888888888888888,
              "#fdca26"
             ],
             [
              1,
              "#f0f921"
             ]
            ],
            "type": "histogram2dcontour"
           }
          ],
          "mesh3d": [
           {
            "colorbar": {
             "outlinewidth": 0,
             "ticks": ""
            },
            "type": "mesh3d"
           }
          ],
          "parcoords": [
           {
            "line": {
             "colorbar": {
              "outlinewidth": 0,
              "ticks": ""
             }
            },
            "type": "parcoords"
           }
          ],
          "pie": [
           {
            "automargin": true,
            "type": "pie"
           }
          ],
          "scatter": [
           {
            "fillpattern": {
             "fillmode": "overlay",
             "size": 10,
             "solidity": 0.2
            },
            "type": "scatter"
           }
          ],
          "scatter3d": [
           {
            "line": {
             "colorbar": {
              "outlinewidth": 0,
              "ticks": ""
             }
            },
            "marker": {
             "colorbar": {
              "outlinewidth": 0,
              "ticks": ""
             }
            },
            "type": "scatter3d"
           }
          ],
          "scattercarpet": [
           {
            "marker": {
             "colorbar": {
              "outlinewidth": 0,
              "ticks": ""
             }
            },
            "type": "scattercarpet"
           }
          ],
          "scattergeo": [
           {
            "marker": {
             "colorbar": {
              "outlinewidth": 0,
              "ticks": ""
             }
            },
            "type": "scattergeo"
           }
          ],
          "scattergl": [
           {
            "marker": {
             "colorbar": {
              "outlinewidth": 0,
              "ticks": ""
             }
            },
            "type": "scattergl"
           }
          ],
          "scattermapbox": [
           {
            "marker": {
             "colorbar": {
              "outlinewidth": 0,
              "ticks": ""
             }
            },
            "type": "scattermapbox"
           }
          ],
          "scatterpolar": [
           {
            "marker": {
             "colorbar": {
              "outlinewidth": 0,
              "ticks": ""
             }
            },
            "type": "scatterpolar"
           }
          ],
          "scatterpolargl": [
           {
            "marker": {
             "colorbar": {
              "outlinewidth": 0,
              "ticks": ""
             }
            },
            "type": "scatterpolargl"
           }
          ],
          "scatterternary": [
           {
            "marker": {
             "colorbar": {
              "outlinewidth": 0,
              "ticks": ""
             }
            },
            "type": "scatterternary"
           }
          ],
          "surface": [
           {
            "colorbar": {
             "outlinewidth": 0,
             "ticks": ""
            },
            "colorscale": [
             [
              0,
              "#0d0887"
             ],
             [
              0.1111111111111111,
              "#46039f"
             ],
             [
              0.2222222222222222,
              "#7201a8"
             ],
             [
              0.3333333333333333,
              "#9c179e"
             ],
             [
              0.4444444444444444,
              "#bd3786"
             ],
             [
              0.5555555555555556,
              "#d8576b"
             ],
             [
              0.6666666666666666,
              "#ed7953"
             ],
             [
              0.7777777777777778,
              "#fb9f3a"
             ],
             [
              0.8888888888888888,
              "#fdca26"
             ],
             [
              1,
              "#f0f921"
             ]
            ],
            "type": "surface"
           }
          ],
          "table": [
           {
            "cells": {
             "fill": {
              "color": "#EBF0F8"
             },
             "line": {
              "color": "white"
             }
            },
            "header": {
             "fill": {
              "color": "#C8D4E3"
             },
             "line": {
              "color": "white"
             }
            },
            "type": "table"
           }
          ]
         },
         "layout": {
          "annotationdefaults": {
           "arrowcolor": "#2a3f5f",
           "arrowhead": 0,
           "arrowwidth": 1
          },
          "autotypenumbers": "strict",
          "coloraxis": {
           "colorbar": {
            "outlinewidth": 0,
            "ticks": ""
           }
          },
          "colorscale": {
           "diverging": [
            [
             0,
             "#8e0152"
            ],
            [
             0.1,
             "#c51b7d"
            ],
            [
             0.2,
             "#de77ae"
            ],
            [
             0.3,
             "#f1b6da"
            ],
            [
             0.4,
             "#fde0ef"
            ],
            [
             0.5,
             "#f7f7f7"
            ],
            [
             0.6,
             "#e6f5d0"
            ],
            [
             0.7,
             "#b8e186"
            ],
            [
             0.8,
             "#7fbc41"
            ],
            [
             0.9,
             "#4d9221"
            ],
            [
             1,
             "#276419"
            ]
           ],
           "sequential": [
            [
             0,
             "#0d0887"
            ],
            [
             0.1111111111111111,
             "#46039f"
            ],
            [
             0.2222222222222222,
             "#7201a8"
            ],
            [
             0.3333333333333333,
             "#9c179e"
            ],
            [
             0.4444444444444444,
             "#bd3786"
            ],
            [
             0.5555555555555556,
             "#d8576b"
            ],
            [
             0.6666666666666666,
             "#ed7953"
            ],
            [
             0.7777777777777778,
             "#fb9f3a"
            ],
            [
             0.8888888888888888,
             "#fdca26"
            ],
            [
             1,
             "#f0f921"
            ]
           ],
           "sequentialminus": [
            [
             0,
             "#0d0887"
            ],
            [
             0.1111111111111111,
             "#46039f"
            ],
            [
             0.2222222222222222,
             "#7201a8"
            ],
            [
             0.3333333333333333,
             "#9c179e"
            ],
            [
             0.4444444444444444,
             "#bd3786"
            ],
            [
             0.5555555555555556,
             "#d8576b"
            ],
            [
             0.6666666666666666,
             "#ed7953"
            ],
            [
             0.7777777777777778,
             "#fb9f3a"
            ],
            [
             0.8888888888888888,
             "#fdca26"
            ],
            [
             1,
             "#f0f921"
            ]
           ]
          },
          "colorway": [
           "#636efa",
           "#EF553B",
           "#00cc96",
           "#ab63fa",
           "#FFA15A",
           "#19d3f3",
           "#FF6692",
           "#B6E880",
           "#FF97FF",
           "#FECB52"
          ],
          "font": {
           "color": "#2a3f5f"
          },
          "geo": {
           "bgcolor": "white",
           "lakecolor": "white",
           "landcolor": "#E5ECF6",
           "showlakes": true,
           "showland": true,
           "subunitcolor": "white"
          },
          "hoverlabel": {
           "align": "left"
          },
          "hovermode": "closest",
          "mapbox": {
           "style": "light"
          },
          "paper_bgcolor": "white",
          "plot_bgcolor": "#E5ECF6",
          "polar": {
           "angularaxis": {
            "gridcolor": "white",
            "linecolor": "white",
            "ticks": ""
           },
           "bgcolor": "#E5ECF6",
           "radialaxis": {
            "gridcolor": "white",
            "linecolor": "white",
            "ticks": ""
           }
          },
          "scene": {
           "xaxis": {
            "backgroundcolor": "#E5ECF6",
            "gridcolor": "white",
            "gridwidth": 2,
            "linecolor": "white",
            "showbackground": true,
            "ticks": "",
            "zerolinecolor": "white"
           },
           "yaxis": {
            "backgroundcolor": "#E5ECF6",
            "gridcolor": "white",
            "gridwidth": 2,
            "linecolor": "white",
            "showbackground": true,
            "ticks": "",
            "zerolinecolor": "white"
           },
           "zaxis": {
            "backgroundcolor": "#E5ECF6",
            "gridcolor": "white",
            "gridwidth": 2,
            "linecolor": "white",
            "showbackground": true,
            "ticks": "",
            "zerolinecolor": "white"
           }
          },
          "shapedefaults": {
           "line": {
            "color": "#2a3f5f"
           }
          },
          "ternary": {
           "aaxis": {
            "gridcolor": "white",
            "linecolor": "white",
            "ticks": ""
           },
           "baxis": {
            "gridcolor": "white",
            "linecolor": "white",
            "ticks": ""
           },
           "bgcolor": "#E5ECF6",
           "caxis": {
            "gridcolor": "white",
            "linecolor": "white",
            "ticks": ""
           }
          },
          "title": {
           "x": 0.05
          },
          "xaxis": {
           "automargin": true,
           "gridcolor": "white",
           "linecolor": "white",
           "ticks": "",
           "title": {
            "standoff": 15
           },
           "zerolinecolor": "white",
           "zerolinewidth": 2
          },
          "yaxis": {
           "automargin": true,
           "gridcolor": "white",
           "linecolor": "white",
           "ticks": "",
           "title": {
            "standoff": 15
           },
           "zerolinecolor": "white",
           "zerolinewidth": 2
          }
         }
        },
        "title": {
         "text": "Funding Distribution across Top 10 Investment Stages"
        },
        "xaxis": {
         "anchor": "y",
         "domain": [
          0,
          1
         ],
         "tickangle": 45,
         "title": {
          "text": "Investment Stage"
         }
        },
        "yaxis": {
         "anchor": "x",
         "domain": [
          0,
          1
         ],
         "title": {
          "text": "Total Funding Amount"
         }
        }
       }
      }
     },
     "metadata": {},
     "output_type": "display_data"
    }
   ],
   "source": [
    "# Calculate total funding amount for each investment stage\n",
    "total_funding_by_stage = df_combined.groupby('Stage')['Amount'].sum().reset_index()\n",
    "\n",
    "# Sort the investment stages by total funding amount in descending order\n",
    "total_funding_by_stage = total_funding_by_stage.sort_values('Amount', ascending=False)\n",
    "\n",
    "# Print the investment stages by total funding amount\n",
    "print(\"Investment Stages by Total Funding Amount:\")\n",
    "print(total_funding_by_stage)\n",
    "\n",
    "# Select the top 10 stages\n",
    "top_10_stages = total_funding_by_stage.head(10)\n",
    "\n",
    "# Visualize the funding distribution across the top 10 investment stages\n",
    "fig = px.bar(top_10_stages, x='Stage', y='Amount',\n",
    "             title='Funding Distribution across Top 10 Investment Stages',\n",
    "             labels={'Stage': 'Investment Stage', 'Amount': 'Total Funding Amount'})\n",
    "\n",
    "# Rotate the x-axis tick labels\n",
    "fig.update_xaxes(tickangle=45)\n",
    "\n",
    "# Show the plot\n",
    "fig.show()"
   ]
  },
  {
   "cell_type": "markdown",
   "metadata": {},
   "source": [
    "**4. Geographical Analysis: Which cities or regions (HeadQuarter) have the highest concentration of funded startups?**"
   ]
  },
  {
   "cell_type": "code",
   "execution_count": 61,
   "metadata": {},
   "outputs": [
    {
     "name": "stdout",
     "output_type": "stream",
     "text": [
      "Top 10 HeadQuarter Locations by Total Funding Amount:\n",
      "                HeadQuarter        Amount\n",
      "70                   Mumbai  3.107163e+11\n",
      "14                Bengaluru  3.497344e+10\n",
      "39                 Gurugram  9.674770e+09\n",
      "73                New Delhi  4.745166e+09\n",
      "21                  Chennai  1.666970e+09\n",
      "83                     Pune  1.131025e+09\n",
      "75                    Noida  8.854700e+08\n",
      "48                   Jaipur  8.435950e+08\n",
      "38  Gurgaon, Haryana, India  6.068879e+08\n",
      "43                Hyderabad  5.511632e+08\n"
     ]
    },
    {
     "data": {
      "application/vnd.plotly.v1+json": {
       "config": {
        "plotlyServerURL": "https://plot.ly"
       },
       "data": [
        {
         "alignmentgroup": "True",
         "hovertemplate": "HeadQuarter Location=%{x}<br>Total Funding Amount=%{y}<extra></extra>",
         "legendgroup": "",
         "marker": {
          "color": "#636efa",
          "pattern": {
           "shape": ""
          }
         },
         "name": "",
         "offsetgroup": "",
         "orientation": "v",
         "showlegend": false,
         "textposition": "auto",
         "type": "bar",
         "x": [
          "Mumbai",
          "Bengaluru",
          "Gurugram",
          "New Delhi",
          "Chennai",
          "Pune",
          "Noida",
          "Jaipur",
          "Gurgaon, Haryana, India",
          "Hyderabad"
         ],
         "xaxis": "x",
         "y": [
          310716302000,
          34973439630,
          9674770000,
          4745166200,
          1666970400,
          1131024945,
          885470000,
          843595000,
          606887900,
          551163200
         ],
         "yaxis": "y"
        }
       ],
       "layout": {
        "barmode": "relative",
        "legend": {
         "tracegroupgap": 0
        },
        "template": {
         "data": {
          "bar": [
           {
            "error_x": {
             "color": "#2a3f5f"
            },
            "error_y": {
             "color": "#2a3f5f"
            },
            "marker": {
             "line": {
              "color": "#E5ECF6",
              "width": 0.5
             },
             "pattern": {
              "fillmode": "overlay",
              "size": 10,
              "solidity": 0.2
             }
            },
            "type": "bar"
           }
          ],
          "barpolar": [
           {
            "marker": {
             "line": {
              "color": "#E5ECF6",
              "width": 0.5
             },
             "pattern": {
              "fillmode": "overlay",
              "size": 10,
              "solidity": 0.2
             }
            },
            "type": "barpolar"
           }
          ],
          "carpet": [
           {
            "aaxis": {
             "endlinecolor": "#2a3f5f",
             "gridcolor": "white",
             "linecolor": "white",
             "minorgridcolor": "white",
             "startlinecolor": "#2a3f5f"
            },
            "baxis": {
             "endlinecolor": "#2a3f5f",
             "gridcolor": "white",
             "linecolor": "white",
             "minorgridcolor": "white",
             "startlinecolor": "#2a3f5f"
            },
            "type": "carpet"
           }
          ],
          "choropleth": [
           {
            "colorbar": {
             "outlinewidth": 0,
             "ticks": ""
            },
            "type": "choropleth"
           }
          ],
          "contour": [
           {
            "colorbar": {
             "outlinewidth": 0,
             "ticks": ""
            },
            "colorscale": [
             [
              0,
              "#0d0887"
             ],
             [
              0.1111111111111111,
              "#46039f"
             ],
             [
              0.2222222222222222,
              "#7201a8"
             ],
             [
              0.3333333333333333,
              "#9c179e"
             ],
             [
              0.4444444444444444,
              "#bd3786"
             ],
             [
              0.5555555555555556,
              "#d8576b"
             ],
             [
              0.6666666666666666,
              "#ed7953"
             ],
             [
              0.7777777777777778,
              "#fb9f3a"
             ],
             [
              0.8888888888888888,
              "#fdca26"
             ],
             [
              1,
              "#f0f921"
             ]
            ],
            "type": "contour"
           }
          ],
          "contourcarpet": [
           {
            "colorbar": {
             "outlinewidth": 0,
             "ticks": ""
            },
            "type": "contourcarpet"
           }
          ],
          "heatmap": [
           {
            "colorbar": {
             "outlinewidth": 0,
             "ticks": ""
            },
            "colorscale": [
             [
              0,
              "#0d0887"
             ],
             [
              0.1111111111111111,
              "#46039f"
             ],
             [
              0.2222222222222222,
              "#7201a8"
             ],
             [
              0.3333333333333333,
              "#9c179e"
             ],
             [
              0.4444444444444444,
              "#bd3786"
             ],
             [
              0.5555555555555556,
              "#d8576b"
             ],
             [
              0.6666666666666666,
              "#ed7953"
             ],
             [
              0.7777777777777778,
              "#fb9f3a"
             ],
             [
              0.8888888888888888,
              "#fdca26"
             ],
             [
              1,
              "#f0f921"
             ]
            ],
            "type": "heatmap"
           }
          ],
          "heatmapgl": [
           {
            "colorbar": {
             "outlinewidth": 0,
             "ticks": ""
            },
            "colorscale": [
             [
              0,
              "#0d0887"
             ],
             [
              0.1111111111111111,
              "#46039f"
             ],
             [
              0.2222222222222222,
              "#7201a8"
             ],
             [
              0.3333333333333333,
              "#9c179e"
             ],
             [
              0.4444444444444444,
              "#bd3786"
             ],
             [
              0.5555555555555556,
              "#d8576b"
             ],
             [
              0.6666666666666666,
              "#ed7953"
             ],
             [
              0.7777777777777778,
              "#fb9f3a"
             ],
             [
              0.8888888888888888,
              "#fdca26"
             ],
             [
              1,
              "#f0f921"
             ]
            ],
            "type": "heatmapgl"
           }
          ],
          "histogram": [
           {
            "marker": {
             "pattern": {
              "fillmode": "overlay",
              "size": 10,
              "solidity": 0.2
             }
            },
            "type": "histogram"
           }
          ],
          "histogram2d": [
           {
            "colorbar": {
             "outlinewidth": 0,
             "ticks": ""
            },
            "colorscale": [
             [
              0,
              "#0d0887"
             ],
             [
              0.1111111111111111,
              "#46039f"
             ],
             [
              0.2222222222222222,
              "#7201a8"
             ],
             [
              0.3333333333333333,
              "#9c179e"
             ],
             [
              0.4444444444444444,
              "#bd3786"
             ],
             [
              0.5555555555555556,
              "#d8576b"
             ],
             [
              0.6666666666666666,
              "#ed7953"
             ],
             [
              0.7777777777777778,
              "#fb9f3a"
             ],
             [
              0.8888888888888888,
              "#fdca26"
             ],
             [
              1,
              "#f0f921"
             ]
            ],
            "type": "histogram2d"
           }
          ],
          "histogram2dcontour": [
           {
            "colorbar": {
             "outlinewidth": 0,
             "ticks": ""
            },
            "colorscale": [
             [
              0,
              "#0d0887"
             ],
             [
              0.1111111111111111,
              "#46039f"
             ],
             [
              0.2222222222222222,
              "#7201a8"
             ],
             [
              0.3333333333333333,
              "#9c179e"
             ],
             [
              0.4444444444444444,
              "#bd3786"
             ],
             [
              0.5555555555555556,
              "#d8576b"
             ],
             [
              0.6666666666666666,
              "#ed7953"
             ],
             [
              0.7777777777777778,
              "#fb9f3a"
             ],
             [
              0.8888888888888888,
              "#fdca26"
             ],
             [
              1,
              "#f0f921"
             ]
            ],
            "type": "histogram2dcontour"
           }
          ],
          "mesh3d": [
           {
            "colorbar": {
             "outlinewidth": 0,
             "ticks": ""
            },
            "type": "mesh3d"
           }
          ],
          "parcoords": [
           {
            "line": {
             "colorbar": {
              "outlinewidth": 0,
              "ticks": ""
             }
            },
            "type": "parcoords"
           }
          ],
          "pie": [
           {
            "automargin": true,
            "type": "pie"
           }
          ],
          "scatter": [
           {
            "fillpattern": {
             "fillmode": "overlay",
             "size": 10,
             "solidity": 0.2
            },
            "type": "scatter"
           }
          ],
          "scatter3d": [
           {
            "line": {
             "colorbar": {
              "outlinewidth": 0,
              "ticks": ""
             }
            },
            "marker": {
             "colorbar": {
              "outlinewidth": 0,
              "ticks": ""
             }
            },
            "type": "scatter3d"
           }
          ],
          "scattercarpet": [
           {
            "marker": {
             "colorbar": {
              "outlinewidth": 0,
              "ticks": ""
             }
            },
            "type": "scattercarpet"
           }
          ],
          "scattergeo": [
           {
            "marker": {
             "colorbar": {
              "outlinewidth": 0,
              "ticks": ""
             }
            },
            "type": "scattergeo"
           }
          ],
          "scattergl": [
           {
            "marker": {
             "colorbar": {
              "outlinewidth": 0,
              "ticks": ""
             }
            },
            "type": "scattergl"
           }
          ],
          "scattermapbox": [
           {
            "marker": {
             "colorbar": {
              "outlinewidth": 0,
              "ticks": ""
             }
            },
            "type": "scattermapbox"
           }
          ],
          "scatterpolar": [
           {
            "marker": {
             "colorbar": {
              "outlinewidth": 0,
              "ticks": ""
             }
            },
            "type": "scatterpolar"
           }
          ],
          "scatterpolargl": [
           {
            "marker": {
             "colorbar": {
              "outlinewidth": 0,
              "ticks": ""
             }
            },
            "type": "scatterpolargl"
           }
          ],
          "scatterternary": [
           {
            "marker": {
             "colorbar": {
              "outlinewidth": 0,
              "ticks": ""
             }
            },
            "type": "scatterternary"
           }
          ],
          "surface": [
           {
            "colorbar": {
             "outlinewidth": 0,
             "ticks": ""
            },
            "colorscale": [
             [
              0,
              "#0d0887"
             ],
             [
              0.1111111111111111,
              "#46039f"
             ],
             [
              0.2222222222222222,
              "#7201a8"
             ],
             [
              0.3333333333333333,
              "#9c179e"
             ],
             [
              0.4444444444444444,
              "#bd3786"
             ],
             [
              0.5555555555555556,
              "#d8576b"
             ],
             [
              0.6666666666666666,
              "#ed7953"
             ],
             [
              0.7777777777777778,
              "#fb9f3a"
             ],
             [
              0.8888888888888888,
              "#fdca26"
             ],
             [
              1,
              "#f0f921"
             ]
            ],
            "type": "surface"
           }
          ],
          "table": [
           {
            "cells": {
             "fill": {
              "color": "#EBF0F8"
             },
             "line": {
              "color": "white"
             }
            },
            "header": {
             "fill": {
              "color": "#C8D4E3"
             },
             "line": {
              "color": "white"
             }
            },
            "type": "table"
           }
          ]
         },
         "layout": {
          "annotationdefaults": {
           "arrowcolor": "#2a3f5f",
           "arrowhead": 0,
           "arrowwidth": 1
          },
          "autotypenumbers": "strict",
          "coloraxis": {
           "colorbar": {
            "outlinewidth": 0,
            "ticks": ""
           }
          },
          "colorscale": {
           "diverging": [
            [
             0,
             "#8e0152"
            ],
            [
             0.1,
             "#c51b7d"
            ],
            [
             0.2,
             "#de77ae"
            ],
            [
             0.3,
             "#f1b6da"
            ],
            [
             0.4,
             "#fde0ef"
            ],
            [
             0.5,
             "#f7f7f7"
            ],
            [
             0.6,
             "#e6f5d0"
            ],
            [
             0.7,
             "#b8e186"
            ],
            [
             0.8,
             "#7fbc41"
            ],
            [
             0.9,
             "#4d9221"
            ],
            [
             1,
             "#276419"
            ]
           ],
           "sequential": [
            [
             0,
             "#0d0887"
            ],
            [
             0.1111111111111111,
             "#46039f"
            ],
            [
             0.2222222222222222,
             "#7201a8"
            ],
            [
             0.3333333333333333,
             "#9c179e"
            ],
            [
             0.4444444444444444,
             "#bd3786"
            ],
            [
             0.5555555555555556,
             "#d8576b"
            ],
            [
             0.6666666666666666,
             "#ed7953"
            ],
            [
             0.7777777777777778,
             "#fb9f3a"
            ],
            [
             0.8888888888888888,
             "#fdca26"
            ],
            [
             1,
             "#f0f921"
            ]
           ],
           "sequentialminus": [
            [
             0,
             "#0d0887"
            ],
            [
             0.1111111111111111,
             "#46039f"
            ],
            [
             0.2222222222222222,
             "#7201a8"
            ],
            [
             0.3333333333333333,
             "#9c179e"
            ],
            [
             0.4444444444444444,
             "#bd3786"
            ],
            [
             0.5555555555555556,
             "#d8576b"
            ],
            [
             0.6666666666666666,
             "#ed7953"
            ],
            [
             0.7777777777777778,
             "#fb9f3a"
            ],
            [
             0.8888888888888888,
             "#fdca26"
            ],
            [
             1,
             "#f0f921"
            ]
           ]
          },
          "colorway": [
           "#636efa",
           "#EF553B",
           "#00cc96",
           "#ab63fa",
           "#FFA15A",
           "#19d3f3",
           "#FF6692",
           "#B6E880",
           "#FF97FF",
           "#FECB52"
          ],
          "font": {
           "color": "#2a3f5f"
          },
          "geo": {
           "bgcolor": "white",
           "lakecolor": "white",
           "landcolor": "#E5ECF6",
           "showlakes": true,
           "showland": true,
           "subunitcolor": "white"
          },
          "hoverlabel": {
           "align": "left"
          },
          "hovermode": "closest",
          "mapbox": {
           "style": "light"
          },
          "paper_bgcolor": "white",
          "plot_bgcolor": "#E5ECF6",
          "polar": {
           "angularaxis": {
            "gridcolor": "white",
            "linecolor": "white",
            "ticks": ""
           },
           "bgcolor": "#E5ECF6",
           "radialaxis": {
            "gridcolor": "white",
            "linecolor": "white",
            "ticks": ""
           }
          },
          "scene": {
           "xaxis": {
            "backgroundcolor": "#E5ECF6",
            "gridcolor": "white",
            "gridwidth": 2,
            "linecolor": "white",
            "showbackground": true,
            "ticks": "",
            "zerolinecolor": "white"
           },
           "yaxis": {
            "backgroundcolor": "#E5ECF6",
            "gridcolor": "white",
            "gridwidth": 2,
            "linecolor": "white",
            "showbackground": true,
            "ticks": "",
            "zerolinecolor": "white"
           },
           "zaxis": {
            "backgroundcolor": "#E5ECF6",
            "gridcolor": "white",
            "gridwidth": 2,
            "linecolor": "white",
            "showbackground": true,
            "ticks": "",
            "zerolinecolor": "white"
           }
          },
          "shapedefaults": {
           "line": {
            "color": "#2a3f5f"
           }
          },
          "ternary": {
           "aaxis": {
            "gridcolor": "white",
            "linecolor": "white",
            "ticks": ""
           },
           "baxis": {
            "gridcolor": "white",
            "linecolor": "white",
            "ticks": ""
           },
           "bgcolor": "#E5ECF6",
           "caxis": {
            "gridcolor": "white",
            "linecolor": "white",
            "ticks": ""
           }
          },
          "title": {
           "x": 0.05
          },
          "xaxis": {
           "automargin": true,
           "gridcolor": "white",
           "linecolor": "white",
           "ticks": "",
           "title": {
            "standoff": 15
           },
           "zerolinecolor": "white",
           "zerolinewidth": 2
          },
          "yaxis": {
           "automargin": true,
           "gridcolor": "white",
           "linecolor": "white",
           "ticks": "",
           "title": {
            "standoff": 15
           },
           "zerolinecolor": "white",
           "zerolinewidth": 2
          }
         }
        },
        "title": {
         "text": "Top 10 HeadQuarter Locations by Total Funding Amount"
        },
        "xaxis": {
         "anchor": "y",
         "domain": [
          0,
          1
         ],
         "tickangle": 45,
         "title": {
          "text": "HeadQuarter Location"
         }
        },
        "yaxis": {
         "anchor": "x",
         "domain": [
          0,
          1
         ],
         "title": {
          "text": "Total Funding Amount"
         }
        }
       }
      }
     },
     "metadata": {},
     "output_type": "display_data"
    }
   ],
   "source": [
    "# Calculate total funding amount for each HeadQuarter\n",
    "total_funding_by_hq = df_combined.groupby('HeadQuarter')['Amount'].sum().reset_index()\n",
    "\n",
    "# Sort the HeadQuarter locations by total funding amount in descending order\n",
    "total_funding_by_hq = total_funding_by_hq.sort_values('Amount', ascending=False)\n",
    "\n",
    "# Print the top 10 HeadQuarter locations by total funding amount\n",
    "print(\"Top 10 HeadQuarter Locations by Total Funding Amount:\")\n",
    "print(total_funding_by_hq.head(10))\n",
    "\n",
    "# Visualize the funding distribution across HeadQuarter locations\n",
    "fig = px.bar(total_funding_by_hq.head(10), x='HeadQuarter', y='Amount',\n",
    "             title='Top 10 HeadQuarter Locations by Total Funding Amount',\n",
    "             labels={'HeadQuarter': 'HeadQuarter Location', 'Amount': 'Total Funding Amount'})\n",
    "\n",
    "# Rotate the x-axis tick labels\n",
    "fig.update_xaxes(tickangle=45)\n",
    "\n",
    "# Show the plot\n",
    "fig.show()"
   ]
  },
  {
   "cell_type": "markdown",
   "metadata": {},
   "source": [
    "**5. Investor Influence: Who are the top investors in the Indian startup ecosystem, and what is their funding pattern?**"
   ]
  },
  {
   "cell_type": "code",
   "execution_count": 62,
   "metadata": {},
   "outputs": [
    {
     "name": "stdout",
     "output_type": "stream",
     "text": [
      "Top 10 Investors in Indian Startup Ecosystem:\n",
      "                                              Investor        Amount\n",
      "875                             Unicorn India Ventures  1.513084e+11\n",
      "260                                  Elevation Capital  1.506316e+11\n",
      "830                                       Tiger Global  3.424000e+09\n",
      "193  Canaan Valley Capital, Glade Brook Capital Par...  2.000000e+09\n",
      "282  Falcon Edge, DST Global, D1 Capital, Redbird C...  1.680000e+09\n",
      "199                     Carmignac, Falcon Edge Capital  1.600000e+09\n",
      "754                               Sixth Sense Ventures  1.350358e+09\n",
      "766      SoftBank Vision Fund, Hindustan Media Venture  1.320000e+09\n",
      "857                                          TradeCred  1.230000e+09\n",
      "285                                Fidelity, B Capital  1.140000e+09\n"
     ]
    },
    {
     "data": {
      "application/vnd.plotly.v1+json": {
       "config": {
        "plotlyServerURL": "https://plot.ly"
       },
       "data": [
        {
         "alignmentgroup": "True",
         "hovertemplate": "Investor=%{x}<br>Total Funding Amount=%{y}<extra></extra>",
         "legendgroup": "",
         "marker": {
          "color": "#636efa",
          "pattern": {
           "shape": ""
          }
         },
         "name": "",
         "offsetgroup": "",
         "orientation": "v",
         "showlegend": false,
         "textposition": "auto",
         "type": "bar",
         "x": [
          "Unicorn India Ventures",
          "Elevation Capital",
          "Tiger Global",
          "Canaan Valley Capital, Glade Brook Capital Partners",
          "Falcon Edge, DST Global, D1 Capital, Redbird Capital, Tiger Global",
          "Carmignac, Falcon Edge Capital",
          "Sixth Sense Ventures",
          "SoftBank Vision Fund, Hindustan Media Venture",
          "TradeCred",
          "Fidelity, B Capital"
         ],
         "xaxis": "x",
         "y": [
          151308430000,
          150631603200,
          3424000000,
          2000000000,
          1680000000,
          1600000000,
          1350357800,
          1320000000,
          1230000000,
          1140000000
         ],
         "yaxis": "y"
        }
       ],
       "layout": {
        "barmode": "relative",
        "legend": {
         "tracegroupgap": 0
        },
        "template": {
         "data": {
          "bar": [
           {
            "error_x": {
             "color": "#2a3f5f"
            },
            "error_y": {
             "color": "#2a3f5f"
            },
            "marker": {
             "line": {
              "color": "#E5ECF6",
              "width": 0.5
             },
             "pattern": {
              "fillmode": "overlay",
              "size": 10,
              "solidity": 0.2
             }
            },
            "type": "bar"
           }
          ],
          "barpolar": [
           {
            "marker": {
             "line": {
              "color": "#E5ECF6",
              "width": 0.5
             },
             "pattern": {
              "fillmode": "overlay",
              "size": 10,
              "solidity": 0.2
             }
            },
            "type": "barpolar"
           }
          ],
          "carpet": [
           {
            "aaxis": {
             "endlinecolor": "#2a3f5f",
             "gridcolor": "white",
             "linecolor": "white",
             "minorgridcolor": "white",
             "startlinecolor": "#2a3f5f"
            },
            "baxis": {
             "endlinecolor": "#2a3f5f",
             "gridcolor": "white",
             "linecolor": "white",
             "minorgridcolor": "white",
             "startlinecolor": "#2a3f5f"
            },
            "type": "carpet"
           }
          ],
          "choropleth": [
           {
            "colorbar": {
             "outlinewidth": 0,
             "ticks": ""
            },
            "type": "choropleth"
           }
          ],
          "contour": [
           {
            "colorbar": {
             "outlinewidth": 0,
             "ticks": ""
            },
            "colorscale": [
             [
              0,
              "#0d0887"
             ],
             [
              0.1111111111111111,
              "#46039f"
             ],
             [
              0.2222222222222222,
              "#7201a8"
             ],
             [
              0.3333333333333333,
              "#9c179e"
             ],
             [
              0.4444444444444444,
              "#bd3786"
             ],
             [
              0.5555555555555556,
              "#d8576b"
             ],
             [
              0.6666666666666666,
              "#ed7953"
             ],
             [
              0.7777777777777778,
              "#fb9f3a"
             ],
             [
              0.8888888888888888,
              "#fdca26"
             ],
             [
              1,
              "#f0f921"
             ]
            ],
            "type": "contour"
           }
          ],
          "contourcarpet": [
           {
            "colorbar": {
             "outlinewidth": 0,
             "ticks": ""
            },
            "type": "contourcarpet"
           }
          ],
          "heatmap": [
           {
            "colorbar": {
             "outlinewidth": 0,
             "ticks": ""
            },
            "colorscale": [
             [
              0,
              "#0d0887"
             ],
             [
              0.1111111111111111,
              "#46039f"
             ],
             [
              0.2222222222222222,
              "#7201a8"
             ],
             [
              0.3333333333333333,
              "#9c179e"
             ],
             [
              0.4444444444444444,
              "#bd3786"
             ],
             [
              0.5555555555555556,
              "#d8576b"
             ],
             [
              0.6666666666666666,
              "#ed7953"
             ],
             [
              0.7777777777777778,
              "#fb9f3a"
             ],
             [
              0.8888888888888888,
              "#fdca26"
             ],
             [
              1,
              "#f0f921"
             ]
            ],
            "type": "heatmap"
           }
          ],
          "heatmapgl": [
           {
            "colorbar": {
             "outlinewidth": 0,
             "ticks": ""
            },
            "colorscale": [
             [
              0,
              "#0d0887"
             ],
             [
              0.1111111111111111,
              "#46039f"
             ],
             [
              0.2222222222222222,
              "#7201a8"
             ],
             [
              0.3333333333333333,
              "#9c179e"
             ],
             [
              0.4444444444444444,
              "#bd3786"
             ],
             [
              0.5555555555555556,
              "#d8576b"
             ],
             [
              0.6666666666666666,
              "#ed7953"
             ],
             [
              0.7777777777777778,
              "#fb9f3a"
             ],
             [
              0.8888888888888888,
              "#fdca26"
             ],
             [
              1,
              "#f0f921"
             ]
            ],
            "type": "heatmapgl"
           }
          ],
          "histogram": [
           {
            "marker": {
             "pattern": {
              "fillmode": "overlay",
              "size": 10,
              "solidity": 0.2
             }
            },
            "type": "histogram"
           }
          ],
          "histogram2d": [
           {
            "colorbar": {
             "outlinewidth": 0,
             "ticks": ""
            },
            "colorscale": [
             [
              0,
              "#0d0887"
             ],
             [
              0.1111111111111111,
              "#46039f"
             ],
             [
              0.2222222222222222,
              "#7201a8"
             ],
             [
              0.3333333333333333,
              "#9c179e"
             ],
             [
              0.4444444444444444,
              "#bd3786"
             ],
             [
              0.5555555555555556,
              "#d8576b"
             ],
             [
              0.6666666666666666,
              "#ed7953"
             ],
             [
              0.7777777777777778,
              "#fb9f3a"
             ],
             [
              0.8888888888888888,
              "#fdca26"
             ],
             [
              1,
              "#f0f921"
             ]
            ],
            "type": "histogram2d"
           }
          ],
          "histogram2dcontour": [
           {
            "colorbar": {
             "outlinewidth": 0,
             "ticks": ""
            },
            "colorscale": [
             [
              0,
              "#0d0887"
             ],
             [
              0.1111111111111111,
              "#46039f"
             ],
             [
              0.2222222222222222,
              "#7201a8"
             ],
             [
              0.3333333333333333,
              "#9c179e"
             ],
             [
              0.4444444444444444,
              "#bd3786"
             ],
             [
              0.5555555555555556,
              "#d8576b"
             ],
             [
              0.6666666666666666,
              "#ed7953"
             ],
             [
              0.7777777777777778,
              "#fb9f3a"
             ],
             [
              0.8888888888888888,
              "#fdca26"
             ],
             [
              1,
              "#f0f921"
             ]
            ],
            "type": "histogram2dcontour"
           }
          ],
          "mesh3d": [
           {
            "colorbar": {
             "outlinewidth": 0,
             "ticks": ""
            },
            "type": "mesh3d"
           }
          ],
          "parcoords": [
           {
            "line": {
             "colorbar": {
              "outlinewidth": 0,
              "ticks": ""
             }
            },
            "type": "parcoords"
           }
          ],
          "pie": [
           {
            "automargin": true,
            "type": "pie"
           }
          ],
          "scatter": [
           {
            "fillpattern": {
             "fillmode": "overlay",
             "size": 10,
             "solidity": 0.2
            },
            "type": "scatter"
           }
          ],
          "scatter3d": [
           {
            "line": {
             "colorbar": {
              "outlinewidth": 0,
              "ticks": ""
             }
            },
            "marker": {
             "colorbar": {
              "outlinewidth": 0,
              "ticks": ""
             }
            },
            "type": "scatter3d"
           }
          ],
          "scattercarpet": [
           {
            "marker": {
             "colorbar": {
              "outlinewidth": 0,
              "ticks": ""
             }
            },
            "type": "scattercarpet"
           }
          ],
          "scattergeo": [
           {
            "marker": {
             "colorbar": {
              "outlinewidth": 0,
              "ticks": ""
             }
            },
            "type": "scattergeo"
           }
          ],
          "scattergl": [
           {
            "marker": {
             "colorbar": {
              "outlinewidth": 0,
              "ticks": ""
             }
            },
            "type": "scattergl"
           }
          ],
          "scattermapbox": [
           {
            "marker": {
             "colorbar": {
              "outlinewidth": 0,
              "ticks": ""
             }
            },
            "type": "scattermapbox"
           }
          ],
          "scatterpolar": [
           {
            "marker": {
             "colorbar": {
              "outlinewidth": 0,
              "ticks": ""
             }
            },
            "type": "scatterpolar"
           }
          ],
          "scatterpolargl": [
           {
            "marker": {
             "colorbar": {
              "outlinewidth": 0,
              "ticks": ""
             }
            },
            "type": "scatterpolargl"
           }
          ],
          "scatterternary": [
           {
            "marker": {
             "colorbar": {
              "outlinewidth": 0,
              "ticks": ""
             }
            },
            "type": "scatterternary"
           }
          ],
          "surface": [
           {
            "colorbar": {
             "outlinewidth": 0,
             "ticks": ""
            },
            "colorscale": [
             [
              0,
              "#0d0887"
             ],
             [
              0.1111111111111111,
              "#46039f"
             ],
             [
              0.2222222222222222,
              "#7201a8"
             ],
             [
              0.3333333333333333,
              "#9c179e"
             ],
             [
              0.4444444444444444,
              "#bd3786"
             ],
             [
              0.5555555555555556,
              "#d8576b"
             ],
             [
              0.6666666666666666,
              "#ed7953"
             ],
             [
              0.7777777777777778,
              "#fb9f3a"
             ],
             [
              0.8888888888888888,
              "#fdca26"
             ],
             [
              1,
              "#f0f921"
             ]
            ],
            "type": "surface"
           }
          ],
          "table": [
           {
            "cells": {
             "fill": {
              "color": "#EBF0F8"
             },
             "line": {
              "color": "white"
             }
            },
            "header": {
             "fill": {
              "color": "#C8D4E3"
             },
             "line": {
              "color": "white"
             }
            },
            "type": "table"
           }
          ]
         },
         "layout": {
          "annotationdefaults": {
           "arrowcolor": "#2a3f5f",
           "arrowhead": 0,
           "arrowwidth": 1
          },
          "autotypenumbers": "strict",
          "coloraxis": {
           "colorbar": {
            "outlinewidth": 0,
            "ticks": ""
           }
          },
          "colorscale": {
           "diverging": [
            [
             0,
             "#8e0152"
            ],
            [
             0.1,
             "#c51b7d"
            ],
            [
             0.2,
             "#de77ae"
            ],
            [
             0.3,
             "#f1b6da"
            ],
            [
             0.4,
             "#fde0ef"
            ],
            [
             0.5,
             "#f7f7f7"
            ],
            [
             0.6,
             "#e6f5d0"
            ],
            [
             0.7,
             "#b8e186"
            ],
            [
             0.8,
             "#7fbc41"
            ],
            [
             0.9,
             "#4d9221"
            ],
            [
             1,
             "#276419"
            ]
           ],
           "sequential": [
            [
             0,
             "#0d0887"
            ],
            [
             0.1111111111111111,
             "#46039f"
            ],
            [
             0.2222222222222222,
             "#7201a8"
            ],
            [
             0.3333333333333333,
             "#9c179e"
            ],
            [
             0.4444444444444444,
             "#bd3786"
            ],
            [
             0.5555555555555556,
             "#d8576b"
            ],
            [
             0.6666666666666666,
             "#ed7953"
            ],
            [
             0.7777777777777778,
             "#fb9f3a"
            ],
            [
             0.8888888888888888,
             "#fdca26"
            ],
            [
             1,
             "#f0f921"
            ]
           ],
           "sequentialminus": [
            [
             0,
             "#0d0887"
            ],
            [
             0.1111111111111111,
             "#46039f"
            ],
            [
             0.2222222222222222,
             "#7201a8"
            ],
            [
             0.3333333333333333,
             "#9c179e"
            ],
            [
             0.4444444444444444,
             "#bd3786"
            ],
            [
             0.5555555555555556,
             "#d8576b"
            ],
            [
             0.6666666666666666,
             "#ed7953"
            ],
            [
             0.7777777777777778,
             "#fb9f3a"
            ],
            [
             0.8888888888888888,
             "#fdca26"
            ],
            [
             1,
             "#f0f921"
            ]
           ]
          },
          "colorway": [
           "#636efa",
           "#EF553B",
           "#00cc96",
           "#ab63fa",
           "#FFA15A",
           "#19d3f3",
           "#FF6692",
           "#B6E880",
           "#FF97FF",
           "#FECB52"
          ],
          "font": {
           "color": "#2a3f5f"
          },
          "geo": {
           "bgcolor": "white",
           "lakecolor": "white",
           "landcolor": "#E5ECF6",
           "showlakes": true,
           "showland": true,
           "subunitcolor": "white"
          },
          "hoverlabel": {
           "align": "left"
          },
          "hovermode": "closest",
          "mapbox": {
           "style": "light"
          },
          "paper_bgcolor": "white",
          "plot_bgcolor": "#E5ECF6",
          "polar": {
           "angularaxis": {
            "gridcolor": "white",
            "linecolor": "white",
            "ticks": ""
           },
           "bgcolor": "#E5ECF6",
           "radialaxis": {
            "gridcolor": "white",
            "linecolor": "white",
            "ticks": ""
           }
          },
          "scene": {
           "xaxis": {
            "backgroundcolor": "#E5ECF6",
            "gridcolor": "white",
            "gridwidth": 2,
            "linecolor": "white",
            "showbackground": true,
            "ticks": "",
            "zerolinecolor": "white"
           },
           "yaxis": {
            "backgroundcolor": "#E5ECF6",
            "gridcolor": "white",
            "gridwidth": 2,
            "linecolor": "white",
            "showbackground": true,
            "ticks": "",
            "zerolinecolor": "white"
           },
           "zaxis": {
            "backgroundcolor": "#E5ECF6",
            "gridcolor": "white",
            "gridwidth": 2,
            "linecolor": "white",
            "showbackground": true,
            "ticks": "",
            "zerolinecolor": "white"
           }
          },
          "shapedefaults": {
           "line": {
            "color": "#2a3f5f"
           }
          },
          "ternary": {
           "aaxis": {
            "gridcolor": "white",
            "linecolor": "white",
            "ticks": ""
           },
           "baxis": {
            "gridcolor": "white",
            "linecolor": "white",
            "ticks": ""
           },
           "bgcolor": "#E5ECF6",
           "caxis": {
            "gridcolor": "white",
            "linecolor": "white",
            "ticks": ""
           }
          },
          "title": {
           "x": 0.05
          },
          "xaxis": {
           "automargin": true,
           "gridcolor": "white",
           "linecolor": "white",
           "ticks": "",
           "title": {
            "standoff": 15
           },
           "zerolinecolor": "white",
           "zerolinewidth": 2
          },
          "yaxis": {
           "automargin": true,
           "gridcolor": "white",
           "linecolor": "white",
           "ticks": "",
           "title": {
            "standoff": 15
           },
           "zerolinecolor": "white",
           "zerolinewidth": 2
          }
         }
        },
        "title": {
         "text": "Top 10 Investors in Indian Startup Ecosystem"
        },
        "xaxis": {
         "anchor": "y",
         "domain": [
          0,
          1
         ],
         "tickangle": 45,
         "title": {
          "text": "Investor"
         }
        },
        "yaxis": {
         "anchor": "x",
         "domain": [
          0,
          1
         ],
         "title": {
          "text": "Total Funding Amount"
         }
        }
       }
      }
     },
     "metadata": {},
     "output_type": "display_data"
    }
   ],
   "source": [
    "# Calculate total funding amount for each investor\n",
    "total_funding_by_investor = df_combined.groupby('Investor')['Amount'].sum().reset_index()\n",
    "\n",
    "# Sort the investors by total funding amount in descending order\n",
    "total_funding_by_investor = total_funding_by_investor.sort_values('Amount', ascending=False)\n",
    "\n",
    "# Print the top 10 investors by total funding amount\n",
    "print(\"Top 10 Investors in Indian Startup Ecosystem:\")\n",
    "print(total_funding_by_investor.head(10))\n",
    "\n",
    "# Visualize the funding distribution across top investors\n",
    "fig = px.bar(total_funding_by_investor.head(10), x='Investor', y='Amount',\n",
    "             title='Top 10 Investors in Indian Startup Ecosystem',\n",
    "             labels={'Investor': 'Investor', 'Amount': 'Total Funding Amount'})\n",
    "\n",
    "# Rotate the x-axis tick labels\n",
    "fig.update_xaxes(tickangle=45)\n",
    "\n",
    "# Show the plot\n",
    "fig.show()"
   ]
  },
  {
   "cell_type": "markdown",
   "metadata": {},
   "source": [
    "**6. Founder Impact: Is there a correlation between the number of founders and the amount of funding received?**"
   ]
  },
  {
   "cell_type": "code",
   "execution_count": 63,
   "metadata": {},
   "outputs": [
    {
     "data": {
      "application/vnd.plotly.v1+json": {
       "config": {
        "plotlyServerURL": "https://plot.ly"
       },
       "data": [
        {
         "hovertemplate": "Number of Founders=%{x}<br>Median Funding Amount=%{y}<extra></extra>",
         "legendgroup": "",
         "marker": {
          "color": "#636efa",
          "symbol": "circle"
         },
         "mode": "markers",
         "name": "",
         "orientation": "v",
         "showlegend": false,
         "type": "scatter",
         "x": [
          "Ashneer Grover, Shashvat Nakrani",
          "Bhavish Aggarwal",
          "Byju Raveendran, Divya Gokulnath",
          "Harsh Jain",
          "Kunal Shah",
          "Nitish Mittersain",
          "Ritesh Agarwal",
          "Sanjeev Barnwal, Vidit Aatrey",
          "Vinod Murali",
          "Virendra Gupta"
         ],
         "xaxis": "x",
         "y": [
          2326704600,
          2164380000,
          3246473780,
          1680000000,
          1806068500,
          1455798900,
          3956257350,
          1740000000,
          300000000000,
          2000000000
         ],
         "yaxis": "y"
        }
       ],
       "layout": {
        "legend": {
         "tracegroupgap": 0
        },
        "template": {
         "data": {
          "bar": [
           {
            "error_x": {
             "color": "#2a3f5f"
            },
            "error_y": {
             "color": "#2a3f5f"
            },
            "marker": {
             "line": {
              "color": "#E5ECF6",
              "width": 0.5
             },
             "pattern": {
              "fillmode": "overlay",
              "size": 10,
              "solidity": 0.2
             }
            },
            "type": "bar"
           }
          ],
          "barpolar": [
           {
            "marker": {
             "line": {
              "color": "#E5ECF6",
              "width": 0.5
             },
             "pattern": {
              "fillmode": "overlay",
              "size": 10,
              "solidity": 0.2
             }
            },
            "type": "barpolar"
           }
          ],
          "carpet": [
           {
            "aaxis": {
             "endlinecolor": "#2a3f5f",
             "gridcolor": "white",
             "linecolor": "white",
             "minorgridcolor": "white",
             "startlinecolor": "#2a3f5f"
            },
            "baxis": {
             "endlinecolor": "#2a3f5f",
             "gridcolor": "white",
             "linecolor": "white",
             "minorgridcolor": "white",
             "startlinecolor": "#2a3f5f"
            },
            "type": "carpet"
           }
          ],
          "choropleth": [
           {
            "colorbar": {
             "outlinewidth": 0,
             "ticks": ""
            },
            "type": "choropleth"
           }
          ],
          "contour": [
           {
            "colorbar": {
             "outlinewidth": 0,
             "ticks": ""
            },
            "colorscale": [
             [
              0,
              "#0d0887"
             ],
             [
              0.1111111111111111,
              "#46039f"
             ],
             [
              0.2222222222222222,
              "#7201a8"
             ],
             [
              0.3333333333333333,
              "#9c179e"
             ],
             [
              0.4444444444444444,
              "#bd3786"
             ],
             [
              0.5555555555555556,
              "#d8576b"
             ],
             [
              0.6666666666666666,
              "#ed7953"
             ],
             [
              0.7777777777777778,
              "#fb9f3a"
             ],
             [
              0.8888888888888888,
              "#fdca26"
             ],
             [
              1,
              "#f0f921"
             ]
            ],
            "type": "contour"
           }
          ],
          "contourcarpet": [
           {
            "colorbar": {
             "outlinewidth": 0,
             "ticks": ""
            },
            "type": "contourcarpet"
           }
          ],
          "heatmap": [
           {
            "colorbar": {
             "outlinewidth": 0,
             "ticks": ""
            },
            "colorscale": [
             [
              0,
              "#0d0887"
             ],
             [
              0.1111111111111111,
              "#46039f"
             ],
             [
              0.2222222222222222,
              "#7201a8"
             ],
             [
              0.3333333333333333,
              "#9c179e"
             ],
             [
              0.4444444444444444,
              "#bd3786"
             ],
             [
              0.5555555555555556,
              "#d8576b"
             ],
             [
              0.6666666666666666,
              "#ed7953"
             ],
             [
              0.7777777777777778,
              "#fb9f3a"
             ],
             [
              0.8888888888888888,
              "#fdca26"
             ],
             [
              1,
              "#f0f921"
             ]
            ],
            "type": "heatmap"
           }
          ],
          "heatmapgl": [
           {
            "colorbar": {
             "outlinewidth": 0,
             "ticks": ""
            },
            "colorscale": [
             [
              0,
              "#0d0887"
             ],
             [
              0.1111111111111111,
              "#46039f"
             ],
             [
              0.2222222222222222,
              "#7201a8"
             ],
             [
              0.3333333333333333,
              "#9c179e"
             ],
             [
              0.4444444444444444,
              "#bd3786"
             ],
             [
              0.5555555555555556,
              "#d8576b"
             ],
             [
              0.6666666666666666,
              "#ed7953"
             ],
             [
              0.7777777777777778,
              "#fb9f3a"
             ],
             [
              0.8888888888888888,
              "#fdca26"
             ],
             [
              1,
              "#f0f921"
             ]
            ],
            "type": "heatmapgl"
           }
          ],
          "histogram": [
           {
            "marker": {
             "pattern": {
              "fillmode": "overlay",
              "size": 10,
              "solidity": 0.2
             }
            },
            "type": "histogram"
           }
          ],
          "histogram2d": [
           {
            "colorbar": {
             "outlinewidth": 0,
             "ticks": ""
            },
            "colorscale": [
             [
              0,
              "#0d0887"
             ],
             [
              0.1111111111111111,
              "#46039f"
             ],
             [
              0.2222222222222222,
              "#7201a8"
             ],
             [
              0.3333333333333333,
              "#9c179e"
             ],
             [
              0.4444444444444444,
              "#bd3786"
             ],
             [
              0.5555555555555556,
              "#d8576b"
             ],
             [
              0.6666666666666666,
              "#ed7953"
             ],
             [
              0.7777777777777778,
              "#fb9f3a"
             ],
             [
              0.8888888888888888,
              "#fdca26"
             ],
             [
              1,
              "#f0f921"
             ]
            ],
            "type": "histogram2d"
           }
          ],
          "histogram2dcontour": [
           {
            "colorbar": {
             "outlinewidth": 0,
             "ticks": ""
            },
            "colorscale": [
             [
              0,
              "#0d0887"
             ],
             [
              0.1111111111111111,
              "#46039f"
             ],
             [
              0.2222222222222222,
              "#7201a8"
             ],
             [
              0.3333333333333333,
              "#9c179e"
             ],
             [
              0.4444444444444444,
              "#bd3786"
             ],
             [
              0.5555555555555556,
              "#d8576b"
             ],
             [
              0.6666666666666666,
              "#ed7953"
             ],
             [
              0.7777777777777778,
              "#fb9f3a"
             ],
             [
              0.8888888888888888,
              "#fdca26"
             ],
             [
              1,
              "#f0f921"
             ]
            ],
            "type": "histogram2dcontour"
           }
          ],
          "mesh3d": [
           {
            "colorbar": {
             "outlinewidth": 0,
             "ticks": ""
            },
            "type": "mesh3d"
           }
          ],
          "parcoords": [
           {
            "line": {
             "colorbar": {
              "outlinewidth": 0,
              "ticks": ""
             }
            },
            "type": "parcoords"
           }
          ],
          "pie": [
           {
            "automargin": true,
            "type": "pie"
           }
          ],
          "scatter": [
           {
            "fillpattern": {
             "fillmode": "overlay",
             "size": 10,
             "solidity": 0.2
            },
            "type": "scatter"
           }
          ],
          "scatter3d": [
           {
            "line": {
             "colorbar": {
              "outlinewidth": 0,
              "ticks": ""
             }
            },
            "marker": {
             "colorbar": {
              "outlinewidth": 0,
              "ticks": ""
             }
            },
            "type": "scatter3d"
           }
          ],
          "scattercarpet": [
           {
            "marker": {
             "colorbar": {
              "outlinewidth": 0,
              "ticks": ""
             }
            },
            "type": "scattercarpet"
           }
          ],
          "scattergeo": [
           {
            "marker": {
             "colorbar": {
              "outlinewidth": 0,
              "ticks": ""
             }
            },
            "type": "scattergeo"
           }
          ],
          "scattergl": [
           {
            "marker": {
             "colorbar": {
              "outlinewidth": 0,
              "ticks": ""
             }
            },
            "type": "scattergl"
           }
          ],
          "scattermapbox": [
           {
            "marker": {
             "colorbar": {
              "outlinewidth": 0,
              "ticks": ""
             }
            },
            "type": "scattermapbox"
           }
          ],
          "scatterpolar": [
           {
            "marker": {
             "colorbar": {
              "outlinewidth": 0,
              "ticks": ""
             }
            },
            "type": "scatterpolar"
           }
          ],
          "scatterpolargl": [
           {
            "marker": {
             "colorbar": {
              "outlinewidth": 0,
              "ticks": ""
             }
            },
            "type": "scatterpolargl"
           }
          ],
          "scatterternary": [
           {
            "marker": {
             "colorbar": {
              "outlinewidth": 0,
              "ticks": ""
             }
            },
            "type": "scatterternary"
           }
          ],
          "surface": [
           {
            "colorbar": {
             "outlinewidth": 0,
             "ticks": ""
            },
            "colorscale": [
             [
              0,
              "#0d0887"
             ],
             [
              0.1111111111111111,
              "#46039f"
             ],
             [
              0.2222222222222222,
              "#7201a8"
             ],
             [
              0.3333333333333333,
              "#9c179e"
             ],
             [
              0.4444444444444444,
              "#bd3786"
             ],
             [
              0.5555555555555556,
              "#d8576b"
             ],
             [
              0.6666666666666666,
              "#ed7953"
             ],
             [
              0.7777777777777778,
              "#fb9f3a"
             ],
             [
              0.8888888888888888,
              "#fdca26"
             ],
             [
              1,
              "#f0f921"
             ]
            ],
            "type": "surface"
           }
          ],
          "table": [
           {
            "cells": {
             "fill": {
              "color": "#EBF0F8"
             },
             "line": {
              "color": "white"
             }
            },
            "header": {
             "fill": {
              "color": "#C8D4E3"
             },
             "line": {
              "color": "white"
             }
            },
            "type": "table"
           }
          ]
         },
         "layout": {
          "annotationdefaults": {
           "arrowcolor": "#2a3f5f",
           "arrowhead": 0,
           "arrowwidth": 1
          },
          "autotypenumbers": "strict",
          "coloraxis": {
           "colorbar": {
            "outlinewidth": 0,
            "ticks": ""
           }
          },
          "colorscale": {
           "diverging": [
            [
             0,
             "#8e0152"
            ],
            [
             0.1,
             "#c51b7d"
            ],
            [
             0.2,
             "#de77ae"
            ],
            [
             0.3,
             "#f1b6da"
            ],
            [
             0.4,
             "#fde0ef"
            ],
            [
             0.5,
             "#f7f7f7"
            ],
            [
             0.6,
             "#e6f5d0"
            ],
            [
             0.7,
             "#b8e186"
            ],
            [
             0.8,
             "#7fbc41"
            ],
            [
             0.9,
             "#4d9221"
            ],
            [
             1,
             "#276419"
            ]
           ],
           "sequential": [
            [
             0,
             "#0d0887"
            ],
            [
             0.1111111111111111,
             "#46039f"
            ],
            [
             0.2222222222222222,
             "#7201a8"
            ],
            [
             0.3333333333333333,
             "#9c179e"
            ],
            [
             0.4444444444444444,
             "#bd3786"
            ],
            [
             0.5555555555555556,
             "#d8576b"
            ],
            [
             0.6666666666666666,
             "#ed7953"
            ],
            [
             0.7777777777777778,
             "#fb9f3a"
            ],
            [
             0.8888888888888888,
             "#fdca26"
            ],
            [
             1,
             "#f0f921"
            ]
           ],
           "sequentialminus": [
            [
             0,
             "#0d0887"
            ],
            [
             0.1111111111111111,
             "#46039f"
            ],
            [
             0.2222222222222222,
             "#7201a8"
            ],
            [
             0.3333333333333333,
             "#9c179e"
            ],
            [
             0.4444444444444444,
             "#bd3786"
            ],
            [
             0.5555555555555556,
             "#d8576b"
            ],
            [
             0.6666666666666666,
             "#ed7953"
            ],
            [
             0.7777777777777778,
             "#fb9f3a"
            ],
            [
             0.8888888888888888,
             "#fdca26"
            ],
            [
             1,
             "#f0f921"
            ]
           ]
          },
          "colorway": [
           "#636efa",
           "#EF553B",
           "#00cc96",
           "#ab63fa",
           "#FFA15A",
           "#19d3f3",
           "#FF6692",
           "#B6E880",
           "#FF97FF",
           "#FECB52"
          ],
          "font": {
           "color": "#2a3f5f"
          },
          "geo": {
           "bgcolor": "white",
           "lakecolor": "white",
           "landcolor": "#E5ECF6",
           "showlakes": true,
           "showland": true,
           "subunitcolor": "white"
          },
          "hoverlabel": {
           "align": "left"
          },
          "hovermode": "closest",
          "mapbox": {
           "style": "light"
          },
          "paper_bgcolor": "white",
          "plot_bgcolor": "#E5ECF6",
          "polar": {
           "angularaxis": {
            "gridcolor": "white",
            "linecolor": "white",
            "ticks": ""
           },
           "bgcolor": "#E5ECF6",
           "radialaxis": {
            "gridcolor": "white",
            "linecolor": "white",
            "ticks": ""
           }
          },
          "scene": {
           "xaxis": {
            "backgroundcolor": "#E5ECF6",
            "gridcolor": "white",
            "gridwidth": 2,
            "linecolor": "white",
            "showbackground": true,
            "ticks": "",
            "zerolinecolor": "white"
           },
           "yaxis": {
            "backgroundcolor": "#E5ECF6",
            "gridcolor": "white",
            "gridwidth": 2,
            "linecolor": "white",
            "showbackground": true,
            "ticks": "",
            "zerolinecolor": "white"
           },
           "zaxis": {
            "backgroundcolor": "#E5ECF6",
            "gridcolor": "white",
            "gridwidth": 2,
            "linecolor": "white",
            "showbackground": true,
            "ticks": "",
            "zerolinecolor": "white"
           }
          },
          "shapedefaults": {
           "line": {
            "color": "#2a3f5f"
           }
          },
          "ternary": {
           "aaxis": {
            "gridcolor": "white",
            "linecolor": "white",
            "ticks": ""
           },
           "baxis": {
            "gridcolor": "white",
            "linecolor": "white",
            "ticks": ""
           },
           "bgcolor": "#E5ECF6",
           "caxis": {
            "gridcolor": "white",
            "linecolor": "white",
            "ticks": ""
           }
          },
          "title": {
           "x": 0.05
          },
          "xaxis": {
           "automargin": true,
           "gridcolor": "white",
           "linecolor": "white",
           "ticks": "",
           "title": {
            "standoff": 15
           },
           "zerolinecolor": "white",
           "zerolinewidth": 2
          },
          "yaxis": {
           "automargin": true,
           "gridcolor": "white",
           "linecolor": "white",
           "ticks": "",
           "title": {
            "standoff": 15
           },
           "zerolinecolor": "white",
           "zerolinewidth": 2
          }
         }
        },
        "title": {
         "text": "Relationship between Number of Founders and Funding Amount (Top 10 Founders)"
        },
        "xaxis": {
         "anchor": "y",
         "domain": [
          0,
          1
         ],
         "title": {
          "text": "Number of Founders"
         }
        },
        "yaxis": {
         "anchor": "x",
         "domain": [
          0,
          1
         ],
         "title": {
          "text": "Median Funding Amount"
         }
        }
       }
      }
     },
     "metadata": {},
     "output_type": "display_data"
    }
   ],
   "source": [
    "# Calculate total funding amount for each founder\n",
    "total_funding_by_founder = df_combined.groupby('Founders')['Amount'].sum().reset_index()\n",
    "\n",
    "# Sort the founders by total funding amount in descending order\n",
    "total_funding_by_founder = total_funding_by_founder.sort_values('Amount', ascending=False)\n",
    "\n",
    "# Select the top 10 founders\n",
    "top_10_founders = total_funding_by_founder.head(10)\n",
    "\n",
    "# Group the data by the number of founders and calculate the median funding amount\n",
    "funding_by_num_founders = top_10_founders.groupby('Founders')['Amount'].median().reset_index()\n",
    "\n",
    "# Plot the data\n",
    "fig = px.scatter(funding_by_num_founders, x='Founders', y='Amount',\n",
    "                 title='Relationship between Number of Founders and Funding Amount (Top 10 Founders)',\n",
    "                 labels={'Founders': 'Number of Founders', 'Amount': 'Median Funding Amount'})\n",
    "\n",
    "# Show the plot\n",
    "fig.show()"
   ]
  },
  {
   "cell_type": "markdown",
   "metadata": {},
   "source": [
    "**7. What are the characteristics of startups in the highest-funded sectors (e.g., number of founders, location)?**"
   ]
  },
  {
   "cell_type": "code",
   "execution_count": 64,
   "metadata": {},
   "outputs": [
    {
     "name": "stdout",
     "output_type": "stream",
     "text": [
      "Company Brand: Lenskart\n",
      "Headquarters: Delhi\n",
      "Stage: Series G\n",
      "What it does: It is a eyewear company\n",
      "---\n",
      "Company Brand: Kaleidofin\n",
      "Headquarters: Chennai\n",
      "Stage: Series A\n",
      "What it does: Platform that provides complete financial solutions for excluded individuals and households\n",
      "---\n",
      "Company Brand: LivFin\n",
      "Headquarters: Delhi\n",
      "Stage: Private Equity\n",
      "What it does: Grants small business loans, supply chain finance and working capital loans to small and medium enterprises\n",
      "---\n",
      "Company Brand: Zest Money\n",
      "Headquarters: Bengaluru\n",
      "Stage: Series B\n",
      "What it does: Uses AI to do risk profiling of e-commerce consumers who opt for EMI\n",
      "---\n",
      "Company Brand: SalaryFits\n",
      "Headquarters: nan\n",
      "Stage: Series D1\n",
      "What it does: A platform that promotes financial well-being of employees at workplace\n",
      "---\n",
      "Company Brand: Rivigo\n",
      "Headquarters: nan\n",
      "Stage: Series F\n",
      "What it does: It offers delivery services across India to retail, e-commerce, pharmaceutical, automobile and FMCG companies\n",
      "---\n",
      "Company Brand: Bombay Shirt Company\n",
      "Headquarters: Mumbai\n",
      "Stage: Series B+\n",
      "What it does: Online custom shirt brand\n",
      "---\n",
      "Company Brand: Afinoz\n",
      "Headquarters: Noida\n",
      "Stage: Bridge\n",
      "What it does: Online financial marketplace for customized rate quotes on loans and investment products in India\n",
      "---\n",
      "Company Brand: Ecom Express\n",
      "Headquarters: Gurugram\n",
      "Stage: Seed Funding\n",
      "What it does: It is a technology enabled logistics solutions provider to the Indian e-commerce industry\n",
      "---\n",
      "Company Brand: PiBeam\n",
      "Headquarters: Chennai\n",
      "Stage: Series A\n",
      "What it does: It is engaged in building sustainable and affordable micro-mobility electric vehicles\n",
      "---\n",
      "Company Brand: Euler Motors\n",
      "Headquarters: Delhi\n",
      "Stage: Series A\n",
      "What it does: It is offering mobility as a service\n",
      "---\n",
      "Company Brand: Moms Co\n",
      "Headquarters: New Delhi\n",
      "Stage: Series B\n",
      "What it does: It is into mother and baby care-focused consumer goods\n",
      "---\n",
      "Company Brand: Shadowfax\n",
      "Headquarters: Bengaluru\n",
      "Stage: Series D\n",
      "What it does: A platform for delivery services\n",
      "---\n",
      "Company Brand: Sportido\n",
      "Headquarters: Noida\n",
      "Stage: Series B\n",
      "What it does: It is a sports discovery app that helps to find people and places to play 700+ sports\n",
      "---\n",
      "Company Brand: IndyFint\n",
      "Headquarters: Bengaluru\n",
      "Stage: Series A\n",
      "What it does: It helps lenders to directly provide short-term loans to merchants, employees, and students\n",
      "---\n",
      "Company Brand: Ola\n",
      "Headquarters: Bengaluru\n",
      "Stage: Series F\n",
      "What it does: It enables one to book cab online\n",
      "---\n",
      "Company Brand: Zoomcar\n",
      "Headquarters: Bengaluru\n",
      "Stage: Debt Financing\n",
      "What it does: A car rental service platform\n",
      "---\n",
      "Company Brand: Oyo\n",
      "Headquarters: Gurugram\n",
      "Stage: Series F\n",
      "What it does: Provides rooms for comfortable stay\n",
      "---\n",
      "Company Brand: Ess Kay Fincorp\n",
      "Headquarters: Rajasthan\n",
      "Stage: Series E\n",
      "What it does: Organised Non-Banking Finance Company\n",
      "---\n",
      "Company Brand: upGrad\n",
      "Headquarters: Mumbai\n",
      "Stage: Series H\n",
      "What it does: UpGrad is an online higher education platform.\n",
      "---\n",
      "Company Brand: Lead School\n",
      "Headquarters: Mumbai\n",
      "Stage: Series D\n",
      "What it does: LEAD School offers technology based school transformation system that assures excellent learning for every child.\n",
      "---\n",
      "Company Brand: FypMoney\n",
      "Headquarters: Gurugram\n",
      "Stage: Seed\n",
      "What it does: FypMoney is Digital NEO Bank for Teenagers, empowering them with financial literacy and ease of secured financial transactions.\n",
      "---\n",
      "Company Brand: Taikee\n",
      "Headquarters: Mumbai\n",
      "Stage: Seed Funding\n",
      "What it does: Taikee is the ISO-certified, B2B e-commerce platform of Peel-Works, enabling better lives for corner stores.\n",
      "---\n",
      "Company Brand: DealShare\n",
      "Headquarters: Jaipur\n",
      "Stage: Series A\n",
      "What it does: DealShare is a Social Commerce Startup\n",
      "---\n",
      "Company Brand: ixamBee\n",
      "Headquarters: New Delhi\n",
      "Stage: Seed\n",
      "What it does: ixamBee is to provide best online learning experience for preparation of competitive exams.\n",
      "---\n",
      "Company Brand: CoinSwitch Kuber\n",
      "Headquarters: Bengaluru\n",
      "Stage: Series B\n",
      "What it does: CoinSwitch Kuber is an India-based cryptocurrency exchange platform.\n",
      "---\n",
      "Company Brand: Razorpay\n",
      "Headquarters: Bengaluru\n",
      "Stage: Series E\n",
      "What it does: Razorpay is a platform that enables businesses to accept, process, and disburse payments.\n",
      "---\n",
      "Company Brand: Uable\n",
      "Headquarters: Bengaluru\n",
      "Stage: Seed\n",
      "What it does: Uable offers role based programmes to empower children to explore different domains.\n",
      "---\n",
      "Company Brand: Northern Arc\n",
      "Headquarters: Chennai\n",
      "Stage: Series D1\n",
      "What it does: Northern Arc Capital is a Non-Banking Finance Company that provides borrows with access to debt investors.\n",
      "---\n",
      "Company Brand: Vidyakul\n",
      "Headquarters: None\n",
      "Stage: Seed\n",
      "What it does: Vidyakul is an vernacular e-learning platform that helps state board students to learn academics via pre-recorded and live lectures\n",
      "---\n",
      "Company Brand: M1xchange\n",
      "Headquarters: Gurugram\n",
      "Stage: Series A+\n",
      "What it does: M1 an online exchange for TReDS set up under the approval RBI to facilitate discounting of invoices on a PAN India basis.\n",
      "---\n",
      "Company Brand: LearnVern\n",
      "Headquarters: Ahmadabad\n",
      "Stage: Series B\n",
      "What it does: LearnVern.com is a training portal where anyone can learn any course in vernacular languages for free.\n",
      "---\n",
      "Company Brand: moEVing\n",
      "Headquarters: Gurugram\n",
      "Stage: Seed\n",
      "What it does: Delivering clean, cost-effective and efficient mobility solutions.\n",
      "---\n",
      "Company Brand: WeWork India\n",
      "Headquarters: Bengaluru\n",
      "Stage: Bridge\n",
      "What it does: Transform buildings into beautiful, collaborative workspaces and provide infrastructure, services, events and tech\n",
      "---\n",
      "Company Brand: Beldara\n",
      "Headquarters: Mumbai\n",
      "Stage: Venture - Series Unknown\n",
      "What it does: BELDARA.COM IS A GLOBAL B2B marketplace, enables businesses to sell worldwide.\n",
      "---\n",
      "Company Brand: CredFlow\n",
      "Headquarters: New Delhi\n",
      "Stage: Seed\n",
      "What it does: CredFlow provides financial solutions to automate your cashflows.\n",
      "---\n",
      "Company Brand: Oye Rickshaw\n",
      "Headquarters: Gurugram\n",
      "Stage: Series D1\n",
      "What it does: Oye Rickshaw is an electric vehicle energy solutions company that connects people with public transportation using a booking app.\n",
      "---\n",
      "Company Brand: Swiggy\n",
      "Headquarters: Bengaluru\n",
      "Stage: Series E\n",
      "What it does: Swiggy is an on-demand food delivery platform that brings food from neighborhood restaurants directly to customers' doors.\n",
      "---\n",
      "Company Brand: AntWak\n",
      "Headquarters: Bengaluru\n",
      "Stage: Seed\n",
      "What it does: AntWak provides a video platform for e-learning service.\n",
      "---\n",
      "Company Brand: PlayShifu\n",
      "Headquarters: Bengaluru\n",
      "Stage: Series B\n",
      "What it does: PlayShifu is an EdTech startup that offers teaching/learning tools for kids (4-12 years of age).\n",
      "---\n",
      "Company Brand: Pitstop\n",
      "Headquarters: Bengaluru\n",
      "Stage: Series H\n",
      "What it does: Pitstop offers general repair and maintenance services for cars through its doorstep service vehicles.\n",
      "---\n",
      "Company Brand: Lendingkart\n",
      "Headquarters: Gujarat\n",
      "Stage: Seed Funding\n",
      "What it does: Lendingkart is an online financing company dedicated to help entrepreneurs and small businesses with Working Capital Loans.\n",
      "---\n",
      "Company Brand: CRED\n",
      "Headquarters: Bengaluru\n",
      "Stage: Series D\n",
      "What it does: CRED is a members-only credit card management and bill payments platform that rewards users every time they pay their credit card bills.\n",
      "---\n",
      "Company Brand: ShopSe\n",
      "Headquarters: Mumbai\n",
      "Stage: Series H\n",
      "What it does: Make purchases online or at neighborhood store in easy EMIs through ShopSe.\n",
      "---\n",
      "Company Brand: Groww\n",
      "Headquarters: Bengaluru\n",
      "Stage: Series D\n",
      "What it does: Groww is an investment platform that offers a new way of investing money with stockbroking and direct mutual funds.\n",
      "---\n",
      "Company Brand: Avanti Finance\n",
      "Headquarters: Bengaluru\n",
      "Stage: Series A\n",
      "What it does: Avanti Finance lends relatively large but trust-based loans without formal credit footprint.\n",
      "---\n",
      "Company Brand: Kudos\n",
      "Headquarters: Pune\n",
      "Stage: Seed Funding\n",
      "What it does: Kudos is a full stack NBFC, a digital lending engine with an in-built API lending protocol layer of over 20+ API’s.\n",
      "---\n",
      "Company Brand: OfBusiness\n",
      "Headquarters: Gurugram\n",
      "Stage: Pre-Seed\n",
      "What it does: OfBusiness is a financing platform that offers smart financing to SMEs.\n",
      "---\n",
      "Company Brand: Alteria Capital\n",
      "Headquarters: Mumbai\n",
      "Stage: Debt Financing\n",
      "What it does: Alteria Capital is a Venture debt firm .\n",
      "---\n",
      "Company Brand: Safexpay\n",
      "Headquarters: Thane\n",
      "Stage: Pre-Seed\n",
      "What it does: SafexPay is set up with the aim to build digital payments businesses and channel platforms encompassing payment gateways\n",
      "---\n",
      "Company Brand: Speciale Invest\n",
      "Headquarters: Bengaluru\n",
      "Stage: Series F\n",
      "What it does: Speciale Invest is an early stage investor focusing on Tech-driven/Deep-tech ventures.\n",
      "---\n",
      "Company Brand: Eunimart\n",
      "Headquarters: Hyderabad\n",
      "Stage: Series I\n",
      "What it does: Eunimart is a one stop solution for merchants to create a difference by selling globally.\n",
      "---\n",
      "Company Brand: Meesho\n",
      "Headquarters: Bengaluru\n",
      "Stage: Series B\n",
      "What it does: Meesho operates as an online reselling platform that enables anyone to start a business without investment.\n",
      "---\n",
      "Company Brand: CareerLabs\n",
      "Headquarters: Bengaluru\n",
      "Stage: Debt Financing\n",
      "What it does: Aim to help students become future-ready, setting them on a path to success that suits them best.\n",
      "---\n",
      "Company Brand: Uable\n",
      "Headquarters: Bengaluru\n",
      "Stage: Series A+\n",
      "What it does: Uable are on a bold mission to redefine the future for millions of teenagers around the world.\n",
      "---\n",
      "Company Brand: Easebuzz\n",
      "Headquarters: Pune\n",
      "Stage: Series A\n",
      "What it does: Easebuzz is an easy to use portal which allows you to start an online business and sell your favorite products with a free online store.\n",
      "---\n",
      "Company Brand: Karbon Card\n",
      "Headquarters: Bengaluru\n",
      "Stage: Private Equity\n",
      "What it does: Prime objective is to empower Indian startups by creating the right financial products starting with a high-limit corporate credit card with unlimited benefits\n",
      "---\n",
      "Company Brand: Elevar\n",
      "Headquarters: Mumbai\n",
      "Stage: Fresh Funding\n",
      "What it does: A Revolutionary Sports Brand, Engineered For Those Who Want More.\n",
      "---\n",
      "Company Brand: OTO Capital\n",
      "Headquarters: Mumbai\n",
      "Stage: Early Seed\n",
      "What it does: The Future Of Vehicle Ownership!\n",
      "---\n",
      "Company Brand: Skeps\n",
      "Headquarters: Gurugram\n",
      "Stage: Venture - Series Unknown\n",
      "What it does: A blockchain products company, developing a proprietary product in the FinTech space\n",
      "---\n",
      "Company Brand: Kirana247\n",
      "Headquarters: New Delhi\n",
      "Stage: Series H\n",
      "What it does: An on-demand FMCG supply chain company leveraging a deep tech-enabled micro warehousing model to serve Kirana stores.\n",
      "---\n",
      "Company Brand: Camp K12\n",
      "Headquarters: Gurugram\n",
      "Stage: Series G\n",
      "What it does: Camp K12 is a global online school for 21st century skills, teaching Coding and other STEAM subjects to kids age 6-18 via LIVE, interactive, gamified online sessions\n",
      "---\n",
      "Company Brand: Ruptok\n",
      "Headquarters: New Delhi\n",
      "Stage: Fresh Funding\n",
      "What it does: Ruptok fintech Pvt. Ltd. is an online gold loan service provider , with attractive interests rate .\n",
      "---\n",
      "Company Brand: Kirana247\n",
      "Headquarters: New Delhi\n",
      "Stage: Series C\n",
      "What it does: An on-demand FMCG supply chain company leveraging a deep tech-enabled micro warehousing model to serve Kirana stores.\n",
      "---\n",
      "Company Brand: Camp K12\n",
      "Headquarters: Gurugram\n",
      "Stage: Series A\n",
      "What it does: Camp K12 is a global online school for 21st century skills, teaching Coding and other STEAM subjects to kids age 6-18 via LIVE, interactive, gamified online sessions\n",
      "---\n",
      "Company Brand: Ruptok\n",
      "Headquarters: New Delhi\n",
      "Stage: Series D1\n",
      "What it does: Ruptok fintech Pvt. Ltd. is an online gold loan service provider , with attractive interests rate .\n",
      "---\n",
      "Company Brand: Khatabook\n",
      "Headquarters: Bengaluru\n",
      "Stage: Series C\n",
      "What it does: Khatabook is the world's fastest-growing Saas company. It has become India's leading business management app for MSMEs with 50M+ downloads in a remarkably short period of time.\n",
      "---\n",
      "Company Brand: Akudo\n",
      "Headquarters: Bengaluru\n",
      "Stage: Series D\n",
      "What it does: Akudo is pioneering the concept of Learning-First Banking for Teenagers.\n",
      "---\n",
      "Company Brand: goEgoNetwork\n",
      "Headquarters: Pune\n",
      "Stage: Series F\n",
      "What it does: goEgo is a complete E Mobility charging solution, that combines engagement, rewards & adoption through a mix of online and offline channels.\n",
      "---\n",
      "Company Brand: Smart Express\n",
      "Headquarters: Mumbai\n",
      "Stage: Seed\n",
      "What it does: India’s Most Innovative and Awarded Express Logistics Company.\n",
      "---\n",
      "Company Brand: Smallcase\n",
      "Headquarters: Bengaluru\n",
      "Stage: Series C\n",
      "What it does: Smallcase is a new way to invest in the stock markets.\n",
      "---\n",
      "Company Brand: SATYA MicroCapital\n",
      "Headquarters: New Delhi\n",
      "Stage: Series B+\n",
      "What it does: Satya MicroCapital Limited is a Delhi based NBFC serving low income entrepreneurs in rural and urban areas.\n",
      "---\n",
      "Company Brand: RACEnergy\n",
      "Headquarters: Hyderabad\n",
      "Stage: Seed\n",
      "What it does: RACEnergy is working to power the future of mobility through clean and efficient technologies.\n",
      "---\n",
      "Company Brand: BharatPe\n",
      "Headquarters: New Delhi\n",
      "Stage: Series E\n",
      "What it does: The vision to make financial inclusion a reality for Indian merchants.\n",
      "---\n",
      "Company Brand: BatteryPool\n",
      "Headquarters: Pune\n",
      "Stage: Seed\n",
      "What it does: Building the Operating System for managing Electric Vehicles in fleets.\n",
      "---\n",
      "Company Brand: OYO\n",
      "Headquarters: Gurugram\n",
      "Stage: Series F\n",
      "What it does: OYO is a global travel tech company that connects its patrons and guests.\n",
      "---\n",
      "Company Brand: YPay\n",
      "Headquarters: Noida\n",
      "Stage: Pre-Seed\n",
      "What it does: YPay Card is the new way to manage money.\n",
      "---\n",
      "Company Brand: UpScalio\n",
      "Headquarters: Gurugram\n",
      "Stage: Fresh Funding\n",
      "What it does: UpScalio is India’s next generation, data-driven consumer goods company.\n",
      "---\n",
      "Company Brand: Yellow Class\n",
      "Headquarters: Gurugram\n",
      "Stage: Series B\n",
      "What it does: Yellow Class is a new-age fun-learning platform where kids between 2-12 years can learn from a wide range of classes like dancing, drawing, personality development, creative writing and so on\n",
      "---\n",
      "Company Brand: Expertrons\n",
      "Headquarters: Mumbai\n",
      "Stage: Series B\n",
      "What it does: The world's largest AI Videobot platform providing futuristic solutions for businesses & colleges and employment\n",
      "---\n",
      "Company Brand: Klub\n",
      "Headquarters: Bengaluru\n",
      "Stage: Pre-Seed\n",
      "What it does: Klub was founded with the vision of revolutionizing growth capital for Asia’s most loved brands.a\n",
      "---\n",
      "Company Brand: MetroRide\n",
      "Headquarters: Bengaluru\n",
      "Stage: Seed Round\n",
      "What it does: Urban Mobility Affordable, Punctual & Sustainable.\n",
      "---\n",
      "Company Brand: Whiz League\n",
      "Headquarters: New Delhi\n",
      "Stage: Seed\n",
      "What it does: Revolutionizing learning experience that goes beyond academia\n",
      "---\n",
      "Company Brand: Unacademy\n",
      "Headquarters: Bengaluru\n",
      "Stage: Seed\n",
      "What it does: Unacademy aims to build the world's largest online knowledge repository for multi-lingual education.\n",
      "---\n",
      "Company Brand: upGrad\n",
      "Headquarters: Mumbai\n",
      "Stage: Series B\n",
      "What it does: upGrad is India’s largest online higher education company providing programs in Data Science, Technology, Management and Law, to students, working professionals and enterprises.\n",
      "---\n",
      "Company Brand: FlashPrep\n",
      "Headquarters: Bengaluru\n",
      "Stage: Seed Round\n",
      "What it does: FlashPrep is the smart way to master learning.\n",
      "---\n",
      "Company Brand: Wiz Freight\n",
      "Headquarters: Chennai\n",
      "Stage: Seed\n",
      "What it does: Wiz is a tech-enabled freight forwarding platform. We make global shipping efficient, hassle-free and highly visible for businesses.\n",
      "---\n",
      "Company Brand: Credgenics\n",
      "Headquarters: New Delhi\n",
      "Stage: Series A\n",
      "What it does: Credgenics is India’s first of it's kind NPA resolution platform backed by credible investors including Accel Partners and Titan Capital.\n",
      "---\n",
      "Company Brand: BlueLearn\n",
      "Headquarters: Goa\n",
      "Stage: Series D\n",
      "What it does: Building India's largest student community. Learn, network, and grow together with 40,000+ students!\n",
      "---\n",
      "Company Brand: Pickrr\n",
      "Headquarters: Gurugram\n",
      "Stage: Series B\n",
      "What it does: India's 1st Virtual Logistics solution catering to Global Brands/SMEs/Online sellers/AmazonSellers\n",
      "---\n",
      "Company Brand: Stellaris Venture Partners\n",
      "Headquarters: Bengaluru\n",
      "Stage: Fresh Funding\n",
      "What it does: Early-stage tech VC in India.\n",
      "---\n",
      "Company Brand: Grip Invest\n",
      "Headquarters: Gurugram\n",
      "Stage: Series A\n",
      "What it does: Grip offers investment opportunities to invest in physical assets leased to corporates, to earn fixed monthly returns.\n",
      "---\n",
      "Company Brand: BharatPe\n",
      "Headquarters: New Delhi\n",
      "Stage: Series E\n",
      "What it does: BharatPe launched India’s first UPI interoperable QR code, first ZERO MDR payment acceptance service, and first UPI payment backed merchant cash advance service.\n",
      "---\n",
      "Company Brand: GoSats\n",
      "Headquarters: Bengaluru\n",
      "Stage: Seed\n",
      "What it does: GoSats is a bitcoin stacking app that lets users earn bitcoin cashbacks when they shop with our partnered merchants.\n",
      "---\n",
      "Company Brand: StockGro\n",
      "Headquarters: Bengaluru\n",
      "Stage: Debt Financing\n",
      "What it does: Making Investment Social- India's First Social Trading Platform\n",
      "---\n",
      "Company Brand: Celcius\n",
      "Headquarters: Mumbai\n",
      "Stage: Series H\n",
      "What it does: Celcius is a asset light startup with a web and app based SaaS platform which brings the complete cold chain solution network ONLINE\n",
      "---\n",
      "Company Brand: Enguru\n",
      "Headquarters: Bengaluru\n",
      "Stage: Private Equity\n",
      "What it does: Enguru provides a personalized & gamified English learning solution to prepare young adults for the workplace.\n",
      "---\n",
      "Company Brand: Rocket Skills\n",
      "Headquarters: Gurugram\n",
      "Stage: Debt Financing\n",
      "What it does: Rocket Skills is the #1 Platform for learning skills which will bring a high positive impact on your business and life skills.\n",
      "---\n",
      "Company Brand: RenewBuy\n",
      "Headquarters: Gurugram\n",
      "Stage: Series C\n",
      "What it does: Simplify insurance and aim to take it to the last Indian, through our digitally enabled POSP advisors.\n",
      "---\n",
      "Company Brand: Jupiter\n",
      "Headquarters: Mumbai\n",
      "Stage: Series B\n",
      "What it does: A digital banking experience that keeps pace with you, and helps master money too.\n",
      "---\n",
      "Company Brand: QuickShift\n",
      "Headquarters: Pune\n",
      "Stage: Seed\n",
      "What it does: Helping D2C brands scale with our AI powered Dashboard that manages Inventory, Order Processing, WMS, Shipping, Customer Support\n",
      "---\n",
      "Company Brand: StackBOX\n",
      "Headquarters: Bengaluru\n",
      "Stage: Series C\n",
      "What it does: DISTRIBUTION SIMPLIFIED\n",
      "---\n",
      "Company Brand: 8i Ventures\n",
      "Headquarters: Mumbai\n",
      "Stage: Bridge\n",
      "What it does: 8i is a Mumbai & Bangalore based early stage fund that backs founders creating fintech and consumer category leaders in India.\n",
      "---\n",
      "Company Brand: PayGlocal\n",
      "Headquarters: Bengaluru\n",
      "Stage: Series A\n",
      "What it does: PayGlocal is a FinTech solving for global payments acceptance\n",
      "---\n",
      "Company Brand: CHARGE+ZONE\n",
      "Headquarters: Vadodara\n",
      "Stage: Pre-Seed\n",
      "What it does: CHARGE+ZONE is a tech-driven EV Charging infrastructure company specializing in B2B and B2C charging services on both dedicated and opportunity based charging using smart-grid network.\n",
      "---\n",
      "Company Brand: LenDenClub\n",
      "Headquarters: Mumbai\n",
      "Stage: Series A\n",
      "What it does: P2P lending platform delivering high returns of up to 12% p.a. for 5 years to investors.\n",
      "---\n",
      "Company Brand: Probus Insurance\n",
      "Headquarters: Mumbai\n",
      "Stage: Seed Funding\n",
      "What it does: Probus Insurance is a leading InsurTech platform in India.\n",
      "---\n",
      "Company Brand: Exponent Energy\n",
      "Headquarters: Bengaluru\n",
      "Stage: Series A+\n",
      "What it does: Simplifying energy for EVs by building a Flexible Energy Stack.\n",
      "---\n",
      "Company Brand: Ultraviolette\n",
      "Headquarters: Bengaluru\n",
      "Stage: Series C\n",
      "What it does: Create and Inspire the future of sustainable urban transportation through Accelerated Innovation.\n",
      "---\n",
      "Company Brand: FanAnywhere\n",
      "Headquarters: Bengaluru\n",
      "Stage: Seed\n",
      "What it does: Celebrity NFT platform\n",
      "---\n",
      "Company Brand: ASQI Advisors\n",
      "Headquarters: Mumbai\n",
      "Stage: Series A+\n",
      "What it does: Bringing Blockchain technology intro mainstream finance!\n",
      "---\n",
      "Company Brand: Insurance Samadhan\n",
      "Headquarters: New Delhi\n",
      "Stage: Private Equity\n",
      "What it does: The insurance industry will help in representation with the insurance companies and will help to find adequate redressal for grievances.\n",
      "---\n",
      "Company Brand: Ultraviolette\n",
      "Headquarters: Bengaluru\n",
      "Stage: Series C\n",
      "What it does: Create and Inspire the future of sustainable urban transportation through Accelerated Innovation.\n",
      "---\n",
      "Company Brand: FanAnywhere\n",
      "Headquarters: Bengaluru\n",
      "Stage: Seed\n",
      "What it does: Celebrity NFT platform\n",
      "---\n",
      "Company Brand: ASQI Advisors\n",
      "Headquarters: Mumbai\n",
      "Stage: Bridge\n",
      "What it does: Bringing Blockchain technology intro mainstream finance!\n",
      "---\n",
      "Company Brand: Insurance Samadhan\n",
      "Headquarters: New Delhi\n",
      "Stage: Series D\n",
      "What it does: The insurance industry will help in representation with the insurance companies and will help to find adequate redressal for grievances.\n",
      "---\n",
      "Company Brand: Uni Cards\n",
      "Headquarters: Bengaluru\n",
      "Stage: Series A\n",
      "What it does: Uni Card splits your payments into 3 parts, over 3 months, at 0 extra costs.\n",
      "---\n",
      "Company Brand: Juspay\n",
      "Headquarters: Bengaluru\n",
      "Stage: Series C\n",
      "What it does: Enable frictionless payments for the billion Indians.\n",
      "---\n",
      "Company Brand: Stack\n",
      "Headquarters: Bengaluru\n",
      "Stage: Seed\n",
      "What it does: Stack is an investing platform set to put money to work and help invest like some of the world’s biggest money-makers\n",
      "---\n",
      "Company Brand: OfBusiness\n",
      "Headquarters: Gurugram\n",
      "Stage: Series C\n",
      "What it does: OfBusiness is a new age commerce and fintech start up, and is technologically driven to provide smart procurement and smart financing to SMEs.\n",
      "---\n",
      "Company Brand: Yodacart\n",
      "Headquarters: Thane\n",
      "Stage: Fresh Funding\n",
      "What it does: YODACART is an e-commerce startup offering real-time product discovery using AI/ML for appliances based on consumers’ needs with an AR-enabled browsing experience.\n",
      "---\n",
      "Company Brand: Zepto\n",
      "Headquarters: Bengaluru\n",
      "Stage: Seed Round\n",
      "What it does: Ability to consistently deliver 2,500+ products in 10 minutes flat.\n",
      "---\n",
      "Company Brand: Captain Fresh\n",
      "Headquarters: Bengaluru\n",
      "Stage: Series B\n",
      "What it does: A B2B marketplace leveraging technology to deliver the fastest harvest-to-retail in the industry.\n",
      "---\n",
      "Company Brand: Unbox Robotics\n",
      "Headquarters: Pune\n",
      "Stage: Series A\n",
      "What it does: Unbox Robotics is building software-defined robotics platforms to enable logistics players to automate and radically improve their operations on-demand in a limited footprint and capital.\n",
      "---\n",
      "Company Brand: RIPPLR\n",
      "Headquarters: Bengaluru\n",
      "Stage: Series C\n",
      "What it does: India’s first Plug-n-Play distribution ecosystem for brands\n",
      "---\n",
      "Company Brand: SK Finance\n",
      "Headquarters: Jaipur\n",
      "Stage: Series F\n",
      "What it does: SK Finance is a leading player in vehicle financing and small business loans lending space with AUM over 4000cr.\n",
      "---\n",
      "Company Brand: Neobank Jupiter\n",
      "Headquarters: Mumbai\n",
      "Stage: Series C\n",
      "What it does: Jupiter is a digital banking app with one simple aim – to deliver a banking experience that keeps pace with you.\n",
      "---\n",
      "Company Brand: GlobalBees\n",
      "Headquarters: New Delhi\n",
      "Stage: Series B\n",
      "What it does: Globalbees partners with entrepreneurs who have built an online-first business.\n",
      "---\n",
      "Company Brand: SecureNow\n",
      "Headquarters: Gurugram\n",
      "Stage: Series B\n",
      "What it does: SecureNow is an award winning tech-enabled insurance intermediary.\n",
      "---\n",
      "Company Brand: OneCard\n",
      "Headquarters: Pune\n",
      "Stage: Private Equity\n",
      "What it does: India's finest and smartest metal credit card, reimagined for the mobile generation.\n",
      "---\n",
      "Company Brand: Doubtnut\n",
      "Headquarters: Gurugram\n",
      "Stage: Series B\n",
      "What it does: Doubtnut operates as an e-learning platform that enables users to ask study questions in Physics, Chemistry, and Math.\n",
      "---\n",
      "Company Brand: Kutuki\n",
      "Headquarters: Bengaluru\n",
      "Stage: Seed\n",
      "What it does: Kutuki is a learning platform focused on children between the ages of three and seven.\n",
      "---\n",
      "Company Brand: Eupheus\n",
      "Headquarters: New Delhi\n",
      "Stage: Series B\n",
      "What it does: Eupheus Learning offers a seamless integrated learning solution for the K-12 market in India.\n",
      "---\n",
      "Company Brand: KreditBee\n",
      "Headquarters: Bengaluru\n",
      "Stage: Series C\n",
      "What it does: KreditBee is an Instant Personal Loan Platform for Young Professionals.\n",
      "---\n",
      "Company Brand: Marquee Equity\n",
      "Headquarters: Mumbai\n",
      "Stage: Seed Funding\n",
      "What it does: The World's #1 Fundraising Service - Investor Meetings + Deal Documents - Globally\n",
      "---\n",
      "Company Brand: WizKlub\n",
      "Headquarters: Bengaluru\n",
      "Stage: Series G\n",
      "What it does: Wizklub uses a unique method of developing and nurturing Higher Order Thinking Skills in children\n",
      "---\n",
      "Company Brand: Zolve\n",
      "Headquarters: Bengaluru\n",
      "Stage: Seed\n",
      "What it does: Zolve Innovations operates as a neo-banking startup.\n",
      "---\n",
      "Company Brand: MediBuddy\n",
      "Headquarters: Bengaluru\n",
      "Stage: Series E\n",
      "What it does: MediBuddy is a digital healthcare platform for inpatient hospitalization, outpatient services, and corporate wellness benefits.\n",
      "---\n",
      "Company Brand: Pariksha\n",
      "Headquarters: Pune\n",
      "Stage: Seed\n",
      "What it does: Pariksha - The Sucess App, India's largest vernacular test preparation company for the mobile 1st internet users of India.\n",
      "---\n",
      "Company Brand: Express Stores\n",
      "Headquarters: Gurugram\n",
      "Stage: Seed\n",
      "What it does: Express Stores is a retail and omnichannel startup company\n",
      "---\n",
      "Company Brand: Avataar Ventures\n",
      "Headquarters: Bengaluru\n",
      "Stage: Fresh Funding\n",
      "What it does: Avataar Venture Partners is a growth Capital Investment Firm.\n",
      "---\n",
      "Company Brand: Zingbus\n",
      "Headquarters: Haryana\n",
      "Stage: Seed Round\n",
      "What it does: Zingbus is an emerging brand in the intercity bus services.\n",
      "---\n",
      "Company Brand: Codingal\n",
      "Headquarters: Bengaluru\n",
      "Stage: Series I\n",
      "What it does: Coding education platform for K-12 students\n",
      "---\n",
      "Company Brand: BharatPe\n",
      "Headquarters: New Delhi\n",
      "Stage: Series D\n",
      "What it does: BharatPe develops a QR code-based payment app for offline retailers and businesses.\n",
      "---\n",
      "Company Brand: Filo\n",
      "Headquarters: New Delhi\n",
      "Stage: Series A+\n",
      "What it does: Instant learning platform for students while self study.\n",
      "---\n",
      "Company Brand: EduFund\n",
      "Headquarters: Gujarat\n",
      "Stage: Venture - Series Unknown\n",
      "What it does: Changing the way Indians evaluate and plan higher education\n",
      "---\n",
      "Company Brand: Pepperfry\n",
      "Headquarters: Mumbai\n",
      "Stage: Series C\n",
      "What it does: Pepperfry is an online home and lifestyle shopping store selling products with cash on delivery facilities.\n",
      "---\n",
      "Company Brand: VerSe Innovation\n",
      "Headquarters: Bengaluru\n",
      "Stage: Series H\n",
      "What it does: Owner of Dailyhunt App and I-Pay\n",
      "---\n",
      "Company Brand: Newton School\n",
      "Headquarters: Bengaluru\n",
      "Stage: Series A\n",
      "What it does: Newton School is a platform to learn and develop skills that you need for your best Tech career.\n",
      "---\n",
      "Company Brand: Siply\n",
      "Headquarters: Bengaluru\n",
      "Stage: Seed\n",
      "What it does: Siply Services operates as a micro-savings platform.\n",
      "---\n",
      "Company Brand: SarvaGram\n",
      "Headquarters: Mumbai\n",
      "Stage: Series B\n",
      "What it does: SarvaGram provides livelihood upgradation for aspiring households based in rural and semi-urban India.\n",
      "---\n",
      "Company Brand: Eduvanz\n",
      "Headquarters: Mumbai\n",
      "Stage: Seed Funding\n",
      "What it does: Eduvanz is new, innovative finance company, which is completely revolutionizing the student loan market.\n",
      "---\n",
      "Company Brand: OwO\n",
      "Headquarters: Gurugram\n",
      "Stage: Seed\n",
      "What it does: Shop packaged drinking water, beverages from your favorite brands i.e. Kinley, Bisleri, Aquafina, Coca-cola, Pepsi etc\n",
      "---\n",
      "Company Brand: Progcap\n",
      "Headquarters: New Delhi\n",
      "Stage: Private Equity\n",
      "What it does: Progcap is a financial service company that provides financial opportunities for micro and small businesses in the last mile.\n",
      "---\n",
      "Company Brand: ABL Workspaces\n",
      "Headquarters: New Delhi\n",
      "Stage: Series I\n",
      "What it does: ABL Workspaces is a co-working space where professionals from all walks of life come to work under one roof.\n",
      "---\n",
      "Company Brand: SplashLearn\n",
      "Headquarters: Gurugram\n",
      "Stage: Series C\n",
      "What it does: SplashLearn is an EdTech startup company providing game-based math and reading courses to students in pre-kindergarten to grade five.\n",
      "---\n",
      "Company Brand: GoTo\n",
      "Headquarters: Ghaziabad\n",
      "Stage: Early Seed\n",
      "What it does: Real Time Intercity City Transit Platform For 1.25 Bn People In India\n",
      "---\n",
      "Company Brand: Zetwerk\n",
      "Headquarters: Bengaluru\n",
      "Stage: Series D\n",
      "What it does: Zetwerk is an online marketplace that connects buyers and suppliers for manufacturing jobs.\n",
      "---\n",
      "Company Brand: PrepBytes\n",
      "Headquarters: Gurugram\n",
      "Stage: Series H\n",
      "What it does: PrepBytes helps college students to learn coding by personalizing their content along with the guidance of expert mentors from industry\n",
      "---\n",
      "Company Brand: SATYA MicroCapital\n",
      "Headquarters: New Delhi\n",
      "Stage: Series D\n",
      "What it does: Satya MicroCapital is a micro finance company based on a group lending model that allows borrowers to share liability.\n",
      "---\n",
      "Company Brand: Aviom Housing Finance\n",
      "Headquarters: New Delhi\n",
      "Stage: Seed\n",
      "What it does: AVIOM India is an Affordable Housing Finance company facilitating families in mostly semi urban areas in realising their dream of owning their first home.\n",
      "---\n",
      "Company Brand: Qin1\n",
      "Headquarters: Noida\n",
      "Stage: Private Equity\n",
      "What it does: Re-imagining Kids of 21st Century!\n",
      "---\n",
      "Company Brand: DotPe\n",
      "Headquarters: Gurugram\n",
      "Stage: Seed\n",
      "What it does: DotPe is an innovative offline technology platform digitising merchant's customer engagement with mobile discovery, ordering and payments.\n",
      "---\n",
      "Company Brand: MasterMentors\n",
      "Headquarters: West Bengal\n",
      "Stage: Series G\n",
      "What it does: India's first online platform for mentors enabling them to translate their expertise into a profitable online course\n",
      "---\n",
      "Company Brand: KIKO TV\n",
      "Headquarters: Mumbai\n",
      "Stage: Seed\n",
      "What it does: KIKO TV is an AI-based short live video e-commerce platform.\n",
      "---\n",
      "Company Brand: Ruptok\n",
      "Headquarters: New Delhi\n",
      "Stage: Fresh Funding\n",
      "What it does: Ruptok operates as a fintech platform for gold loans\n",
      "---\n",
      "Company Brand: RevFin\n",
      "Headquarters: New Delhi\n",
      "Stage: Series A\n",
      "What it does: RevFin is a digital lending company.\n",
      "---\n",
      "Company Brand: Junio\n",
      "Headquarters: New Delhi\n",
      "Stage: Series B\n",
      "What it does: Junio is a kids-focused digital pocket money-smart card.\n",
      "---\n",
      "Company Brand: Vista Rooms\n",
      "Headquarters: Mumbai\n",
      "Stage: Seed\n",
      "What it does: Vista Rooms is a South Asia's largest luxury holiday home rental management company. We are on a mission to build the \"Marriott for Homes\"\n",
      "---\n",
      "Company Brand: GrowFix\n",
      "Headquarters: Bengaluru\n",
      "Stage: Seed\n",
      "What it does: Building high-yield Debt assets for retail investors\n",
      "---\n",
      "Company Brand: BeyondSkool\n",
      "Headquarters: Mumbai\n",
      "Stage: Seed\n",
      "What it does: BeyondSkool is a live upskilling platform for kids\n",
      "---\n",
      "Company Brand: Mindler\n",
      "Headquarters: New Delhi\n",
      "Stage: Series D\n",
      "What it does: Mindler is a career counseling company that provides career development guidance counseling services for students.\n",
      "---\n",
      "Company Brand: BharatPe\n",
      "Headquarters: New Delhi\n",
      "Stage: Series H\n",
      "What it does: BharatPe develops a QR code-based payment app for offline retailers and businesses.\n",
      "---\n",
      "Company Brand: Digit Insurance\n",
      "Headquarters: Bengaluru\n",
      "Stage: Series I\n",
      "What it does: Digit Insurance is a financial services company that general insurance services.\n",
      "---\n",
      "Company Brand: BharatPe\n",
      "Headquarters: New Delhi\n",
      "Stage: Series D\n",
      "What it does: BharatPe develops a QR code-based payment app for offline retailers and businesses.\n",
      "---\n",
      "Company Brand: Udayy\n",
      "Headquarters: Gurugram\n",
      "Stage: Seed\n",
      "What it does: Interactive learning platform for kids\n",
      "---\n",
      "Company Brand: Biconomy\n",
      "Headquarters: New Delhi\n",
      "Stage: Seed\n",
      "What it does: Biconomy is a technology company building transaction infrastructure for next-generation Web 3 applications.\n",
      "---\n",
      "Company Brand: Siply\n",
      "Headquarters: Bengaluru\n",
      "Stage: Seed\n",
      "What it does: Siply Services operates as a micro-savings platform.\n",
      "---\n",
      "Company Brand: PurpleTutor\n",
      "Headquarters: Mumbai\n",
      "Stage: Seed\n",
      "What it does: PurpleTutor is the only coding platform that mandates every teacher to have a formal Computer Science degree\n",
      "---\n",
      "Company Brand: SSA Finserv\n",
      "Headquarters: Mumbai\n",
      "Stage: Series A+\n",
      "What it does: Small businesses-focused non-banking lender\n",
      "---\n",
      "Company Brand: CoinSwitch Kuber\n",
      "Headquarters: Bengaluru\n",
      "Stage: Series A\n",
      "What it does: Coinswitch.co is a cryptocurrency exchange aggregator platform.\n",
      "---\n",
      "Company Brand: Paperfly\n",
      "Headquarters: Bengaluru\n",
      "Stage: Series D1\n",
      "What it does: Paperfly is an e-commerce fulfillment and nationwide delivery solution in Bangladesh\n",
      "---\n",
      "Company Brand: Infra.Market\n",
      "Headquarters: Thane\n",
      "Stage: Series D1\n",
      "What it does: Infra.Market is an online procurement marketplace for every category of materials and products needed for building projects.\n",
      "---\n",
      "Company Brand: ReadyAssist\n",
      "Headquarters: Bengaluru\n",
      "Stage: Seed\n",
      "What it does: ReadyAssist is one of the India's leading 24/7 roadside assistance, breakdown support, towing and repairs provider for both Bikes & Cars.\n",
      "---\n",
      "Company Brand: Udaan\n",
      "Headquarters: Bengaluru\n",
      "Stage: Series B\n",
      "What it does: Udaan is a B2B trade platform that brings manufacturers, traders, retailers, and wholesalers into a single platform\n",
      "---\n",
      "Company Brand: Unacademy\n",
      "Headquarters: Bengaluru\n",
      "Stage: Series I\n",
      "What it does: Unacademy is an online learning platform providing educational content such as video lectures and examinations.\n",
      "---\n",
      "Company Brand: Pariksha\n",
      "Headquarters: Pune\n",
      "Stage: Series E\n",
      "What it does: Pariksha - The Sucess App, India's largest vernacular test preparation company for the mobile 1st internet users of India\n",
      "---\n",
      "Company Brand: Phi Commerce\n",
      "Headquarters: Pune\n",
      "Stage: Series A\n",
      "What it does: Payments Facilitator, Payments solution provider etc.\n",
      "---\n",
      "Company Brand: Practically\n",
      "Headquarters: Telangana\n",
      "Stage: Series D\n",
      "What it does: Making Learning personal, immersive and experiental\n",
      "---\n",
      "Company Brand: Cred\n",
      "Headquarters: Bengaluru\n",
      "Stage: Series C\n",
      "What it does: CRED is a Bengaluru-based fintech startup that offers rewards for customers who use its platform to pay their credit card bills.\n",
      "---\n",
      "Company Brand: Zerone\n",
      "Headquarters: Gurugram\n",
      "Stage: Venture - Series Unknown\n",
      "What it does: Convert smartphones into a POS machine using our ZUP proximity payment technology, with no additional hardware and no need for NFC.\n",
      "---\n",
      "Company Brand: Kyt\n",
      "Headquarters: Bengaluru\n",
      "Stage: Series A\n",
      "What it does: An online-first, global academy for extracurricular learning | Private & small group online classes for kids\n",
      "---\n",
      "Company Brand: BharatPe\n",
      "Headquarters: New Delhi\n",
      "Stage: Series E\n",
      "What it does: BharatPe develops a QR code-based payment app for offline retailers and businesses.\n",
      "---\n",
      "Company Brand: Oyo\n",
      "Headquarters: Gurugram\n",
      "Stage: Series A\n",
      "What it does: OYO operates a branded network of hotels designed to offer standardized stay experiences.\n",
      "---\n",
      "Company Brand: BlackSoil\n",
      "Headquarters: Mumbai\n",
      "Stage: Series F\n",
      "What it does: Blacksoil Advisory is an independent boutique advisory firm.\n",
      "---\n",
      "Company Brand: HobSpace\n",
      "Headquarters: Mumbai\n",
      "Stage: Series A+\n",
      "What it does: HobSpace is a platform for extra-curricular activities online and offline for kids between 3-14 years.\n",
      "---\n",
      "Company Brand: DcodeAI\n",
      "Headquarters: New Delhi\n",
      "Stage: Series G\n",
      "What it does: EMPOWER LEARNERS TO BE FUTURE READY USING AI\n",
      "---\n",
      "Company Brand: KiranaKart\n",
      "Headquarters: Mumbai\n",
      "Stage: Series C\n",
      "What it does: A better model for instant grocery delivery in India.\n",
      "---\n",
      "Company Brand: SP Robotic Works\n",
      "Headquarters: Chennai\n",
      "Stage: Series A\n",
      "What it does: An innovative place to explore next-generation technologies for students and all tech enthusiasts.\n",
      "---\n",
      "Company Brand: 3SC\n",
      "Headquarters: Gurugram\n",
      "Stage: Series B\n",
      "What it does: An end-to-end supply chain analytics company that provides execution and analytics solutions which are comprehensive and customized.\n",
      "---\n",
      "Company Brand: Biconomy\n",
      "Headquarters: New Delhi\n",
      "Stage: Early Seed\n",
      "What it does: Developer platform to enable a simplified transaction and onboarding experience for Web3 projects\n",
      "---\n",
      "Company Brand: Fixcraft\n",
      "Headquarters: Gurugram\n",
      "Stage: Series F\n",
      "What it does: India's Most Trusted Automotive Repair Brand\n",
      "---\n",
      "Company Brand: Slice\n",
      "Headquarters: Bengaluru\n",
      "Stage: Series D\n",
      "What it does: Slice is India's best credit card challenger to pay bills, manage expenses, and unlock rewards\n",
      "---\n",
      "Company Brand: 90+ My Tuition App\n",
      "Headquarters: Bengaluru\n",
      "Stage: Series A\n",
      "What it does: Daskalos Virtual Academy Pvt Ltd is a company set up by a group of professionals who perform innovative work in management.\n",
      "---\n",
      "Company Brand: Ourbetterplanet\n",
      "Headquarters: Bengaluru\n",
      "Stage: Seed\n",
      "What it does: A curated online marketplace for all things sustainable!\n",
      "---\n",
      "Company Brand: Edukemy\n",
      "Headquarters: Noida\n",
      "Stage: Seed Round\n",
      "What it does: Edukemy is the first EdTech company in the country, in the non –STEM segment, offering an immersive learning experience to the students, supported by cutting-edge technology and an AI-based evaluation system.\n",
      "---\n",
      "Company Brand: Pencilton\n",
      "Headquarters: Hyderabad\n",
      "Stage: Early Seed\n",
      "What it does: India's first app for kids & teens to manage and spend pocket money while learning about money in a fun, gamified way.\n",
      "---\n",
      "Company Brand: Knorish\n",
      "Headquarters: Gurugram\n",
      "Stage: Series C\n",
      "What it does: Saas platform offers a feature packed platform enables businesses, experts, professionals, artists, instructors, specialists, coaches, people seeking work from home opportunities\n",
      "---\n",
      "Company Brand: BlackBuck\n",
      "Headquarters: Bengaluru\n",
      "Stage: Series E\n",
      "What it does: BlackBuck marks the beginning of a new path in trucking. A path that is organized and makes trucking simple for every shipper and trucker.\n",
      "---\n",
      "Company Brand: GODI Energy\n",
      "Headquarters: Hyderabad\n",
      "Stage: Series H\n",
      "What it does: GODI is a technology innovation organization focused on the design and manufacturing of green energy storage solutions.\n",
      "---\n",
      "Company Brand: Captain Fresh\n",
      "Headquarters: Bengaluru\n",
      "Stage: Series A\n",
      "What it does: A B2B marketplace leveraging technology to deliver the fastest harvest-to-retail in the industry.\n",
      "---\n",
      "Company Brand: Braingroom\n",
      "Headquarters: Chennai\n",
      "Stage: Series I\n",
      "What it does: BrainGroom is an online marketplace for educational, recreational & wellness classes with defined target segment, quantifiable outcomes & specified time duration.\n",
      "---\n",
      "Company Brand: Credenc\n",
      "Headquarters: New Delhi\n",
      "Stage: Pre-Seed\n",
      "What it does: An education loan platform to finance meritorious students for the college expenses by underwriting future employability\n",
      "---\n",
      "Company Brand: Spinny\n",
      "Headquarters: Gurugram\n",
      "Stage: Series D\n",
      "What it does: Spinny is a new age used car end-to-end platform in India.\n",
      "---\n",
      "Company Brand: Automovill\n",
      "Headquarters: Bengaluru\n",
      "Stage: Series F\n",
      "What it does: Automovill is a unique platform to aggregate automobile service providers, where we connect vehicle owners with all kind of automobile service providers under one roof.\n",
      "---\n",
      "Company Brand: GalaxyCard\n",
      "Headquarters: Gurugram\n",
      "Stage: Series A\n",
      "What it does: GalaxyCard is a mobile based Instant Credit Card.\n",
      "---\n",
      "Company Brand: SmartCoin\n",
      "Headquarters: Bengaluru\n",
      "Stage: Series D1\n",
      "What it does: India's Most Preferred Instant Loan App\n",
      "---\n",
      "Company Brand: CareerNinja\n",
      "Headquarters: Mumbai\n",
      "Stage: Seed\n",
      "What it does: Careerninja Is A Funded, Early-stage Ed-tech Venture Building A Personalized Learning Platform To Help People Achieve Their Career Goals\n",
      "---\n",
      "Company Brand: OYO\n",
      "Headquarters: Gurugram\n",
      "Stage: Series A\n",
      "What it does: OYO is a global platform that empowers entrepreneurs and small businesses with hotels and homes by providing full-stack technology\n",
      "---\n",
      "Company Brand: Ola Electric\n",
      "Headquarters: Bengaluru\n",
      "Stage: Early Seed\n",
      "What it does: Ola Electric - The future of mobility is here.? Charging ahead to accelerate the world’s transition to sustainable mobility.\n",
      "---\n",
      "Company Brand: Oliveboard\n",
      "Headquarters: Bengaluru\n",
      "Stage: Fresh Funding\n",
      "What it does: Oliveboard is the top exam preparation platform for Banking & Government Exams.\n",
      "---\n",
      "Company Brand: Little Leap\n",
      "Headquarters: New Delhi\n",
      "Stage: Seed\n",
      "What it does: Soft Skills that make Smart Leaders\n",
      "---\n",
      "Company Brand: Kredent\n",
      "Headquarters: Kolkata\n",
      "Stage: Seed Funding\n",
      "What it does: Kredent Academy is the unique concept where financial market professionals have taken the onus of creating a strong knowledge bank in their area of expertise\n",
      "---\n",
      "Company Brand: AdmitKard\n",
      "Headquarters: Noida\n",
      "Stage: Pre-Seed\n",
      "What it does: A tech solution for end to end career advisory to students looking to study abroad.\n",
      "---\n",
      "Company Brand: Vah Vah!\n",
      "Headquarters: Bengaluru\n",
      "Stage: Series F\n",
      "What it does: A mission to educate India and make its young and dynamic population job ready.\n",
      "---\n",
      "Company Brand: Ati Motors\n",
      "Headquarters: Bengaluru\n",
      "Stage: Series C\n",
      "What it does: Autonomous industrial vehicle maker\n",
      "---\n",
      "Company Brand: ION Energy\n",
      "Headquarters: Mumbai\n",
      "Stage: Seed\n",
      "What it does: Advanced Electronics & Software Supplier for Electric Vehicles & Battery Energy Storage\n",
      "---\n",
      "Company Brand: TWID\n",
      "Headquarters: Bengaluru\n",
      "Stage: Series H\n",
      "What it does: TWID is shaping the future of Digital Currencies, delivering new-age fintech solutions\n",
      "---\n",
      "Company Brand: PeakPerformer\n",
      "Headquarters: Bengaluru\n",
      "Stage: Series D1\n",
      "What it does: A goal-oriented, outcome-driven platform to make leadership coaching accessible to all.\n",
      "---\n",
      "Company Brand: Pocketly\n",
      "Headquarters: Bengaluru\n",
      "Stage: Series I\n",
      "What it does: Pocketly provides quick cash on hand, anytime - anywhere!\n",
      "---\n",
      "Company Brand: SpEd@home\n",
      "Headquarters: Mumbai\n",
      "Stage: Debt Financing\n",
      "What it does: Provide Remediation, Occupational Therapy, Speech Therapy and Socio-emotional coaching for children with Learning Disabilities like Dyslexia, Dysgraphia, Dyscalculia\n",
      "---\n",
      "Company Brand: Shiprocket\n",
      "Headquarters: New Delhi\n",
      "Stage: Series D1\n",
      "What it does: India's #1 eCommerce Logistics and Shipping Solution Empowering over 1 Lakh Indian eCommerce Sellers.\n",
      "---\n",
      "Company Brand: Teachmint\n",
      "Headquarters: Bengaluru\n",
      "Stage: Series D\n",
      "What it does: Teachmint is an all-in-one education technology platform created specifically for the tutors of the digital age.\n",
      "---\n",
      "Company Brand: Vahak\n",
      "Headquarters: Bengaluru\n",
      "Stage: Series G\n",
      "What it does: Building India's Largest & Most Trusted Online Transport Marketplace & Directory\n",
      "---\n",
      "Company Brand: goSTOPS\n",
      "Headquarters: New Delhi\n",
      "Stage: Debt Financing\n",
      "What it does: goSTOPS aims to be India’s biggest and most loved backpacker hostel brand.\n",
      "---\n",
      "Company Brand: Delhivery\n",
      "Headquarters: Gurugram\n",
      "Stage: Series H\n",
      "What it does: Delhivery is a supply chain services company that provides transportation, warehousing, freight, and order fulfillment services.\n",
      "---\n",
      "Company Brand: Avishkaar\n",
      "Headquarters: New Delhi\n",
      "Stage: Private Equity\n",
      "What it does: India's leading Ed-Tech startup spearheading the Maker Revolution in the sub-continent\n",
      "---\n",
      "Company Brand: Locus\n",
      "Headquarters: Bengaluru\n",
      "Stage: Series C\n",
      "What it does: Locus is an intelligent decision-making and automation platform for logistics.\n",
      "---\n",
      "Company Brand: Crejo.Fun\n",
      "Headquarters: Bengaluru\n",
      "Stage: Seed\n",
      "What it does: Crejo.Fun is a digital extracurricular learning platform being built with an intent to help children discover their passions and interests through creative learning.\n",
      "---\n",
      "Company Brand: Bambinos\n",
      "Headquarters: Bengaluru\n",
      "Stage: Seed\n",
      "What it does: Cohort based extracurricular course for kids\n",
      "---\n",
      "Company Brand: KreditBee\n",
      "Headquarters: Bengaluru\n",
      "Stage: Bridge\n",
      "What it does: KreditBee is a digital lending platform developed to assist young professionals with their personal finances.\n",
      "---\n",
      "Company Brand: Spardha\n",
      "Headquarters: Pune\n",
      "Stage: Seed Round\n",
      "What it does: Spardha School Of Music, Spardha Academy, Spardha Online are associated marks with Spardha Learnings Private Limited.\n",
      "---\n",
      "Company Brand: Fable Fintech\n",
      "Headquarters: Mumbai\n",
      "Stage: Series A\n",
      "What it does: Fable Fintech is being seed-funded by the CCAvenue Group, South East Asia’s number 1 eCommerce service provider\n",
      "---\n",
      "Company Brand: Holisol\n",
      "Headquarters: New Delhi\n",
      "Stage: Series B+\n",
      "What it does: HoliSol Logistics Is a Supply Chain Operations Company!\n",
      "---\n",
      "Company Brand: Swiflearn\n",
      "Headquarters: Gurugram\n",
      "Stage: Series C\n",
      "What it does: Swiflearn provides online tuition classes to small batches to ensure personalised learning.\n",
      "---\n",
      "Company Brand: Cashfree\n",
      "Headquarters: Bengaluru\n",
      "Stage: Series F\n",
      "What it does: Cashfree is a payments and banking technology company that enables businesses in India to collect payments online and make payouts.\n",
      "---\n",
      "Company Brand: QuickSell\n",
      "Headquarters: Mumbai\n",
      "Stage: Series E\n",
      "What it does: B2B Mobile Commerce Platform\n",
      "---\n",
      "Company Brand: Candes\n",
      "Headquarters: New Delhi\n",
      "Stage: Series D1\n",
      "What it does: Candes is a home appliances company providing a complete range of home & kitchen electrical appliances at affordable prices.\n",
      "---\n",
      "Company Brand: Capital Float\n",
      "Headquarters: Bengaluru\n",
      "Stage: Series A+\n",
      "What it does: Capital Float is an online platform that provides working capital finance to SMEs in India.\n",
      "---\n",
      "Company Brand: Shyplite\n",
      "Headquarters: New Delhi\n",
      "Stage: Series A\n",
      "What it does: Enable E-retailers to automate their logistics and increase efficiency in shipments by providing a single window shipping platform\n",
      "---\n",
      "Company Brand: Refyne\n",
      "Headquarters: Bengaluru\n",
      "Stage: Series A\n",
      "What it does: Refyne partners with organisations to extend on-demand Earned Wage Access (EWA) to employees.\n",
      "---\n",
      "Company Brand: Leverage Edu\n",
      "Headquarters: New Delhi\n",
      "Stage: Early Seed\n",
      "What it does: AI-enabled marketplace designed to help students with their higher education and career growth plans\n",
      "---\n",
      "Company Brand: Kale Logistics\n",
      "Headquarters: Thane\n",
      "Stage: Series A\n",
      "What it does: Kale Logistics Solutions is a global IT solutions provider focused on providing cutting-edge technology solutions to the Logistics industry.\n",
      "---\n",
      "Company Brand: Chqbook\n",
      "Headquarters: New Delhi\n",
      "Stage: Series B+\n",
      "What it does: Chqbook is a fintech startup that allows customers to explore, compare, book and get personal finance products.\n",
      "---\n",
      "Company Brand: Dropshop\n",
      "Headquarters: Bengaluru\n",
      "Stage: Series D\n",
      "What it does: Building technology to make distribution efficient and cheaper for large and small FMCG companies\n",
      "---\n",
      "Company Brand: Jumbotail\n",
      "Headquarters: Bengaluru\n",
      "Stage: Bridge\n",
      "What it does: Jumbotail is an operator of an online marketplace that simplifies food and grocery shopping.\n",
      "---\n",
      "Company Brand: BYJU'S\n",
      "Headquarters: Bengaluru\n",
      "Stage: Series D\n",
      "What it does: BYJU'S is an educational technology company that develops personalized learning programs for K-12 students.\n",
      "---\n",
      "Company Brand: Junio\n",
      "Headquarters: New Delhi\n",
      "Stage: Seed\n",
      "What it does: Junio is a kids-focused digital pocket money-smart card.\n",
      "---\n",
      "Company Brand: Wherehouse.io\n",
      "Headquarters: New Delhi\n",
      "Stage: Seed\n",
      "What it does: Wherehouse.io is a supply chain intelligence company, helping brands to move closer to their customers enabling faster and better deliveries and accelerating business growth.\n",
      "---\n",
      "Company Brand: Flexmoney\n",
      "Headquarters: Mumbai\n",
      "Stage: Series A\n",
      "What it does: Flexmoney’s mission is to address the enormous digital credit market opportunity created by the disruption from e-commerce, EMI and BNPL checkout finance\n",
      "---\n",
      "Company Brand: Fampay\n",
      "Headquarters: Bengaluru\n",
      "Stage: Series A\n",
      "What it does: India's first numberless card and UPI without a bank account\n",
      "---\n",
      "Company Brand: MSMEx\n",
      "Headquarters: Andheri\n",
      "Stage: Fresh Funding\n",
      "What it does: MSMEx connects micro and small Business Owners with curated Business Experts over live video.\n",
      "---\n",
      "Company Brand: Upside AI\n",
      "Headquarters: Mumbai\n",
      "Stage: Seed\n",
      "What it does: Upside AI on the thesis that technology will make better investing decisions than humans over the long term.\n",
      "---\n",
      "Company Brand: Skillmatics\n",
      "Headquarters: Mumbai\n",
      "Stage: Series A\n",
      "What it does: Skillmatics develops learning games for pre-school and primary school kids aged under 10\n",
      "---\n",
      "Company Brand: Bueno Finance\n",
      "Headquarters: Gurugram\n",
      "Stage: Seed\n",
      "What it does: Bueno Gig Growth Technologies Pvt Ltd (\"Bueno Finance\") is a financial services platform which aims is to help improve the financial health of customers.\n",
      "---\n",
      "Company Brand: CityMall\n",
      "Headquarters: Gurugram\n",
      "Stage: Series B\n",
      "What it does: CityMall is a social e-commerce platform that sells lifestyle and curated products via peer-to-peer referrals on WhatsApp.\n",
      "---\n",
      "Company Brand: BYJU’S\n",
      "Headquarters: Bengaluru\n",
      "Stage: Series I\n",
      "What it does: BYJU'S is an educational technology company that develops personalized learning programs for K-12 students.\n",
      "---\n",
      "Company Brand: India Quotient\n",
      "Headquarters: Mumbai\n",
      "Stage: Pre-Seed\n",
      "What it does: India Quotient is a new type of early stage investor. We fund companies building disruptive businesses aimed at Indian consumers. We're\n",
      "---\n",
      "Company Brand: DigiSparsh\n",
      "Headquarters: Mumbai\n",
      "Stage: Seed\n",
      "What it does: DigiSparsh is India's first and only healthcare fintech platform which aims to make healthcare facilities accessible to everyone in the country.\n",
      "---\n",
      "Company Brand: BimaPe\n",
      "Headquarters: Mumbai\n",
      "Stage: Seed Funding\n",
      "What it does: BimaPe demystifies Insurance and its Management for individuals and families across India. 'BimaPe Bharosa Karo'\n",
      "---\n",
      "Company Brand: MicroDegree\n",
      "Headquarters: Mangalore\n",
      "Stage: Debt Financing\n",
      "What it does: MicroDegree is an ed-tech platform working towards democratising technology and job ready skills for Bharat.\n",
      "---\n",
      "Company Brand: Saarthi Pedagogy\n",
      "Headquarters: Ahmadabad\n",
      "Stage: Series A\n",
      "What it does: India's fastest growing Pedagogy company, serving to school as an academic growth partner and provide 360° solutions to schools on Academic Strategies\n",
      "---\n",
      "Company Brand: GoMechanic\n",
      "Headquarters: Gurugram\n",
      "Stage: Series C\n",
      "What it does: GoMechanic is India’s leading multi-brand car service company, committed to making the car servicing experience hassle-free & easy for everyone.\n",
      "---\n",
      "Company Brand: Grinntech\n",
      "Headquarters: Chennai\n",
      "Stage: Series H\n",
      "What it does: Grinntech is an investor backed, growth phase start-up, leading on all front of battery design for EV applications.\n",
      "---\n",
      "Company Brand: Classplus\n",
      "Headquarters: Noida\n",
      "Stage: Series C\n",
      "What it does: Classplus was born out of an urge to redefine classroom engagement in this country.\n",
      "---\n",
      "Company Brand: WINDO\n",
      "Headquarters: Hyderabad\n",
      "Stage: Seed\n",
      "What it does: Convert Instagram Page Into an Online Store in under 2-minutes. Create a free online store and automate your sales.\n",
      "---\n",
      "Company Brand: ApnaKlub\n",
      "Headquarters: Bengaluru\n",
      "Stage: Seed Round\n",
      "What it does: Supporting independent businesses and retail entrepreneurs with better than market wholesale prices and supply chain.\n",
      "---\n",
      "Company Brand: LegalPay\n",
      "Headquarters: New Delhi\n",
      "Stage: Series B\n",
      "What it does: A tech focused B2B litigation finance company in India.\n",
      "---\n",
      "Company Brand: Navars\n",
      "Headquarters: Hyderabad\n",
      "Stage: Series A+\n",
      "What it does: Navars Edutech comprises dynamic mix of intellectual professionals, managerial team, Subject matter experts and Astronomy and Space researchers.\n",
      "---\n",
      "Company Brand: GoBolt\n",
      "Headquarters: Gurugram\n",
      "Stage: Series B\n",
      "What it does: GoBOLT is a tech-logistics company operating in Line Haul & Short Haul Trucking, creating value through dis-intermediation, increased asset utilization and extensive use of technology.\n",
      "---\n",
      "Company Brand: Edmingle\n",
      "Headquarters: Bengaluru\n",
      "Stage: Seed\n",
      "What it does: Edmingle is a platform for all educators who want to launch their courses and sell them online.\n",
      "---\n",
      "Company Brand: Slice\n",
      "Headquarters: Bengaluru\n",
      "Stage: Early Seed\n",
      "What it does: Slice is India's best credit card challenger to pay bills, manage expenses, and unlock rewards.\n",
      "---\n",
      "Company Brand: CredR\n",
      "Headquarters: Bengaluru\n",
      "Stage: Seed\n",
      "What it does: CredR is India’s Most Trusted Used Two-Wheeler Consumer Brand that leverages Technology & Processes to simplify the Used Two-wheeler Market.\n",
      "---\n",
      "Company Brand: Nalanda Learning\n",
      "Headquarters: Kolkata\n",
      "Stage: Venture - Series Unknown\n",
      "What it does: India's 1st Online Preschool with Blended Learning Model\n",
      "---\n",
      "Company Brand: Treebo Hotels\n",
      "Headquarters: Bengaluru\n",
      "Stage: Series D\n",
      "What it does: Treebo Hotels is India's most loved hotel chain in the premium-budget segment.\n",
      "---\n",
      "Company Brand: Raptee Energy\n",
      "Headquarters: Chennai\n",
      "Stage: Fresh Funding\n",
      "What it does: Raptee Energy Inc. is looking to accelerate the transition to smart and sustainable mobility!\n",
      "---\n",
      "Company Brand: SkilloVilla\n",
      "Headquarters: Bengaluru\n",
      "Stage: Seed\n",
      "What it does: Mission to support young graduates in enhancing their learnings and transform them into big earnings.\n",
      "---\n",
      "Company Brand: Velocity\n",
      "Headquarters: Bengaluru\n",
      "Stage: Seed\n",
      "What it does: Velocity provides revenue-based-financing to online businesses. It aims to build the future of banking and financial services for new age businesses in India.\n",
      "---\n",
      "Company Brand: Rupifi\n",
      "Headquarters: Bengaluru\n",
      "Stage: Pre-Seed\n",
      "What it does: Rupifi operates a software-as-a-service (SaaS) firm focussed on financial products.\n",
      "---\n",
      "Company Brand: Moneyboxx\n",
      "Headquarters: Mumbai\n",
      "Stage: Private Equity\n",
      "What it does: Moneyboxx Finance provides easy access to financing to the deserving micro enterprises.\n",
      "---\n",
      "Company Brand: CityMall\n",
      "Headquarters: Gurugram\n",
      "Stage: Series A\n",
      "What it does: CityMall is a social e-commerce platform that sells lifestyle and curated products via peer-to-peer referrals on WhatsApp.\n",
      "---\n",
      "Company Brand: DotPe\n",
      "Headquarters: Gurugram\n",
      "Stage: Series A\n",
      "What it does: DotPe is a technology start-up providing a commerce and payments platform to offline enterprise businesses.\n",
      "---\n",
      "Company Brand: Five Star Finance\n",
      "Headquarters: Chennai\n",
      "Stage: Seed Round\n",
      "What it does: Five-Star is a Registered Non Banking Finance Company (NBFC) with Reserve Bank of India (RBI).\n",
      "---\n",
      "Company Brand: BYJU'S\n",
      "Headquarters: Bengaluru\n",
      "Stage: Series F\n",
      "What it does: BYJU'S is an educational technology company that develops personalized learning programs for K-12 students.\n",
      "---\n",
      "Company Brand: Annapurna Finance\n",
      "Headquarters: Bhubaneswar\n",
      "Stage: Pre-Seed\n",
      "What it does: Annapurna Microfinance is a microfinance venture that works for the financial and economic upliftment of underserved and unreached women.\n",
      "---\n",
      "Company Brand: Masai School\n",
      "Headquarters: Bengaluru\n",
      "Stage: Series A\n",
      "What it does: Masai School is a job-oriented software training services.\n",
      "---\n",
      "Company Brand: IndiaLends\n",
      "Headquarters: New Delhi\n",
      "Stage: Pre-Seed\n",
      "What it does: IndiaLends is a digital lending and borrowing marketplace.\n",
      "---\n",
      "Company Brand: KreditBee\n",
      "Headquarters: Bengaluru\n",
      "Stage: Seed\n",
      "What it does: KreditBee is a digital lending platform developed to assist young professionals with their personal finances.\n",
      "---\n",
      "Company Brand: True Balance\n",
      "Headquarters: Gurugram\n",
      "Stage: Series I\n",
      "What it does: True Balance is a digital wallet that enables users to access utility bill payment and other financial products.\n",
      "---\n",
      "Company Brand: Muvin\n",
      "Headquarters: Bengaluru\n",
      "Stage: Seed\n",
      "What it does: Youth Neobank enabling financial solutions for the teenagers and young people\n",
      "---\n",
      "Company Brand: Euler Motors\n",
      "Headquarters: New Delhi\n",
      "Stage: Series A\n",
      "What it does: Electric Light Commercial Vehicle\n",
      "---\n",
      "Company Brand: Policybazaar\n",
      "Headquarters: Gurugram\n",
      "Stage: Seed Funding\n",
      "What it does: PolicyBazaar designs an online life insurance and general insurance comparison portal that analyzes financial products.\n",
      "---\n",
      "Company Brand: Svasti Microfinance\n",
      "Headquarters: Mumbai\n",
      "Stage: Venture - Series Unknown\n",
      "What it does: Svasti works with urban slum dwellers women microentrepreneurs.\n",
      "---\n",
      "Company Brand: Ankur capital\n",
      "Headquarters: Mumbai\n",
      "Stage: Series H\n",
      "What it does: Early stage venture capital fund focused on opportunities created by rising aspirations & digital access for next billion Indians.\n",
      "---\n",
      "Company Brand: Indifi\n",
      "Headquarters: Gurugram\n",
      "Stage: Series H\n",
      "What it does: Indifi Technologies is a digital lending platform that offers loans to those that have potential and intent.\n",
      "---\n",
      "Company Brand: Firmway\n",
      "Headquarters: Mumbai\n",
      "Stage: Bridge\n",
      "What it does: Firmway is a platform that digitizes balance confirmation and reconciliation process.\n",
      "---\n",
      "Company Brand: Bimaplan\n",
      "Headquarters: Mumbai\n",
      "Stage: Seed\n",
      "What it does: Affordable insurance for the next billion Indians\n",
      "---\n",
      "Company Brand: YAP\n",
      "Headquarters: Chennai\n",
      "Stage: Series B\n",
      "What it does: YAP is the API Platform for Banking and Payments products in Asia. More than 200 Fintechs across Asia rely on YAP\n",
      "---\n",
      "Company Brand: Leap Finance\n",
      "Headquarters: Bengaluru\n",
      "Stage: Series B\n",
      "What it does: Leap Finance is a fintech startup for Indian students pursuing international higher education\n",
      "---\n",
      "Company Brand: BlackSoil NBFC\n",
      "Headquarters: Mumbai\n",
      "Stage: Venture - Series Unknown\n",
      "What it does: BlackSoil Capital has transformed into an alternative NBFC and AIF Fund platform with an expertise to finance multiple sectors.\n",
      "---\n",
      "Company Brand: OYO\n",
      "Headquarters: Gurugram\n",
      "Stage: Venture - Series Unknown\n",
      "What it does: OYO operates a branded network of hotels designed to offer standardized stay experiences.\n",
      "---\n",
      "Company Brand: Ezstays\n",
      "Headquarters: New Delhi\n",
      "Stage: Seed\n",
      "What it does: Ezstays is a leading student-life network, providing hostels and PG accommodation with top-tier living facilities at the best prices.\n",
      "---\n",
      "Company Brand: Kinara Capital\n",
      "Headquarters: Bengaluru\n",
      "Stage: Series I\n",
      "What it does: Kinara Capital is a financing company that provides flexible collateral-free loans to small business entrepreneurs.\n",
      "---\n",
      "Company Brand: Quizizz\n",
      "Headquarters: Bengaluru\n",
      "Stage: Series A\n",
      "What it does: Quizizz is a Education based startup\n",
      "---\n",
      "Company Brand: Ecom Express\n",
      "Headquarters: New Delhi\n",
      "Stage: Seed\n",
      "What it does: Ecom Express is an end-to-end technology-enabled logistics solutions provider to the Indian e-commerce industry.\n",
      "---\n",
      "Company Brand: Northern Arc\n",
      "Headquarters: Chennai\n",
      "Stage: Series D\n",
      "What it does: Northern Arc Capital (Formerly known as IFMR Capital) is a Non-Banking Finance Company.\n",
      "---\n",
      "Company Brand: AMPM\n",
      "Headquarters: Gurugram\n",
      "Stage: Seed\n",
      "What it does: 24*7 convenience store\n",
      "---\n",
      "Company Brand: Cashify\n",
      "Headquarters: Gurugram\n",
      "Stage: Series G\n",
      "What it does: Cashify.in is an e-commerce platform for reselling used electronic gadgets.\n",
      "---\n",
      "Company Brand: Questt\n",
      "Headquarters: Gurugram\n",
      "Stage: Seed\n",
      "What it does: Questt is a homework app that allows teachers to allocate objective and subjective homework based on selected content.\n",
      "---\n",
      "Company Brand: DealShare\n",
      "Headquarters: Jaipur\n",
      "Stage: Seed\n",
      "What it does: DealShare is a Social Commerce Startup\n",
      "---\n",
      "Company Brand: Euler Motors\n",
      "Headquarters: New Delhi\n",
      "Stage: Series A\n",
      "What it does: Electric Light Commercial Vehicle\n",
      "---\n",
      "Company Brand: Blume Ventures\n",
      "Headquarters: Mumbai\n",
      "Stage: Series A+\n",
      "What it does: Blume Ventures provides pre-series A and early stage funding to tech-focused/tech-enabled ventures.\n",
      "---\n",
      "Company Brand: KoineArth\n",
      "Headquarters: Bengaluru\n",
      "Stage: Venture - Series Unknown\n",
      "What it does: Koinearth is a stealth mode startup working at the intersection of blockchains, machine learning and mechanism design\n",
      "---\n",
      "Company Brand: ImaginXP\n",
      "Headquarters: Pune\n",
      "Stage: Series I\n",
      "What it does: ImaginXP is a curriculum company with a focus on training and certification in UX Design and Design Thinking.\n",
      "---\n",
      "Company Brand: Virohan\n",
      "Headquarters: Gurugram\n",
      "Stage: Series I\n",
      "What it does: Virohan is an edtech company using technology to prepare a future-ready workforce for the healthcare industry.\n",
      "---\n",
      "Company Brand: Northern Arc\n",
      "Headquarters: Chennai\n",
      "Stage: Series D1\n",
      "What it does: Northern Arc Capital (Formerly known as IFMR Capital) is a Non-Banking Finance Company.\n",
      "---\n",
      "Company Brand: ParkSmart\n",
      "Headquarters: New Delhi\n",
      "Stage: Seed\n",
      "What it does: ParkSmart is a parking management application.\n",
      "---\n",
      "Company Brand: Virohan\n",
      "Headquarters: Gurugram\n",
      "Stage: Series A\n",
      "What it does: Virohan is an EdTech company that offers healthcare vocational training to students to build a career in the healthcare industry.\n",
      "---\n",
      "Company Brand: BankSathi\n",
      "Headquarters: New Delhi\n",
      "Stage: Seed\n",
      "What it does: Bank Sathi provides loans, insurance, cards comparison, and approval facility.\n",
      "---\n",
      "Company Brand: Spark Studio\n",
      "Headquarters: Bengaluru\n",
      "Stage: Seed\n",
      "What it does: Online courses to build creativity and confidence in children through extra-curricular learning\n",
      "---\n",
      "Company Brand: Karbon Card\n",
      "Headquarters: Bengaluru\n",
      "Stage: Series D\n",
      "What it does: Karbon Card is a financial platform for Indian entrepreneurs.\n",
      "---\n",
      "Company Brand: LegalPay\n",
      "Headquarters: New Delhi\n",
      "Stage: Seed\n",
      "What it does: A trusted financial partner for advocates and corporate.\n",
      "---\n",
      "Company Brand: Tekie\n",
      "Headquarters: Gurugram\n",
      "Stage: Seed\n",
      "What it does: Tekie is a live coding platform for kids that uses the power of storytelling, to make learning to code a movie-like experience.\n",
      "---\n",
      "Company Brand: Asirvad Microfinance\n",
      "Headquarters: Chennai\n",
      "Stage: Series E\n",
      "What it does: Asirvad Microfinance provides microfinance loans to women from a poor and low-income households.\n",
      "---\n",
      "Company Brand: Avalon Labs\n",
      "Headquarters: Bengaluru\n",
      "Stage: Series I\n",
      "What it does: Avalon Labs incubates, invests, partners with and spearheads technology companies that are on the cutting edge.\n",
      "---\n",
      "Company Brand: Mentoria\n",
      "Headquarters: Mumbai\n",
      "Stage: Series A+\n",
      "What it does: Mentoria is a holistic career discovery platform that enables students to discover themselves and the careers they will enjoy and excel at.\n",
      "---\n",
      "Company Brand: Kodo Card\n",
      "Headquarters: Mumbai\n",
      "Stage: Seed\n",
      "What it does: Kodo card is a corporate card for new economy businesses in India.\n",
      "---\n",
      "Company Brand: Polygon\n",
      "Headquarters: Mumbai\n",
      "Stage: Series B\n",
      "What it does: Polygon is a blockchain scalability platform.\n",
      "---\n",
      "Company Brand: Jai Kisan\n",
      "Headquarters: Mumbai\n",
      "Stage: Series A\n",
      "What it does: Jai Kisan is a fintech platform that provides sustainable financing for rural emerging markets\n",
      "---\n",
      "Company Brand: Klassroom\n",
      "Headquarters: Mumbai\n",
      "Stage: Series G\n",
      "What it does: Klassroom offers a one-of-a-kind LIVE interactive learning experience to students.\n",
      "---\n",
      "Company Brand: Pickright Technologies\n",
      "Headquarters: Bengaluru\n",
      "Stage: Private Equity\n",
      "What it does: Pickright is a fintech marketplace platform for stock market investors and the stock market advisors.\n",
      "---\n",
      "Company Brand: Ingenium\n",
      "Headquarters: New Delhi\n",
      "Stage: Seed\n",
      "What it does: Ingenium Education has been pushing e-learning by bringing small and medium sized institutes and schools online.\n",
      "---\n",
      "Company Brand: BharatPe\n",
      "Headquarters: New Delhi\n",
      "Stage: Bridge\n",
      "What it does: BharatPe is the definitive platform for financial services. We process payments via UPI and POS, and provide credit / loans to our merchants\n",
      "---\n",
      "Company Brand: We Founder Circle\n",
      "Headquarters: Mumbai\n",
      "Stage: Series F\n",
      "What it does: A global platform of founders for founders offering investment, network and business opportunities.\n",
      "---\n",
      "Company Brand: Haqdarshak\n",
      "Headquarters: Jaipur\n",
      "Stage: Debt Financing\n",
      "What it does: Haqdarshak is a tech platform that connects citizens with their eligible welfare schemes.\n",
      "---\n",
      "Company Brand: Celcius\n",
      "Headquarters: Mumbai\n",
      "Stage: Seed\n",
      "What it does: The “ONLINE” Cold Chain network for Reefer trucks and Cold storage facilities.\n",
      "---\n",
      "Company Brand: Teachmint\n",
      "Headquarters: Bengaluru\n",
      "Stage: Series A\n",
      "What it does: Teachmint is an online learning platform that focuses on tutor-student connectivity.\n",
      "---\n",
      "Company Brand: Rapido\n",
      "Headquarters: Bengaluru\n",
      "Stage: Series C\n",
      "What it does: Rapido is a bike taxi service that encourages people to offer bike rides to other people.\n",
      "---\n",
      "Company Brand: BYJU'S\n",
      "Headquarters: Bengaluru\n",
      "Stage: Series A\n",
      "What it does: BYJU'S is an educational technology company that develops personalized learning programs for K-12 students.\n",
      "---\n",
      "Company Brand: ElasticRun\n",
      "Headquarters: Pune\n",
      "Stage: Series D\n",
      "What it does: ElasticRun develops an online system that improves the reception of orders from customers and the dispatch of delivery drivers.\n",
      "---\n",
      "Company Brand: Avail Finance\n",
      "Headquarters: Bengaluru\n",
      "Stage: Series D\n",
      "What it does: Avail is a mobile-first platform aiming to financially include the urban mass of India.\n",
      "---\n",
      "Company Brand: Nivesh\n",
      "Headquarters: Noida\n",
      "Stage: Series A\n",
      "What it does: Nivesh.com is a mass market mutual funds investment platform.\n",
      "---\n",
      "Company Brand: Arthya Wealth and Investments\n",
      "Headquarters: Mumbai\n",
      "Stage: Series B+\n",
      "What it does: A comprehensive, high quality, open-architecture based Wealth Management and Investment Advisory platform, to cater to investors across the board: Individuals, Businesses/Corporate Treasuries, Family Offices, Trusts and more.\n",
      "---\n",
      "Company Brand: Zepto\n",
      "Headquarters: Mumbai\n",
      "Stage: Seed\n",
      "What it does: Grocery delivery startup\n",
      "---\n",
      "Company Brand: Fi\n",
      "Headquarters: Bengaluru\n",
      "Stage: Series B\n",
      "What it does: Fi is a neo bank.\n",
      "---\n",
      "Company Brand: The Hosteller\n",
      "Headquarters: Mumbai\n",
      "Stage: Pre-Seed\n",
      "What it does: Pit-stop for global as well as local travellers to relax, rejuvenate and experience India’s rich heritage while not worrying about a clean, safe and smart place to stay.\n",
      "---\n",
      "Company Brand: Ruptok Fintech\n",
      "Headquarters: New Delhi\n",
      "Stage: Seed Round\n",
      "What it does: Ruptok fintech Pvt. Ltd. is an online gold loan service provider , with attractive interests rate .\n",
      "---\n",
      "Company Brand: TRDR\n",
      "Headquarters: Bengaluru\n",
      "Stage: Seed Round\n",
      "What it does: TRDR is an all-new approach to investing.\n",
      "---\n",
      "Company Brand: Leap India\n",
      "Headquarters: Mumbai\n",
      "Stage: Seed\n",
      "What it does: \"Leading Enterprise in Asset Pooling\" India's Largest Sustainable Supply Chain Solutions Company.\n",
      "---\n",
      "Company Brand: Troo Good\n",
      "Headquarters: Hyderabad\n",
      "Stage: Series A\n",
      "What it does: An FMCG company selling nutritious products at an affordable price points.\n",
      "---\n",
      "Company Brand: Unnati\n",
      "Headquarters: Noida\n",
      "Stage: Series A\n",
      "What it does: Fintech powered digital agri ecosystem\n",
      "---\n",
      "Company Brand: Vayana Network\n",
      "Headquarters: Pune\n",
      "Stage: Series C\n",
      "What it does: Vayana Network is an electronic network that connects Corporates and their Supply Chain to Financial Institutions for easy, quick and low-cost access to Trade Financing of their Payables and Receivables.\n",
      "---\n",
      "Company Brand: Velocity\n",
      "Headquarters: Bengaluru\n",
      "Stage: Series A\n",
      "What it does: Velocity provides revenue based financing, up to Rs 3 crores, for marketing and inventory spends of online businesses.\n",
      "---\n",
      "Company Brand: SalaryBox\n",
      "Headquarters: Gurugram\n",
      "Stage: Seed\n",
      "What it does: SalaryBox is solution that makes employee management effortless.\n",
      "---\n",
      "Company Brand: Better Capital\n",
      "Headquarters: Santra\n",
      "Stage: Series H\n",
      "What it does: Better is a top-tier India-focused pre-seed venture firm with a portfolio of 100+ companies including stellar successes like Rupeek, Open, Khatabook, Bijak\n",
      "---\n",
      "Company Brand: Tickertape\n",
      "Headquarters: Bengaluru\n",
      "Stage: Series A\n",
      "What it does: Tickertape provides data, information & content for Indian stocks, ETFs & indices\n",
      "---\n",
      "Company Brand: Zenpay Solutions\n",
      "Headquarters: New Delhi\n",
      "Stage: Series C\n",
      "What it does: India’s fastest growing fintech company, which has revolutionized the ultimate banking experience especially by reaching out to thousands of blue-collared employees by promoting digital banking solutions across India.\n",
      "---\n",
      "Company Brand: Defy\n",
      "Headquarters: Bengaluru\n",
      "Stage: Bridge\n",
      "What it does: Building India's first social crypto exchange\n",
      "---\n",
      "Company Brand: True Balance\n",
      "Headquarters: Gurugram\n",
      "Stage: Debt Financing\n",
      "What it does: Balancehero India Private Limited (BHI), the wholly owned subsidiary of Balancehero Co. Ltd., Korea which runs and operates mobile App “True Balance”.\n",
      "---\n",
      "Company Brand: Recordent\n",
      "Headquarters: Hyderabad\n",
      "Stage: Series D\n",
      "What it does: Helping MSMEs collect customer dues faster & reduce risk by checking credit & payment history before offering credit\n",
      "---\n",
      "Company Brand: Indifi\n",
      "Headquarters: Gurugram\n",
      "Stage: Debt Financing\n",
      "What it does: Indifi believes in helping small businesses grow by offering loans to those that have potential and intent.\n",
      "---\n",
      "Company Brand: Simple Energy\n",
      "Headquarters: Bengaluru\n",
      "Stage: Series A+\n",
      "What it does: A Research and development driven company on a mission to build the future of mobility that is electric and connected.\n",
      "---\n",
      "Company Brand: Dream Sports\n",
      "Headquarters: Mumbai\n",
      "Stage: Series H\n",
      "What it does: Dream Sports is India’s leading sports technology company with brands such as Dream11, world’s largest fantasy sports platform\n",
      "---\n",
      "Company Brand: Spinny\n",
      "Headquarters: Gurugram\n",
      "Stage: Series E\n",
      "What it does: Spinny is a new age used car end-to-end platform in India.\n",
      "---\n",
      "Company Brand: Slice\n",
      "Headquarters: Bengaluru\n",
      "Stage: Series B\n",
      "What it does: Slice is India's best credit card challenger to pay bills, manage expenses, and unlock rewards\n",
      "---\n",
      "Company Brand: Rupifi\n",
      "Headquarters: Bengaluru\n",
      "Stage: Private Equity\n",
      "What it does: Embedded Lending for Small Businesses\n",
      "---\n",
      "Company Brand: Progcap\n",
      "Headquarters: New Delhi\n",
      "Stage: Series C\n",
      "What it does: Progcap (Desiderata Impact Ventures Private Limited) is a mission-driven, inclusive financing technology firm\n",
      "---\n",
      "Company Brand: ANS Commerce\n",
      "Headquarters: Gurugram\n",
      "Stage: Series H\n",
      "What it does: ANS Commerce is India’s #1 full-stack e-commerce enabler helping brands sell online.\n",
      "---\n",
      "Company Brand: GramCover\n",
      "Headquarters: Noida\n",
      "Stage: Series A\n",
      "What it does: GramCover is a tech-enabled insurance marketplace for rural India.\n",
      "---\n",
      "Company Brand: BYJU'S\n",
      "Headquarters: Bengaluru\n",
      "Stage: Private Equity\n",
      "What it does: BYJU’S is India's largest ed-tech company and the creator of India’s most loved school learning app.\n",
      "---\n",
      "Company Brand: Sunstone Eduversity\n",
      "Headquarters: Gurugram\n",
      "Stage: Series B\n",
      "What it does: Sunstone Eduversity is a one-of-its-kind business school operating in an asset-light model since 2011.\n",
      "---\n",
      "Company Brand: CoinSwitch Kuber\n",
      "Headquarters: Bengaluru\n",
      "Stage: Series C\n",
      "What it does: CoinSwitch Kuber is the largest crypto trading platform in India with a user base of 10M+, in just 15 months and growing every second.\n",
      "---\n",
      "Company Brand: Pazcare\n",
      "Headquarters: Bengaluru\n",
      "Stage: Seed\n",
      "What it does: Paz Care is India's leading Employee Benefits & Health insurance platform\n",
      "---\n",
      "Company Brand: kWh Bikes\n",
      "Headquarters: Bengaluru\n",
      "Stage: Seed\n",
      "What it does: Building India’s strongest and smartest electric 2 wheelers\n",
      "---\n",
      "Company Brand: Ola Electric\n",
      "Headquarters: Bengaluru\n",
      "Stage: Private Equity\n",
      "What it does: Sustainability for the future.\n",
      "---\n",
      "Company Brand: SALT\n",
      "Headquarters: Bengaluru\n",
      "Stage: Series H\n",
      "What it does: Salt is a neo-banking experience created to cater to international businesses.\n",
      "---\n",
      "Company Brand: EarnWealth\n",
      "Headquarters: Pune\n",
      "Stage: Series B+\n",
      "What it does: EarnWealth is India's First Social Commerce FinTech which enables Financial Consultants, Mutual Fund Distributors, Insurance Agents, Real Estate Consultants, Housewives, Retired People and Students to earn quick money by selling Loans, Credit Cards\n",
      "---\n",
      "Company Brand: M2P Fintech\n",
      "Headquarters: Chennai\n",
      "Stage: Series C\n",
      "What it does: M2P fintech was born out of the need to build highly scalable, secure yet nimble technology stack at the intersection of Mobility, Commerce and payments.\n",
      "---\n",
      "Company Brand: Open Financial Technologies\n",
      "Headquarters: Bengaluru\n",
      "Stage: Series C\n",
      "What it does: Open is Asia’s first neobanking platform for SMEs and startups.\n",
      "---\n",
      "Company Brand: Niro\n",
      "Headquarters: Bengaluru\n",
      "Stage: Seed\n",
      "What it does: Embedding personal credit products into leading consumer internet platforms.\n",
      "---\n",
      "Company Brand: CarDekho\n",
      "Headquarters: Jaipur\n",
      "Stage: Series E\n",
      "What it does: Redefining the country’s personal mobility ecosystem with technologically enhanced solutions.\n",
      "---\n",
      "Company Brand: AcknoLedger\n",
      "Headquarters: Mumbai\n",
      "Stage: Seed\n",
      "What it does: AcknoLedger is a Global platform that distributes Web 3.0 Digital Assets Seamlessly across all the Metaverses and Gaming\n",
      "---\n",
      "Company Brand: Aviom India\n",
      "Headquarters: Bhilwara\n",
      "Stage: Series C\n",
      "What it does: AVIOM India Housing Finance Pvt. Ltd. is a venture started by experienced professionals with a vision to improve the standard of living of families from the informal sector in rural areas\n",
      "---\n",
      "Company Brand: CRED\n",
      "Headquarters: Bengaluru\n",
      "Stage: Series E\n",
      "What it does: CRED is a credit card payment platform that rewards users with points for paying their bills.\n",
      "---\n",
      "Company Brand: CredAble\n",
      "Headquarters: Mumbai\n",
      "Stage: Series B\n",
      "What it does: CredAble provides liquidity programs for enterprise supply chains.\n",
      "---\n",
      "Company Brand: MarketWolf\n",
      "Headquarters: Mumbai\n",
      "Stage: Seed\n",
      "What it does: MarketWolf provides everyone an opportunity to begin their trading journey with a unique digital platform that is bold, simple and fun.\n",
      "---\n",
      "Company Brand: SUN Mobility\n",
      "Headquarters: Bengaluru\n",
      "Stage: Series D1\n",
      "What it does: Provider of universal energy infrastructure and services to accelerate mass EV usage!\n",
      "---\n",
      "Company Brand: Revfin\n",
      "Headquarters: New Delhi\n",
      "Stage: Debt Financing\n",
      "What it does: RevFin is a financial technology (FinTech) company, advanced digital lending platform makes getting a loan convenient and accessible for customers\n",
      "---\n",
      "Company Brand: MergerDomo\n",
      "Headquarters: New Delhi\n",
      "Stage: Private Equity\n",
      "What it does: MergerDomo is the one-stop Global OnLine M&A marketplace for Corporate and Business Growth\n",
      "---\n",
      "Company Brand: Questt\n",
      "Headquarters: Gurugram\n",
      "Stage: Series A\n",
      "What it does: Questt is a Free online homework app that lets teachers assign gamified homework to students.\n",
      "---\n",
      "Company Brand: BookingJini\n",
      "Headquarters: Gurugram\n",
      "Stage: Venture - Series Unknown\n",
      "What it does: BookingJini strive to empower Hotels from all aspects ranging from customer outreach to automate their booking process and improve their online presence and revenue to stimulate Top-line and Bottom-line growth.\n",
      "---\n",
      "Company Brand: Groww\n",
      "Headquarters: Bengaluru\n",
      "Stage: Series E\n",
      "What it does: Groww is on a mission to democratize access to financial services for millions of Indians responsibly.\n",
      "---\n",
      "Company Brand: BharatPe\n",
      "Headquarters: New Delhi\n",
      "Stage: Debt Financing\n",
      "What it does: BharatPe launched India’s first UPI interoperable QR code, first ZERO MDR payment acceptance service, and first UPI payment backed merchant cash advance service.\n",
      "---\n",
      "Company Brand: Porter\n",
      "Headquarters: Bengaluru\n",
      "Stage: Series E\n",
      "What it does: Porter is India's Largest Marketplace for Intra-City Logistics.\n",
      "---\n",
      "Company Brand: BASIC Home Loan\n",
      "Headquarters: Gurugram\n",
      "Stage: Series A\n",
      "What it does: BASIC Home Loan is India's first automated platform for secured lending with special focus on the affordable housing segment.\n",
      "---\n",
      "Company Brand: Siply\n",
      "Headquarters: Bengaluru\n",
      "Stage: Seed Funding\n",
      "What it does: A tech-enabled micro-savings platform, for the underserved masses, that makes it possible to save starting at Re. 1\n",
      "---\n",
      "Company Brand: BankSathi\n",
      "Headquarters: New Delhi\n",
      "Stage: Series I\n",
      "What it does: BankSathi is a Fintech platform to empower consumers to save money and time on financial products through safe, easy, and trustable shopping experience.\n",
      "---\n",
      "Company Brand: Zolve\n",
      "Headquarters: Bengaluru\n",
      "Stage: Series A\n",
      "What it does: World's first cross-border Neobank\n",
      "---\n",
      "Company Brand: Acko\n",
      "Headquarters: Bengaluru\n",
      "Stage: Series D\n",
      "What it does: ACKO is India’s first and fastest growing InsurTech company which makes buying and using insurance effortless.\n",
      "---\n",
      "Company Brand: Avanti Finance\n",
      "Headquarters: Bengaluru\n",
      "Stage: Series B+\n",
      "What it does: A digital platform to make financial services accessible to 100 million unserved and underserved households across India\n",
      "---\n",
      "Company Brand: Purplle\n",
      "Headquarters: Mumbai\n",
      "Stage: Series B+\n",
      "What it does: Purplle.com is one of India’s largest e-beauty destinations with more than 7 million monthly active users.\n",
      "---\n",
      "Company Brand: CredAvenue\n",
      "Headquarters: Chennai\n",
      "Stage: Series A\n",
      "What it does: CredAvenue is an organization on a mission to deepen and power the $120Trillion global enterprise debt market which would unlock a GDP multiplier and thus create massive economic value.\n",
      "---\n",
      "Company Brand: PumPumPum\n",
      "Headquarters: Gurugram\n",
      "Stage: Series D\n",
      "What it does: Pumpumpum is empowering millennials with a smart car subscription model. We provide monthly subscription of pre-owned cars at affordable rates.\n",
      "---\n",
      "Company Brand: Coinshift\n",
      "Headquarters: Chandigarh\n",
      "Stage: Seed\n",
      "What it does: CoinShift helps businesses and decentralised autonomous organisations (DAO's) manage their crypto easily\n",
      "---\n",
      "Company Brand: Strip Finance\n",
      "Headquarters: Hyderabad\n",
      "Stage: Seed\n",
      "What it does: Collateralised NFT & DeFi Liquidity Protocol With Interest Rate Discovery.\n",
      "---\n",
      "Company Brand: Ola Electric\n",
      "Headquarters: Bengaluru\n",
      "Stage: Fresh Funding\n",
      "What it does: Charging ahead to accelerate the world’s transition to sustainable mobility.\n",
      "---\n",
      "Company Brand: Chqbook\n",
      "Headquarters: Gurugram\n",
      "Stage: Fresh Funding\n",
      "What it does: Chqbook.com is India’s first neobank for small business owners offering world-class financial services through its five pillars of banking, khata, lending, insurance, and rewards.\n",
      "---\n",
      "Company Brand: Rulezero\n",
      "Headquarters: Bengaluru\n",
      "Stage: Seed\n",
      "What it does: Rulezero is a legal/fintech startup reimagining private markets by building an intelligent platform that enables stakeholder participation and capital flow in a transparent, efficient and compliant manner.\n",
      "---\n",
      "Company Brand: CredRight\n",
      "Headquarters: Hyderabad\n",
      "Stage: Series D\n",
      "What it does: CredRight is a new age digital lending company 100% focused on Micro & Small businesses, making the process of availing loans simple\n",
      "---\n",
      "Company Brand: Karbon Card\n",
      "Headquarters: Bengaluru\n",
      "Stage: Fresh Funding\n",
      "What it does: Empower Indian startups by creating the right financial products starting with a high-limit corporate credit card with unlimited benefits, no personal liability and no fixed deposit.\n",
      "---\n",
      "Company Brand: ePayLater\n",
      "Headquarters: Mumbai\n",
      "Stage: Series B\n",
      "What it does: ePaylater is a payment solution that aims to separate the experience of shopping from the hassles of payment process.\n",
      "---\n",
      "Company Brand: Delhivery\n",
      "Headquarters: Gurugram\n",
      "Stage: Series B+\n",
      "What it does: Delhivery is a leading logistics and supply chain services company in India.\n",
      "---\n",
      "Company Brand: Akudo\n",
      "Headquarters: Bengaluru\n",
      "Stage: Seed\n",
      "What it does: A Learning-First Neobank for teenagers - Enable practical financial education for child today\n",
      "---\n",
      "Company Brand: Capital Float\n",
      "Headquarters: Bengaluru\n",
      "Stage: Series F\n",
      "What it does: India's leading BNPL and digital credit platform serving millions of aspirational individuals.\n",
      "---\n",
      "Company Brand: CashBook\n",
      "Headquarters: Gurugram\n",
      "Stage: Seed\n",
      "What it does: CashBook is a digital record-keeping app using which businesses can add entries, segregate records, and find overall balance instantly.\n",
      "---\n",
      "Company Brand: The Money Club\n",
      "Headquarters: Noida\n",
      "Stage: Fresh Funding\n",
      "What it does: The Money Club is a mobile platform for peer to peer chit funds.\n",
      "---\n",
      "Company Brand: Zypp Electric\n",
      "Headquarters: Gurugram\n",
      "Stage: Series A\n",
      "What it does: Zypp is working to convert all deliveries for e-commerce, grocery, medicine and food vertical to go electric with e-scooter sharing app.\n",
      "---\n",
      "Company Brand: VRO Hospitality\n",
      "Headquarters: Bengaluru\n",
      "Stage: Series A\n",
      "What it does: One of the fastest-growing hospitality companies based out of Bangalore.\n",
      "---\n",
      "Company Brand: CARS24\n",
      "Headquarters: Gurugram\n",
      "Stage: Series F\n",
      "What it does: CARS24 is proud to be a tech-first organisation, looking to make inroads into the global auto-tech market in groundbreaking ways.\n",
      "---\n",
      "Company Brand: Klub\n",
      "Headquarters: Bengaluru\n",
      "Stage: Seed Round\n",
      "What it does: A team of fintech, investment banking, venture capital, and technology veterans who bring a founder-first mindset.\n",
      "---\n",
      "Company Brand: PayCardo\n",
      "Headquarters: Pune\n",
      "Stage: Venture - Series Unknown\n",
      "What it does: A true Contactless & Cashless and secure payment system reducing cash dependency\n",
      "---\n",
      "Company Brand: ZestMoney\n",
      "Headquarters: Bengaluru\n",
      "Stage: Series C\n",
      "What it does: ZestMoney helps make it accessible for millions to upgrade, to enhance, to rise, while keeping it affordable.\n",
      "---\n",
      "Company Brand: HappyCredit\n",
      "Headquarters: Bengaluru\n",
      "Stage: Series C\n",
      "What it does: HappyCredit is on a mission to make online shopping delightful for 400mn bharat shoppers with credit, rewards, shopping inspiration and more.\n",
      "---\n",
      "Company Brand: BeepKart\n",
      "Headquarters: Bengaluru\n",
      "Stage: Seed\n",
      "What it does: BeepKart is building a platform to digitize and organize the used two-wheeler market.\n",
      "---\n",
      "Company Brand: LivQuik Technology\n",
      "Headquarters: Mumbai\n",
      "Stage: Seed Funding\n",
      "What it does: LivQuik’s vision is to enable the efficient movement of money.\n",
      "---\n",
      "Company Brand: EventBeep\n",
      "Headquarters: Pune\n",
      "Stage: Bridge\n",
      "What it does: An inclusive community where students are inspired and empowered to reach their full potential\n",
      "---\n",
      "Company Brand: Easiloan\n",
      "Headquarters: Mumbai\n",
      "Stage: Bridge\n",
      "What it does: A Fintech startup, offering fast & easy digital processing of Home Loans in a completely reimagined and delightful way.\n",
      "---\n",
      "Company Brand: Tinkerly\n",
      "Headquarters: Jaipur\n",
      "Stage: Series E\n",
      "What it does: A STEM learning online-offline solutions provider that makes STEM learning & Coding fun and interesting with superior pedagogy, blended learning, and play-based curriculum.\n",
      "---\n",
      "Company Brand: Godamwale\n",
      "Headquarters: Mumbai\n",
      "Stage: Series I\n",
      "What it does: Godamwale is tech enabled integrated logistics company providing end to end supply chain solutions.\n",
      "---\n",
      "Company Brand: Paytail\n",
      "Headquarters: New Delhi\n",
      "Stage: Seed\n",
      "What it does: Paytail is revolutionizing the offline commerce by enabling instant paperless EMI's to consumers\n",
      "---\n",
      "Company Brand: 4Fin\n",
      "Headquarters: Pune\n",
      "Stage: Debt Financing\n",
      "What it does: 4Fin is a Fintech Platform catering to needs of Smart Bharat.\n",
      "---\n",
      "Company Brand: Genext Students\n",
      "Headquarters: Mumbai\n",
      "Stage: Debt Financing\n",
      "What it does: LIVE online classes with expert tutors for K-12 for CBSE, ICSE and State Boards.\n",
      "---\n",
      "Company Brand: OckyPocky\n",
      "Headquarters: Gurugram\n",
      "Stage: Seed\n",
      "What it does: OckyPocky is India's 1st interactive English learning app for preschool kids.\n",
      "---\n",
      "Company Brand: Jar\n",
      "Headquarters: Bengaluru\n",
      "Stage: Seed\n",
      "What it does: A daily gold-savings app that saves spare change & auto-invests.\n",
      "---\n",
      "Company Brand: moneyHOP\n",
      "Headquarters: London\n",
      "Stage: Seed\n",
      "What it does: moneyHOP is India’s first cross-border neo bank.\n",
      "---\n",
      "Company Brand: Codingal\n",
      "Headquarters: Bengaluru\n",
      "Stage: Seed\n",
      "What it does: Codingal is on a mission to inspire school kids to fall in love with coding. Backed by Y Combinator!\n",
      "---\n",
      "Company Brand: REVOS\n",
      "Headquarters: Bengaluru\n",
      "Stage: Series A\n",
      "What it does: REVOS is a smart mobility platform that empowers all 2 and 3 wheeler vehicles through AI-integrated IoT  solutions\n",
      "---\n",
      "Company Brand: Habbit\n",
      "Headquarters: Bengaluru\n",
      "Stage: Debt Financing\n",
      "What it does: Habbit is online learning community for anyone looking to get mentored in a skill or hobby of their choice.\n",
      "---\n",
      "Company Brand: Bikayi\n",
      "Headquarters: Hyderabad\n",
      "Stage: Series A\n",
      "What it does: Empowering SMBs in India\n",
      "---\n",
      "Company Brand: Vidyakul\n",
      "Headquarters: Gurugram\n",
      "Stage: Bridge\n",
      "What it does: Vidyakul is a group of academic experts.\n",
      "---\n",
      "Company Brand: bitsCrunch\n",
      "Headquarters: Chennai\n",
      "Stage: Seed\n",
      "What it does: A consulting firm focused mainly on Data Analytics and DevOps.\n",
      "---\n",
      "Company Brand: Neokred\n",
      "Headquarters: Bengaluru\n",
      "Stage: Seed\n",
      "What it does: Democratizing Open Banking\n",
      "---\n",
      "Company Brand: Delhivery\n",
      "Headquarters: Gurugram\n",
      "Stage: Series I\n",
      "What it does: Delhivery is a leading logistics and supply chain services company in India.\n",
      "---\n",
      "Company Brand: Cogos Technologies\n",
      "Headquarters: Bengaluru\n",
      "Stage: Series B\n",
      "What it does: A smart-tech-enabled platform offering a one-stop destination for all the intra-city link-supply chain.\n",
      "---\n",
      "Company Brand: Leap Finance\n",
      "Headquarters: Bengaluru\n",
      "Stage: Series C\n",
      "What it does: International education loans for high potential students.\n",
      "---\n",
      "Company Brand: CollegeDekho\n",
      "Headquarters: Gurugram\n",
      "Stage: Series B\n",
      "What it does: Collegedekho.com is Student’s Partner, Friend & Confidante, To Help Him Take a Decision and Move On to His Career Goals.\n",
      "---\n",
      "Company Brand: WeRize\n",
      "Headquarters: Bengaluru\n",
      "Stage: Series A\n",
      "What it does: India’s first socially distributed full stack financial services platform for small town India\n",
      "---\n",
      "Company Brand: upGrad\n",
      "Headquarters: Mumbai\n",
      "Stage: Seed\n",
      "What it does: UpGrad is an online higher education platform.\n",
      "---\n",
      "Company Brand: Lead School\n",
      "Headquarters: Mumbai\n",
      "Stage: Series D\n",
      "What it does: LEAD School offers technology based school transformation system that assures excellent learning for every child.\n",
      "---\n",
      "Company Brand: FypMoney\n",
      "Headquarters: Gurugram\n",
      "Stage: Seed\n",
      "What it does: FypMoney is Digital NEO Bank for Teenagers, empowering them with financial literacy and ease of secured financial transactions.\n",
      "---\n",
      "Company Brand: Taikee\n",
      "Headquarters: Mumbai\n",
      "Stage: Debt Financing\n",
      "What it does: Taikee is the ISO-certified, B2B e-commerce platform of Peel-Works, enabling better lives for corner stores.\n",
      "---\n",
      "Company Brand: DealShare\n",
      "Headquarters: Jaipur\n",
      "Stage: Series A\n",
      "What it does: DealShare is a Social Commerce Startup\n",
      "---\n",
      "Company Brand: ixamBee\n",
      "Headquarters: New Delhi\n",
      "Stage: Seed\n",
      "What it does: ixamBee is to provide best online learning experience for preparation of competitive exams.\n",
      "---\n",
      "Company Brand: CoinSwitch Kuber\n",
      "Headquarters: Bengaluru\n",
      "Stage: Series B\n",
      "What it does: CoinSwitch Kuber is an India-based cryptocurrency exchange platform.\n",
      "---\n",
      "Company Brand: Razorpay\n",
      "Headquarters: Bengaluru\n",
      "Stage: Series E\n",
      "What it does: Razorpay is a platform that enables businesses to accept, process, and disburse payments.\n",
      "---\n",
      "Company Brand: Uable\n",
      "Headquarters: Bengaluru\n",
      "Stage: Seed\n",
      "What it does: Uable offers role based programmes to empower children to explore different domains.\n",
      "---\n",
      "Company Brand: Northern Arc\n",
      "Headquarters: Chennai\n",
      "Stage: Series E\n",
      "What it does: Northern Arc Capital is a Non-Banking Finance Company that provides borrows with access to debt investors.\n",
      "---\n",
      "Company Brand: Vidyakul\n",
      "Headquarters: None\n",
      "Stage: Seed\n",
      "What it does: Vidyakul is an vernacular e-learning platform that helps state board students to learn academics via pre-recorded and live lectures\n",
      "---\n",
      "Company Brand: M1xchange\n",
      "Headquarters: Gurugram\n",
      "Stage: Series E\n",
      "What it does: M1 an online exchange for TReDS set up under the approval RBI to facilitate discounting of invoices on a PAN India basis.\n",
      "---\n",
      "Company Brand: LearnVern\n",
      "Headquarters: Ahmadabad\n",
      "Stage: Series F\n",
      "What it does: LearnVern.com is a training portal where anyone can learn any course in vernacular languages for free.\n",
      "---\n",
      "Company Brand: moEVing\n",
      "Headquarters: Gurugram\n",
      "Stage: Seed\n",
      "What it does: Delivering clean, cost-effective and efficient mobility solutions.\n",
      "---\n",
      "Company Brand: WeWork India\n",
      "Headquarters: Bengaluru\n",
      "Stage: Fresh Funding\n",
      "What it does: Transform buildings into beautiful, collaborative workspaces and provide infrastructure, services, events and tech\n",
      "---\n",
      "Company Brand: Beldara\n",
      "Headquarters: Mumbai\n",
      "Stage: Series D\n",
      "What it does: BELDARA.COM IS A GLOBAL B2B marketplace, enables businesses to sell worldwide.\n",
      "---\n",
      "Company Brand: CredFlow\n",
      "Headquarters: New Delhi\n",
      "Stage: Seed\n",
      "What it does: CredFlow provides financial solutions to automate your cashflows.\n",
      "---\n",
      "Company Brand: Oye Rickshaw\n",
      "Headquarters: Gurugram\n",
      "Stage: Private Equity\n",
      "What it does: Oye Rickshaw is an electric vehicle energy solutions company that connects people with public transportation using a booking app.\n",
      "---\n",
      "Company Brand: Swiggy\n",
      "Headquarters: Bengaluru\n",
      "Stage: Series B\n",
      "What it does: Swiggy is an on-demand food delivery platform that brings food from neighborhood restaurants directly to customers' doors.\n",
      "---\n",
      "Company Brand: AntWak\n",
      "Headquarters: Bengaluru\n",
      "Stage: Seed\n",
      "What it does: AntWak provides a video platform for e-learning service.\n",
      "---\n",
      "Company Brand: PlayShifu\n",
      "Headquarters: Bengaluru\n",
      "Stage: Series B\n",
      "What it does: PlayShifu is an EdTech startup that offers teaching/learning tools for kids (4-12 years of age).\n",
      "---\n",
      "Company Brand: Pitstop\n",
      "Headquarters: Bengaluru\n",
      "Stage: Seed Funding\n",
      "What it does: Pitstop offers general repair and maintenance services for cars through its doorstep service vehicles.\n",
      "---\n",
      "Company Brand: Lendingkart\n",
      "Headquarters: Gujarat\n",
      "Stage: Seed Funding\n",
      "What it does: Lendingkart is an online financing company dedicated to help entrepreneurs and small businesses with Working Capital Loans.\n",
      "---\n",
      "Company Brand: CRED\n",
      "Headquarters: Bengaluru\n",
      "Stage: Series D\n",
      "What it does: CRED is a members-only credit card management and bill payments platform that rewards users every time they pay their credit card bills.\n",
      "---\n",
      "Company Brand: ShopSe\n",
      "Headquarters: Mumbai\n",
      "Stage: Debt Financing\n",
      "What it does: Make purchases online or at neighborhood store in easy EMIs through ShopSe.\n",
      "---\n",
      "Company Brand: Groww\n",
      "Headquarters: Bengaluru\n",
      "Stage: Series D\n",
      "What it does: Groww is an investment platform that offers a new way of investing money with stockbroking and direct mutual funds.\n",
      "---\n",
      "Company Brand: Avanti Finance\n",
      "Headquarters: Bengaluru\n",
      "Stage: Series A\n",
      "What it does: Avanti Finance lends relatively large but trust-based loans without formal credit footprint.\n",
      "---\n",
      "Company Brand: Kudos\n",
      "Headquarters: Pune\n",
      "Stage: Bridge\n",
      "What it does: Kudos is a full stack NBFC, a digital lending engine with an in-built API lending protocol layer of over 20+ API’s.\n",
      "---\n",
      "Company Brand: OfBusiness\n",
      "Headquarters: Gurugram\n",
      "Stage: Pre-Seed\n",
      "What it does: OfBusiness is a financing platform that offers smart financing to SMEs.\n",
      "---\n",
      "Company Brand: Alteria Capital\n",
      "Headquarters: Mumbai\n",
      "Stage: Series D1\n",
      "What it does: Alteria Capital is a Venture debt firm .\n",
      "---\n",
      "Company Brand: Safexpay\n",
      "Headquarters: Thane\n",
      "Stage: Series I\n",
      "What it does: SafexPay is set up with the aim to build digital payments businesses and channel platforms encompassing payment gateways\n",
      "---\n",
      "Company Brand: Speciale Invest\n",
      "Headquarters: Bengaluru\n",
      "Stage: Series B\n",
      "What it does: Speciale Invest is an early stage investor focusing on Tech-driven/Deep-tech ventures.\n",
      "---\n",
      "Company Brand: Eunimart\n",
      "Headquarters: Hyderabad\n",
      "Stage: Series D1\n",
      "What it does: Eunimart is a one stop solution for merchants to create a difference by selling globally.\n",
      "---\n",
      "Company Brand: Meesho\n",
      "Headquarters: Bengaluru\n",
      "Stage: Series C\n",
      "What it does: Meesho operates as an online reselling platform that enables anyone to start a business without investment.\n",
      "---\n",
      "Company Brand: CareerLabs\n",
      "Headquarters: Bengaluru\n",
      "Stage: Private Equity\n",
      "What it does: Aim to help students become future-ready, setting them on a path to success that suits them best.\n",
      "---\n",
      "Company Brand: Uable\n",
      "Headquarters: Bengaluru\n",
      "Stage: Fresh Funding\n",
      "What it does: Uable are on a bold mission to redefine the future for millions of teenagers around the world.\n",
      "---\n",
      "Company Brand: Easebuzz\n",
      "Headquarters: Pune\n",
      "Stage: Series A\n",
      "What it does: Easebuzz is an easy to use portal which allows you to start an online business and sell your favorite products with a free online store.\n",
      "---\n",
      "Company Brand: Karbon Card\n",
      "Headquarters: Bengaluru\n",
      "Stage: Series G\n",
      "What it does: Prime objective is to empower Indian startups by creating the right financial products starting with a high-limit corporate credit card with unlimited benefits\n",
      "---\n",
      "Company Brand: Elevar\n",
      "Headquarters: Mumbai\n",
      "Stage: Seed Round\n",
      "What it does: A Revolutionary Sports Brand, Engineered For Those Who Want More.\n",
      "---\n",
      "Company Brand: OTO Capital\n",
      "Headquarters: Mumbai\n",
      "Stage: Series H\n",
      "What it does: The Future Of Vehicle Ownership!\n",
      "---\n",
      "Company Brand: Skeps\n",
      "Headquarters: Gurugram\n",
      "Stage: Series I\n",
      "What it does: A blockchain products company, developing a proprietary product in the FinTech space\n",
      "---\n",
      "Company Brand: Kirana247\n",
      "Headquarters: New Delhi\n",
      "Stage: Series E\n",
      "What it does: An on-demand FMCG supply chain company leveraging a deep tech-enabled micro warehousing model to serve Kirana stores.\n",
      "---\n",
      "Company Brand: Camp K12\n",
      "Headquarters: Gurugram\n",
      "Stage: Series B\n",
      "What it does: Camp K12 is a global online school for 21st century skills, teaching Coding and other STEAM subjects to kids age 6-18 via LIVE, interactive, gamified online sessions\n",
      "---\n",
      "Company Brand: Ruptok\n",
      "Headquarters: New Delhi\n",
      "Stage: Series F\n",
      "What it does: Ruptok fintech Pvt. Ltd. is an online gold loan service provider , with attractive interests rate .\n",
      "---\n",
      "Company Brand: Kirana247\n",
      "Headquarters: New Delhi\n",
      "Stage: Seed Round\n",
      "What it does: An on-demand FMCG supply chain company leveraging a deep tech-enabled micro warehousing model to serve Kirana stores.\n",
      "---\n",
      "Company Brand: Camp K12\n",
      "Headquarters: Gurugram\n",
      "Stage: Series A\n",
      "What it does: Camp K12 is a global online school for 21st century skills, teaching Coding and other STEAM subjects to kids age 6-18 via LIVE, interactive, gamified online sessions\n",
      "---\n",
      "Company Brand: Ruptok\n",
      "Headquarters: New Delhi\n",
      "Stage: Series D1\n",
      "What it does: Ruptok fintech Pvt. Ltd. is an online gold loan service provider , with attractive interests rate .\n",
      "---\n",
      "Company Brand: Khatabook\n",
      "Headquarters: Bengaluru\n",
      "Stage: Series C\n",
      "What it does: Khatabook is the world's fastest-growing Saas company. It has become India's leading business management app for MSMEs with 50M+ downloads in a remarkably short period of time.\n",
      "---\n",
      "Company Brand: Akudo\n",
      "Headquarters: Bengaluru\n",
      "Stage: Series A+\n",
      "What it does: Akudo is pioneering the concept of Learning-First Banking for Teenagers.\n",
      "---\n",
      "Company Brand: goEgoNetwork\n",
      "Headquarters: Pune\n",
      "Stage: Series B\n",
      "What it does: goEgo is a complete E Mobility charging solution, that combines engagement, rewards & adoption through a mix of online and offline channels.\n",
      "---\n",
      "Company Brand: Smart Express\n",
      "Headquarters: Mumbai\n",
      "Stage: Seed\n",
      "What it does: India’s Most Innovative and Awarded Express Logistics Company.\n",
      "---\n",
      "Company Brand: Smallcase\n",
      "Headquarters: Bengaluru\n",
      "Stage: Series C\n",
      "What it does: Smallcase is a new way to invest in the stock markets.\n",
      "---\n",
      "Company Brand: SATYA MicroCapital\n",
      "Headquarters: New Delhi\n",
      "Stage: Series B+\n",
      "What it does: Satya MicroCapital Limited is a Delhi based NBFC serving low income entrepreneurs in rural and urban areas.\n",
      "---\n",
      "Company Brand: RACEnergy\n",
      "Headquarters: Hyderabad\n",
      "Stage: Series E\n",
      "What it does: RACEnergy is working to power the future of mobility through clean and efficient technologies.\n",
      "---\n",
      "Company Brand: BharatPe\n",
      "Headquarters: New Delhi\n",
      "Stage: Series I\n",
      "What it does: The vision to make financial inclusion a reality for Indian merchants.\n",
      "---\n",
      "Company Brand: BatteryPool\n",
      "Headquarters: Pune\n",
      "Stage: Seed\n",
      "What it does: Building the Operating System for managing Electric Vehicles in fleets.\n",
      "---\n",
      "Company Brand: OYO\n",
      "Headquarters: Gurugram\n",
      "Stage: Series I\n",
      "What it does: OYO is a global travel tech company that connects its patrons and guests.\n",
      "---\n",
      "Company Brand: YPay\n",
      "Headquarters: Noida\n",
      "Stage: Private Equity\n",
      "What it does: YPay Card is the new way to manage money.\n",
      "---\n",
      "Company Brand: UpScalio\n",
      "Headquarters: Gurugram\n",
      "Stage: Private Equity\n",
      "What it does: UpScalio is India’s next generation, data-driven consumer goods company.\n",
      "---\n",
      "Company Brand: Yellow Class\n",
      "Headquarters: Gurugram\n",
      "Stage: Series G\n",
      "What it does: Yellow Class is a new-age fun-learning platform where kids between 2-12 years can learn from a wide range of classes like dancing, drawing, personality development, creative writing and so on\n",
      "---\n",
      "Company Brand: Expertrons\n",
      "Headquarters: Mumbai\n",
      "Stage: Venture - Series Unknown\n",
      "What it does: The world's largest AI Videobot platform providing futuristic solutions for businesses & colleges and employment\n",
      "---\n",
      "Company Brand: Klub\n",
      "Headquarters: Bengaluru\n",
      "Stage: Seed Funding\n",
      "What it does: Klub was founded with the vision of revolutionizing growth capital for Asia’s most loved brands.a\n",
      "---\n",
      "Company Brand: MetroRide\n",
      "Headquarters: Bengaluru\n",
      "Stage: Series B+\n",
      "What it does: Urban Mobility Affordable, Punctual & Sustainable.\n",
      "---\n",
      "Company Brand: Whiz League\n",
      "Headquarters: New Delhi\n",
      "Stage: Seed Round\n",
      "What it does: Revolutionizing learning experience that goes beyond academia\n",
      "---\n",
      "Company Brand: Unacademy\n",
      "Headquarters: Bengaluru\n",
      "Stage: Seed\n",
      "What it does: Unacademy aims to build the world's largest online knowledge repository for multi-lingual education.\n",
      "---\n",
      "Company Brand: upGrad\n",
      "Headquarters: Mumbai\n",
      "Stage: Seed Funding\n",
      "What it does: upGrad is India’s largest online higher education company providing programs in Data Science, Technology, Management and Law, to students, working professionals and enterprises.\n",
      "---\n",
      "Company Brand: FlashPrep\n",
      "Headquarters: Bengaluru\n",
      "Stage: Seed Funding\n",
      "What it does: FlashPrep is the smart way to master learning.\n",
      "---\n",
      "Company Brand: Wiz Freight\n",
      "Headquarters: Chennai\n",
      "Stage: Seed\n",
      "What it does: Wiz is a tech-enabled freight forwarding platform. We make global shipping efficient, hassle-free and highly visible for businesses.\n",
      "---\n",
      "Company Brand: Credgenics\n",
      "Headquarters: New Delhi\n",
      "Stage: Series A\n",
      "What it does: Credgenics is India’s first of it's kind NPA resolution platform backed by credible investors including Accel Partners and Titan Capital.\n",
      "---\n",
      "Company Brand: BlueLearn\n",
      "Headquarters: Goa\n",
      "Stage: Series F\n",
      "What it does: Building India's largest student community. Learn, network, and grow together with 40,000+ students!\n",
      "---\n",
      "Company Brand: Pickrr\n",
      "Headquarters: Gurugram\n",
      "Stage: Series B\n",
      "What it does: India's 1st Virtual Logistics solution catering to Global Brands/SMEs/Online sellers/AmazonSellers\n",
      "---\n",
      "Company Brand: Stellaris Venture Partners\n",
      "Headquarters: Bengaluru\n",
      "Stage: Bridge\n",
      "What it does: Early-stage tech VC in India.\n",
      "---\n",
      "Company Brand: Grip Invest\n",
      "Headquarters: Gurugram\n",
      "Stage: Series A\n",
      "What it does: Grip offers investment opportunities to invest in physical assets leased to corporates, to earn fixed monthly returns.\n",
      "---\n",
      "Company Brand: BharatPe\n",
      "Headquarters: New Delhi\n",
      "Stage: Series E\n",
      "What it does: BharatPe launched India’s first UPI interoperable QR code, first ZERO MDR payment acceptance service, and first UPI payment backed merchant cash advance service.\n",
      "---\n",
      "Company Brand: GoSats\n",
      "Headquarters: Bengaluru\n",
      "Stage: Seed\n",
      "What it does: GoSats is a bitcoin stacking app that lets users earn bitcoin cashbacks when they shop with our partnered merchants.\n",
      "---\n",
      "Company Brand: StockGro\n",
      "Headquarters: Bengaluru\n",
      "Stage: Series B+\n",
      "What it does: Making Investment Social- India's First Social Trading Platform\n",
      "---\n",
      "Company Brand: Celcius\n",
      "Headquarters: Mumbai\n",
      "Stage: Fresh Funding\n",
      "What it does: Celcius is a asset light startup with a web and app based SaaS platform which brings the complete cold chain solution network ONLINE\n",
      "---\n",
      "Company Brand: Enguru\n",
      "Headquarters: Bengaluru\n",
      "Stage: Series G\n",
      "What it does: Enguru provides a personalized & gamified English learning solution to prepare young adults for the workplace.\n",
      "---\n",
      "Company Brand: Rocket Skills\n",
      "Headquarters: Gurugram\n",
      "Stage: Series G\n",
      "What it does: Rocket Skills is the #1 Platform for learning skills which will bring a high positive impact on your business and life skills.\n",
      "---\n",
      "Company Brand: RenewBuy\n",
      "Headquarters: Gurugram\n",
      "Stage: Series C\n",
      "What it does: Simplify insurance and aim to take it to the last Indian, through our digitally enabled POSP advisors.\n",
      "---\n",
      "Company Brand: Jupiter\n",
      "Headquarters: Mumbai\n",
      "Stage: Series B\n",
      "What it does: A digital banking experience that keeps pace with you, and helps master money too.\n",
      "---\n",
      "Company Brand: QuickShift\n",
      "Headquarters: Pune\n",
      "Stage: Seed\n",
      "What it does: Helping D2C brands scale with our AI powered Dashboard that manages Inventory, Order Processing, WMS, Shipping, Customer Support\n",
      "---\n",
      "Company Brand: StackBOX\n",
      "Headquarters: Bengaluru\n",
      "Stage: Early Seed\n",
      "What it does: DISTRIBUTION SIMPLIFIED\n",
      "---\n",
      "Company Brand: 8i Ventures\n",
      "Headquarters: Mumbai\n",
      "Stage: Seed Round\n",
      "What it does: 8i is a Mumbai & Bangalore based early stage fund that backs founders creating fintech and consumer category leaders in India.\n",
      "---\n",
      "Company Brand: PayGlocal\n",
      "Headquarters: Bengaluru\n",
      "Stage: Series A\n",
      "What it does: PayGlocal is a FinTech solving for global payments acceptance\n",
      "---\n",
      "Company Brand: CHARGE+ZONE\n",
      "Headquarters: Vadodara\n",
      "Stage: Series F\n",
      "What it does: CHARGE+ZONE is a tech-driven EV Charging infrastructure company specializing in B2B and B2C charging services on both dedicated and opportunity based charging using smart-grid network.\n",
      "---\n",
      "Company Brand: LenDenClub\n",
      "Headquarters: Mumbai\n",
      "Stage: Series A\n",
      "What it does: P2P lending platform delivering high returns of up to 12% p.a. for 5 years to investors.\n",
      "---\n",
      "Company Brand: Probus Insurance\n",
      "Headquarters: Mumbai\n",
      "Stage: Series D\n",
      "What it does: Probus Insurance is a leading InsurTech platform in India.\n",
      "---\n",
      "Company Brand: Exponent Energy\n",
      "Headquarters: Bengaluru\n",
      "Stage: Series H\n",
      "What it does: Simplifying energy for EVs by building a Flexible Energy Stack.\n",
      "---\n",
      "Company Brand: Ultraviolette\n",
      "Headquarters: Bengaluru\n",
      "Stage: Series C\n",
      "What it does: Create and Inspire the future of sustainable urban transportation through Accelerated Innovation.\n",
      "---\n",
      "Company Brand: FanAnywhere\n",
      "Headquarters: Bengaluru\n",
      "Stage: Seed\n",
      "What it does: Celebrity NFT platform\n",
      "---\n",
      "Company Brand: ASQI Advisors\n",
      "Headquarters: Mumbai\n",
      "Stage: Series C\n",
      "What it does: Bringing Blockchain technology intro mainstream finance!\n",
      "---\n",
      "Company Brand: Insurance Samadhan\n",
      "Headquarters: New Delhi\n",
      "Stage: Series G\n",
      "What it does: The insurance industry will help in representation with the insurance companies and will help to find adequate redressal for grievances.\n",
      "---\n",
      "Company Brand: Ultraviolette\n",
      "Headquarters: Bengaluru\n",
      "Stage: Series C\n",
      "What it does: Create and Inspire the future of sustainable urban transportation through Accelerated Innovation.\n",
      "---\n",
      "Company Brand: FanAnywhere\n",
      "Headquarters: Bengaluru\n",
      "Stage: Seed\n",
      "What it does: Celebrity NFT platform\n",
      "---\n",
      "Company Brand: ASQI Advisors\n",
      "Headquarters: Mumbai\n",
      "Stage: Series F\n",
      "What it does: Bringing Blockchain technology intro mainstream finance!\n",
      "---\n",
      "Company Brand: Insurance Samadhan\n",
      "Headquarters: New Delhi\n",
      "Stage: Series A+\n",
      "What it does: The insurance industry will help in representation with the insurance companies and will help to find adequate redressal for grievances.\n",
      "---\n",
      "Company Brand: Uni Cards\n",
      "Headquarters: Bengaluru\n",
      "Stage: Series A\n",
      "What it does: Uni Card splits your payments into 3 parts, over 3 months, at 0 extra costs.\n",
      "---\n",
      "Company Brand: Juspay\n",
      "Headquarters: Bengaluru\n",
      "Stage: Series C\n",
      "What it does: Enable frictionless payments for the billion Indians.\n",
      "---\n",
      "Company Brand: Stack\n",
      "Headquarters: Bengaluru\n",
      "Stage: Seed\n",
      "What it does: Stack is an investing platform set to put money to work and help invest like some of the world’s biggest money-makers\n",
      "---\n",
      "Company Brand: OfBusiness\n",
      "Headquarters: Gurugram\n",
      "Stage: Series I\n",
      "What it does: OfBusiness is a new age commerce and fintech start up, and is technologically driven to provide smart procurement and smart financing to SMEs.\n",
      "---\n",
      "Company Brand: Yodacart\n",
      "Headquarters: Thane\n",
      "Stage: Series A\n",
      "What it does: YODACART is an e-commerce startup offering real-time product discovery using AI/ML for appliances based on consumers’ needs with an AR-enabled browsing experience.\n",
      "---\n",
      "Company Brand: Zepto\n",
      "Headquarters: Bengaluru\n",
      "Stage: Debt Financing\n",
      "What it does: Ability to consistently deliver 2,500+ products in 10 minutes flat.\n",
      "---\n",
      "Company Brand: Captain Fresh\n",
      "Headquarters: Bengaluru\n",
      "Stage: Series B\n",
      "What it does: A B2B marketplace leveraging technology to deliver the fastest harvest-to-retail in the industry.\n",
      "---\n",
      "Company Brand: Unbox Robotics\n",
      "Headquarters: Pune\n",
      "Stage: Series A\n",
      "What it does: Unbox Robotics is building software-defined robotics platforms to enable logistics players to automate and radically improve their operations on-demand in a limited footprint and capital.\n",
      "---\n",
      "Company Brand: RIPPLR\n",
      "Headquarters: Bengaluru\n",
      "Stage: Series A+\n",
      "What it does: India’s first Plug-n-Play distribution ecosystem for brands\n",
      "---\n",
      "Company Brand: SK Finance\n",
      "Headquarters: Jaipur\n",
      "Stage: Series F\n",
      "What it does: SK Finance is a leading player in vehicle financing and small business loans lending space with AUM over 4000cr.\n",
      "---\n",
      "Company Brand: Neobank Jupiter\n",
      "Headquarters: Mumbai\n",
      "Stage: Series C\n",
      "What it does: Jupiter is a digital banking app with one simple aim – to deliver a banking experience that keeps pace with you.\n",
      "---\n",
      "Company Brand: GlobalBees\n",
      "Headquarters: New Delhi\n",
      "Stage: Series B\n",
      "What it does: Globalbees partners with entrepreneurs who have built an online-first business.\n",
      "---\n",
      "Company Brand: SecureNow\n",
      "Headquarters: Gurugram\n",
      "Stage: Series B\n",
      "What it does: SecureNow is an award winning tech-enabled insurance intermediary.\n",
      "---\n",
      "Company Brand: OneCard\n",
      "Headquarters: Pune\n",
      "Stage: Seed Round\n",
      "What it does: India's finest and smartest metal credit card, reimagined for the mobile generation.\n",
      "---\n",
      "Company Brand: Doubtnut\n",
      "Headquarters: Gurugram\n",
      "Stage: Series B\n",
      "What it does: Doubtnut operates as an e-learning platform that enables users to ask study questions in Physics, Chemistry, and Math.\n",
      "---\n",
      "Company Brand: Kutuki\n",
      "Headquarters: Bengaluru\n",
      "Stage: Seed\n",
      "What it does: Kutuki is a learning platform focused on children between the ages of three and seven.\n",
      "---\n",
      "Company Brand: Eupheus\n",
      "Headquarters: New Delhi\n",
      "Stage: Series B\n",
      "What it does: Eupheus Learning offers a seamless integrated learning solution for the K-12 market in India.\n",
      "---\n",
      "Company Brand: KreditBee\n",
      "Headquarters: Bengaluru\n",
      "Stage: Series C\n",
      "What it does: KreditBee is an Instant Personal Loan Platform for Young Professionals.\n",
      "---\n",
      "Company Brand: Marquee Equity\n",
      "Headquarters: Mumbai\n",
      "Stage: Private Equity\n",
      "What it does: The World's #1 Fundraising Service - Investor Meetings + Deal Documents - Globally\n",
      "---\n",
      "Company Brand: WizKlub\n",
      "Headquarters: Bengaluru\n",
      "Stage: Private Equity\n",
      "What it does: Wizklub uses a unique method of developing and nurturing Higher Order Thinking Skills in children\n",
      "---\n",
      "Company Brand: Zolve\n",
      "Headquarters: Bengaluru\n",
      "Stage: Seed\n",
      "What it does: Zolve Innovations operates as a neo-banking startup.\n",
      "---\n",
      "Company Brand: MediBuddy\n",
      "Headquarters: Bengaluru\n",
      "Stage: Early Seed\n",
      "What it does: MediBuddy is a digital healthcare platform for inpatient hospitalization, outpatient services, and corporate wellness benefits.\n",
      "---\n",
      "Company Brand: Pariksha\n",
      "Headquarters: Pune\n",
      "Stage: Series D1\n",
      "What it does: Pariksha - The Sucess App, India's largest vernacular test preparation company for the mobile 1st internet users of India.\n",
      "---\n",
      "Company Brand: Express Stores\n",
      "Headquarters: Gurugram\n",
      "Stage: Seed\n",
      "What it does: Express Stores is a retail and omnichannel startup company\n",
      "---\n",
      "Company Brand: Avataar Ventures\n",
      "Headquarters: Bengaluru\n",
      "Stage: Series E\n",
      "What it does: Avataar Venture Partners is a growth Capital Investment Firm.\n",
      "---\n",
      "Company Brand: Zingbus\n",
      "Headquarters: Haryana\n",
      "Stage: Series D\n",
      "What it does: Zingbus is an emerging brand in the intercity bus services.\n",
      "---\n",
      "Company Brand: Codingal\n",
      "Headquarters: Bengaluru\n",
      "Stage: Fresh Funding\n",
      "What it does: Coding education platform for K-12 students\n",
      "---\n",
      "Company Brand: BharatPe\n",
      "Headquarters: New Delhi\n",
      "Stage: Series D\n",
      "What it does: BharatPe develops a QR code-based payment app for offline retailers and businesses.\n",
      "---\n",
      "Company Brand: Filo\n",
      "Headquarters: New Delhi\n",
      "Stage: Early Seed\n",
      "What it does: Instant learning platform for students while self study.\n",
      "---\n",
      "Company Brand: EduFund\n",
      "Headquarters: Gujarat\n",
      "Stage: Series H\n",
      "What it does: Changing the way Indians evaluate and plan higher education\n",
      "---\n",
      "Company Brand: Pepperfry\n",
      "Headquarters: Mumbai\n",
      "Stage: Series A+\n",
      "What it does: Pepperfry is an online home and lifestyle shopping store selling products with cash on delivery facilities.\n",
      "---\n",
      "Company Brand: VerSe Innovation\n",
      "Headquarters: Bengaluru\n",
      "Stage: Series H\n",
      "What it does: Owner of Dailyhunt App and I-Pay\n",
      "---\n",
      "Company Brand: Newton School\n",
      "Headquarters: Bengaluru\n",
      "Stage: Series A\n",
      "What it does: Newton School is a platform to learn and develop skills that you need for your best Tech career.\n",
      "---\n",
      "Company Brand: Siply\n",
      "Headquarters: Bengaluru\n",
      "Stage: Seed\n",
      "What it does: Siply Services operates as a micro-savings platform.\n",
      "---\n",
      "Company Brand: SarvaGram\n",
      "Headquarters: Mumbai\n",
      "Stage: Series B\n",
      "What it does: SarvaGram provides livelihood upgradation for aspiring households based in rural and semi-urban India.\n",
      "---\n",
      "Company Brand: Eduvanz\n",
      "Headquarters: Mumbai\n",
      "Stage: Series D\n",
      "What it does: Eduvanz is new, innovative finance company, which is completely revolutionizing the student loan market.\n",
      "---\n",
      "Company Brand: OwO\n",
      "Headquarters: Gurugram\n",
      "Stage: Series C\n",
      "What it does: Shop packaged drinking water, beverages from your favorite brands i.e. Kinley, Bisleri, Aquafina, Coca-cola, Pepsi etc\n",
      "---\n",
      "Company Brand: Progcap\n",
      "Headquarters: New Delhi\n",
      "Stage: Series C\n",
      "What it does: Progcap is a financial service company that provides financial opportunities for micro and small businesses in the last mile.\n",
      "---\n",
      "Company Brand: ABL Workspaces\n",
      "Headquarters: New Delhi\n",
      "Stage: Venture - Series Unknown\n",
      "What it does: ABL Workspaces is a co-working space where professionals from all walks of life come to work under one roof.\n",
      "---\n",
      "Company Brand: SplashLearn\n",
      "Headquarters: Gurugram\n",
      "Stage: Series C\n",
      "What it does: SplashLearn is an EdTech startup company providing game-based math and reading courses to students in pre-kindergarten to grade five.\n",
      "---\n",
      "Company Brand: GoTo\n",
      "Headquarters: Ghaziabad\n",
      "Stage: Series E\n",
      "What it does: Real Time Intercity City Transit Platform For 1.25 Bn People In India\n",
      "---\n",
      "Company Brand: Zetwerk\n",
      "Headquarters: Bengaluru\n",
      "Stage: Series D\n",
      "What it does: Zetwerk is an online marketplace that connects buyers and suppliers for manufacturing jobs.\n",
      "---\n",
      "Company Brand: PrepBytes\n",
      "Headquarters: Gurugram\n",
      "Stage: Bridge\n",
      "What it does: PrepBytes helps college students to learn coding by personalizing their content along with the guidance of expert mentors from industry\n",
      "---\n",
      "Company Brand: SATYA MicroCapital\n",
      "Headquarters: New Delhi\n",
      "Stage: Series A\n",
      "What it does: Satya MicroCapital is a micro finance company based on a group lending model that allows borrowers to share liability.\n",
      "---\n",
      "Company Brand: Aviom Housing Finance\n",
      "Headquarters: New Delhi\n",
      "Stage: Series C\n",
      "What it does: AVIOM India is an Affordable Housing Finance company facilitating families in mostly semi urban areas in realising their dream of owning their first home.\n",
      "---\n",
      "Company Brand: Qin1\n",
      "Headquarters: Noida\n",
      "Stage: Series A+\n",
      "What it does: Re-imagining Kids of 21st Century!\n",
      "---\n",
      "Company Brand: DotPe\n",
      "Headquarters: Gurugram\n",
      "Stage: Seed\n",
      "What it does: DotPe is an innovative offline technology platform digitising merchant's customer engagement with mobile discovery, ordering and payments.\n",
      "---\n",
      "Company Brand: MasterMentors\n",
      "Headquarters: West Bengal\n",
      "Stage: Debt Financing\n",
      "What it does: India's first online platform for mentors enabling them to translate their expertise into a profitable online course\n",
      "---\n",
      "Company Brand: KIKO TV\n",
      "Headquarters: Mumbai\n",
      "Stage: Series I\n",
      "What it does: KIKO TV is an AI-based short live video e-commerce platform.\n",
      "---\n",
      "Company Brand: Ruptok\n",
      "Headquarters: New Delhi\n",
      "Stage: Series E\n",
      "What it does: Ruptok operates as a fintech platform for gold loans\n",
      "---\n",
      "Company Brand: RevFin\n",
      "Headquarters: New Delhi\n",
      "Stage: Seed Funding\n",
      "What it does: RevFin is a digital lending company.\n",
      "---\n",
      "Company Brand: Junio\n",
      "Headquarters: New Delhi\n",
      "Stage: Series D1\n",
      "What it does: Junio is a kids-focused digital pocket money-smart card.\n",
      "---\n",
      "Company Brand: Vista Rooms\n",
      "Headquarters: Mumbai\n",
      "Stage: Pre-Seed\n",
      "What it does: Vista Rooms is a South Asia's largest luxury holiday home rental management company. We are on a mission to build the \"Marriott for Homes\"\n",
      "---\n",
      "Company Brand: GrowFix\n",
      "Headquarters: Bengaluru\n",
      "Stage: Seed\n",
      "What it does: Building high-yield Debt assets for retail investors\n",
      "---\n",
      "Company Brand: BeyondSkool\n",
      "Headquarters: Mumbai\n",
      "Stage: Seed\n",
      "What it does: BeyondSkool is a live upskilling platform for kids\n",
      "---\n",
      "Company Brand: Mindler\n",
      "Headquarters: New Delhi\n",
      "Stage: Series E\n",
      "What it does: Mindler is a career counseling company that provides career development guidance counseling services for students.\n",
      "---\n",
      "Company Brand: BharatPe\n",
      "Headquarters: New Delhi\n",
      "Stage: Seed Round\n",
      "What it does: BharatPe develops a QR code-based payment app for offline retailers and businesses.\n",
      "---\n",
      "Company Brand: Digit Insurance\n",
      "Headquarters: Bengaluru\n",
      "Stage: Series I\n",
      "What it does: Digit Insurance is a financial services company that general insurance services.\n",
      "---\n",
      "Company Brand: BharatPe\n",
      "Headquarters: New Delhi\n",
      "Stage: Series A\n",
      "What it does: BharatPe develops a QR code-based payment app for offline retailers and businesses.\n",
      "---\n",
      "Company Brand: Udayy\n",
      "Headquarters: Gurugram\n",
      "Stage: Seed\n",
      "What it does: Interactive learning platform for kids\n",
      "---\n",
      "Company Brand: Biconomy\n",
      "Headquarters: New Delhi\n",
      "Stage: Seed\n",
      "What it does: Biconomy is a technology company building transaction infrastructure for next-generation Web 3 applications.\n",
      "---\n",
      "Company Brand: Siply\n",
      "Headquarters: Bengaluru\n",
      "Stage: Seed\n",
      "What it does: Siply Services operates as a micro-savings platform.\n",
      "---\n",
      "Company Brand: PurpleTutor\n",
      "Headquarters: Mumbai\n",
      "Stage: Seed\n",
      "What it does: PurpleTutor is the only coding platform that mandates every teacher to have a formal Computer Science degree\n",
      "---\n",
      "Company Brand: SSA Finserv\n",
      "Headquarters: Mumbai\n",
      "Stage: Series C\n",
      "What it does: Small businesses-focused non-banking lender\n",
      "---\n",
      "Company Brand: CoinSwitch Kuber\n",
      "Headquarters: Bengaluru\n",
      "Stage: Series A\n",
      "What it does: Coinswitch.co is a cryptocurrency exchange aggregator platform.\n",
      "---\n",
      "Company Brand: Paperfly\n",
      "Headquarters: Bengaluru\n",
      "Stage: Private Equity\n",
      "What it does: Paperfly is an e-commerce fulfillment and nationwide delivery solution in Bangladesh\n",
      "---\n",
      "Company Brand: Infra.Market\n",
      "Headquarters: Thane\n",
      "Stage: Series B+\n",
      "What it does: Infra.Market is an online procurement marketplace for every category of materials and products needed for building projects.\n",
      "---\n",
      "Company Brand: ReadyAssist\n",
      "Headquarters: Bengaluru\n",
      "Stage: Seed\n",
      "What it does: ReadyAssist is one of the India's leading 24/7 roadside assistance, breakdown support, towing and repairs provider for both Bikes & Cars.\n",
      "---\n",
      "Company Brand: Udaan\n",
      "Headquarters: Bengaluru\n",
      "Stage: Series E\n",
      "What it does: Udaan is a B2B trade platform that brings manufacturers, traders, retailers, and wholesalers into a single platform\n",
      "---\n",
      "Company Brand: Unacademy\n",
      "Headquarters: Bengaluru\n",
      "Stage: Series I\n",
      "What it does: Unacademy is an online learning platform providing educational content such as video lectures and examinations.\n",
      "---\n",
      "Company Brand: Pariksha\n",
      "Headquarters: Pune\n",
      "Stage: Series G\n",
      "What it does: Pariksha - The Sucess App, India's largest vernacular test preparation company for the mobile 1st internet users of India\n",
      "---\n",
      "Company Brand: Phi Commerce\n",
      "Headquarters: Pune\n",
      "Stage: Series A\n",
      "What it does: Payments Facilitator, Payments solution provider etc.\n",
      "---\n",
      "Company Brand: Practically\n",
      "Headquarters: Telangana\n",
      "Stage: Series C\n",
      "What it does: Making Learning personal, immersive and experiental\n",
      "---\n",
      "Company Brand: Cred\n",
      "Headquarters: Bengaluru\n",
      "Stage: Series C\n",
      "What it does: CRED is a Bengaluru-based fintech startup that offers rewards for customers who use its platform to pay their credit card bills.\n",
      "---\n",
      "Company Brand: Zerone\n",
      "Headquarters: Gurugram\n",
      "Stage: Venture - Series Unknown\n",
      "What it does: Convert smartphones into a POS machine using our ZUP proximity payment technology, with no additional hardware and no need for NFC.\n",
      "---\n",
      "Company Brand: Kyt\n",
      "Headquarters: Bengaluru\n",
      "Stage: Series A\n",
      "What it does: An online-first, global academy for extracurricular learning | Private & small group online classes for kids\n",
      "---\n",
      "Company Brand: BharatPe\n",
      "Headquarters: New Delhi\n",
      "Stage: Series F\n",
      "What it does: BharatPe develops a QR code-based payment app for offline retailers and businesses.\n",
      "---\n",
      "Company Brand: Oyo\n",
      "Headquarters: Gurugram\n",
      "Stage: Series I\n",
      "What it does: OYO operates a branded network of hotels designed to offer standardized stay experiences.\n",
      "---\n",
      "Company Brand: BlackSoil\n",
      "Headquarters: Mumbai\n",
      "Stage: Series D1\n",
      "What it does: Blacksoil Advisory is an independent boutique advisory firm.\n",
      "---\n",
      "Company Brand: HobSpace\n",
      "Headquarters: Mumbai\n",
      "Stage: Private Equity\n",
      "What it does: HobSpace is a platform for extra-curricular activities online and offline for kids between 3-14 years.\n",
      "---\n",
      "Company Brand: DcodeAI\n",
      "Headquarters: New Delhi\n",
      "Stage: Series A+\n",
      "What it does: EMPOWER LEARNERS TO BE FUTURE READY USING AI\n",
      "---\n",
      "Company Brand: KiranaKart\n",
      "Headquarters: Mumbai\n",
      "Stage: Bridge\n",
      "What it does: A better model for instant grocery delivery in India.\n",
      "---\n",
      "Company Brand: SP Robotic Works\n",
      "Headquarters: Chennai\n",
      "Stage: Series A\n",
      "What it does: An innovative place to explore next-generation technologies for students and all tech enthusiasts.\n",
      "---\n",
      "Company Brand: 3SC\n",
      "Headquarters: Gurugram\n",
      "Stage: Series B\n",
      "What it does: An end-to-end supply chain analytics company that provides execution and analytics solutions which are comprehensive and customized.\n",
      "---\n",
      "Company Brand: Biconomy\n",
      "Headquarters: New Delhi\n",
      "Stage: Series I\n",
      "What it does: Developer platform to enable a simplified transaction and onboarding experience for Web3 projects\n",
      "---\n",
      "Company Brand: Fixcraft\n",
      "Headquarters: Gurugram\n",
      "Stage: Venture - Series Unknown\n",
      "What it does: India's Most Trusted Automotive Repair Brand\n",
      "---\n",
      "Company Brand: Slice\n",
      "Headquarters: Bengaluru\n",
      "Stage: Bridge\n",
      "What it does: Slice is India's best credit card challenger to pay bills, manage expenses, and unlock rewards\n",
      "---\n",
      "Company Brand: 90+ My Tuition App\n",
      "Headquarters: Bengaluru\n",
      "Stage: Series A\n",
      "What it does: Daskalos Virtual Academy Pvt Ltd is a company set up by a group of professionals who perform innovative work in management.\n",
      "---\n",
      "Company Brand: Ourbetterplanet\n",
      "Headquarters: Bengaluru\n",
      "Stage: Seed\n",
      "What it does: A curated online marketplace for all things sustainable!\n",
      "---\n",
      "Company Brand: Edukemy\n",
      "Headquarters: Noida\n",
      "Stage: Series B\n",
      "What it does: Edukemy is the first EdTech company in the country, in the non –STEM segment, offering an immersive learning experience to the students, supported by cutting-edge technology and an AI-based evaluation system.\n",
      "---\n",
      "Company Brand: Pencilton\n",
      "Headquarters: Hyderabad\n",
      "Stage: Seed Funding\n",
      "What it does: India's first app for kids & teens to manage and spend pocket money while learning about money in a fun, gamified way.\n",
      "---\n",
      "Company Brand: Knorish\n",
      "Headquarters: Gurugram\n",
      "Stage: Seed Round\n",
      "What it does: Saas platform offers a feature packed platform enables businesses, experts, professionals, artists, instructors, specialists, coaches, people seeking work from home opportunities\n",
      "---\n",
      "Company Brand: BlackBuck\n",
      "Headquarters: Bengaluru\n",
      "Stage: Series E\n",
      "What it does: BlackBuck marks the beginning of a new path in trucking. A path that is organized and makes trucking simple for every shipper and trucker.\n",
      "---\n",
      "Company Brand: GODI Energy\n",
      "Headquarters: Hyderabad\n",
      "Stage: Debt Financing\n",
      "What it does: GODI is a technology innovation organization focused on the design and manufacturing of green energy storage solutions.\n",
      "---\n",
      "Company Brand: Captain Fresh\n",
      "Headquarters: Bengaluru\n",
      "Stage: Series A\n",
      "What it does: A B2B marketplace leveraging technology to deliver the fastest harvest-to-retail in the industry.\n",
      "---\n",
      "Company Brand: Braingroom\n",
      "Headquarters: Chennai\n",
      "Stage: Series D1\n",
      "What it does: BrainGroom is an online marketplace for educational, recreational & wellness classes with defined target segment, quantifiable outcomes & specified time duration.\n",
      "---\n",
      "Company Brand: Credenc\n",
      "Headquarters: New Delhi\n",
      "Stage: Series B\n",
      "What it does: An education loan platform to finance meritorious students for the college expenses by underwriting future employability\n",
      "---\n",
      "Company Brand: Spinny\n",
      "Headquarters: Gurugram\n",
      "Stage: Series D\n",
      "What it does: Spinny is a new age used car end-to-end platform in India.\n",
      "---\n",
      "Company Brand: Automovill\n",
      "Headquarters: Bengaluru\n",
      "Stage: Series A+\n",
      "What it does: Automovill is a unique platform to aggregate automobile service providers, where we connect vehicle owners with all kind of automobile service providers under one roof.\n",
      "---\n",
      "Company Brand: GalaxyCard\n",
      "Headquarters: Gurugram\n",
      "Stage: Seed\n",
      "What it does: GalaxyCard is a mobile based Instant Credit Card.\n",
      "---\n",
      "Company Brand: SmartCoin\n",
      "Headquarters: Bengaluru\n",
      "Stage: Series C\n",
      "What it does: India's Most Preferred Instant Loan App\n",
      "---\n",
      "Company Brand: CareerNinja\n",
      "Headquarters: Mumbai\n",
      "Stage: Seed\n",
      "What it does: Careerninja Is A Funded, Early-stage Ed-tech Venture Building A Personalized Learning Platform To Help People Achieve Their Career Goals\n",
      "---\n",
      "Company Brand: OYO\n",
      "Headquarters: Gurugram\n",
      "Stage: Series B+\n",
      "What it does: OYO is a global platform that empowers entrepreneurs and small businesses with hotels and homes by providing full-stack technology\n",
      "---\n",
      "Company Brand: Ola Electric\n",
      "Headquarters: Bengaluru\n",
      "Stage: Early Seed\n",
      "What it does: Ola Electric - The future of mobility is here.? Charging ahead to accelerate the world’s transition to sustainable mobility.\n",
      "---\n",
      "Company Brand: Oliveboard\n",
      "Headquarters: Bengaluru\n",
      "Stage: Series C\n",
      "What it does: Oliveboard is the top exam preparation platform for Banking & Government Exams.\n",
      "---\n",
      "Company Brand: Little Leap\n",
      "Headquarters: New Delhi\n",
      "Stage: Series B+\n",
      "What it does: Soft Skills that make Smart Leaders\n",
      "---\n",
      "Company Brand: Kredent\n",
      "Headquarters: Kolkata\n",
      "Stage: Seed\n",
      "What it does: Kredent Academy is the unique concept where financial market professionals have taken the onus of creating a strong knowledge bank in their area of expertise\n",
      "---\n",
      "Company Brand: AdmitKard\n",
      "Headquarters: Noida\n",
      "Stage: Series D\n",
      "What it does: A tech solution for end to end career advisory to students looking to study abroad.\n",
      "---\n",
      "Company Brand: Vah Vah!\n",
      "Headquarters: Bengaluru\n",
      "Stage: Pre-Seed\n",
      "What it does: A mission to educate India and make its young and dynamic population job ready.\n",
      "---\n",
      "Company Brand: Ati Motors\n",
      "Headquarters: Bengaluru\n",
      "Stage: Series F\n",
      "What it does: Autonomous industrial vehicle maker\n",
      "---\n",
      "Company Brand: ION Energy\n",
      "Headquarters: Mumbai\n",
      "Stage: Pre-Seed\n",
      "What it does: Advanced Electronics & Software Supplier for Electric Vehicles & Battery Energy Storage\n",
      "---\n",
      "Company Brand: TWID\n",
      "Headquarters: Bengaluru\n",
      "Stage: Pre-Seed\n",
      "What it does: TWID is shaping the future of Digital Currencies, delivering new-age fintech solutions\n",
      "---\n",
      "Company Brand: PeakPerformer\n",
      "Headquarters: Bengaluru\n",
      "Stage: Fresh Funding\n",
      "What it does: A goal-oriented, outcome-driven platform to make leadership coaching accessible to all.\n",
      "---\n",
      "Company Brand: Pocketly\n",
      "Headquarters: Bengaluru\n",
      "Stage: Series E\n",
      "What it does: Pocketly provides quick cash on hand, anytime - anywhere!\n",
      "---\n",
      "Company Brand: SpEd@home\n",
      "Headquarters: Mumbai\n",
      "Stage: Series D1\n",
      "What it does: Provide Remediation, Occupational Therapy, Speech Therapy and Socio-emotional coaching for children with Learning Disabilities like Dyslexia, Dysgraphia, Dyscalculia\n",
      "---\n",
      "Company Brand: Shiprocket\n",
      "Headquarters: New Delhi\n",
      "Stage: Series D1\n",
      "What it does: India's #1 eCommerce Logistics and Shipping Solution Empowering over 1 Lakh Indian eCommerce Sellers.\n",
      "---\n",
      "Company Brand: Teachmint\n",
      "Headquarters: Bengaluru\n",
      "Stage: Private Equity\n",
      "What it does: Teachmint is an all-in-one education technology platform created specifically for the tutors of the digital age.\n",
      "---\n",
      "Company Brand: Vahak\n",
      "Headquarters: Bengaluru\n",
      "Stage: Series F\n",
      "What it does: Building India's Largest & Most Trusted Online Transport Marketplace & Directory\n",
      "---\n",
      "Company Brand: goSTOPS\n",
      "Headquarters: New Delhi\n",
      "Stage: Series A\n",
      "What it does: goSTOPS aims to be India’s biggest and most loved backpacker hostel brand.\n",
      "---\n",
      "Company Brand: Delhivery\n",
      "Headquarters: Gurugram\n",
      "Stage: Series H\n",
      "What it does: Delhivery is a supply chain services company that provides transportation, warehousing, freight, and order fulfillment services.\n",
      "---\n",
      "Company Brand: Avishkaar\n",
      "Headquarters: New Delhi\n",
      "Stage: Private Equity\n",
      "What it does: India's leading Ed-Tech startup spearheading the Maker Revolution in the sub-continent\n",
      "---\n",
      "Company Brand: Locus\n",
      "Headquarters: Bengaluru\n",
      "Stage: Series C\n",
      "What it does: Locus is an intelligent decision-making and automation platform for logistics.\n",
      "---\n",
      "Company Brand: Crejo.Fun\n",
      "Headquarters: Bengaluru\n",
      "Stage: Seed\n",
      "What it does: Crejo.Fun is a digital extracurricular learning platform being built with an intent to help children discover their passions and interests through creative learning.\n",
      "---\n",
      "Company Brand: Bambinos\n",
      "Headquarters: Bengaluru\n",
      "Stage: Seed\n",
      "What it does: Cohort based extracurricular course for kids\n",
      "---\n",
      "Company Brand: KreditBee\n",
      "Headquarters: Bengaluru\n",
      "Stage: Series H\n",
      "What it does: KreditBee is a digital lending platform developed to assist young professionals with their personal finances.\n",
      "---\n",
      "Company Brand: Spardha\n",
      "Headquarters: Pune\n",
      "Stage: Series E\n",
      "What it does: Spardha School Of Music, Spardha Academy, Spardha Online are associated marks with Spardha Learnings Private Limited.\n",
      "---\n",
      "Company Brand: Fable Fintech\n",
      "Headquarters: Mumbai\n",
      "Stage: Series A\n",
      "What it does: Fable Fintech is being seed-funded by the CCAvenue Group, South East Asia’s number 1 eCommerce service provider\n",
      "---\n",
      "Company Brand: Holisol\n",
      "Headquarters: New Delhi\n",
      "Stage: Seed Round\n",
      "What it does: HoliSol Logistics Is a Supply Chain Operations Company!\n",
      "---\n",
      "Company Brand: Swiflearn\n",
      "Headquarters: Gurugram\n",
      "Stage: Series E\n",
      "What it does: Swiflearn provides online tuition classes to small batches to ensure personalised learning.\n",
      "---\n",
      "Company Brand: Cashfree\n",
      "Headquarters: Bengaluru\n",
      "Stage: Series H\n",
      "What it does: Cashfree is a payments and banking technology company that enables businesses in India to collect payments online and make payouts.\n",
      "---\n",
      "Company Brand: QuickSell\n",
      "Headquarters: Mumbai\n",
      "Stage: Venture - Series Unknown\n",
      "What it does: B2B Mobile Commerce Platform\n",
      "---\n",
      "Company Brand: Candes\n",
      "Headquarters: New Delhi\n",
      "Stage: Private Equity\n",
      "What it does: Candes is a home appliances company providing a complete range of home & kitchen electrical appliances at affordable prices.\n",
      "---\n",
      "Company Brand: Capital Float\n",
      "Headquarters: Bengaluru\n",
      "Stage: Seed Round\n",
      "What it does: Capital Float is an online platform that provides working capital finance to SMEs in India.\n",
      "---\n",
      "Company Brand: Shyplite\n",
      "Headquarters: New Delhi\n",
      "Stage: Series A+\n",
      "What it does: Enable E-retailers to automate their logistics and increase efficiency in shipments by providing a single window shipping platform\n",
      "---\n",
      "Company Brand: Refyne\n",
      "Headquarters: Bengaluru\n",
      "Stage: Series A\n",
      "What it does: Refyne partners with organisations to extend on-demand Earned Wage Access (EWA) to employees.\n",
      "---\n",
      "Company Brand: Leverage Edu\n",
      "Headquarters: New Delhi\n",
      "Stage: Early Seed\n",
      "What it does: AI-enabled marketplace designed to help students with their higher education and career growth plans\n",
      "---\n",
      "Company Brand: Kale Logistics\n",
      "Headquarters: Thane\n",
      "Stage: Series A\n",
      "What it does: Kale Logistics Solutions is a global IT solutions provider focused on providing cutting-edge technology solutions to the Logistics industry.\n",
      "---\n",
      "Company Brand: Chqbook\n",
      "Headquarters: New Delhi\n",
      "Stage: Seed\n",
      "What it does: Chqbook is a fintech startup that allows customers to explore, compare, book and get personal finance products.\n",
      "---\n",
      "Company Brand: Dropshop\n",
      "Headquarters: Bengaluru\n",
      "Stage: Series D1\n",
      "What it does: Building technology to make distribution efficient and cheaper for large and small FMCG companies\n",
      "---\n",
      "Company Brand: Jumbotail\n",
      "Headquarters: Bengaluru\n",
      "Stage: Series D\n",
      "What it does: Jumbotail is an operator of an online marketplace that simplifies food and grocery shopping.\n",
      "---\n",
      "Company Brand: BYJU'S\n",
      "Headquarters: Bengaluru\n",
      "Stage: Bridge\n",
      "What it does: BYJU'S is an educational technology company that develops personalized learning programs for K-12 students.\n",
      "---\n",
      "Company Brand: Junio\n",
      "Headquarters: New Delhi\n",
      "Stage: Seed\n",
      "What it does: Junio is a kids-focused digital pocket money-smart card.\n",
      "---\n",
      "Company Brand: Wherehouse.io\n",
      "Headquarters: New Delhi\n",
      "Stage: Seed\n",
      "What it does: Wherehouse.io is a supply chain intelligence company, helping brands to move closer to their customers enabling faster and better deliveries and accelerating business growth.\n",
      "---\n",
      "Company Brand: Flexmoney\n",
      "Headquarters: Mumbai\n",
      "Stage: Series A\n",
      "What it does: Flexmoney’s mission is to address the enormous digital credit market opportunity created by the disruption from e-commerce, EMI and BNPL checkout finance\n",
      "---\n",
      "Company Brand: Fampay\n",
      "Headquarters: Bengaluru\n",
      "Stage: Series A\n",
      "What it does: India's first numberless card and UPI without a bank account\n",
      "---\n",
      "Company Brand: MSMEx\n",
      "Headquarters: Andheri\n",
      "Stage: Debt Financing\n",
      "What it does: MSMEx connects micro and small Business Owners with curated Business Experts over live video.\n",
      "---\n",
      "Company Brand: Upside AI\n",
      "Headquarters: Mumbai\n",
      "Stage: Seed\n",
      "What it does: Upside AI on the thesis that technology will make better investing decisions than humans over the long term.\n",
      "---\n",
      "Company Brand: Skillmatics\n",
      "Headquarters: Mumbai\n",
      "Stage: Series A\n",
      "What it does: Skillmatics develops learning games for pre-school and primary school kids aged under 10\n",
      "---\n",
      "Company Brand: Bueno Finance\n",
      "Headquarters: Gurugram\n",
      "Stage: Seed\n",
      "What it does: Bueno Gig Growth Technologies Pvt Ltd (\"Bueno Finance\") is a financial services platform which aims is to help improve the financial health of customers.\n",
      "---\n",
      "Company Brand: CityMall\n",
      "Headquarters: Gurugram\n",
      "Stage: Series B\n",
      "What it does: CityMall is a social e-commerce platform that sells lifestyle and curated products via peer-to-peer referrals on WhatsApp.\n",
      "---\n",
      "Company Brand: BYJU’S\n",
      "Headquarters: Bengaluru\n",
      "Stage: Series A+\n",
      "What it does: BYJU'S is an educational technology company that develops personalized learning programs for K-12 students.\n",
      "---\n",
      "Company Brand: India Quotient\n",
      "Headquarters: Mumbai\n",
      "Stage: Pre-Seed\n",
      "What it does: India Quotient is a new type of early stage investor. We fund companies building disruptive businesses aimed at Indian consumers. We're\n",
      "---\n",
      "Company Brand: DigiSparsh\n",
      "Headquarters: Mumbai\n",
      "Stage: Seed\n",
      "What it does: DigiSparsh is India's first and only healthcare fintech platform which aims to make healthcare facilities accessible to everyone in the country.\n",
      "---\n",
      "Company Brand: BimaPe\n",
      "Headquarters: Mumbai\n",
      "Stage: Seed Round\n",
      "What it does: BimaPe demystifies Insurance and its Management for individuals and families across India. 'BimaPe Bharosa Karo'\n",
      "---\n",
      "Company Brand: MicroDegree\n",
      "Headquarters: Mangalore\n",
      "Stage: Seed Round\n",
      "What it does: MicroDegree is an ed-tech platform working towards democratising technology and job ready skills for Bharat.\n",
      "---\n",
      "Company Brand: Saarthi Pedagogy\n",
      "Headquarters: Ahmadabad\n",
      "Stage: Series B\n",
      "What it does: India's fastest growing Pedagogy company, serving to school as an academic growth partner and provide 360° solutions to schools on Academic Strategies\n",
      "---\n",
      "Company Brand: GoMechanic\n",
      "Headquarters: Gurugram\n",
      "Stage: Series C\n",
      "What it does: GoMechanic is India’s leading multi-brand car service company, committed to making the car servicing experience hassle-free & easy for everyone.\n",
      "---\n",
      "Company Brand: Grinntech\n",
      "Headquarters: Chennai\n",
      "Stage: Series D\n",
      "What it does: Grinntech is an investor backed, growth phase start-up, leading on all front of battery design for EV applications.\n",
      "---\n",
      "Company Brand: Classplus\n",
      "Headquarters: Noida\n",
      "Stage: Series C\n",
      "What it does: Classplus was born out of an urge to redefine classroom engagement in this country.\n",
      "---\n",
      "Company Brand: WINDO\n",
      "Headquarters: Hyderabad\n",
      "Stage: Seed\n",
      "What it does: Convert Instagram Page Into an Online Store in under 2-minutes. Create a free online store and automate your sales.\n",
      "---\n",
      "Company Brand: ApnaKlub\n",
      "Headquarters: Bengaluru\n",
      "Stage: Series G\n",
      "What it does: Supporting independent businesses and retail entrepreneurs with better than market wholesale prices and supply chain.\n",
      "---\n",
      "Company Brand: LegalPay\n",
      "Headquarters: New Delhi\n",
      "Stage: Series I\n",
      "What it does: A tech focused B2B litigation finance company in India.\n",
      "---\n",
      "Company Brand: Navars\n",
      "Headquarters: Hyderabad\n",
      "Stage: Debt Financing\n",
      "What it does: Navars Edutech comprises dynamic mix of intellectual professionals, managerial team, Subject matter experts and Astronomy and Space researchers.\n",
      "---\n",
      "Company Brand: GoBolt\n",
      "Headquarters: Gurugram\n",
      "Stage: Series B\n",
      "What it does: GoBOLT is a tech-logistics company operating in Line Haul & Short Haul Trucking, creating value through dis-intermediation, increased asset utilization and extensive use of technology.\n",
      "---\n",
      "Company Brand: Edmingle\n",
      "Headquarters: Bengaluru\n",
      "Stage: Series A+\n",
      "What it does: Edmingle is a platform for all educators who want to launch their courses and sell them online.\n",
      "---\n",
      "Company Brand: Slice\n",
      "Headquarters: Bengaluru\n",
      "Stage: Series F\n",
      "What it does: Slice is India's best credit card challenger to pay bills, manage expenses, and unlock rewards.\n",
      "---\n",
      "Company Brand: CredR\n",
      "Headquarters: Bengaluru\n",
      "Stage: Pre-Seed\n",
      "What it does: CredR is India’s Most Trusted Used Two-Wheeler Consumer Brand that leverages Technology & Processes to simplify the Used Two-wheeler Market.\n",
      "---\n",
      "Company Brand: Nalanda Learning\n",
      "Headquarters: Kolkata\n",
      "Stage: Seed\n",
      "What it does: India's 1st Online Preschool with Blended Learning Model\n",
      "---\n",
      "Company Brand: Treebo Hotels\n",
      "Headquarters: Bengaluru\n",
      "Stage: Series D\n",
      "What it does: Treebo Hotels is India's most loved hotel chain in the premium-budget segment.\n",
      "---\n",
      "Company Brand: Raptee Energy\n",
      "Headquarters: Chennai\n",
      "Stage: Venture - Series Unknown\n",
      "What it does: Raptee Energy Inc. is looking to accelerate the transition to smart and sustainable mobility!\n",
      "---\n",
      "Company Brand: SkilloVilla\n",
      "Headquarters: Bengaluru\n",
      "Stage: Seed\n",
      "What it does: Mission to support young graduates in enhancing their learnings and transform them into big earnings.\n",
      "---\n",
      "Company Brand: Velocity\n",
      "Headquarters: Bengaluru\n",
      "Stage: Seed\n",
      "What it does: Velocity provides revenue-based-financing to online businesses. It aims to build the future of banking and financial services for new age businesses in India.\n",
      "---\n",
      "Company Brand: Rupifi\n",
      "Headquarters: Bengaluru\n",
      "Stage: Series D\n",
      "What it does: Rupifi operates a software-as-a-service (SaaS) firm focussed on financial products.\n",
      "---\n",
      "Company Brand: Moneyboxx\n",
      "Headquarters: Mumbai\n",
      "Stage: Venture - Series Unknown\n",
      "What it does: Moneyboxx Finance provides easy access to financing to the deserving micro enterprises.\n",
      "---\n",
      "Company Brand: CityMall\n",
      "Headquarters: Gurugram\n",
      "Stage: Series A\n",
      "What it does: CityMall is a social e-commerce platform that sells lifestyle and curated products via peer-to-peer referrals on WhatsApp.\n",
      "---\n",
      "Company Brand: DotPe\n",
      "Headquarters: Gurugram\n",
      "Stage: Series A\n",
      "What it does: DotPe is a technology start-up providing a commerce and payments platform to offline enterprise businesses.\n",
      "---\n",
      "Company Brand: Five Star Finance\n",
      "Headquarters: Chennai\n",
      "Stage: Bridge\n",
      "What it does: Five-Star is a Registered Non Banking Finance Company (NBFC) with Reserve Bank of India (RBI).\n",
      "---\n",
      "Company Brand: BYJU'S\n",
      "Headquarters: Bengaluru\n",
      "Stage: Series F\n",
      "What it does: BYJU'S is an educational technology company that develops personalized learning programs for K-12 students.\n",
      "---\n",
      "Company Brand: Annapurna Finance\n",
      "Headquarters: Bhubaneswar\n",
      "Stage: Series D1\n",
      "What it does: Annapurna Microfinance is a microfinance venture that works for the financial and economic upliftment of underserved and unreached women.\n",
      "---\n",
      "Company Brand: Masai School\n",
      "Headquarters: Bengaluru\n",
      "Stage: Series A\n",
      "What it does: Masai School is a job-oriented software training services.\n",
      "---\n",
      "Company Brand: IndiaLends\n",
      "Headquarters: New Delhi\n",
      "Stage: Series I\n",
      "What it does: IndiaLends is a digital lending and borrowing marketplace.\n",
      "---\n",
      "Company Brand: KreditBee\n",
      "Headquarters: Bengaluru\n",
      "Stage: Seed\n",
      "What it does: KreditBee is a digital lending platform developed to assist young professionals with their personal finances.\n",
      "---\n",
      "Company Brand: True Balance\n",
      "Headquarters: Gurugram\n",
      "Stage: Venture - Series Unknown\n",
      "What it does: True Balance is a digital wallet that enables users to access utility bill payment and other financial products.\n",
      "---\n",
      "Company Brand: Muvin\n",
      "Headquarters: Bengaluru\n",
      "Stage: Seed\n",
      "What it does: Youth Neobank enabling financial solutions for the teenagers and young people\n",
      "---\n",
      "Company Brand: Euler Motors\n",
      "Headquarters: New Delhi\n",
      "Stage: Series A\n",
      "What it does: Electric Light Commercial Vehicle\n",
      "---\n",
      "Company Brand: Policybazaar\n",
      "Headquarters: Gurugram\n",
      "Stage: Pre-Seed\n",
      "What it does: PolicyBazaar designs an online life insurance and general insurance comparison portal that analyzes financial products.\n",
      "---\n",
      "Company Brand: Svasti Microfinance\n",
      "Headquarters: Mumbai\n",
      "Stage: Series I\n",
      "What it does: Svasti works with urban slum dwellers women microentrepreneurs.\n",
      "---\n",
      "Company Brand: Ankur capital\n",
      "Headquarters: Mumbai\n",
      "Stage: Series H\n",
      "What it does: Early stage venture capital fund focused on opportunities created by rising aspirations & digital access for next billion Indians.\n",
      "---\n",
      "Company Brand: Indifi\n",
      "Headquarters: Gurugram\n",
      "Stage: Private Equity\n",
      "What it does: Indifi Technologies is a digital lending platform that offers loans to those that have potential and intent.\n",
      "---\n",
      "Company Brand: Firmway\n",
      "Headquarters: Mumbai\n",
      "Stage: Early Seed\n",
      "What it does: Firmway is a platform that digitizes balance confirmation and reconciliation process.\n",
      "---\n",
      "Company Brand: Bimaplan\n",
      "Headquarters: Mumbai\n",
      "Stage: Seed\n",
      "What it does: Affordable insurance for the next billion Indians\n",
      "---\n",
      "Company Brand: YAP\n",
      "Headquarters: Chennai\n",
      "Stage: Series B\n",
      "What it does: YAP is the API Platform for Banking and Payments products in Asia. More than 200 Fintechs across Asia rely on YAP\n",
      "---\n",
      "Company Brand: Leap Finance\n",
      "Headquarters: Bengaluru\n",
      "Stage: Series B\n",
      "What it does: Leap Finance is a fintech startup for Indian students pursuing international higher education\n",
      "---\n",
      "Company Brand: BlackSoil NBFC\n",
      "Headquarters: Mumbai\n",
      "Stage: Venture - Series Unknown\n",
      "What it does: BlackSoil Capital has transformed into an alternative NBFC and AIF Fund platform with an expertise to finance multiple sectors.\n",
      "---\n",
      "Company Brand: OYO\n",
      "Headquarters: Gurugram\n",
      "Stage: Series A\n",
      "What it does: OYO operates a branded network of hotels designed to offer standardized stay experiences.\n",
      "---\n",
      "Company Brand: Ezstays\n",
      "Headquarters: New Delhi\n",
      "Stage: Seed\n",
      "What it does: Ezstays is a leading student-life network, providing hostels and PG accommodation with top-tier living facilities at the best prices.\n",
      "---\n",
      "Company Brand: Kinara Capital\n",
      "Headquarters: Bengaluru\n",
      "Stage: Series G\n",
      "What it does: Kinara Capital is a financing company that provides flexible collateral-free loans to small business entrepreneurs.\n",
      "---\n",
      "Company Brand: Quizizz\n",
      "Headquarters: Bengaluru\n",
      "Stage: Series A\n",
      "What it does: Quizizz is a Education based startup\n",
      "---\n",
      "Company Brand: Ecom Express\n",
      "Headquarters: New Delhi\n",
      "Stage: Venture - Series Unknown\n",
      "What it does: Ecom Express is an end-to-end technology-enabled logistics solutions provider to the Indian e-commerce industry.\n",
      "---\n",
      "Company Brand: Northern Arc\n",
      "Headquarters: Chennai\n",
      "Stage: Private Equity\n",
      "What it does: Northern Arc Capital (Formerly known as IFMR Capital) is a Non-Banking Finance Company.\n",
      "---\n",
      "Company Brand: AMPM\n",
      "Headquarters: Gurugram\n",
      "Stage: Series I\n",
      "What it does: 24*7 convenience store\n",
      "---\n",
      "Company Brand: Cashify\n",
      "Headquarters: Gurugram\n",
      "Stage: Series I\n",
      "What it does: Cashify.in is an e-commerce platform for reselling used electronic gadgets.\n",
      "---\n",
      "Company Brand: Questt\n",
      "Headquarters: Gurugram\n",
      "Stage: Seed\n",
      "What it does: Questt is a homework app that allows teachers to allocate objective and subjective homework based on selected content.\n",
      "---\n",
      "Company Brand: DealShare\n",
      "Headquarters: Jaipur\n",
      "Stage: Series B\n",
      "What it does: DealShare is a Social Commerce Startup\n",
      "---\n",
      "Company Brand: Euler Motors\n",
      "Headquarters: New Delhi\n",
      "Stage: Series A\n",
      "What it does: Electric Light Commercial Vehicle\n",
      "---\n",
      "Company Brand: Blume Ventures\n",
      "Headquarters: Mumbai\n",
      "Stage: Series A\n",
      "What it does: Blume Ventures provides pre-series A and early stage funding to tech-focused/tech-enabled ventures.\n",
      "---\n",
      "Company Brand: KoineArth\n",
      "Headquarters: Bengaluru\n",
      "Stage: Bridge\n",
      "What it does: Koinearth is a stealth mode startup working at the intersection of blockchains, machine learning and mechanism design\n",
      "---\n",
      "Company Brand: ImaginXP\n",
      "Headquarters: Pune\n",
      "Stage: Series H\n",
      "What it does: ImaginXP is a curriculum company with a focus on training and certification in UX Design and Design Thinking.\n",
      "---\n",
      "Company Brand: Virohan\n",
      "Headquarters: Gurugram\n",
      "Stage: Fresh Funding\n",
      "What it does: Virohan is an edtech company using technology to prepare a future-ready workforce for the healthcare industry.\n",
      "---\n",
      "Company Brand: Northern Arc\n",
      "Headquarters: Chennai\n",
      "Stage: Series F\n",
      "What it does: Northern Arc Capital (Formerly known as IFMR Capital) is a Non-Banking Finance Company.\n",
      "---\n",
      "Company Brand: ParkSmart\n",
      "Headquarters: New Delhi\n",
      "Stage: Seed\n",
      "What it does: ParkSmart is a parking management application.\n",
      "---\n",
      "Company Brand: Virohan\n",
      "Headquarters: Gurugram\n",
      "Stage: Series A\n",
      "What it does: Virohan is an EdTech company that offers healthcare vocational training to students to build a career in the healthcare industry.\n",
      "---\n",
      "Company Brand: BankSathi\n",
      "Headquarters: New Delhi\n",
      "Stage: Seed\n",
      "What it does: Bank Sathi provides loans, insurance, cards comparison, and approval facility.\n",
      "---\n",
      "Company Brand: Spark Studio\n",
      "Headquarters: Bengaluru\n",
      "Stage: Seed\n",
      "What it does: Online courses to build creativity and confidence in children through extra-curricular learning\n",
      "---\n",
      "Company Brand: Karbon Card\n",
      "Headquarters: Bengaluru\n",
      "Stage: Private Equity\n",
      "What it does: Karbon Card is a financial platform for Indian entrepreneurs.\n",
      "---\n",
      "Company Brand: LegalPay\n",
      "Headquarters: New Delhi\n",
      "Stage: Seed\n",
      "What it does: A trusted financial partner for advocates and corporate.\n",
      "---\n",
      "Company Brand: Tekie\n",
      "Headquarters: Gurugram\n",
      "Stage: Seed\n",
      "What it does: Tekie is a live coding platform for kids that uses the power of storytelling, to make learning to code a movie-like experience.\n",
      "---\n",
      "Company Brand: Asirvad Microfinance\n",
      "Headquarters: Chennai\n",
      "Stage: Series A+\n",
      "What it does: Asirvad Microfinance provides microfinance loans to women from a poor and low-income households.\n",
      "---\n",
      "Company Brand: Avalon Labs\n",
      "Headquarters: Bengaluru\n",
      "Stage: Seed\n",
      "What it does: Avalon Labs incubates, invests, partners with and spearheads technology companies that are on the cutting edge.\n",
      "---\n",
      "Company Brand: Mentoria\n",
      "Headquarters: Mumbai\n",
      "Stage: Bridge\n",
      "What it does: Mentoria is a holistic career discovery platform that enables students to discover themselves and the careers they will enjoy and excel at.\n",
      "---\n",
      "Company Brand: Kodo Card\n",
      "Headquarters: Mumbai\n",
      "Stage: Seed\n",
      "What it does: Kodo card is a corporate card for new economy businesses in India.\n",
      "---\n",
      "Company Brand: Polygon\n",
      "Headquarters: Mumbai\n",
      "Stage: Series D\n",
      "What it does: Polygon is a blockchain scalability platform.\n",
      "---\n",
      "Company Brand: Jai Kisan\n",
      "Headquarters: Mumbai\n",
      "Stage: Series A\n",
      "What it does: Jai Kisan is a fintech platform that provides sustainable financing for rural emerging markets\n",
      "---\n",
      "Company Brand: Klassroom\n",
      "Headquarters: Mumbai\n",
      "Stage: Series C\n",
      "What it does: Klassroom offers a one-of-a-kind LIVE interactive learning experience to students.\n",
      "---\n",
      "Company Brand: Pickright Technologies\n",
      "Headquarters: Bengaluru\n",
      "Stage: Series D\n",
      "What it does: Pickright is a fintech marketplace platform for stock market investors and the stock market advisors.\n",
      "---\n",
      "Company Brand: Ingenium\n",
      "Headquarters: New Delhi\n",
      "Stage: Seed\n",
      "What it does: Ingenium Education has been pushing e-learning by bringing small and medium sized institutes and schools online.\n",
      "---\n",
      "Company Brand: BharatPe\n",
      "Headquarters: New Delhi\n",
      "Stage: Series E\n",
      "What it does: BharatPe is the definitive platform for financial services. We process payments via UPI and POS, and provide credit / loans to our merchants\n",
      "---\n",
      "Company Brand: We Founder Circle\n",
      "Headquarters: Mumbai\n",
      "Stage: Seed Round\n",
      "What it does: A global platform of founders for founders offering investment, network and business opportunities.\n",
      "---\n",
      "Company Brand: Haqdarshak\n",
      "Headquarters: Jaipur\n",
      "Stage: Series B\n",
      "What it does: Haqdarshak is a tech platform that connects citizens with their eligible welfare schemes.\n",
      "---\n",
      "Company Brand: Celcius\n",
      "Headquarters: Mumbai\n",
      "Stage: Seed\n",
      "What it does: The “ONLINE” Cold Chain network for Reefer trucks and Cold storage facilities.\n",
      "---\n",
      "Company Brand: Teachmint\n",
      "Headquarters: Bengaluru\n",
      "Stage: Series A\n",
      "What it does: Teachmint is an online learning platform that focuses on tutor-student connectivity.\n",
      "---\n",
      "Company Brand: Rapido\n",
      "Headquarters: Bengaluru\n",
      "Stage: Series C\n",
      "What it does: Rapido is a bike taxi service that encourages people to offer bike rides to other people.\n",
      "---\n",
      "Company Brand: BYJU'S\n",
      "Headquarters: Bengaluru\n",
      "Stage: Seed Funding\n",
      "What it does: BYJU'S is an educational technology company that develops personalized learning programs for K-12 students.\n",
      "---\n",
      "Company Brand: ElasticRun\n",
      "Headquarters: Pune\n",
      "Stage: Series D\n",
      "What it does: ElasticRun develops an online system that improves the reception of orders from customers and the dispatch of delivery drivers.\n",
      "---\n",
      "Company Brand: Avail Finance\n",
      "Headquarters: Bengaluru\n",
      "Stage: Series B\n",
      "What it does: Avail is a mobile-first platform aiming to financially include the urban mass of India.\n",
      "---\n",
      "Company Brand: Nivesh\n",
      "Headquarters: Noida\n",
      "Stage: Fresh Funding\n",
      "What it does: Nivesh.com is a mass market mutual funds investment platform.\n",
      "---\n",
      "Company Brand: Arthya Wealth and Investments\n",
      "Headquarters: Mumbai\n",
      "Stage: Fresh Funding\n",
      "What it does: A comprehensive, high quality, open-architecture based Wealth Management and Investment Advisory platform, to cater to investors across the board: Individuals, Businesses/Corporate Treasuries, Family Offices, Trusts and more.\n",
      "---\n",
      "Company Brand: Zepto\n",
      "Headquarters: Mumbai\n",
      "Stage: Private Equity\n",
      "What it does: Grocery delivery startup\n",
      "---\n",
      "Company Brand: Fi\n",
      "Headquarters: Bengaluru\n",
      "Stage: Series B\n",
      "What it does: Fi is a neo bank.\n",
      "---\n",
      "Company Brand: The Hosteller\n",
      "Headquarters: Mumbai\n",
      "Stage: Seed Funding\n",
      "What it does: Pit-stop for global as well as local travellers to relax, rejuvenate and experience India’s rich heritage while not worrying about a clean, safe and smart place to stay.\n",
      "---\n",
      "Company Brand: Ruptok Fintech\n",
      "Headquarters: New Delhi\n",
      "Stage: Private Equity\n",
      "What it does: Ruptok fintech Pvt. Ltd. is an online gold loan service provider , with attractive interests rate .\n",
      "---\n",
      "Company Brand: TRDR\n",
      "Headquarters: Bengaluru\n",
      "Stage: Series D1\n",
      "What it does: TRDR is an all-new approach to investing.\n",
      "---\n",
      "Company Brand: Leap India\n",
      "Headquarters: Mumbai\n",
      "Stage: Series D\n",
      "What it does: \"Leading Enterprise in Asset Pooling\" India's Largest Sustainable Supply Chain Solutions Company.\n",
      "---\n",
      "Company Brand: Troo Good\n",
      "Headquarters: Hyderabad\n",
      "Stage: Series A\n",
      "What it does: An FMCG company selling nutritious products at an affordable price points.\n",
      "---\n",
      "Company Brand: Unnati\n",
      "Headquarters: Noida\n",
      "Stage: Series A\n",
      "What it does: Fintech powered digital agri ecosystem\n",
      "---\n",
      "Company Brand: Vayana Network\n",
      "Headquarters: Pune\n",
      "Stage: Series C\n",
      "What it does: Vayana Network is an electronic network that connects Corporates and their Supply Chain to Financial Institutions for easy, quick and low-cost access to Trade Financing of their Payables and Receivables.\n",
      "---\n",
      "Company Brand: Velocity\n",
      "Headquarters: Bengaluru\n",
      "Stage: Series A\n",
      "What it does: Velocity provides revenue based financing, up to Rs 3 crores, for marketing and inventory spends of online businesses.\n",
      "---\n",
      "Company Brand: SalaryBox\n",
      "Headquarters: Gurugram\n",
      "Stage: Seed\n",
      "What it does: SalaryBox is solution that makes employee management effortless.\n",
      "---\n",
      "Company Brand: Better Capital\n",
      "Headquarters: Santra\n",
      "Stage: Series G\n",
      "What it does: Better is a top-tier India-focused pre-seed venture firm with a portfolio of 100+ companies including stellar successes like Rupeek, Open, Khatabook, Bijak\n",
      "---\n",
      "Company Brand: Tickertape\n",
      "Headquarters: Bengaluru\n",
      "Stage: Series B\n",
      "What it does: Tickertape provides data, information & content for Indian stocks, ETFs & indices\n",
      "---\n",
      "Company Brand: Zenpay Solutions\n",
      "Headquarters: New Delhi\n",
      "Stage: Series I\n",
      "What it does: India’s fastest growing fintech company, which has revolutionized the ultimate banking experience especially by reaching out to thousands of blue-collared employees by promoting digital banking solutions across India.\n",
      "---\n",
      "Company Brand: Defy\n",
      "Headquarters: Bengaluru\n",
      "Stage: Series G\n",
      "What it does: Building India's first social crypto exchange\n",
      "---\n",
      "Company Brand: True Balance\n",
      "Headquarters: Gurugram\n",
      "Stage: Series B+\n",
      "What it does: Balancehero India Private Limited (BHI), the wholly owned subsidiary of Balancehero Co. Ltd., Korea which runs and operates mobile App “True Balance”.\n",
      "---\n",
      "Company Brand: Recordent\n",
      "Headquarters: Hyderabad\n",
      "Stage: Seed Round\n",
      "What it does: Helping MSMEs collect customer dues faster & reduce risk by checking credit & payment history before offering credit\n",
      "---\n",
      "Company Brand: Indifi\n",
      "Headquarters: Gurugram\n",
      "Stage: Seed\n",
      "What it does: Indifi believes in helping small businesses grow by offering loans to those that have potential and intent.\n",
      "---\n",
      "Company Brand: Simple Energy\n",
      "Headquarters: Bengaluru\n",
      "Stage: Series D1\n",
      "What it does: A Research and development driven company on a mission to build the future of mobility that is electric and connected.\n",
      "---\n",
      "Company Brand: Dream Sports\n",
      "Headquarters: Mumbai\n",
      "Stage: Series I\n",
      "What it does: Dream Sports is India’s leading sports technology company with brands such as Dream11, world’s largest fantasy sports platform\n",
      "---\n",
      "Company Brand: Spinny\n",
      "Headquarters: Gurugram\n",
      "Stage: Series E\n",
      "What it does: Spinny is a new age used car end-to-end platform in India.\n",
      "---\n",
      "Company Brand: Slice\n",
      "Headquarters: Bengaluru\n",
      "Stage: Series B\n",
      "What it does: Slice is India's best credit card challenger to pay bills, manage expenses, and unlock rewards\n",
      "---\n",
      "Company Brand: Rupifi\n",
      "Headquarters: Bengaluru\n",
      "Stage: Series E\n",
      "What it does: Embedded Lending for Small Businesses\n",
      "---\n",
      "Company Brand: Progcap\n",
      "Headquarters: New Delhi\n",
      "Stage: Series C\n",
      "What it does: Progcap (Desiderata Impact Ventures Private Limited) is a mission-driven, inclusive financing technology firm\n",
      "---\n",
      "Company Brand: ANS Commerce\n",
      "Headquarters: Gurugram\n",
      "Stage: Series E\n",
      "What it does: ANS Commerce is India’s #1 full-stack e-commerce enabler helping brands sell online.\n",
      "---\n",
      "Company Brand: GramCover\n",
      "Headquarters: Noida\n",
      "Stage: Series A\n",
      "What it does: GramCover is a tech-enabled insurance marketplace for rural India.\n",
      "---\n",
      "Company Brand: BYJU'S\n",
      "Headquarters: Bengaluru\n",
      "Stage: Bridge\n",
      "What it does: BYJU’S is India's largest ed-tech company and the creator of India’s most loved school learning app.\n",
      "---\n",
      "Company Brand: Sunstone Eduversity\n",
      "Headquarters: Gurugram\n",
      "Stage: Series B\n",
      "What it does: Sunstone Eduversity is a one-of-its-kind business school operating in an asset-light model since 2011.\n",
      "---\n",
      "Company Brand: CoinSwitch Kuber\n",
      "Headquarters: Bengaluru\n",
      "Stage: Series C\n",
      "What it does: CoinSwitch Kuber is the largest crypto trading platform in India with a user base of 10M+, in just 15 months and growing every second.\n",
      "---\n",
      "Company Brand: Pazcare\n",
      "Headquarters: Bengaluru\n",
      "Stage: Seed\n",
      "What it does: Paz Care is India's leading Employee Benefits & Health insurance platform\n",
      "---\n",
      "Company Brand: kWh Bikes\n",
      "Headquarters: Bengaluru\n",
      "Stage: Seed\n",
      "What it does: Building India’s strongest and smartest electric 2 wheelers\n",
      "---\n",
      "Company Brand: Ola Electric\n",
      "Headquarters: Bengaluru\n",
      "Stage: Series B+\n",
      "What it does: Sustainability for the future.\n",
      "---\n",
      "Company Brand: SALT\n",
      "Headquarters: Bengaluru\n",
      "Stage: Series B\n",
      "What it does: Salt is a neo-banking experience created to cater to international businesses.\n",
      "---\n",
      "Company Brand: EarnWealth\n",
      "Headquarters: Pune\n",
      "Stage: Series B+\n",
      "What it does: EarnWealth is India's First Social Commerce FinTech which enables Financial Consultants, Mutual Fund Distributors, Insurance Agents, Real Estate Consultants, Housewives, Retired People and Students to earn quick money by selling Loans, Credit Cards\n",
      "---\n",
      "Company Brand: M2P Fintech\n",
      "Headquarters: Chennai\n",
      "Stage: Series C\n",
      "What it does: M2P fintech was born out of the need to build highly scalable, secure yet nimble technology stack at the intersection of Mobility, Commerce and payments.\n",
      "---\n",
      "Company Brand: Open Financial Technologies\n",
      "Headquarters: Bengaluru\n",
      "Stage: Series C\n",
      "What it does: Open is Asia’s first neobanking platform for SMEs and startups.\n",
      "---\n",
      "Company Brand: Niro\n",
      "Headquarters: Bengaluru\n",
      "Stage: Seed\n",
      "What it does: Embedding personal credit products into leading consumer internet platforms.\n",
      "---\n",
      "Company Brand: CarDekho\n",
      "Headquarters: Jaipur\n",
      "Stage: Series E\n",
      "What it does: Redefining the country’s personal mobility ecosystem with technologically enhanced solutions.\n",
      "---\n",
      "Company Brand: AcknoLedger\n",
      "Headquarters: Mumbai\n",
      "Stage: Seed\n",
      "What it does: AcknoLedger is a Global platform that distributes Web 3.0 Digital Assets Seamlessly across all the Metaverses and Gaming\n",
      "---\n",
      "Company Brand: Aviom India\n",
      "Headquarters: Bhilwara\n",
      "Stage: Series C\n",
      "What it does: AVIOM India Housing Finance Pvt. Ltd. is a venture started by experienced professionals with a vision to improve the standard of living of families from the informal sector in rural areas\n",
      "---\n",
      "Company Brand: CRED\n",
      "Headquarters: Bengaluru\n",
      "Stage: Series E\n",
      "What it does: CRED is a credit card payment platform that rewards users with points for paying their bills.\n",
      "---\n",
      "Company Brand: CredAble\n",
      "Headquarters: Mumbai\n",
      "Stage: Series B\n",
      "What it does: CredAble provides liquidity programs for enterprise supply chains.\n",
      "---\n",
      "Company Brand: MarketWolf\n",
      "Headquarters: Mumbai\n",
      "Stage: Seed\n",
      "What it does: MarketWolf provides everyone an opportunity to begin their trading journey with a unique digital platform that is bold, simple and fun.\n",
      "---\n",
      "Company Brand: SUN Mobility\n",
      "Headquarters: Bengaluru\n",
      "Stage: Debt Financing\n",
      "What it does: Provider of universal energy infrastructure and services to accelerate mass EV usage!\n",
      "---\n",
      "Company Brand: Revfin\n",
      "Headquarters: New Delhi\n",
      "Stage: Series B\n",
      "What it does: RevFin is a financial technology (FinTech) company, advanced digital lending platform makes getting a loan convenient and accessible for customers\n",
      "---\n",
      "Company Brand: MergerDomo\n",
      "Headquarters: New Delhi\n",
      "Stage: Seed Round\n",
      "What it does: MergerDomo is the one-stop Global OnLine M&A marketplace for Corporate and Business Growth\n",
      "---\n",
      "Company Brand: Questt\n",
      "Headquarters: Gurugram\n",
      "Stage: Series A\n",
      "What it does: Questt is a Free online homework app that lets teachers assign gamified homework to students.\n",
      "---\n",
      "Company Brand: BookingJini\n",
      "Headquarters: Gurugram\n",
      "Stage: Venture - Series Unknown\n",
      "What it does: BookingJini strive to empower Hotels from all aspects ranging from customer outreach to automate their booking process and improve their online presence and revenue to stimulate Top-line and Bottom-line growth.\n",
      "---\n",
      "Company Brand: Groww\n",
      "Headquarters: Bengaluru\n",
      "Stage: Series E\n",
      "What it does: Groww is on a mission to democratize access to financial services for millions of Indians responsibly.\n",
      "---\n",
      "Company Brand: BharatPe\n",
      "Headquarters: New Delhi\n",
      "Stage: Series I\n",
      "What it does: BharatPe launched India’s first UPI interoperable QR code, first ZERO MDR payment acceptance service, and first UPI payment backed merchant cash advance service.\n",
      "---\n",
      "Company Brand: Porter\n",
      "Headquarters: Bengaluru\n",
      "Stage: Series E\n",
      "What it does: Porter is India's Largest Marketplace for Intra-City Logistics.\n",
      "---\n",
      "Company Brand: BASIC Home Loan\n",
      "Headquarters: Gurugram\n",
      "Stage: Series A\n",
      "What it does: BASIC Home Loan is India's first automated platform for secured lending with special focus on the affordable housing segment.\n",
      "---\n",
      "Company Brand: Siply\n",
      "Headquarters: Bengaluru\n",
      "Stage: Series B\n",
      "What it does: A tech-enabled micro-savings platform, for the underserved masses, that makes it possible to save starting at Re. 1\n",
      "---\n",
      "Company Brand: BankSathi\n",
      "Headquarters: New Delhi\n",
      "Stage: Series E\n",
      "What it does: BankSathi is a Fintech platform to empower consumers to save money and time on financial products through safe, easy, and trustable shopping experience.\n",
      "---\n",
      "Company Brand: Zolve\n",
      "Headquarters: Bengaluru\n",
      "Stage: Series A\n",
      "What it does: World's first cross-border Neobank\n",
      "---\n",
      "Company Brand: Acko\n",
      "Headquarters: Bengaluru\n",
      "Stage: Series D\n",
      "What it does: ACKO is India’s first and fastest growing InsurTech company which makes buying and using insurance effortless.\n",
      "---\n",
      "Company Brand: Avanti Finance\n",
      "Headquarters: Bengaluru\n",
      "Stage: Series D1\n",
      "What it does: A digital platform to make financial services accessible to 100 million unserved and underserved households across India\n",
      "---\n",
      "Company Brand: Purplle\n",
      "Headquarters: Mumbai\n",
      "Stage: Venture - Series Unknown\n",
      "What it does: Purplle.com is one of India’s largest e-beauty destinations with more than 7 million monthly active users.\n",
      "---\n",
      "Company Brand: CredAvenue\n",
      "Headquarters: Chennai\n",
      "Stage: Series A\n",
      "What it does: CredAvenue is an organization on a mission to deepen and power the $120Trillion global enterprise debt market which would unlock a GDP multiplier and thus create massive economic value.\n",
      "---\n",
      "Company Brand: PumPumPum\n",
      "Headquarters: Gurugram\n",
      "Stage: Series E\n",
      "What it does: Pumpumpum is empowering millennials with a smart car subscription model. We provide monthly subscription of pre-owned cars at affordable rates.\n",
      "---\n",
      "Company Brand: Coinshift\n",
      "Headquarters: Chandigarh\n",
      "Stage: Seed\n",
      "What it does: CoinShift helps businesses and decentralised autonomous organisations (DAO's) manage their crypto easily\n",
      "---\n",
      "Company Brand: Strip Finance\n",
      "Headquarters: Hyderabad\n",
      "Stage: Seed\n",
      "What it does: Collateralised NFT & DeFi Liquidity Protocol With Interest Rate Discovery.\n",
      "---\n",
      "Company Brand: Ola Electric\n",
      "Headquarters: Bengaluru\n",
      "Stage: Series I\n",
      "What it does: Charging ahead to accelerate the world’s transition to sustainable mobility.\n",
      "---\n",
      "Company Brand: Chqbook\n",
      "Headquarters: Gurugram\n",
      "Stage: Series G\n",
      "What it does: Chqbook.com is India’s first neobank for small business owners offering world-class financial services through its five pillars of banking, khata, lending, insurance, and rewards.\n",
      "---\n",
      "Company Brand: Rulezero\n",
      "Headquarters: Bengaluru\n",
      "Stage: Seed\n",
      "What it does: Rulezero is a legal/fintech startup reimagining private markets by building an intelligent platform that enables stakeholder participation and capital flow in a transparent, efficient and compliant manner.\n",
      "---\n",
      "Company Brand: CredRight\n",
      "Headquarters: Hyderabad\n",
      "Stage: Series B\n",
      "What it does: CredRight is a new age digital lending company 100% focused on Micro & Small businesses, making the process of availing loans simple\n",
      "---\n",
      "Company Brand: Karbon Card\n",
      "Headquarters: Bengaluru\n",
      "Stage: Seed Funding\n",
      "What it does: Empower Indian startups by creating the right financial products starting with a high-limit corporate credit card with unlimited benefits, no personal liability and no fixed deposit.\n",
      "---\n",
      "Company Brand: ePayLater\n",
      "Headquarters: Mumbai\n",
      "Stage: Series B\n",
      "What it does: ePaylater is a payment solution that aims to separate the experience of shopping from the hassles of payment process.\n",
      "---\n",
      "Company Brand: Delhivery\n",
      "Headquarters: Gurugram\n",
      "Stage: Series H\n",
      "What it does: Delhivery is a leading logistics and supply chain services company in India.\n",
      "---\n",
      "Company Brand: Akudo\n",
      "Headquarters: Bengaluru\n",
      "Stage: Seed\n",
      "What it does: A Learning-First Neobank for teenagers - Enable practical financial education for child today\n",
      "---\n",
      "Company Brand: Capital Float\n",
      "Headquarters: Bengaluru\n",
      "Stage: Venture - Series Unknown\n",
      "What it does: India's leading BNPL and digital credit platform serving millions of aspirational individuals.\n",
      "---\n",
      "Company Brand: CashBook\n",
      "Headquarters: Gurugram\n",
      "Stage: Seed\n",
      "What it does: CashBook is a digital record-keeping app using which businesses can add entries, segregate records, and find overall balance instantly.\n",
      "---\n",
      "Company Brand: The Money Club\n",
      "Headquarters: Noida\n",
      "Stage: Venture - Series Unknown\n",
      "What it does: The Money Club is a mobile platform for peer to peer chit funds.\n",
      "---\n",
      "Company Brand: Zypp Electric\n",
      "Headquarters: Gurugram\n",
      "Stage: Series A\n",
      "What it does: Zypp is working to convert all deliveries for e-commerce, grocery, medicine and food vertical to go electric with e-scooter sharing app.\n",
      "---\n",
      "Company Brand: VRO Hospitality\n",
      "Headquarters: Bengaluru\n",
      "Stage: Series A\n",
      "What it does: One of the fastest-growing hospitality companies based out of Bangalore.\n",
      "---\n",
      "Company Brand: CARS24\n",
      "Headquarters: Gurugram\n",
      "Stage: Series F\n",
      "What it does: CARS24 is proud to be a tech-first organisation, looking to make inroads into the global auto-tech market in groundbreaking ways.\n",
      "---\n",
      "Company Brand: Klub\n",
      "Headquarters: Bengaluru\n",
      "Stage: Series B\n",
      "What it does: A team of fintech, investment banking, venture capital, and technology veterans who bring a founder-first mindset.\n",
      "---\n",
      "Company Brand: PayCardo\n",
      "Headquarters: Pune\n",
      "Stage: Seed Round\n",
      "What it does: A true Contactless & Cashless and secure payment system reducing cash dependency\n",
      "---\n",
      "Company Brand: ZestMoney\n",
      "Headquarters: Bengaluru\n",
      "Stage: Series C\n",
      "What it does: ZestMoney helps make it accessible for millions to upgrade, to enhance, to rise, while keeping it affordable.\n",
      "---\n",
      "Company Brand: HappyCredit\n",
      "Headquarters: Bengaluru\n",
      "Stage: Series B+\n",
      "What it does: HappyCredit is on a mission to make online shopping delightful for 400mn bharat shoppers with credit, rewards, shopping inspiration and more.\n",
      "---\n",
      "Company Brand: BeepKart\n",
      "Headquarters: Bengaluru\n",
      "Stage: Seed\n",
      "What it does: BeepKart is building a platform to digitize and organize the used two-wheeler market.\n",
      "---\n",
      "Company Brand: LivQuik Technology\n",
      "Headquarters: Mumbai\n",
      "Stage: Series I\n",
      "What it does: LivQuik’s vision is to enable the efficient movement of money.\n",
      "---\n",
      "Company Brand: EventBeep\n",
      "Headquarters: Pune\n",
      "Stage: Series C\n",
      "What it does: An inclusive community where students are inspired and empowered to reach their full potential\n",
      "---\n",
      "Company Brand: Easiloan\n",
      "Headquarters: Mumbai\n",
      "Stage: Seed Funding\n",
      "What it does: A Fintech startup, offering fast & easy digital processing of Home Loans in a completely reimagined and delightful way.\n",
      "---\n",
      "Company Brand: Tinkerly\n",
      "Headquarters: Jaipur\n",
      "Stage: Private Equity\n",
      "What it does: A STEM learning online-offline solutions provider that makes STEM learning & Coding fun and interesting with superior pedagogy, blended learning, and play-based curriculum.\n",
      "---\n",
      "Company Brand: Godamwale\n",
      "Headquarters: Mumbai\n",
      "Stage: Series I\n",
      "What it does: Godamwale is tech enabled integrated logistics company providing end to end supply chain solutions.\n",
      "---\n",
      "Company Brand: Paytail\n",
      "Headquarters: New Delhi\n",
      "Stage: Seed\n",
      "What it does: Paytail is revolutionizing the offline commerce by enabling instant paperless EMI's to consumers\n",
      "---\n",
      "Company Brand: 4Fin\n",
      "Headquarters: Pune\n",
      "Stage: Series D\n",
      "What it does: 4Fin is a Fintech Platform catering to needs of Smart Bharat.\n",
      "---\n",
      "Company Brand: Genext Students\n",
      "Headquarters: Mumbai\n",
      "Stage: Series B\n",
      "What it does: LIVE online classes with expert tutors for K-12 for CBSE, ICSE and State Boards.\n",
      "---\n",
      "Company Brand: OckyPocky\n",
      "Headquarters: Gurugram\n",
      "Stage: Seed\n",
      "What it does: OckyPocky is India's 1st interactive English learning app for preschool kids.\n",
      "---\n",
      "Company Brand: Jar\n",
      "Headquarters: Bengaluru\n",
      "Stage: Venture - Series Unknown\n",
      "What it does: A daily gold-savings app that saves spare change & auto-invests.\n",
      "---\n",
      "Company Brand: moneyHOP\n",
      "Headquarters: London\n",
      "Stage: Seed\n",
      "What it does: moneyHOP is India’s first cross-border neo bank.\n",
      "---\n",
      "Company Brand: Codingal\n",
      "Headquarters: Bengaluru\n",
      "Stage: Seed\n",
      "What it does: Codingal is on a mission to inspire school kids to fall in love with coding. Backed by Y Combinator!\n",
      "---\n",
      "Company Brand: REVOS\n",
      "Headquarters: Bengaluru\n",
      "Stage: Series A\n",
      "What it does: REVOS is a smart mobility platform that empowers all 2 and 3 wheeler vehicles through AI-integrated IoT  solutions\n",
      "---\n",
      "Company Brand: Habbit\n",
      "Headquarters: Bengaluru\n",
      "Stage: Series F\n",
      "What it does: Habbit is online learning community for anyone looking to get mentored in a skill or hobby of their choice.\n",
      "---\n",
      "Company Brand: Bikayi\n",
      "Headquarters: Hyderabad\n",
      "Stage: Series A\n",
      "What it does: Empowering SMBs in India\n",
      "---\n",
      "Company Brand: Vidyakul\n",
      "Headquarters: Gurugram\n",
      "Stage: Bridge\n",
      "What it does: Vidyakul is a group of academic experts.\n",
      "---\n",
      "Company Brand: bitsCrunch\n",
      "Headquarters: Chennai\n",
      "Stage: Seed\n",
      "What it does: A consulting firm focused mainly on Data Analytics and DevOps.\n",
      "---\n",
      "Company Brand: Neokred\n",
      "Headquarters: Bengaluru\n",
      "Stage: Seed\n",
      "What it does: Democratizing Open Banking\n",
      "---\n",
      "Company Brand: Delhivery\n",
      "Headquarters: Gurugram\n",
      "Stage: Series I\n",
      "What it does: Delhivery is a leading logistics and supply chain services company in India.\n",
      "---\n",
      "Company Brand: Cogos Technologies\n",
      "Headquarters: Bengaluru\n",
      "Stage: Pre-Seed\n",
      "What it does: A smart-tech-enabled platform offering a one-stop destination for all the intra-city link-supply chain.\n",
      "---\n",
      "Company Brand: Leap Finance\n",
      "Headquarters: Bengaluru\n",
      "Stage: Series C\n",
      "What it does: International education loans for high potential students.\n",
      "---\n",
      "Company Brand: CollegeDekho\n",
      "Headquarters: Gurugram\n",
      "Stage: Series B\n",
      "What it does: Collegedekho.com is Student’s Partner, Friend & Confidante, To Help Him Take a Decision and Move On to His Career Goals.\n",
      "---\n",
      "Company Brand: WeRize\n",
      "Headquarters: Bengaluru\n",
      "Stage: Series A\n",
      "What it does: India’s first socially distributed full stack financial services platform for small town India\n",
      "---\n",
      "Company Brand: MyLoanCare\n",
      "Headquarters: Gurgaon, Haryana, India\n",
      "Stage: Series A\n",
      "What it does: Leading Online Loans Marketplace in India\n",
      "---\n",
      "Company Brand: PayMe India\n",
      "Headquarters: Noida\n",
      "Stage: Series D\n",
      "What it does: PayMe India is an innovative FinTech organization which offers short term financial suport to corporate employees.\n",
      "---\n",
      "Company Brand: Pitstop\n",
      "Headquarters: Bengaluru, Karnataka, India\n",
      "Stage: Seed\n",
      "What it does: Pitstop offers general repair and maintenance services for cars through its doorstep service vehicles.\n",
      "---\n",
      "Company Brand: Mihuru\n",
      "Headquarters: Mumbai\n",
      "Stage: Seed\n",
      "What it does: Mihuru is an online platform which gives micro loans for air travel .\n",
      "---\n",
      "Company Brand: Fyle\n",
      "Headquarters: Bengaluru, Karnataka, India\n",
      "Stage: Seed\n",
      "What it does: Fyle is an intelligent expense management platform for enterprises.\n",
      "---\n",
      "Company Brand: Cogoport\n",
      "Headquarters: Mumbai\n",
      "Stage: Series A\n",
      "What it does: Cogoport is a platform that provides freight buying industry with spot rates and bidding process for freight buyers.\n",
      "---\n",
      "Company Brand: PaisaDukan\n",
      "Headquarters: Mumbai\n",
      "Stage: Seed\n",
      "What it does: A P2P lending marketplace platform\n",
      "---\n",
      "Company Brand: BlueJack\n",
      "Headquarters: Delhi\n",
      "Stage: Seed\n",
      "What it does: Delhi-based online used vehicles marketplace.\n",
      "---\n",
      "Company Brand: Pando\n",
      "Headquarters: Chennai\n",
      "Stage: Seed\n",
      "What it does: A startup which digitizes logistics operations for Fortune 500 companies.\n",
      "---\n",
      "Company Brand: Carcrew\n",
      "Headquarters: Mumbai\n",
      "Stage: Seed\n",
      "What it does: India's Online Auto Repair Marketplace\n",
      "---\n",
      "Company Brand: Ideal Insurance Brokers/ 121Policy.com\n",
      "Headquarters: Kolkata\n",
      "Stage: Seed\n",
      "What it does: Ideal Insurance Broking is one of the leaders in insurance broking domain.\n",
      "---\n",
      "Company Brand: Loanzen\n",
      "Headquarters: Bengaluru\n",
      "Stage: Seed\n",
      "What it does: Loanzen helps small businesses get unsecured working capital loans against their their pending invoices.\n",
      "---\n",
      "Company Brand: Mojro Technologies\n",
      "Headquarters: Bengaluru, Karnataka, India\n",
      "Stage: Seed\n",
      "What it does: Mojro envisions to be the world's largest technology-enabled logistics platform.\n",
      "---\n",
      "Company Brand: Elemential\n",
      "Headquarters: Mumbai\n",
      "Stage: Seed\n",
      "What it does: Blockchain Development Platform To Design, Run & Scale Blockchain Networks.\n",
      "---\n",
      "Company Brand: Loadshare\n",
      "Headquarters: Bengaluru, Karnataka, India\n",
      "Stage: Series A\n",
      "What it does: LoadShare is India’s fastest growing logistics company\n",
      "---\n",
      "Company Brand: Kaleidofin\n",
      "Headquarters: Chennai\n",
      "Stage: Seed\n",
      "What it does: A fintech platform.\n",
      "---\n",
      "Company Brand: Pooltoo\n",
      "Headquarters: New Delhi\n",
      "Stage: Seed\n",
      "What it does: Pooltoo offers a premium ride sharing platform.\n",
      "---\n",
      "Company Brand: Tolet for Students\n",
      "Headquarters: Jodhpur, Rajasthan, India\n",
      "Stage: Seed\n",
      "What it does: Reserve your Room, Hostel or Paying Guest, while relocating for higher education.\n",
      "---\n",
      "Company Brand: Rooter\n",
      "Headquarters: India, Asia\n",
      "Stage: Seed\n",
      "What it does: Rooter is a mobile-based platform\n",
      "---\n",
      "Company Brand: ZestMoney\n",
      "Headquarters: Bengaluru\n",
      "Stage: Series A\n",
      "What it does: Zest is India's first completely automated consumer digital lending platform.\n",
      "---\n",
      "Company Brand: Ultraviolette Automotive\n",
      "Headquarters: Bengaluru\n",
      "Stage: Series A\n",
      "What it does: Ultraviolette is a startup working on electric two-wheelers and energy infrastructure.\n",
      "---\n",
      "Company Brand: PrestLoans\n",
      "Headquarters: New Delhi\n",
      "Stage: Seed\n",
      "What it does: PrestLoans New age tech driven RBI regd NBFC helping businesses by providing easy, quick n hassle free loans.\n",
      "---\n",
      "Company Brand: HappyEMI\n",
      "Headquarters: Bengaluru\n",
      "Stage: Seed\n",
      "What it does: HappyEMI is a point of sale digital lending platform that helps consumers finance their purchases in-store and online\n",
      "---\n",
      "Company Brand: Propelld\n",
      "Headquarters: Bengaluru, Karnataka, India\n",
      "Stage: Seed\n",
      "What it does: Propelld is a student education financing platform.\n",
      "---\n",
      "Company Brand: SBI Life\n",
      "Headquarters: Mumbai\n",
      "Stage: Private Equity\n",
      "What it does: SBI Life is one of the life insurance company that offers a range of life insurance plans and policies to protect you and your family.\n",
      "---\n",
      "Company Brand: LetsTransport\n",
      "Headquarters: Bengaluru\n",
      "Stage: Series B\n",
      "What it does: Lets transport is a logistics solution provider.\n",
      "---\n",
      "Company Brand: Aavas Financiers\n",
      "Headquarters: Jaipur\n",
      "Stage: Seed\n",
      "What it does: Aavas Financiers is engaged in the business of providing housing loans, primarily in the un-served, unreached and under-served market.\n",
      "---\n",
      "Company Brand: Vivriti Capital\n",
      "Headquarters: Chennai\n",
      "Stage: Venture - Series Unknown\n",
      "What it does: Vivriti Capital is an online platform for institutional debt in India.\n",
      "---\n",
      "Company Brand: Impact Guru\n",
      "Headquarters: Mumbai\n",
      "Stage: Series A\n",
      "What it does: We're a Harvard incubated crowdfunding platform for nonprofits, social enterprises, startups and individuals.\n",
      "---\n",
      "Company Brand: MobiKwik\n",
      "Headquarters: Gurgaon, Haryana, India\n",
      "Stage: Series E\n",
      "What it does: MobiKwik is a payments backed fintech platform in India. MobiKwik App offers instant loans & investment products to the 500M masses of India\n",
      "---\n",
      "Company Brand: Satin Creditcare Network Limited (SCNL)\n",
      "Headquarters: New Delhi\n",
      "Stage: Seed Funding\n",
      "What it does: Satin is a non-banking finance company providing individual loans to urban shopkeepers.\n",
      "---\n",
      "Company Brand: APAC Financial Services\n",
      "Headquarters: Mumbai\n",
      "Stage: Private Equity\n",
      "What it does: APAC Financial Services is a financial services platform.\n",
      "---\n",
      "Company Brand: SEDEMAC Mechatronics\n",
      "Headquarters: Mumbai\n",
      "Stage: Venture - Series Unknown\n",
      "What it does: SEDEMAC Mechatronics is technology company that distributes control-intensive products for automobiles.\n",
      "---\n",
      "Company Brand: Olly Smart Credit Card\n",
      "Headquarters: New Delhi\n",
      "Stage: Seed\n",
      "What it does: Olly is a digital credit card for India's working masses and young people.\n",
      "---\n",
      "Company Brand: PerkFinance\n",
      "Headquarters: Bengaluru\n",
      "Stage: Seed\n",
      "What it does: PerkFinance partners with employers to provide affordable loans to their employees at no cost to the company\n",
      "---\n",
      "Company Brand: OTO Capital\n",
      "Headquarters: Mumbai\n",
      "Stage: Seed\n",
      "What it does: OTO Capital is a platform that allows you to own a car faster than ever.\n",
      "---\n",
      "Company Brand: Boodmo\n",
      "Headquarters: Gurgaon, Haryana, India\n",
      "Stage: Seed\n",
      "What it does: boodmo.com - large online marketplace for auto parts in India.\n",
      "---\n",
      "Company Brand: MyNewCar.in\n",
      "Headquarters: Gurgaon, Haryana, India\n",
      "Stage: Venture - Series Unknown\n",
      "What it does: MyNewCar.in offers new cars at best price with great deals. Book a new car online or request a doorstep test drive\n",
      "---\n",
      "Company Brand: Tabono\n",
      "Headquarters: Gurgaon, Haryana, India\n",
      "Stage: Seed\n",
      "What it does: Tabono is a one stop environment for all your fitness solution.\n",
      "---\n",
      "Company Brand: LearnApp\n",
      "Headquarters: Noida\n",
      "Stage: Seed\n",
      "What it does: Learnapp.co - Video courses & live classes in investing, trading, banking and finance.\n",
      "---\n",
      "Company Brand: Fusion Microfinance\n",
      "Headquarters: New Delhi\n",
      "Stage: Series E\n",
      "What it does: Fusion Microfinance Pvt. Ltd. is an NBFC registered with RBI\n",
      "---\n",
      "Company Brand: Snapmint\n",
      "Headquarters: Mumbai\n",
      "Stage: Seed\n",
      "What it does: Snapmint facilitates simplified, fairly-priced and hassle-free EMI options without a Credit Card.\n",
      "---\n",
      "Company Brand: Credy\n",
      "Headquarters: Bengaluru, Karnataka, India\n",
      "Stage: Seed\n",
      "What it does: Credy is a fintech platform that connects borrowers seeking capital with lenders seeking market beating returns.\n",
      "---\n",
      "Company Brand: Gegadyne Energy\n",
      "Headquarters: Mumbai\n",
      "Stage: Fresh Funding\n",
      "What it does: A Mumbai-based startup Electric Vehicle (EV) & Energy Storage company.\n",
      "---\n",
      "Company Brand: Eduvanz\n",
      "Headquarters: Mumbai\n",
      "Stage: Series A\n",
      "What it does: Eduvanz is new, innovative finance company, which is completely revolutionizing the student loan market.\n",
      "---\n",
      "Company Brand: Aviom India Housing Finance\n",
      "Headquarters: New Delhi\n",
      "Stage: Series A\n",
      "What it does: Delhi based housing finance company.\n",
      "---\n",
      "Company Brand: Emflux Motors\n",
      "Headquarters: Bengaluru, Karnataka, India\n",
      "Stage: Seed\n",
      "What it does: Emflux Motors is committed to bring clean and sustainable energy into a state of universal acceptance through technological innovation.\n",
      "---\n",
      "Company Brand: Groww\n",
      "Headquarters: Kormangala, Karnataka, India\n",
      "Stage: Seed\n",
      "What it does: Groww offers a new way of investing money.\n",
      "---\n",
      "Company Brand: Wealthtrust\n",
      "Headquarters: Mumbai\n",
      "Stage: Seed\n",
      "What it does: Wealthtrust offers a wealth manager application that enables its users to invest and manage their investments online.\n",
      "---\n",
      "Company Brand: Streak\n",
      "Headquarters: Bengaluru\n",
      "Stage: Seed\n",
      "What it does: Algorithmic trading platform.\n",
      "---\n",
      "Company Brand: Kuants\n",
      "Headquarters: Gurgaon, Haryana, India\n",
      "Stage: Seed\n",
      "What it does: Algorithmic trading platform.\n",
      "---\n",
      "Company Brand: NiYO Solutions\n",
      "Headquarters: Bengaluru\n",
      "Stage: Series A\n",
      "What it does: NiYO is a fintech company that helps salaried employees access company benefits and other financial services.\n",
      "---\n",
      "Company Brand: Trendlyne Technologies\n",
      "Headquarters: Bengaluru\n",
      "Stage: Seed\n",
      "What it does: Trendlyne Technologies is a stock market analytics platform and marketplace for retail investors.\n",
      "---\n",
      "Company Brand: Wishberry\n",
      "Headquarters: Mumbai\n",
      "Stage: Series A\n",
      "What it does: Wishberry is a rewards-based crowdfunding platform that enables users to raise funds for their creative and innovative ideas.\n",
      "---\n",
      "Company Brand: McXtra\n",
      "Headquarters: Andheri, Maharashtra, India\n",
      "Stage: Seed\n",
      "What it does: McXtra is a digital insurance broking startup.\n",
      "---\n",
      "Company Brand: GoBumpr\n",
      "Headquarters: Mylapore\n",
      "Stage: Seed\n",
      "What it does: Car Service and Bike Service Mobile App\n",
      "---\n",
      "Company Brand: edureka!\n",
      "Headquarters: Bengaluru\n",
      "Stage: Series A\n",
      "What it does: Edureka is the fastest growing online learning platform that offers live, instructor-led courses for professionals from various industries.\n",
      "---\n",
      "Company Brand: Sqrrl Fintech\n",
      "Headquarters: Gurgaon, Haryana, India\n",
      "Stage: Seed\n",
      "What it does: Personal Finance\n",
      "---\n",
      "Company Brand: GalaxyCard\n",
      "Headquarters: Noida\n",
      "Stage: Seed\n",
      "What it does: GalaxyCard is a mobile based Instant credit card.\n",
      "---\n",
      "Company Brand: Nivesh.com\n",
      "Headquarters: Noida\n",
      "Stage: Seed\n",
      "What it does: Nivesh.com is a mass market mutual funds investment platform.\n",
      "---\n",
      "Company Brand: Hey Deedee\n",
      "Headquarters: Mumbai\n",
      "Stage: Seed\n",
      "What it does: Hey Deedee is a Mumbai-based company that provides solutions to parcel delivery problems.\n",
      "---\n",
      "Company Brand: Locus.sh\n",
      "Headquarters: Bengaluru\n",
      "Stage: Series A\n",
      "What it does: Locus is an intelligent logistics automation platform.\n",
      "---\n",
      "Company Brand: Cash Suvidha\n",
      "Headquarters: New Delhi\n",
      "Stage: Seed\n",
      "What it does: Cash Suvidha is an Digital Lending Platform that provide working capital finance to SMEs and MSMEs in India.\n",
      "---\n",
      "Company Brand: Creditas Solutions\n",
      "Headquarters: Gurgaon, Haryana, India\n",
      "Stage: Seed\n",
      "What it does: Creditas was set-up in 2015 with an aim to help Financial Institutions find better ways to reach and interact with their customers.\n",
      "---\n",
      "Company Brand: i2ifunding\n",
      "Headquarters: Noida\n",
      "Stage: Series A\n",
      "What it does: i2ifunding is an online marketplace that connects borrowers looking for personal loans with investors looking for alternative investments.\n",
      "---\n",
      "Company Brand: CoinGeto\n",
      "Headquarters: Delhi\n",
      "Stage: Seed\n",
      "What it does: CoinGeto is one of India’s most advanced digital assets exchange.\n",
      "---\n",
      "Company Brand: Avail Finance\n",
      "Headquarters: Bengaluru\n",
      "Stage: Series A\n",
      "What it does: Avail is a mobile-first platform aiming to financially include the urban mass of India.\n",
      "---\n",
      "Company Brand: 1Crowd\n",
      "Headquarters: Mumbai\n",
      "Stage: Series C\n",
      "What it does: Equity crowd funding platform focused on connecting investors with a host of extremely promising Indian start-ups and early stage ventures\n",
      "---\n",
      "Company Brand: Kuvera.in\n",
      "Headquarters: Bengaluru\n",
      "Stage: Bridge\n",
      "What it does: An online platform for mutual fund investments.\n",
      "---\n",
      "Company Brand: Aashiyaan Housing and Development Finance\n",
      "Headquarters: Kolkata\n",
      "Stage: Seed\n",
      "What it does: Provide housing finance to those in the informal sector enabling the hither to un-served to own a home of their own.\n",
      "---\n",
      "Company Brand: Cashkumar\n",
      "Headquarters: Bengaluru, Karnataka, India\n",
      "Stage: Seed\n",
      "What it does: A P2P Lending Platform connecting millions of financially under-served & new to credit borrowers with investment savvy lenders in India\n",
      "---\n",
      "Company Brand: FreightBazaar\n",
      "Headquarters: Hyderabad\n",
      "Stage: Seed\n",
      "What it does: FreightBazaar.com is an online platform that connects Truck suppliers with Truck users.\n",
      "---\n",
      "Company Brand: OPEN\n",
      "Headquarters: Bengaluru\n",
      "Stage: Seed\n",
      "What it does: Open up to a new world of Banking\n",
      "---\n",
      "Company Brand: FreightBro\n",
      "Headquarters: Mumbai\n",
      "Stage: Seed\n",
      "What it does: Software for the new-age freight\n",
      "---\n",
      "Company Brand: Wicked Ride Adventure Services Private Limited\n",
      "Headquarters: Bengaluru\n",
      "Stage: Venture - Series Unknown\n",
      "What it does: Peer-to-Peer motor vehicles sharing\n",
      "---\n",
      "Company Brand: Kogta Financial India Limited\n",
      "Headquarters: Jaipur\n",
      "Stage: Series B\n",
      "What it does: Kogta Financial (India) Ltd is a retail-focused non banking financial company .\n",
      "---\n",
      "Company Brand: Drivezy\n",
      "Headquarters: Bengaluru, Karnataka, India\n",
      "Stage: Debt Financing\n",
      "What it does: Drivezy is India's largest vehicle sharing platform which helps people turn their vehicles into earning members of their family.\n",
      "---\n",
      "Company Brand: Lendbox\n",
      "Headquarters: Delhi\n",
      "Stage: Seed\n",
      "What it does: Lendbox is India's leading peer-to-peer lending online lending platform.\n",
      "---\n",
      "Company Brand: Paymatrix\n",
      "Headquarters: Hyderabad\n",
      "Stage: Seed\n",
      "What it does: India's Leading Property Rent management platform\n",
      "---\n",
      "Company Brand: InCred\n",
      "Headquarters: Mumbai\n",
      "Stage: Private Equity\n",
      "What it does: InCred Finance is a mumbai-based non-banking financial company\n",
      "---\n",
      "Company Brand: Aye Finance\n",
      "Headquarters: Gurgaon, Haryana, India\n",
      "Stage: Debt Financing\n",
      "What it does: Aye Finance provides financial services to micro and small businesses in Northern India.\n",
      "---\n",
      "Company Brand: Signzy\n",
      "Headquarters: Bengaluru\n",
      "Stage: Series A\n",
      "What it does: Signzy are creating 'building blocks for a Digital Trust system.\n",
      "---\n",
      "Company Brand: CashRich\n",
      "Headquarters: Mumbai\n",
      "Stage: Seed\n",
      "What it does: A Mumbai-based fin-tech startup\n",
      "---\n",
      "Company Brand: Billdesk\n",
      "Headquarters: Ahmedabad, Gujarat, India\n",
      "Stage: Venture - Series Unknown\n",
      "What it does: BillDesk, a property of IndiaIdeas.com Ltd. was conceived in early 2000 to solve the frustrations of most of us when it comes to paying\n",
      "---\n",
      "Company Brand: CleanseCar\n",
      "Headquarters: Bengaluru\n",
      "Stage: Series A\n",
      "What it does: CleanseCar is a company provides Washing and Repair Services.\n",
      "---\n",
      "Company Brand: Gugu\n",
      "Headquarters: Coimbatore, Tamil Nadu, India\n",
      "Stage: Seed\n",
      "What it does: Gugu designs & Sells all Electric Connected Two-wheeler's with Network of Open & Free Fast charging Stations across India.\n",
      "---\n",
      "Company Brand: Mobycy\n",
      "Headquarters: Gurgaon, Haryana, India\n",
      "Stage: Private Equity\n",
      "What it does: India's 1st Dockless Bicycle Sharing App\n",
      "---\n",
      "Company Brand: INDwealth\n",
      "Headquarters: Gurgaon, Haryana, India\n",
      "Stage: Seed\n",
      "What it does: INDwealth is an Artificial Intelligence (AI) powered wealth management company\n",
      "---\n",
      "Company Brand: NIRA\n",
      "Headquarters: Bengaluru\n",
      "Stage: Seed\n",
      "What it does: NIRA promotes financial inclusion by creating simple, transparent products that empower individuals to live a life of choice and freedom.\n",
      "---\n",
      "Company Brand: Indiabulls Ventures\n",
      "Headquarters: Mumbai\n",
      "Stage: Series E\n",
      "What it does: Indiabulls Ventures Limited is one of India’s leading capital market companies providing securities and derivative broking services.\n",
      "---\n",
      "Company Brand: ClearTax\n",
      "Headquarters: New Delhi\n",
      "Stage: Series B\n",
      "What it does: ClearTax India helps individuals prepare and e-file their Income Tax Return online.\n",
      "---\n",
      "Company Brand: Shuttl\n",
      "Headquarters: Gurgaon, Haryana, India\n",
      "Stage: Debt Financing\n",
      "What it does: Shuttl provides an app-based office shuttle service to make daily commute safe, reliable, affordable and dignified for everyone.\n",
      "---\n",
      "Company Brand: Cube\n",
      "Headquarters: Mumbai\n",
      "Stage: Series A\n",
      "What it does: Cube is consumer banking focused fintech company.\n",
      "---\n",
      "Company Brand: Loans4SME\n",
      "Headquarters: Mumbai\n",
      "Stage: Seed\n",
      "What it does: Loans4SME is an alternative lending platform.\n",
      "---\n",
      "Company Brand: Cellerite Systems\n",
      "Headquarters: Hyderabad\n",
      "Stage: Seed\n",
      "What it does: Cellerite Systems is a charging solutions provider for electric vehicles.\n",
      "---\n",
      "Company Brand: Twenty Two Motors\n",
      "Headquarters: Haryana\n",
      "Stage: Series D1\n",
      "What it does: Twenty Two Motors aim of making cutting edge EV technology affordable for the current generation.\n",
      "---\n",
      "Company Brand: Truebil\n",
      "Headquarters: Mumbai\n",
      "Stage: Series A\n",
      "What it does: Truebil is a team of young, highly motivated professionals who strive to help you buy and sell used cars in the simplest way possible.\n",
      "---\n",
      "Company Brand: Veritas Finance\n",
      "Headquarters: Guindy, Tamil Nadu, India\n",
      "Stage: Venture - Series Unknown\n",
      "What it does: Veritas Finance has been promoted with a primary purpose of meeting the working capital and business credit requirements of the small bus.\n",
      "---\n",
      "Company Brand: RevFin\n",
      "Headquarters: Delhi\n",
      "Stage: Seed\n",
      "What it does: RevFin is a digital lending company.\n",
      "---\n",
      "Company Brand: Blackbuck\n",
      "Headquarters: Bengaluru, Karnataka, India\n",
      "Stage: Series D\n",
      "What it does: Blackbuck is a logistics startup based in India.\n",
      "---\n",
      "Company Brand: Cardekho\n",
      "Headquarters: Gurgaon, Haryana, India\n",
      "Stage: Series C\n",
      "What it does: Cardekho is a car search venture that helps users buy cars that are right for them.\n",
      "---\n",
      "Company Brand: ElasticRun\n",
      "Headquarters: Pune\n",
      "Stage: Series B\n",
      "What it does: ElasticRun develops an online system that improves the reception of orders from customers and the dispatch of delivery drivers in India.\n",
      "---\n",
      "Company Brand: Droom Technology Private Limited\n",
      "Headquarters: Gurgaon, Haryana, India\n",
      "Stage: Series E\n",
      "What it does: Droom is a marketplace for automobiles and automobile services.\n",
      "---\n",
      "Company Brand: Vogo Rentals\n",
      "Headquarters: Kormangala, Karnataka, India\n",
      "Stage: Debt Financing\n",
      "What it does: Vogo is a dockless scooter rental company in India which lets customers rent scooters for short one way trips.\n",
      "---\n",
      "Company Brand: LivQuik\n",
      "Headquarters: Mumbai\n",
      "Stage: Series D\n",
      "What it does: LivQuik was incorporated with the vision to simplify payments for merchants and consumers in an increasingly digital world\n",
      "---\n",
      "Company Brand: Strom Motors\n",
      "Headquarters: Mumbai\n",
      "Stage: Early Seed\n",
      "What it does: Strom Motors is a smart urban mobility Company.\n",
      "---\n",
      "Company Brand: Bounce (Metro Bikes)\n",
      "Headquarters: Bengaluru\n",
      "Stage: Debt Financing\n",
      "What it does: Bounce (formerly Metro Bikes) is an urban mobility solution that makes daily commute stress-free, time-saving, reliable, and convenient.\n",
      "---\n",
      "Company Brand: Goals101\n",
      "Headquarters: Delhi\n",
      "Stage: Seed\n",
      "What it does: Goals101 is a one of the fastest growing big-data platforms.\n",
      "---\n",
      "Company Brand: Satya MicroCapital\n",
      "Headquarters: New Delhi\n",
      "Stage: Venture - Series Unknown\n",
      "What it does: New Delhi-based non-banking financial company.\n",
      "---\n",
      "Company Brand: Ummeed Housing Finance Private Limited\n",
      "Headquarters: Haryana\n",
      "Stage: Series C\n",
      "What it does: Ummeed Housing Finance Private Limited\n",
      "---\n",
      "Company Brand: Qbera\n",
      "Headquarters: Bengaluru\n",
      "Stage: Venture - Series Unknown\n",
      "What it does: Qbera is a managed marketplace for unsecured personal loans.\n",
      "---\n",
      "Company Brand: GoBolt\n",
      "Headquarters: New Delhi\n",
      "Stage: Venture - Series Unknown\n",
      "What it does: Delhi-based logistics technology.\n",
      "---\n",
      "Company Brand: Ola\n",
      "Headquarters: Kormangala, Karnataka, India\n",
      "Stage: Venture - Series Unknown\n",
      "What it does: Ola is a mobile app that brings together cab drivers and customers using technology to make transportation hassle-free in India.\n",
      "---\n",
      "Company Brand: Kissht\n",
      "Headquarters: Mumbai\n",
      "Stage: Series C\n",
      "What it does: Kissht is a financial technology platform that enables instant, seamless credit for consumers to make purchases at digital points of sales\n",
      "---\n",
      "Company Brand: Upwards Fintech\n",
      "Headquarters: Mumbai\n",
      "Stage: Series A\n",
      "What it does: Upwards Fintech financial company.\n",
      "---\n",
      "Company Brand: Bon(Bonfleet Solutions)\n",
      "Headquarters: Pune\n",
      "Stage: Seed\n",
      "What it does: Bon, a Pune-based FinTech firm was created to bring financial services to the gig-economy workforce.\n",
      "---\n",
      "Company Brand: Connect India\n",
      "Headquarters: New Delhi\n",
      "Stage: Series A\n",
      "What it does: To create pervasive network where connections are simpler, more powerful, more affordable, more global and more available to all.\n",
      "---\n",
      "Company Brand: SlicePay\n",
      "Headquarters: Bengaluru, Karnataka, India\n",
      "Stage: Series A\n",
      "What it does: SlicePay is an AI based instant credit app for youngsters in India.\n",
      "---\n"
     ]
    }
   ],
   "source": [
    "# Calculate total funding amount for each sector\n",
    "total_funding_by_sector = df_combined.groupby('Sector')['Amount'].sum().reset_index()\n",
    "\n",
    "# Sort the sectors by total funding amount in descending order\n",
    "total_funding_by_sector = total_funding_by_sector.sort_values('Amount', ascending=False)\n",
    "\n",
    "# Select the top 10 highest-funded sectors\n",
    "top_10_sectors = total_funding_by_sector.head(10)['Sector'].tolist()\n",
    "\n",
    "# Filter the data for the top 10 highest-funded sectors\n",
    "top_funded_startups = df_combined[df_combined['Sector'].isin(top_10_sectors)]\n",
    "\n",
    "# Print the company brand, location, founders, and what they do for the top-funded startups\n",
    "for _, row in top_funded_startups.iterrows():\n",
    "    print(f\"Company Brand: {row['Company_Brand']}\")\n",
    "    print(f\"Headquarters: {row['HeadQuarter']}\")\n",
    "    print(f\"Stage: {row['Stage']}\")\n",
    "    print(f\"What it does: {row['What_it_does']}\")\n",
    "    print(\"---\")"
   ]
  },
  {
   "cell_type": "markdown",
   "metadata": {},
   "source": [
    "**8. Which Business is more viable to set - The best performing business(s) ? The determinants for our best performing will be determined from the sector that recieved the highest funding Amount and not in debt and exsists in the Stage: Series D onwads.**"
   ]
  },
  {
   "cell_type": "code",
   "execution_count": 65,
   "metadata": {},
   "outputs": [
    {
     "name": "stdout",
     "output_type": "stream",
     "text": [
      "Best Performing Sector:\n",
      "Sector: Transport\n",
      "Total Funding Amount: 4014334800.0\n",
      "---\n",
      "Sector: Finance\n",
      "Total Funding Amount: 3749116000.0\n",
      "---\n",
      "Sector: Innovation Management\n",
      "Total Funding Amount: 2000000000.0\n",
      "---\n",
      "Sector: EdTech\n",
      "Total Funding Amount: 1680120000.0\n",
      "---\n",
      "Sector: Sports\n",
      "Total Funding Amount: 1680000000.0\n",
      "---\n"
     ]
    }
   ],
   "source": [
    "# Filter out companies that are in debt\n",
    "not_in_debt = df_combined[df_combined['Stage'] != 'Debt']\n",
    "\n",
    "# Filter out companies that are in Series D or later stages\n",
    "series_d_or_later = not_in_debt[not_in_debt['Stage'].isin(['Series D', 'Series E', 'Series F', 'Series G', 'Series H', 'Series I'])]\n",
    "\n",
    "# Calculate total funding amount for each sector\n",
    "total_funding_by_sector = series_d_or_later.groupby('Sector')['Amount'].sum().reset_index()\n",
    "\n",
    "# Sort the sector by total funding amount in descending order\n",
    "total_funding_by_sector = total_funding_by_sector.sort_values('Amount', ascending=False)\n",
    "\n",
    "# Select the top company (or companies) with the highest funding amount\n",
    "top_funded_sector = total_funding_by_sector.head()\n",
    "\n",
    "# Print the top funded sector \n",
    "print(\"Best Performing Sector:\")\n",
    "for _, row in top_funded_sector.iterrows():\n",
    "    print(f\"Sector: {row['Sector']}\")\n",
    "    print(f\"Total Funding Amount: {row['Amount']}\")\n",
    "    print(\"---\")"
   ]
  },
  {
   "cell_type": "code",
   "execution_count": 66,
   "metadata": {},
   "outputs": [],
   "source": [
    "# Load the csv into a dataframe\n",
    "\n",
    "df_combined.to_csv('clean_combined_LP1dataset.csv', index= False)"
   ]
  }
 ],
 "metadata": {
  "kernelspec": {
   "display_name": "Python 3",
   "language": "python",
   "name": "python3"
  },
  "language_info": {
   "codemirror_mode": {
    "name": "ipython",
    "version": 3
   },
   "file_extension": ".py",
   "mimetype": "text/x-python",
   "name": "python",
   "nbconvert_exporter": "python",
   "pygments_lexer": "ipython3",
   "version": "3.12.0"
  }
 },
 "nbformat": 4,
 "nbformat_minor": 2
}
